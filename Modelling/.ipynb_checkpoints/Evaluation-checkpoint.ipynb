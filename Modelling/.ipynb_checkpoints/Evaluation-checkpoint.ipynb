{
 "cells": [
  {
   "cell_type": "code",
   "execution_count": 18,
   "metadata": {},
   "outputs": [],
   "source": [
    "import pandas as pd\n",
    "from sklearn.metrics import r2_score\n",
    "from sklearn.metrics import mean_absolute_error\n",
    "from sklearn.metrics import mean_squared_error\n",
    "import matplotlib.pyplot as plt\n",
    "import numpy as np"
   ]
  },
  {
   "cell_type": "code",
   "execution_count": 7,
   "metadata": {},
   "outputs": [],
   "source": [
    "def getTimeSeries(df):\n",
    "    table = pd.pivot_table(df, values='vehicle_count', index=['Date','Hour'],\n",
    "                    columns=['DOLocationID'], aggfunc=np.sum, fill_value=0)\n",
    "    return table"
   ]
  },
  {
   "cell_type": "code",
   "execution_count": 8,
   "metadata": {},
   "outputs": [],
   "source": [
    "### Comm "
   ]
  },
  {
   "cell_type": "code",
   "execution_count": 9,
   "metadata": {},
   "outputs": [
    {
     "data": {
      "text/html": [
       "<div>\n",
       "<style scoped>\n",
       "    .dataframe tbody tr th:only-of-type {\n",
       "        vertical-align: middle;\n",
       "    }\n",
       "\n",
       "    .dataframe tbody tr th {\n",
       "        vertical-align: top;\n",
       "    }\n",
       "\n",
       "    .dataframe thead th {\n",
       "        text-align: right;\n",
       "    }\n",
       "</style>\n",
       "<table border=\"1\" class=\"dataframe\">\n",
       "  <thead>\n",
       "    <tr style=\"text-align: right;\">\n",
       "      <th></th>\n",
       "      <th>start_id</th>\n",
       "      <th>start_community</th>\n",
       "    </tr>\n",
       "  </thead>\n",
       "  <tbody>\n",
       "    <tr>\n",
       "      <th>0</th>\n",
       "      <td>1</td>\n",
       "      <td>0</td>\n",
       "    </tr>\n",
       "    <tr>\n",
       "      <th>1</th>\n",
       "      <td>2</td>\n",
       "      <td>4</td>\n",
       "    </tr>\n",
       "    <tr>\n",
       "      <th>2</th>\n",
       "      <td>3</td>\n",
       "      <td>2</td>\n",
       "    </tr>\n",
       "    <tr>\n",
       "      <th>3</th>\n",
       "      <td>4</td>\n",
       "      <td>0</td>\n",
       "    </tr>\n",
       "    <tr>\n",
       "      <th>4</th>\n",
       "      <td>5</td>\n",
       "      <td>5</td>\n",
       "    </tr>\n",
       "    <tr>\n",
       "      <th>...</th>\n",
       "      <td>...</td>\n",
       "      <td>...</td>\n",
       "    </tr>\n",
       "    <tr>\n",
       "      <th>258</th>\n",
       "      <td>259</td>\n",
       "      <td>2</td>\n",
       "    </tr>\n",
       "    <tr>\n",
       "      <th>259</th>\n",
       "      <td>260</td>\n",
       "      <td>4</td>\n",
       "    </tr>\n",
       "    <tr>\n",
       "      <th>260</th>\n",
       "      <td>261</td>\n",
       "      <td>0</td>\n",
       "    </tr>\n",
       "    <tr>\n",
       "      <th>261</th>\n",
       "      <td>262</td>\n",
       "      <td>3</td>\n",
       "    </tr>\n",
       "    <tr>\n",
       "      <th>262</th>\n",
       "      <td>263</td>\n",
       "      <td>3</td>\n",
       "    </tr>\n",
       "  </tbody>\n",
       "</table>\n",
       "<p>263 rows × 2 columns</p>\n",
       "</div>"
      ],
      "text/plain": [
       "     start_id  start_community\n",
       "0           1                0\n",
       "1           2                4\n",
       "2           3                2\n",
       "3           4                0\n",
       "4           5                5\n",
       "..        ...              ...\n",
       "258       259                2\n",
       "259       260                4\n",
       "260       261                0\n",
       "261       262                3\n",
       "262       263                3\n",
       "\n",
       "[263 rows x 2 columns]"
      ]
     },
     "execution_count": 9,
     "metadata": {},
     "output_type": "execute_result"
    }
   ],
   "source": [
    "zoneDict = pd.read_csv('../processedData/ZonetoComm6.csv')\n",
    "del zoneDict['Unnamed: 0']\n",
    "zoneDict"
   ]
  },
  {
   "cell_type": "code",
   "execution_count": 10,
   "metadata": {},
   "outputs": [],
   "source": [
    "def R2inAnomaly(hub,method):\n",
    "    label = pd.read_csv('../processedData/'+hub+'VehicleByHour.csv')\n",
    "    label = getTimeSeries(label)\n",
    "    label = label.reset_index()\n",
    "    prediction = pd.read_csv('../prediction/'+hub+method+'.csv')\n",
    "\n",
    "    label = label.merge(prediction[['Date','Hour']],on=['Date','Hour'],how='inner')\n",
    "    label_value = label[sorted([int(x) for x in label.columns if x not in ['Date', 'Hour']])].values\n",
    "    selctedColumn = sorted([int(x) for x in prediction.columns if x not in ['Date', 'Hour']])\n",
    "\n",
    "    prediction_value = prediction[[str(col) for col in selctedColumn]].values\n",
    "#     print(label_value.shape)\n",
    "    print('overall R2')\n",
    "    print('R2: ',r2_score(label_value, prediction_value, multioutput='variance_weighted'))\n",
    "    print('------------------------')\n",
    "    events = pd.read_csv('/home/mingyi/Dropbox/DOE_Anomaly_Detection/%sEvents.csv'%hub.upper())\n",
    "    label_anomaly = events.merge(label[sorted([int(x) for x in label.columns if x not in ['Date', 'Hour']])+['Date']],\n",
    "                                 how='inner',on='Date')\n",
    "    prediction_anomaly = events.merge(prediction[[str(col) for col in selctedColumn]+['Date']],how='inner',on='Date')\n",
    "    label_anomaly_value = label_anomaly[[x for x in label_anomaly.columns \n",
    "                                                         if x not in ['Date', 'Hour','Type','Name']]].values\n",
    "    prediction_anomaly_value = prediction_anomaly[[x for x in prediction_anomaly.columns \n",
    "                                                         if x not in ['Date', 'Hour','Type','Name']]].values\n",
    "    print(label_anomaly_value.shape)\n",
    "    print(prediction_anomaly_value.shape)\n",
    "    print('Artificially selected events')\n",
    "#     print(events)\n",
    "    print('------------------------')\n",
    "    print('R2: ',r2_score(label_anomaly_value, prediction_anomaly_value, multioutput='variance_weighted'))\n",
    "    print('------------------------')\n",
    "    r2 = r2_score(label_anomaly_value, prediction_anomaly_value, multioutput='variance_weighted')\n",
    "    mae = mean_absolute_error(label_anomaly_value, prediction_anomaly_value)\n",
    "    rmse = mean_squared_error(label_anomaly_value, prediction_anomaly_value,squared=False)\n",
    "    return(r2, mae, rmse)\n",
    "#     print('Clustered Anomaly')\n",
    "#     count = pd.read_csv('/Users/hemingyi/Documents/DOE_Anomaly_Detection/%sTrueTimesSummary.csv'%hub.upper())\n",
    "#     count = count[['%s%sRFCVLogResid'%(hub.upper(),method),'Date']]\n",
    "#     anomaly = count[count['%s%sRFCVLogResid'%(hub.upper(),method)]>90]\n",
    "#     label_anomaly = anomaly.merge(label,how='left',on='Date')\n",
    "#     prediction_anomaly = anomaly.merge(prediction,how='left',on='Date')\n",
    "#     label_anomaly_value = label_anomaly[[x for x in label_anomaly.columns \n",
    "#                                                          if x not in ['Date', 'Hour','Type','Name']]].values\n",
    "#     prediction_anomaly_value = prediction_anomaly[[x for x in prediction_anomaly.columns \n",
    "#                                                          if x not in ['Date', 'Hour','Type','Name']]].values\n",
    "#     print(anomaly)\n",
    "#     print('------------------------')\n",
    "#     print('R2: ',r2_score(label_anomaly_value, prediction_anomaly_value, multioutput='variance_weighted'))"
   ]
  },
  {
   "cell_type": "code",
   "execution_count": 11,
   "metadata": {},
   "outputs": [],
   "source": [
    "def R2inWeekPeak(hub,method):\n",
    "    \n",
    "    return(r2, mae, rmse)\n",
    "#     print('Clustered Anomaly')\n",
    "#     count = pd.read_csv('/Users/hemingyi/Documents/DOE_Anomaly_Detection/%sTrueTimesSummary.csv'%hub.upper())\n",
    "#     count = count[['%s%sRFCVLogResid'%(hub.upper(),method),'Date']]\n",
    "#     anomaly = count[count['%s%sRFCVLogResid'%(hub.upper(),method)]>90]\n",
    "#     label_anomaly = anomaly.merge(label,how='left',on='Date')\n",
    "#     prediction_anomaly = anomaly.merge(prediction,how='left',on='Date')\n",
    "#     label_anomaly_value = label_anomaly[[x for x in label_anomaly.columns \n",
    "#                                                          if x not in ['Date', 'Hour','Type','Name']]].values\n",
    "#     prediction_anomaly_value = prediction_anomaly[[x for x in prediction_anomaly.columns \n",
    "#                                                          if x not in ['Date', 'Hour','Type','Name']]].values\n",
    "#     print(anomaly)\n",
    "#     print('------------------------')\n",
    "#     print('R2: ',r2_score(label_anomaly_value, prediction_anomaly_value, multioutput='variance_weighted'))"
   ]
  },
  {
   "cell_type": "code",
   "execution_count": 45,
   "metadata": {},
   "outputs": [
    {
     "name": "stdout",
     "output_type": "stream",
     "text": [
      "R2 in total:  0.5893650472372185\n",
      "R2 in weekend:  0.6215532683104523\n",
      "R2 in weekdays:  0.5729749702869465\n"
     ]
    }
   ],
   "source": [
    "hub = 'JFK'\n",
    "method = 'LSTMPipeline'\n",
    "label = pd.read_csv('../processedData/'+hub+'VehicleByHour.csv')\n",
    "label = getTimeSeries(label)\n",
    "label = label.reset_index()\n",
    "prediction = pd.read_csv('../prediction/'+hub+method+'.csv')\n",
    "\n",
    "label = label.merge(prediction[['Date','Hour']],on=['Date','Hour'],how='inner')\n",
    "label_value = label[sorted([int(x) for x in label.columns if x not in ['Date', 'Hour']])].values\n",
    "\n",
    "prediction_value = prediction[[str(col) for col in selctedColumn]].values\n",
    "print('R2 in total: ',r2_score(label_value, prediction_value, multioutput='variance_weighted'))\n",
    "\n",
    "#     print(label_value.shape)\n",
    "label['DOW'] = pd.to_datetime(label['Date'])\n",
    "label['DOW'] = label['DOW'].dt.dayofweek\n",
    "labelWeekend = label.loc[label['DOW']>4]\n",
    "labelWeek = label.loc[label['DOW']<5]\n",
    "\n",
    "\n",
    "prediction['DOW'] = pd.to_datetime(prediction['Date'])\n",
    "prediction['DOW'] = prediction['DOW'].dt.dayofweek\n",
    "predictionWeekend = prediction.loc[prediction['DOW']>4]\n",
    "predictionWeek = prediction.loc[prediction['DOW']<5]\n",
    "\n",
    "label_value = labelWeekend[sorted([int(x) for x in labelWeekend.columns if x not in ['Date', \n",
    "                                                                                     'Hour','DOW']])].values\n",
    "selctedColumn = sorted([int(x) for x in prediction.columns if x not in ['Date', 'Hour','DOW']])\n",
    "\n",
    "prediction_value = predictionWeekend[[str(col) for col in selctedColumn]].values\n",
    "\n",
    "print('R2 in weekend: ',r2_score(label_value, prediction_value, multioutput='variance_weighted'))\n",
    "\n",
    "\n",
    "label_value = labelWeek[sorted([int(x) for x in labelWeek.columns if x not in ['Date', \n",
    "                                                                                     'Hour','DOW']])].values\n",
    "prediction_value = predictionWeek[[str(col) for col in selctedColumn]].values\n",
    "\n",
    "print('R2 in weekdays: ',r2_score(label_value, prediction_value, multioutput='variance_weighted'))\n",
    "\n",
    "# events = pd.read_csv('/home/mingyi/Dropbox/DOE_Anomaly_Detection/%sEvents.csv'%hub.upper())\n",
    "# label_anomaly = events.merge(label[sorted([int(x) for x in label.columns if x not in ['Date', 'Hour']])+['Date']],\n",
    "#                              how='inner',on='Date')\n",
    "# prediction_anomaly = events.merge(prediction[[str(col) for col in selctedColumn]+['Date']],how='inner',on='Date')\n",
    "# label_anomaly_value = label_anomaly[[x for x in label_anomaly.columns \n",
    "#                                                      if x not in ['Date', 'Hour','Type','Name']]].values\n",
    "# prediction_anomaly_value = prediction_anomaly[[x for x in prediction_anomaly.columns \n",
    "#                                                      if x not in ['Date', 'Hour','Type','Name']]].values\n",
    "# print(label_anomaly_value.shape)\n",
    "# print(prediction_anomaly_value.shape)\n",
    "# print('Artificially selected events')\n",
    "# #     print(events)\n",
    "# print('------------------------')\n",
    "# print('R2: ',r2_score(label_anomaly_value, prediction_anomaly_value, multioutput='variance_weighted'))\n",
    "# print('------------------------')\n",
    "# r2 = r2_score(label_anomaly_value, prediction_anomaly_value, multioutput='variance_weighted')\n",
    "# mae = mean_absolute_error(label_anomaly_value, prediction_anomaly_value)\n",
    "# rmse = mean_squared_error(label_anomaly_value, prediction_anomaly_value,squared=False)"
   ]
  },
  {
   "cell_type": "markdown",
   "metadata": {},
   "source": [
    "### artificially selected events"
   ]
  },
  {
   "cell_type": "code",
   "execution_count": 41,
   "metadata": {},
   "outputs": [
    {
     "name": "stdout",
     "output_type": "stream",
     "text": [
      "overall R2\n",
      "R2:  0.5893650472372185\n",
      "------------------------\n",
      "(458, 258)\n",
      "(458, 258)\n",
      "Artificially selected events\n",
      "------------------------\n",
      "R2:  0.605358191518573\n",
      "------------------------\n"
     ]
    }
   ],
   "source": [
    "hub = 'JFK'\n",
    "method = 'LSTMPipeline'\n",
    "r2, mae, rmse = R2inAnomaly(hub,method)\n",
    "with open('Evaluation.csv', 'w') as f:\n",
    "    f.write(hub+',r2,'+method+','+str(r2)+'\\n')\n",
    "    f.write(hub+',mae,'+method+','+str(mae)+'\\n')\n",
    "    f.write(hub+',rmse,'+method+','+str(rmse)+'\\n')"
   ]
  },
  {
   "cell_type": "code",
   "execution_count": 280,
   "metadata": {},
   "outputs": [
    {
     "name": "stdout",
     "output_type": "stream",
     "text": [
      "overall R2\n",
      "R2:  0.7731004334318198\n",
      "------------------------\n",
      "(465, 257)\n",
      "(465, 257)\n",
      "Artificially selected events\n",
      "------------------------\n",
      "R2:  0.7496395505540963\n",
      "------------------------\n"
     ]
    }
   ],
   "source": [
    "hub = 'LGA'\n",
    "method = 'LSTMPipeline'\n",
    "r2, mae, rmse = R2inAnomaly(hub,method)\n",
    "with open('Evaluation.csv', 'a') as f:\n",
    "    f.write(hub+',r2,'+method+','+str(r2)+'\\n')\n",
    "    f.write(hub+',mae,'+method+','+str(mae)+'\\n')\n",
    "    f.write(hub+',rmse,'+method+','+str(rmse)+'\\n')"
   ]
  },
  {
   "cell_type": "code",
   "execution_count": 281,
   "metadata": {},
   "outputs": [
    {
     "name": "stdout",
     "output_type": "stream",
     "text": [
      "overall R2\n",
      "R2:  0.5709650213048197\n",
      "------------------------\n",
      "(458, 258)\n",
      "(458, 258)\n",
      "Artificially selected events\n",
      "------------------------\n",
      "R2:  0.5455553897773519\n",
      "------------------------\n"
     ]
    }
   ],
   "source": [
    "hub = 'JFK'\n",
    "method = 'LSTMComm24'\n",
    "r2, mae, rmse = R2inAnomaly(hub,method)\n",
    "with open('Evaluation.csv', 'a') as f:\n",
    "    f.write(hub+',r2,'+method+','+str(r2)+'\\n')\n",
    "    f.write(hub+',mae,'+method+','+str(mae)+'\\n')\n",
    "    f.write(hub+',rmse,'+method+','+str(rmse)+'\\n')"
   ]
  },
  {
   "cell_type": "code",
   "execution_count": 282,
   "metadata": {},
   "outputs": [
    {
     "name": "stdout",
     "output_type": "stream",
     "text": [
      "overall R2\n",
      "R2:  0.7234709856094016\n",
      "------------------------\n",
      "(458, 257)\n",
      "(458, 257)\n",
      "Artificially selected events\n",
      "------------------------\n",
      "R2:  0.7082953643446084\n",
      "------------------------\n"
     ]
    }
   ],
   "source": [
    "hub = 'LGA'\n",
    "method = 'LSTMComm24'\n",
    "r2, mae, rmse = R2inAnomaly(hub,method)\n",
    "with open('Evaluation.csv', 'a') as f:\n",
    "    f.write(hub+',r2,'+method+','+str(r2)+'\\n')\n",
    "    f.write(hub+',mae,'+method+','+str(mae)+'\\n')\n",
    "    f.write(hub+',rmse,'+method+','+str(rmse)+'\\n')"
   ]
  },
  {
   "cell_type": "code",
   "execution_count": 283,
   "metadata": {},
   "outputs": [
    {
     "name": "stdout",
     "output_type": "stream",
     "text": [
      "overall R2\n",
      "R2:  0.5617753177169981\n",
      "------------------------\n",
      "(468, 258)\n",
      "(468, 258)\n",
      "Artificially selected events\n",
      "------------------------\n",
      "R2:  0.50962341462421\n",
      "------------------------\n"
     ]
    }
   ],
   "source": [
    "hub = 'JFK'\n",
    "method = 'Comm6'\n",
    "r2, mae, rmse = R2inAnomaly(hub,method)\n",
    "with open('Evaluation.csv', 'a') as f:\n",
    "    f.write(hub+',r2,'+method+','+str(r2)+'\\n')\n",
    "    f.write(hub+',mae,'+method+','+str(mae)+'\\n')\n",
    "    f.write(hub+',rmse,'+method+','+str(rmse)+'\\n')"
   ]
  },
  {
   "cell_type": "code",
   "execution_count": 284,
   "metadata": {},
   "outputs": [
    {
     "name": "stdout",
     "output_type": "stream",
     "text": [
      "overall R2\n",
      "R2:  0.6843443029443619\n",
      "------------------------\n",
      "(468, 257)\n",
      "(468, 257)\n",
      "Artificially selected events\n",
      "------------------------\n",
      "R2:  0.6672724140227766\n",
      "------------------------\n"
     ]
    }
   ],
   "source": [
    "hub = 'LGA'\n",
    "method = 'Comm6'\n",
    "r2, mae, rmse = R2inAnomaly(hub,method)\n",
    "with open('Evaluation.csv', 'a') as f:\n",
    "    f.write(hub+',r2,'+method+','+str(r2)+'\\n')\n",
    "    f.write(hub+',mae,'+method+','+str(mae)+'\\n')\n",
    "    f.write(hub+',rmse,'+method+','+str(rmse)+'\\n')"
   ]
  },
  {
   "cell_type": "code",
   "execution_count": 285,
   "metadata": {},
   "outputs": [
    {
     "name": "stdout",
     "output_type": "stream",
     "text": [
      "overall R2\n",
      "R2:  0.46101699655707745\n",
      "------------------------\n",
      "(372, 257)\n",
      "(372, 257)\n",
      "Artificially selected events\n",
      "------------------------\n",
      "R2:  0.3694044650097103\n",
      "------------------------\n"
     ]
    }
   ],
   "source": [
    "hub = 'Penn'\n",
    "method = 'Comm6'\n",
    "r2, mae, rmse = R2inAnomaly(hub,method)\n",
    "with open('Evaluation.csv', 'a') as f:\n",
    "    f.write(hub+',r2,'+method+','+str(r2)+'\\n')\n",
    "    f.write(hub+',mae,'+method+','+str(mae)+'\\n')\n",
    "    f.write(hub+',rmse,'+method+','+str(rmse)+'\\n')"
   ]
  },
  {
   "cell_type": "code",
   "execution_count": 286,
   "metadata": {},
   "outputs": [
    {
     "name": "stdout",
     "output_type": "stream",
     "text": [
      "overall R2\n",
      "R2:  0.5453822615756456\n",
      "------------------------\n",
      "(468, 258)\n",
      "(468, 258)\n",
      "Artificially selected events\n",
      "------------------------\n",
      "R2:  0.5141521152944809\n",
      "------------------------\n"
     ]
    }
   ],
   "source": [
    "hub = 'JFK'\n",
    "method = 'Comm24'\n",
    "r2, mae, rmse = R2inAnomaly(hub,method)\n",
    "with open('Evaluation.csv', 'a') as f:\n",
    "    f.write(hub+',r2,'+method+','+str(r2)+'\\n')\n",
    "    f.write(hub+',mae,'+method+','+str(mae)+'\\n')\n",
    "    f.write(hub+',rmse,'+method+','+str(rmse)+'\\n')"
   ]
  },
  {
   "cell_type": "code",
   "execution_count": 287,
   "metadata": {},
   "outputs": [
    {
     "name": "stdout",
     "output_type": "stream",
     "text": [
      "overall R2\n",
      "R2:  0.7178714963562547\n",
      "------------------------\n",
      "(468, 257)\n",
      "(468, 257)\n",
      "Artificially selected events\n",
      "------------------------\n",
      "R2:  0.6976400564443659\n",
      "------------------------\n"
     ]
    }
   ],
   "source": [
    "hub = 'LGA'\n",
    "method = 'Comm24'\n",
    "r2, mae, rmse = R2inAnomaly(hub,method)\n",
    "with open('Evaluation.csv', 'a') as f:\n",
    "    f.write(hub+',r2,'+method+','+str(r2)+'\\n')\n",
    "    f.write(hub+',mae,'+method+','+str(mae)+'\\n')\n",
    "    f.write(hub+',rmse,'+method+','+str(rmse)+'\\n')"
   ]
  },
  {
   "cell_type": "code",
   "execution_count": 288,
   "metadata": {},
   "outputs": [
    {
     "name": "stdout",
     "output_type": "stream",
     "text": [
      "overall R2\n",
      "R2:  0.5419649358015061\n",
      "------------------------\n",
      "(372, 257)\n",
      "(372, 257)\n",
      "Artificially selected events\n",
      "------------------------\n",
      "R2:  0.4433159756088794\n",
      "------------------------\n"
     ]
    }
   ],
   "source": [
    "hub = 'Penn'\n",
    "method = 'Comm24'\n",
    "r2, mae, rmse = R2inAnomaly(hub,method)\n",
    "with open('Evaluation.csv', 'a') as f:\n",
    "    f.write(hub+',r2,'+method+','+str(r2)+'\\n')\n",
    "    f.write(hub+',mae,'+method+','+str(mae)+'\\n')\n",
    "    f.write(hub+',rmse,'+method+','+str(rmse)+'\\n')"
   ]
  },
  {
   "cell_type": "code",
   "execution_count": 289,
   "metadata": {},
   "outputs": [
    {
     "name": "stdout",
     "output_type": "stream",
     "text": [
      "overall R2\n",
      "R2:  0.4997950041596569\n",
      "------------------------\n",
      "(468, 258)\n",
      "(468, 258)\n",
      "Artificially selected events\n",
      "------------------------\n",
      "R2:  0.46310697111200544\n",
      "------------------------\n"
     ]
    }
   ],
   "source": [
    "hub = 'JFK'\n",
    "method = 'Boro'\n",
    "r2, mae, rmse = R2inAnomaly(hub,method)\n",
    "with open('Evaluation.csv', 'a') as f:\n",
    "    f.write(hub+',r2,'+method+','+str(r2)+'\\n')\n",
    "    f.write(hub+',mae,'+method+','+str(mae)+'\\n')\n",
    "    f.write(hub+',rmse,'+method+','+str(rmse)+'\\n')"
   ]
  },
  {
   "cell_type": "code",
   "execution_count": 290,
   "metadata": {},
   "outputs": [
    {
     "name": "stdout",
     "output_type": "stream",
     "text": [
      "overall R2\n",
      "R2:  0.627865577133875\n",
      "------------------------\n",
      "(468, 257)\n",
      "(468, 257)\n",
      "Artificially selected events\n",
      "------------------------\n",
      "R2:  0.6209897931812762\n",
      "------------------------\n"
     ]
    }
   ],
   "source": [
    "hub = 'LGA'\n",
    "method = 'Boro'\n",
    "r2, mae, rmse = R2inAnomaly(hub,method)\n",
    "with open('Evaluation.csv', 'a') as f:\n",
    "    f.write(hub+',r2,'+method+','+str(r2)+'\\n')\n",
    "    f.write(hub+',mae,'+method+','+str(mae)+'\\n')\n",
    "    f.write(hub+',rmse,'+method+','+str(rmse)+'\\n')"
   ]
  },
  {
   "cell_type": "code",
   "execution_count": 291,
   "metadata": {},
   "outputs": [
    {
     "name": "stdout",
     "output_type": "stream",
     "text": [
      "overall R2\n",
      "R2:  0.4318355494064083\n",
      "------------------------\n",
      "(372, 257)\n",
      "(372, 257)\n",
      "Artificially selected events\n",
      "------------------------\n",
      "R2:  0.34165655048829874\n",
      "------------------------\n"
     ]
    }
   ],
   "source": [
    "hub = 'Penn'\n",
    "method = 'Boro'\n",
    "r2, mae, rmse = R2inAnomaly(hub,method)\n",
    "with open('Evaluation.csv', 'a') as f:\n",
    "    f.write(hub+',r2,'+method+','+str(r2)+'\\n')\n",
    "    f.write(hub+',mae,'+method+','+str(mae)+'\\n')\n",
    "    f.write(hub+',rmse,'+method+','+str(rmse)+'\\n')"
   ]
  },
  {
   "cell_type": "markdown",
   "metadata": {},
   "source": [
    "hub = 'JFK'\n",
    "method = 'Edgewise'\n",
    "r2, mae, rmse = R2inAnomaly(hub,method)\n",
    "with open('Evaluation.csv', 'a') as f:\n",
    "    f.write(hub+',r2,'+method+','+str(r2)+'\\n')\n",
    "    f.write(hub+',mae,'+method+','+str(mae)+'\\n')\n",
    "    f.write(hub+',rmse,'+method+','+str(rmse)+'\\n')"
   ]
  },
  {
   "cell_type": "markdown",
   "metadata": {},
   "source": [
    "hub = 'LGA'\n",
    "method = 'Edgewise'\n",
    "R2inAnomaly(hub,method)"
   ]
  },
  {
   "cell_type": "code",
   "execution_count": 294,
   "metadata": {},
   "outputs": [
    {
     "name": "stdout",
     "output_type": "stream",
     "text": [
      "overall R2\n",
      "R2:  0.5760911568102157\n",
      "------------------------\n",
      "(468, 258)\n",
      "(468, 258)\n",
      "Artificially selected events\n",
      "------------------------\n",
      "R2:  0.5334938942632391\n",
      "------------------------\n"
     ]
    }
   ],
   "source": [
    "hub = 'JFK'\n",
    "method = 'PCA5'\n",
    "r2, mae, rmse = R2inAnomaly(hub,method)\n",
    "with open('Evaluation.csv', 'a') as f:\n",
    "    f.write(hub+',r2,'+method+','+str(r2)+'\\n')\n",
    "    f.write(hub+',mae,'+method+','+str(mae)+'\\n')\n",
    "    f.write(hub+',rmse,'+method+','+str(rmse)+'\\n')"
   ]
  },
  {
   "cell_type": "code",
   "execution_count": 295,
   "metadata": {},
   "outputs": [
    {
     "name": "stdout",
     "output_type": "stream",
     "text": [
      "overall R2\n",
      "R2:  0.5617753177169981\n",
      "------------------------\n",
      "(468, 258)\n",
      "(468, 258)\n",
      "Artificially selected events\n",
      "------------------------\n",
      "R2:  0.50962341462421\n",
      "------------------------\n"
     ]
    }
   ],
   "source": [
    "hub = 'JFK'\n",
    "method = 'PCA24'\n",
    "r2, mae, rmse = R2inAnomaly(hub,method)\n",
    "with open('Evaluation.csv', 'a') as f:\n",
    "    f.write(hub+',r2,'+method+','+str(r2)+'\\n')\n",
    "    f.write(hub+',mae,'+method+','+str(mae)+'\\n')\n",
    "    f.write(hub+',rmse,'+method+','+str(rmse)+'\\n')"
   ]
  },
  {
   "cell_type": "code",
   "execution_count": 296,
   "metadata": {},
   "outputs": [
    {
     "name": "stdout",
     "output_type": "stream",
     "text": [
      "overall R2\n",
      "R2:  0.7788397344689163\n",
      "------------------------\n",
      "(468, 257)\n",
      "(468, 257)\n",
      "Artificially selected events\n",
      "------------------------\n",
      "R2:  0.7525211953290444\n",
      "------------------------\n"
     ]
    }
   ],
   "source": [
    "hub = 'LGA'\n",
    "method = 'PCA5'\n",
    "r2, mae, rmse = R2inAnomaly(hub,method)\n",
    "with open('Evaluation.csv', 'a') as f:\n",
    "    f.write(hub+',r2,'+method+','+str(r2)+'\\n')\n",
    "    f.write(hub+',mae,'+method+','+str(mae)+'\\n')\n",
    "    f.write(hub+',rmse,'+method+','+str(rmse)+'\\n')"
   ]
  },
  {
   "cell_type": "code",
   "execution_count": 297,
   "metadata": {},
   "outputs": [
    {
     "name": "stdout",
     "output_type": "stream",
     "text": [
      "overall R2\n",
      "R2:  0.7695173138947347\n",
      "------------------------\n",
      "(468, 257)\n",
      "(468, 257)\n",
      "Artificially selected events\n",
      "------------------------\n",
      "R2:  0.7240587111656636\n",
      "------------------------\n"
     ]
    }
   ],
   "source": [
    "hub = 'LGA'\n",
    "method = 'PCA24'\n",
    "r2, mae, rmse = R2inAnomaly(hub,method)\n",
    "with open('Evaluation.csv', 'a') as f:\n",
    "    f.write(hub+',r2,'+method+','+str(r2)+'\\n')\n",
    "    f.write(hub+',mae,'+method+','+str(mae)+'\\n')\n",
    "    f.write(hub+',rmse,'+method+','+str(rmse)+'\\n')"
   ]
  },
  {
   "cell_type": "code",
   "execution_count": 298,
   "metadata": {},
   "outputs": [
    {
     "name": "stdout",
     "output_type": "stream",
     "text": [
      "overall R2\n",
      "R2:  0.7010619697898056\n",
      "------------------------\n",
      "(372, 257)\n",
      "(372, 257)\n",
      "Artificially selected events\n",
      "------------------------\n",
      "R2:  0.5763967804297018\n",
      "------------------------\n"
     ]
    }
   ],
   "source": [
    "hub = 'Penn'\n",
    "method = 'PCA5'\n",
    "r2, mae, rmse = R2inAnomaly(hub,method)\n",
    "with open('Evaluation.csv', 'a') as f:\n",
    "    f.write(hub+',r2,'+method+','+str(r2)+'\\n')\n",
    "    f.write(hub+',mae,'+method+','+str(mae)+'\\n')\n",
    "    f.write(hub+',rmse,'+method+','+str(rmse)+'\\n')"
   ]
  },
  {
   "cell_type": "code",
   "execution_count": 299,
   "metadata": {},
   "outputs": [],
   "source": [
    "hub = 'Penn'\n",
    "method = 'PCA24'\n",
    "with open('Evaluation.csv', 'a') as f:\n",
    "    f.write(hub+',r2,'+method+','+str(r2)+'\\n')\n",
    "    f.write(hub+',mae,'+method+','+str(mae)+'\\n')\n",
    "    f.write(hub+',rmse,'+method+','+str(rmse)+'\\n')"
   ]
  },
  {
   "cell_type": "code",
   "execution_count": 300,
   "metadata": {},
   "outputs": [],
   "source": [
    "eva = pd.read_csv('Evaluation.csv',header=None)"
   ]
  },
  {
   "cell_type": "code",
   "execution_count": 301,
   "metadata": {},
   "outputs": [
    {
     "data": {
      "text/html": [
       "<div>\n",
       "<style scoped>\n",
       "    .dataframe tbody tr th:only-of-type {\n",
       "        vertical-align: middle;\n",
       "    }\n",
       "\n",
       "    .dataframe tbody tr th {\n",
       "        vertical-align: top;\n",
       "    }\n",
       "\n",
       "    .dataframe thead th {\n",
       "        text-align: right;\n",
       "    }\n",
       "</style>\n",
       "<table border=\"1\" class=\"dataframe\">\n",
       "  <thead>\n",
       "    <tr style=\"text-align: right;\">\n",
       "      <th></th>\n",
       "      <th>Hub</th>\n",
       "      <th>Metrics</th>\n",
       "      <th>Method</th>\n",
       "      <th>Value</th>\n",
       "    </tr>\n",
       "  </thead>\n",
       "  <tbody>\n",
       "    <tr>\n",
       "      <th>0</th>\n",
       "      <td>JFK</td>\n",
       "      <td>r2</td>\n",
       "      <td>LSTMPipeline</td>\n",
       "      <td>0.605358</td>\n",
       "    </tr>\n",
       "    <tr>\n",
       "      <th>1</th>\n",
       "      <td>JFK</td>\n",
       "      <td>mae</td>\n",
       "      <td>LSTMPipeline</td>\n",
       "      <td>1.030203</td>\n",
       "    </tr>\n",
       "    <tr>\n",
       "      <th>2</th>\n",
       "      <td>JFK</td>\n",
       "      <td>rmse</td>\n",
       "      <td>LSTMPipeline</td>\n",
       "      <td>1.891437</td>\n",
       "    </tr>\n",
       "    <tr>\n",
       "      <th>3</th>\n",
       "      <td>LGA</td>\n",
       "      <td>r2</td>\n",
       "      <td>LSTMPipeline</td>\n",
       "      <td>0.749640</td>\n",
       "    </tr>\n",
       "    <tr>\n",
       "      <th>4</th>\n",
       "      <td>LGA</td>\n",
       "      <td>mae</td>\n",
       "      <td>LSTMPipeline</td>\n",
       "      <td>0.901782</td>\n",
       "    </tr>\n",
       "  </tbody>\n",
       "</table>\n",
       "</div>"
      ],
      "text/plain": [
       "   Hub Metrics        Method     Value\n",
       "0  JFK      r2  LSTMPipeline  0.605358\n",
       "1  JFK     mae  LSTMPipeline  1.030203\n",
       "2  JFK    rmse  LSTMPipeline  1.891437\n",
       "3  LGA      r2  LSTMPipeline  0.749640\n",
       "4  LGA     mae  LSTMPipeline  0.901782"
      ]
     },
     "execution_count": 301,
     "metadata": {},
     "output_type": "execute_result"
    }
   ],
   "source": [
    "eva.columns = ['Hub','Metrics','Method','Value']\n",
    "eva.head()"
   ]
  },
  {
   "cell_type": "code",
   "execution_count": 303,
   "metadata": {},
   "outputs": [
    {
     "data": {
      "text/html": [
       "<div>\n",
       "<style scoped>\n",
       "    .dataframe tbody tr th:only-of-type {\n",
       "        vertical-align: middle;\n",
       "    }\n",
       "\n",
       "    .dataframe tbody tr th {\n",
       "        vertical-align: top;\n",
       "    }\n",
       "\n",
       "    .dataframe thead tr th {\n",
       "        text-align: left;\n",
       "    }\n",
       "</style>\n",
       "<table border=\"1\" class=\"dataframe\">\n",
       "  <thead>\n",
       "    <tr>\n",
       "      <th></th>\n",
       "      <th>Method</th>\n",
       "      <th colspan=\"9\" halign=\"left\">Value</th>\n",
       "    </tr>\n",
       "    <tr>\n",
       "      <th>Hub</th>\n",
       "      <th></th>\n",
       "      <th colspan=\"3\" halign=\"left\">JFK</th>\n",
       "      <th colspan=\"3\" halign=\"left\">LGA</th>\n",
       "      <th colspan=\"3\" halign=\"left\">Penn</th>\n",
       "    </tr>\n",
       "    <tr>\n",
       "      <th>Metrics</th>\n",
       "      <th></th>\n",
       "      <th>mae</th>\n",
       "      <th>r2</th>\n",
       "      <th>rmse</th>\n",
       "      <th>mae</th>\n",
       "      <th>r2</th>\n",
       "      <th>rmse</th>\n",
       "      <th>mae</th>\n",
       "      <th>r2</th>\n",
       "      <th>rmse</th>\n",
       "    </tr>\n",
       "  </thead>\n",
       "  <tbody>\n",
       "    <tr>\n",
       "      <th>0</th>\n",
       "      <td>Boro</td>\n",
       "      <td>1.210140</td>\n",
       "      <td>0.463107</td>\n",
       "      <td>2.215873</td>\n",
       "      <td>1.090688</td>\n",
       "      <td>0.620990</td>\n",
       "      <td>2.604378</td>\n",
       "      <td>1.066628</td>\n",
       "      <td>0.341657</td>\n",
       "      <td>3.205265</td>\n",
       "    </tr>\n",
       "    <tr>\n",
       "      <th>1</th>\n",
       "      <td>Comm24</td>\n",
       "      <td>1.180108</td>\n",
       "      <td>0.514152</td>\n",
       "      <td>2.107905</td>\n",
       "      <td>1.030798</td>\n",
       "      <td>0.697640</td>\n",
       "      <td>2.326166</td>\n",
       "      <td>0.993876</td>\n",
       "      <td>0.443316</td>\n",
       "      <td>2.947420</td>\n",
       "    </tr>\n",
       "    <tr>\n",
       "      <th>2</th>\n",
       "      <td>Comm6</td>\n",
       "      <td>1.196043</td>\n",
       "      <td>0.509623</td>\n",
       "      <td>2.117707</td>\n",
       "      <td>1.046991</td>\n",
       "      <td>0.667272</td>\n",
       "      <td>2.440186</td>\n",
       "      <td>1.036827</td>\n",
       "      <td>0.369404</td>\n",
       "      <td>3.136990</td>\n",
       "    </tr>\n",
       "    <tr>\n",
       "      <th>3</th>\n",
       "      <td>LSTMComm24</td>\n",
       "      <td>1.126666</td>\n",
       "      <td>0.545555</td>\n",
       "      <td>2.029695</td>\n",
       "      <td>0.989358</td>\n",
       "      <td>0.708295</td>\n",
       "      <td>2.292290</td>\n",
       "      <td>NaN</td>\n",
       "      <td>NaN</td>\n",
       "      <td>NaN</td>\n",
       "    </tr>\n",
       "    <tr>\n",
       "      <th>4</th>\n",
       "      <td>LSTMPipeline</td>\n",
       "      <td>1.030203</td>\n",
       "      <td>0.605358</td>\n",
       "      <td>1.891437</td>\n",
       "      <td>0.901782</td>\n",
       "      <td>0.749640</td>\n",
       "      <td>2.121679</td>\n",
       "      <td>NaN</td>\n",
       "      <td>NaN</td>\n",
       "      <td>NaN</td>\n",
       "    </tr>\n",
       "    <tr>\n",
       "      <th>5</th>\n",
       "      <td>PCA24</td>\n",
       "      <td>1.196043</td>\n",
       "      <td>0.509623</td>\n",
       "      <td>2.117707</td>\n",
       "      <td>1.027205</td>\n",
       "      <td>0.724059</td>\n",
       "      <td>2.222219</td>\n",
       "      <td>0.885723</td>\n",
       "      <td>0.576397</td>\n",
       "      <td>2.571090</td>\n",
       "    </tr>\n",
       "    <tr>\n",
       "      <th>6</th>\n",
       "      <td>PCA5</td>\n",
       "      <td>1.168273</td>\n",
       "      <td>0.533494</td>\n",
       "      <td>2.065521</td>\n",
       "      <td>0.969646</td>\n",
       "      <td>0.752521</td>\n",
       "      <td>2.104493</td>\n",
       "      <td>0.885723</td>\n",
       "      <td>0.576397</td>\n",
       "      <td>2.571090</td>\n",
       "    </tr>\n",
       "  </tbody>\n",
       "</table>\n",
       "</div>"
      ],
      "text/plain": [
       "               Method     Value                                          \\\n",
       "Hub                         JFK                           LGA             \n",
       "Metrics                     mae        r2      rmse       mae        r2   \n",
       "0                Boro  1.210140  0.463107  2.215873  1.090688  0.620990   \n",
       "1              Comm24  1.180108  0.514152  2.107905  1.030798  0.697640   \n",
       "2               Comm6  1.196043  0.509623  2.117707  1.046991  0.667272   \n",
       "3          LSTMComm24  1.126666  0.545555  2.029695  0.989358  0.708295   \n",
       "4        LSTMPipeline  1.030203  0.605358  1.891437  0.901782  0.749640   \n",
       "5               PCA24  1.196043  0.509623  2.117707  1.027205  0.724059   \n",
       "6                PCA5  1.168273  0.533494  2.065521  0.969646  0.752521   \n",
       "\n",
       "                                                 \n",
       "Hub                    Penn                      \n",
       "Metrics      rmse       mae        r2      rmse  \n",
       "0        2.604378  1.066628  0.341657  3.205265  \n",
       "1        2.326166  0.993876  0.443316  2.947420  \n",
       "2        2.440186  1.036827  0.369404  3.136990  \n",
       "3        2.292290       NaN       NaN       NaN  \n",
       "4        2.121679       NaN       NaN       NaN  \n",
       "5        2.222219  0.885723  0.576397  2.571090  \n",
       "6        2.104493  0.885723  0.576397  2.571090  "
      ]
     },
     "execution_count": 303,
     "metadata": {},
     "output_type": "execute_result"
    }
   ],
   "source": [
    "pd.pivot_table(eva,values=['Value'],index=['Method'],columns=['Hub','Metrics']).reset_index()"
   ]
  },
  {
   "cell_type": "code",
   "execution_count": null,
   "metadata": {},
   "outputs": [],
   "source": []
  }
 ],
 "metadata": {
  "kernelspec": {
   "display_name": "Python 3",
   "language": "python",
   "name": "python3"
  },
  "language_info": {
   "codemirror_mode": {
    "name": "ipython",
    "version": 3
   },
   "file_extension": ".py",
   "mimetype": "text/x-python",
   "name": "python",
   "nbconvert_exporter": "python",
   "pygments_lexer": "ipython3",
   "version": "3.7.6"
  }
 },
 "nbformat": 4,
 "nbformat_minor": 2
}
