{
 "cells": [
  {
   "cell_type": "code",
   "execution_count": 1,
   "metadata": {},
   "outputs": [],
   "source": [
    "import pandas as pd\n",
    "from sklearn.decomposition import PCA\n",
    "import numpy as np\n",
    "import matplotlib.pyplot as plt\n",
    "\n",
    "from sklearn.preprocessing import StandardScaler\n",
    "from sklearn.metrics import r2_score\n",
    "from sklearn.ensemble import RandomForestRegressor\n",
    "\n",
    "from sklearn.model_selection import train_test_split\n",
    "from sklearn.model_selection import RandomizedSearchCV\n",
    "from sklearn.model_selection import cross_val_score\n",
    "from sklearn.multioutput import MultiOutputRegressor\n",
    "import warnings\n",
    "warnings.filterwarnings('ignore')"
   ]
  },
  {
   "cell_type": "markdown",
   "metadata": {},
   "source": [
    "### Helper Functions"
   ]
  },
  {
   "cell_type": "code",
   "execution_count": 2,
   "metadata": {},
   "outputs": [],
   "source": [
    "def loadData(file):\n",
    "    data = pd.read_csv(file)\n",
    "    print('Raw shape: ',data.shape)\n",
    "#     data['Date'] = pd.to_datetime(data.Date)\n",
    "    print('Days: ',len(set(data.Date)))\n",
    "    return data"
   ]
  },
  {
   "cell_type": "code",
   "execution_count": 3,
   "metadata": {},
   "outputs": [],
   "source": [
    "def getTimeSeries(df,freq):\n",
    "    table = pd.pivot_table(df, values='vehicle_count', index=['Date','Hour','Min'],\n",
    "                    columns=['DOLocationID'], aggfunc=np.sum, fill_value=0)\n",
    "    time = pd.date_range('2018-01-01', '2019-01-01',freq=freq)\n",
    "    time = pd.DataFrame(time, columns=['time'])\n",
    "    time = time[:-1]\n",
    "    \n",
    "    time['Date'] = time['time'].dt.date.astype('str')\n",
    "    time['Hour'] = time['time'].dt.hour.astype('int')\n",
    "    time['Min'] = time['time'].dt.minute.astype('int')\n",
    "    del time['time']\n",
    "\n",
    "    table = table.merge(time, on=['Date','Hour','Min'], how='right')\n",
    "    table.fillna(0, inplace=True)\n",
    "    return table"
   ]
  },
  {
   "cell_type": "code",
   "execution_count": 4,
   "metadata": {},
   "outputs": [],
   "source": [
    "def zscoreNormalizeSpatial(matrix):\n",
    "    m = matrix.copy()\n",
    "    for i in range(m.shape[0]):\n",
    "        m[i, :] = (m[i, :] - m[i, :].mean()) / (m[i, :].std()+1e-10)\n",
    "        \n",
    "    return m"
   ]
  },
  {
   "cell_type": "code",
   "execution_count": 5,
   "metadata": {},
   "outputs": [],
   "source": [
    "def standardize(matrix):\n",
    "    m = matrix.copy()\n",
    "    scaler = StandardScaler()\n",
    "    scaler.fit(m)\n",
    "    t = scaler.transform(m)\n",
    "    return scaler, t"
   ]
  },
  {
   "cell_type": "code",
   "execution_count": 6,
   "metadata": {},
   "outputs": [],
   "source": [
    "def inverse_standardize(matrix, scaler):\n",
    "    t = matrix.copy()\n",
    "    return scaler.inverse_transform(t)"
   ]
  },
  {
   "cell_type": "code",
   "execution_count": 7,
   "metadata": {},
   "outputs": [],
   "source": [
    "def addLag(dataset, maxlag, lagColumns):\n",
    "    dataset_list = [dataset]\n",
    "\n",
    "    for l in range(1, maxlag+1):\n",
    "        df = dataset.shift(l)\n",
    "        df = df[lagColumns]\n",
    "        df.columns = [c+'_lag_'+str(l) for c in df.columns]\n",
    "        dataset_list.append(df)\n",
    "\n",
    "    dataset = pd.concat(dataset_list, axis=1)\n",
    "    dataset = dataset.iloc[maxlag:]\n",
    "    dataset = dataset.fillna(0)\n",
    "    return dataset"
   ]
  },
  {
   "cell_type": "markdown",
   "metadata": {},
   "source": [
    "### PCA"
   ]
  },
  {
   "cell_type": "code",
   "execution_count": 8,
   "metadata": {},
   "outputs": [],
   "source": [
    "def standardize(matrix):\n",
    "    m = matrix.copy()\n",
    "    scaler = StandardScaler()\n",
    "    scaler.fit(m)\n",
    "    t = scaler.transform(m)\n",
    "    return scaler, t\n",
    "def inverse_standardize(matrix, scaler):\n",
    "    t = matrix.copy()\n",
    "    return scaler.inverse_transform(t)\n",
    "def getPCAFeatures(matrix, n=10):\n",
    "    pca = PCA(n_components=n)\n",
    "    pca.fit(matrix)\n",
    "    reducedMatrixPCA = pca.transform(matrix)\n",
    "    reducedMatrixPCA.shape\n",
    "\n",
    "    reducedDict = {str(i+1):reducedMatrixPCA[:,i] for i in range(reducedMatrixPCA.shape[1])}\n",
    "    reducedDf = pd.DataFrame(reducedDict)\n",
    "    #reducedDf.index = index\n",
    "    return pca,reducedDf\n",
    "def inverse_pca(matrix,pca):\n",
    "    return np.dot(matrix, pca.components_)"
   ]
  },
  {
   "cell_type": "markdown",
   "metadata": {},
   "source": [
    "### Merge External Data Features"
   ]
  },
  {
   "cell_type": "code",
   "execution_count": 9,
   "metadata": {},
   "outputs": [],
   "source": [
    "def externalFeatures(hub,agg_data, maxlag, lagColumns):\n",
    "    externalDataDir = rootDir+'HongData/'\n",
    "    extFile = externalDataDir + hub.upper() + \".csv\"\n",
    "    extDf = pd.read_csv(extFile)\n",
    "    extDf['date'] = pd.to_datetime(extDf['date'], yearfirst=True)\n",
    "    extDf['Hour'] = extDf['date'].dt.hour\n",
    "    extDf['Dow'] = extDf['date'].dt.dayofweek\n",
    "    extDf['Date'] = extDf['date'].dt.date\n",
    "    extDf['Min'] = extDf['date'].dt.minute\n",
    "    selected_columns = ['Date', 'Hour', 'Dow', 'arrival','maxtemp', 'mintemp', 'avgtemp', 'departure', 'hdd',\n",
    "       'cdd', 'participation', 'newsnow', 'snowdepth', 'ifSnow']\n",
    "    extDf = extDf[selected_columns]\n",
    "    agg_data['Date'] = pd.to_datetime(agg_data['Date'])\n",
    "    extDf['Date'] = pd.to_datetime(extDf['Date'])\n",
    "    agg_data = pd.merge(agg_data,extDf, on=['Date', 'Hour'], how='inner')\n",
    "    agg_data['Date'] = agg_data['Date'].dt.date\n",
    "    agg_data_lag = addLag(agg_data, maxlag, lagColumns)\n",
    "    return agg_data_lag"
   ]
  },
  {
   "cell_type": "code",
   "execution_count": 10,
   "metadata": {},
   "outputs": [],
   "source": [
    "hub = 'LGA'\n",
    "granularity = 5\n",
    "tune_hyp_params = False"
   ]
  },
  {
   "cell_type": "code",
   "execution_count": 11,
   "metadata": {},
   "outputs": [],
   "source": [
    "rootDir = '/home/mingyi/Dropbox/UrbanTemporalNetworks/'\n",
    "dataDir = rootDir + 'processedData/'\n",
    "\n",
    "file = dataDir + hub + 'VehicleBy'+str(granularity)+'Min.csv'"
   ]
  },
  {
   "cell_type": "code",
   "execution_count": 12,
   "metadata": {},
   "outputs": [
    {
     "name": "stdout",
     "output_type": "stream",
     "text": [
      "Raw shape:  (3472848, 5)\n",
      "Days:  365\n"
     ]
    }
   ],
   "source": [
    "rawdata = loadData(file)"
   ]
  },
  {
   "cell_type": "code",
   "execution_count": 14,
   "metadata": {},
   "outputs": [],
   "source": [
    "freq = str(granularity)+'min'\n",
    "edge_data = getTimeSeries(rawdata,freq=freq)\n",
    "edge_data = edge_data.set_index(['Date','Hour','Min'])\n",
    "edge_data = edge_data.sort_values(by=['Date','Hour','Min'])\n",
    "matrix = edge_data.values.astype(np.float64)\n",
    "scaler, s_matrix = standardize(matrix)\n",
    "pca_comps = 6\n",
    "maxlag = int(60/granularity * 12)\n",
    "# maxlag = 12\n",
    "pca,pcaData = getPCAFeatures(s_matrix,n=pca_comps)\n",
    "pcaData.index = edge_data.index\n",
    "pcaData = pcaData.reset_index()\n",
    "\n",
    "externalDataDir = \"/HongData/\"+str(granularity)+'min/'\n",
    "extFile = rootDir + externalDataDir + hub.upper() + \".csv\"\n",
    "extDf = pd.read_csv(extFile)\n",
    "# extDf['date'] = pd.to_datetime(extDf['date'], yearfirst=True)\n",
    "extDf['Hour'] = extDf['Hour'].astype('int')\n",
    "extDf['Min'] = extDf['Min'].astype('int')\n",
    "\n",
    "selected_columns = ['Date', 'Hour','Min', 'Dow', 'arrival','maxtemp', 'mintemp', 'avgtemp', 'departure', 'hdd',\n",
    "       'cdd', 'participation', 'newsnow', 'snowdepth', 'ifSnow']\n",
    "\n",
    "\n",
    "\n",
    "extDf = extDf[selected_columns]\n",
    "\n",
    "pcaData = pd.merge(pcaData,extDf,on=['Date', 'Hour','Min'], how='inner')\n",
    "pcaData = pcaData.sort_values(by=['Date','Hour','Min'])\n",
    "if pca_comps == 5:\n",
    "    lagColumns = ['1', '2', '3', '4', '5','arrival']\n",
    "elif pca_comps == 6:\n",
    "    lagColumns = ['1', '2', '3', '4', '5','6','arrival']\n",
    "else:\n",
    "    lagColumns = ['1', '2', '3', '4', '5', '6', '7', '8', '9', '10', '11',\n",
    "           '12', '13', '14', '15', '16', '17', '18', '19', '20', '21', '22', '23',\n",
    "           '24', 'arrival']\n",
    "pcaData_lag = addLag(pcaData, maxlag, lagColumns)\n",
    "pcaData_lag = pcaData_lag.sort_values(by=['Date','Hour','Min'])"
   ]
  },
  {
   "cell_type": "markdown",
   "metadata": {},
   "source": [
    "maxlag = 12\n",
    "agg_data, zone_weights, lagColumns,targetColumns,DateColumns = communityAggregation(rawdata,community=24)\n",
    "comm_data_lag = externalFeatures(hub,agg_data, maxlag, lagColumns)"
   ]
  },
  {
   "cell_type": "markdown",
   "metadata": {},
   "source": [
    "### Train Test split"
   ]
  },
  {
   "cell_type": "code",
   "execution_count": 15,
   "metadata": {},
   "outputs": [],
   "source": [
    "DateColumns = ['Date']\n",
    "\n",
    "if pca_comps == 5:\n",
    "    targetColumns = ['1', '2', '3', '4', '5']\n",
    "elif pca_comps == 6:\n",
    "    targetColumns = ['1', '2', '3', '4', '5', '6']\n",
    "else:\n",
    "    targetColumns = ['1', '2', '3', '4', '5', '6', '7', '8', '9', '10', '11',\n",
    "           '12', '13', '14', '15', '16', '17', '18', '19', '20', '21', '22', '23',\n",
    "           '24']"
   ]
  },
  {
   "cell_type": "code",
   "execution_count": 22,
   "metadata": {},
   "outputs": [
    {
     "data": {
      "image/png": "[encoded data removed]",
      "text/plain": [
       "<Figure size 432x432 with 1 Axes>"
      ]
     },
     "metadata": {
      "needs_background": "light"
     },
     "output_type": "display_data"
    }
   ],
   "source": [
    "pcaInput = PCA(n_components=100)\n",
    "data311P=pcaInput.fit_transform(pcaData_lag.drop(targetColumns+DateColumns , axis = 1))\n",
    "eigenvalues = pcaInput.explained_variance_ratio_\n",
    "#plot explained variance over the number of compinents\n",
    "n=100\n",
    "plt.figure(figsize=(6,6))\n",
    "plt.bar(np.arange(n), eigenvalues[:n].cumsum())\n",
    "plt.xlabel(\"Number of components\")\n",
    "plt.ylabel(\"Explained Variance\")\n",
    "plt.show()"
   ]
  },
  {
   "cell_type": "code",
   "execution_count": 16,
   "metadata": {},
   "outputs": [
    {
     "name": "stdout",
     "output_type": "stream",
     "text": [
      "month:  1\n",
      "Model training\n",
      "edge test R2  0.28321834705274723\n",
      "month:  2\n",
      "Model training\n",
      "edge test R2  0.2982363986906773\n",
      "month:  3\n",
      "Model training\n",
      "edge test R2  0.3130781924267658\n",
      "month:  4\n",
      "Model training\n",
      "edge test R2  0.31800030855016115\n",
      "month:  5\n",
      "Model training\n",
      "edge test R2  0.32520728986853853\n",
      "month:  6\n",
      "Model training\n",
      "edge test R2  0.32217422637428683\n",
      "month:  7\n",
      "Model training\n",
      "edge test R2  0.28022842851715096\n",
      "month:  8\n",
      "Model training\n",
      "edge test R2  0.25907114653334623\n",
      "month:  9\n",
      "Model training\n",
      "edge test R2  0.30684099887680116\n",
      "month:  10\n",
      "Model training\n",
      "edge test R2  0.3358897947438745\n",
      "month:  11\n",
      "Model training\n",
      "edge test R2  0.32281904803715844\n",
      "month:  12\n",
      "Model training\n",
      "edge test R2  0.33472319297920405\n"
     ]
    }
   ],
   "source": [
    "networkPrediction = pd.DataFrame()\n",
    "networkPrediction1 = pd.DataFrame()\n",
    "networkPrediction9 = pd.DataFrame()\n",
    "PCAPredictedDF = pd.DataFrame()\n",
    "Date = pcaData_lag[['Date','Hour','Min']]\n",
    "\n",
    "dataInput = pcaData_lag.drop(targetColumns+DateColumns , axis = 1)\n",
    "pcaInput = PCA(n_components=200)\n",
    "dataInput = pcaInput.fit_transform(dataInput)\n",
    "dataOutput = pcaData_lag[targetColumns]\n",
    "del pcaData_lag\n",
    "for m in range(1,13):\n",
    "\n",
    "    print(\"month: \",m)\n",
    "    month_index  = pd.to_datetime(Date['Date']).dt.month == m\n",
    "\n",
    "    X_train = dataInput[~month_index]\n",
    "    X_test = dataInput[month_index]\n",
    "    \n",
    "    y = dataOutput[targetColumns]\n",
    "    y_train = dataOutput[~month_index]\n",
    "    y_test = dataOutput[month_index]\n",
    "#     break\n",
    "    print('Model training')\n",
    "\n",
    "    rf2 = RandomForestRegressor(random_state = 2019, n_estimators=150, \n",
    "                               min_samples_split=3,\n",
    "                               min_samples_leaf= 2, \n",
    "                               max_features= 'sqrt',\n",
    "                               max_depth= None, \n",
    "                               bootstrap= False)\n",
    "\n",
    "    rf2.fit(X_train,y_train)\n",
    "    \n",
    "    PCAPredicted = rf2.predict(X_test)\n",
    "    PCAPredictedDF = pd.concat([PCAPredictedDF,pd.DataFrame(PCAPredicted)])\n",
    "    for no_tree in range(rf2.n_estimators):\n",
    "        predict = rf2.estimators_[no_tree].predict(X_test)\n",
    "        if no_tree == 0:\n",
    "            predict_values = predict\n",
    "        else:\n",
    "            predict_values = np.vstack((predict_values,predict))\n",
    "\n",
    "    predict_values_inversePCA = inverse_pca(predict_values,pca)\n",
    "    predict_values_inverseStandard = inverse_standardize(predict_values_inversePCA, scaler)\n",
    "\n",
    "    predict_values_inverseStandard_df = pd.DataFrame(predict_values_inverseStandard)\n",
    "    predict_values_inverseStandard_df['Date'] = np.tile(Date[month_index]['Date'],rf2.n_estimators)\n",
    "    predict_values_inverseStandard_df['Hour'] = np.tile(Date[month_index]['Hour'],rf2.n_estimators)\n",
    "    predict_values_inverseStandard_df['Min'] = np.tile(Date[month_index]['Min'],rf2.n_estimators)\n",
    "\n",
    "    network_prediction_mean_df = predict_values_inverseStandard_df.groupby(['Date','Hour','Min']).mean()\n",
    "    network_prediction_1_df = predict_values_inverseStandard_df.groupby(['Date','Hour','Min']).quantile(0.1)\n",
    "    network_prediction_9_df = predict_values_inverseStandard_df.groupby(['Date','Hour','Min']).quantile(0.9)\n",
    "    \n",
    "    edgeMonthIndex = [False] * maxlag + list(month_index)\n",
    "    edge_r2 = r2_score(edge_data[edgeMonthIndex], network_prediction_mean_df, multioutput='variance_weighted')\n",
    "    print('edge test R2 ', edge_r2)\n",
    "    \n",
    "    network_prediction_mean_df.columns = [str(col) + '_mean' for col in edge_data.columns]\n",
    "    networkPrediction = pd.concat([networkPrediction,network_prediction_mean_df])\n",
    "    \n",
    "    network_prediction_1_df.columns = [str(col) + '_0.1' for col in edge_data.columns]\n",
    "    networkPrediction1 = pd.concat([networkPrediction1,network_prediction_1_df])\n",
    "    \n",
    "    network_prediction_9_df.columns = [str(col) + '_0.9' for col in edge_data.columns]\n",
    "    networkPrediction9 = pd.concat([networkPrediction9,network_prediction_9_df])\n",
    "    \n",
    "#     break"
   ]
  },
  {
   "cell_type": "code",
   "execution_count": 17,
   "metadata": {},
   "outputs": [
    {
     "data": {
      "text/plain": [
       "0.3135999101195841"
      ]
     },
     "execution_count": 17,
     "metadata": {},
     "output_type": "execute_result"
    }
   ],
   "source": [
    "r2_score(edge_data.iloc[maxlag:], networkPrediction, multioutput='variance_weighted')"
   ]
  },
  {
   "cell_type": "code",
   "execution_count": 18,
   "metadata": {},
   "outputs": [
    {
     "data": {
      "text/plain": [
       "0.7054059027055827"
      ]
     },
     "execution_count": 18,
     "metadata": {},
     "output_type": "execute_result"
    }
   ],
   "source": [
    "# aggregated R2\n",
    "r2_score(dataOutput[targetColumns], PCAPredictedDF, multioutput='variance_weighted')"
   ]
  },
  {
   "cell_type": "code",
   "execution_count": 48,
   "metadata": {},
   "outputs": [
    {
     "name": "stdout",
     "output_type": "stream",
     "text": [
      "edge test R2  0.11894407311750912\n"
     ]
    }
   ],
   "source": [
    "# pca 300"
   ]
  },
  {
   "cell_type": "code",
   "execution_count": 78,
   "metadata": {
    "scrolled": true
   },
   "outputs": [
    {
     "name": "stdout",
     "output_type": "stream",
     "text": [
      "\n",
      "month:  1\n",
      "Train Size:  (96192, 105)\n",
      "Test Size:  (8916, 105)\n",
      "edge test R2  0.3101772630039797\n",
      "\n",
      "month:  2\n",
      "Train Size:  (97044, 105)\n",
      "Test Size:  (8064, 105)\n",
      "edge test R2  0.3089872102246215\n",
      "\n",
      "month:  3\n",
      "Train Size:  (96180, 105)\n",
      "Test Size:  (8928, 105)\n",
      "edge test R2  0.28915838276011285\n",
      "\n",
      "month:  4\n",
      "Train Size:  (96468, 105)\n",
      "Test Size:  (8640, 105)\n",
      "edge test R2  0.3179153397130606\n",
      "\n",
      "month:  5\n",
      "Train Size:  (96180, 105)\n",
      "Test Size:  (8928, 105)\n",
      "edge test R2  0.3068607910228263\n",
      "\n",
      "month:  6\n",
      "Train Size:  (96468, 105)\n",
      "Test Size:  (8640, 105)\n",
      "edge test R2  0.2934181446449176\n",
      "\n",
      "month:  7\n",
      "Train Size:  (96180, 105)\n",
      "Test Size:  (8928, 105)\n",
      "edge test R2  0.30007530098396396\n",
      "\n",
      "month:  8\n",
      "Train Size:  (96180, 105)\n",
      "Test Size:  (8928, 105)\n",
      "edge test R2  0.29780924768378764\n",
      "\n",
      "month:  9\n",
      "Train Size:  (96468, 105)\n",
      "Test Size:  (8640, 105)\n",
      "edge test R2  0.28785229651459626\n",
      "\n",
      "month:  10\n",
      "Train Size:  (96180, 105)\n",
      "Test Size:  (8928, 105)\n",
      "edge test R2  0.2858374454016208\n",
      "\n",
      "month:  11\n",
      "Train Size:  (96468, 105)\n",
      "Test Size:  (8640, 105)\n",
      "edge test R2  0.2953386880413351\n",
      "\n",
      "month:  12\n",
      "Train Size:  (96180, 105)\n",
      "Test Size:  (8928, 105)\n",
      "edge test R2  0.273222788119431\n"
     ]
    }
   ],
   "source": [
    "networkPrediction = pd.DataFrame()\n",
    "networkPrediction1 = pd.DataFrame()\n",
    "networkPrediction9 = pd.DataFrame()\n",
    "PCAPredictedDF = pd.DataFrame()\n",
    "\n",
    "for m in range(1,13):\n",
    "    print()\n",
    "\n",
    "    print(\"month: \",m)\n",
    "    month_index  = pd.to_datetime(pcaData_lag.Date).dt.month == m\n",
    "\n",
    "    dataset_train = pcaData_lag[~month_index]\n",
    "    dataset_test = pcaData_lag[month_index]\n",
    "    print(\"Train Size: \",dataset_train.shape)\n",
    "    print(\"Test Size: \",dataset_test.shape)\n",
    "\n",
    "\n",
    "    X_train = dataset_train.drop(targetColumns+DateColumns , axis = 1)\n",
    "    X_test = dataset_test.drop(targetColumns+DateColumns , axis = 1)\n",
    "\n",
    "    \n",
    "    y_train = dataset_train[targetColumns]\n",
    "    y_test = dataset_test[targetColumns]\n",
    "\n",
    "\n",
    "    rf2 = RandomForestRegressor(random_state = 2019, n_estimators=150, \n",
    "                               min_samples_split=3,\n",
    "                               min_samples_leaf= 2, \n",
    "                               max_features= 'sqrt',\n",
    "                               max_depth= None, \n",
    "                               bootstrap= False)\n",
    "\n",
    "    rf2.fit(X_train,y_train)\n",
    "    \n",
    "    PCAPredicted = rf2.predict(X_test)\n",
    "    PCAPredictedDF = pd.concat([PCAPredictedDF,pd.DataFrame(PCAPredicted)])\n",
    "    for no_tree in range(rf2.n_estimators):\n",
    "        predict = rf2.estimators_[no_tree].predict(X_test)\n",
    "        if no_tree == 0:\n",
    "            predict_values = predict\n",
    "        else:\n",
    "            predict_values = np.vstack((predict_values,predict))\n",
    "\n",
    "    predict_values_inversePCA = inverse_pca(predict_values,pca)\n",
    "    predict_values_inverseStandard = inverse_standardize(predict_values_inversePCA, scaler)\n",
    "\n",
    "    predict_values_inverseStandard_df = pd.DataFrame(predict_values_inverseStandard)\n",
    "    predict_values_inverseStandard_df['Date'] = np.tile(dataset_test['Date'],rf2.n_estimators)\n",
    "    predict_values_inverseStandard_df['Hour'] = np.tile(dataset_test['Hour'],rf2.n_estimators)\n",
    "    predict_values_inverseStandard_df['Min'] = np.tile(dataset_test['Min'],rf2.n_estimators)\n",
    "\n",
    "    network_prediction_mean_df = predict_values_inverseStandard_df.groupby(['Date','Hour','Min']).mean()\n",
    "    network_prediction_1_df = predict_values_inverseStandard_df.groupby(['Date','Hour','Min']).quantile(0.1)\n",
    "    network_prediction_9_df = predict_values_inverseStandard_df.groupby(['Date','Hour','Min']).quantile(0.9)\n",
    "    \n",
    "    edgeMonthIndex = [False] * maxlag + list(month_index)\n",
    "    edge_r2 = r2_score(edge_data[edgeMonthIndex], network_prediction_mean_df, multioutput='variance_weighted')\n",
    "    print('edge test R2 ', edge_r2)\n",
    "    \n",
    "    network_prediction_mean_df.columns = [str(col) + '_mean' for col in edge_data.columns]\n",
    "    networkPrediction = pd.concat([networkPrediction,network_prediction_mean_df])\n",
    "    \n",
    "    network_prediction_1_df.columns = [str(col) + '_0.1' for col in edge_data.columns]\n",
    "    networkPrediction1 = pd.concat([networkPrediction1,network_prediction_1_df])\n",
    "    \n",
    "    network_prediction_9_df.columns = [str(col) + '_0.9' for col in edge_data.columns]\n",
    "    networkPrediction9 = pd.concat([networkPrediction9,network_prediction_9_df])\n",
    "    \n"
   ]
  },
  {
   "cell_type": "code",
   "execution_count": 79,
   "metadata": {},
   "outputs": [
    {
     "data": {
      "text/plain": [
       "0.29888153363020104"
      ]
     },
     "execution_count": 79,
     "metadata": {},
     "output_type": "execute_result"
    }
   ],
   "source": [
    "r2_score(edge_data.iloc[maxlag:], networkPrediction, multioutput='variance_weighted')"
   ]
  },
  {
   "cell_type": "code",
   "execution_count": 80,
   "metadata": {},
   "outputs": [
    {
     "data": {
      "text/plain": [
       "0.663733262357659"
      ]
     },
     "execution_count": 80,
     "metadata": {},
     "output_type": "execute_result"
    }
   ],
   "source": [
    "# aggregated R2\n",
    "r2_score(pcaData_lag[targetColumns], PCAPredictedDF, multioutput='variance_weighted')"
   ]
  },
  {
   "cell_type": "code",
   "execution_count": 81,
   "metadata": {},
   "outputs": [
    {
     "data": {
      "text/plain": [
       "'/prediction/PENNPCA6Std5Min12lag.csv'"
      ]
     },
     "execution_count": 81,
     "metadata": {},
     "output_type": "execute_result"
    }
   ],
   "source": [
    "'/prediction/%sPCA'%hub+str(pca_comps)+'Std'+str(granularity)+'Min'+str(maxlag)+'lag.csv'"
   ]
  },
  {
   "cell_type": "code",
   "execution_count": 82,
   "metadata": {},
   "outputs": [],
   "source": [
    "networkPrediction.to_csv(rootDir+'/prediction/range/%sPCA'%hub+str(pca_comps)+'Mean'+\n",
    "                         str(granularity)+'Min'+str(maxlag)+'lag.csv',index=False)"
   ]
  },
  {
   "cell_type": "code",
   "execution_count": 83,
   "metadata": {},
   "outputs": [],
   "source": [
    "networkPrediction1.to_csv(rootDir+'/prediction/range/%sPCA'%hub+str(pca_comps)+'Quantile10'+\n",
    "                            str(granularity)+'Min'+str(maxlag)+'lag.csv',index=False)"
   ]
  },
  {
   "cell_type": "code",
   "execution_count": 84,
   "metadata": {},
   "outputs": [],
   "source": [
    "networkPrediction9.to_csv(rootDir+'/prediction/range/%sPCA'%hub+str(pca_comps)+'Quantile90'+\n",
    "                            str(granularity)+'Min'+str(maxlag)+'lag.csv',index=False)"
   ]
  },
  {
   "cell_type": "code",
   "execution_count": null,
   "metadata": {},
   "outputs": [],
   "source": []
  }
 ],
 "metadata": {
  "kernelspec": {
   "display_name": "Python 3",
   "language": "python",
   "name": "python3"
  },
  "language_info": {
   "codemirror_mode": {
    "name": "ipython",
    "version": 3
   },
   "file_extension": ".py",
   "mimetype": "text/x-python",
   "name": "python",
   "nbconvert_exporter": "python",
   "pygments_lexer": "ipython3",
   "version": "3.7.6"
  }
 },
 "nbformat": 4,
 "nbformat_minor": 2
}
