{
 "cells": [
  {
   "cell_type": "code",
   "execution_count": 1,
   "metadata": {},
   "outputs": [],
   "source": [
    "import pandas as pd\n",
    "from sklearn.metrics import r2_score\n",
    "from sklearn.metrics import mean_absolute_error\n",
    "from sklearn.metrics import mean_squared_error\n",
    "import matplotlib.pyplot as plt\n",
    "import numpy as np"
   ]
  },
  {
   "cell_type": "code",
   "execution_count": 2,
   "metadata": {},
   "outputs": [],
   "source": [
    "def getTimeSeries(df):\n",
    "    table = pd.pivot_table(df, values='vehicle_count', index=['Date','Hour'],\n",
    "                    columns=['DOLocationID'], aggfunc=np.sum, fill_value=0)\n",
    "    return table"
   ]
  },
  {
   "cell_type": "code",
   "execution_count": 3,
   "metadata": {},
   "outputs": [],
   "source": [
    "### Comm "
   ]
  },
  {
   "cell_type": "code",
   "execution_count": 5,
   "metadata": {},
   "outputs": [
    {
     "data": {
      "text/html": [
       "<div>\n",
       "<style scoped>\n",
       "    .dataframe tbody tr th:only-of-type {\n",
       "        vertical-align: middle;\n",
       "    }\n",
       "\n",
       "    .dataframe tbody tr th {\n",
       "        vertical-align: top;\n",
       "    }\n",
       "\n",
       "    .dataframe thead th {\n",
       "        text-align: right;\n",
       "    }\n",
       "</style>\n",
       "<table border=\"1\" class=\"dataframe\">\n",
       "  <thead>\n",
       "    <tr style=\"text-align: right;\">\n",
       "      <th></th>\n",
       "      <th>start_id</th>\n",
       "      <th>start_community</th>\n",
       "    </tr>\n",
       "  </thead>\n",
       "  <tbody>\n",
       "    <tr>\n",
       "      <th>0</th>\n",
       "      <td>1</td>\n",
       "      <td>0.0</td>\n",
       "    </tr>\n",
       "    <tr>\n",
       "      <th>1</th>\n",
       "      <td>2</td>\n",
       "      <td>4.2</td>\n",
       "    </tr>\n",
       "    <tr>\n",
       "      <th>2</th>\n",
       "      <td>3</td>\n",
       "      <td>2.1</td>\n",
       "    </tr>\n",
       "    <tr>\n",
       "      <th>3</th>\n",
       "      <td>4</td>\n",
       "      <td>0.2</td>\n",
       "    </tr>\n",
       "    <tr>\n",
       "      <th>4</th>\n",
       "      <td>5</td>\n",
       "      <td>5.1</td>\n",
       "    </tr>\n",
       "    <tr>\n",
       "      <th>...</th>\n",
       "      <td>...</td>\n",
       "      <td>...</td>\n",
       "    </tr>\n",
       "    <tr>\n",
       "      <th>258</th>\n",
       "      <td>259</td>\n",
       "      <td>2.1</td>\n",
       "    </tr>\n",
       "    <tr>\n",
       "      <th>259</th>\n",
       "      <td>260</td>\n",
       "      <td>4.3</td>\n",
       "    </tr>\n",
       "    <tr>\n",
       "      <th>260</th>\n",
       "      <td>261</td>\n",
       "      <td>0.2</td>\n",
       "    </tr>\n",
       "    <tr>\n",
       "      <th>261</th>\n",
       "      <td>262</td>\n",
       "      <td>3.0</td>\n",
       "    </tr>\n",
       "    <tr>\n",
       "      <th>262</th>\n",
       "      <td>263</td>\n",
       "      <td>3.0</td>\n",
       "    </tr>\n",
       "  </tbody>\n",
       "</table>\n",
       "<p>263 rows × 2 columns</p>\n",
       "</div>"
      ],
      "text/plain": [
       "     start_id  start_community\n",
       "0           1              0.0\n",
       "1           2              4.2\n",
       "2           3              2.1\n",
       "3           4              0.2\n",
       "4           5              5.1\n",
       "..        ...              ...\n",
       "258       259              2.1\n",
       "259       260              4.3\n",
       "260       261              0.2\n",
       "261       262              3.0\n",
       "262       263              3.0\n",
       "\n",
       "[263 rows x 2 columns]"
      ]
     },
     "execution_count": 5,
     "metadata": {},
     "output_type": "execute_result"
    }
   ],
   "source": [
    "zoneDict = pd.read_csv('../processedData/ZonetoComm24.csv')\n",
    "# del zoneDict['Unnamed: 0']\n",
    "zoneDict"
   ]
  },
  {
   "cell_type": "code",
   "execution_count": 6,
   "metadata": {},
   "outputs": [],
   "source": [
    "def R2inAnomaly(hub,method):\n",
    "    label = pd.read_csv('../processedData/'+hub+'VehicleByHour.csv')\n",
    "    label = getTimeSeries(label)\n",
    "    label = label.reset_index()\n",
    "    prediction = pd.read_csv('../prediction/'+hub+method+'.csv')\n",
    "\n",
    "    label = label.merge(prediction[['Date','Hour']],on=['Date','Hour'],how='inner')\n",
    "    label_value = label[sorted([int(x) for x in label.columns if x not in ['Date', 'Hour']])].values\n",
    "    selctedColumn = sorted([int(x) for x in prediction.columns if x not in ['Date', 'Hour']])\n",
    "\n",
    "    prediction_value = prediction[[str(col) for col in selctedColumn]].values\n",
    "#     print(label_value.shape)\n",
    "    print('overall R2')\n",
    "    print('R2: ',r2_score(label_value, prediction_value, multioutput='variance_weighted'))\n",
    "    print('------------------------')\n",
    "    events = pd.read_csv('/home/mingyi/Dropbox/DOE_Anomaly_Detection/%sEvents.csv'%hub.upper())\n",
    "    label_anomaly = events.merge(label[sorted([int(x) for x in label.columns if x not in ['Date', 'Hour']])+['Date']],\n",
    "                                 how='inner',on='Date')\n",
    "    prediction_anomaly = events.merge(prediction[[str(col) for col in selctedColumn]+['Date']],how='inner',on='Date')\n",
    "    label_anomaly_value = label_anomaly[[x for x in label_anomaly.columns \n",
    "                                                         if x not in ['Date', 'Hour','Type','Name']]].values\n",
    "    prediction_anomaly_value = prediction_anomaly[[x for x in prediction_anomaly.columns \n",
    "                                                         if x not in ['Date', 'Hour','Type','Name']]].values\n",
    "    print(label_anomaly_value.shape)\n",
    "    print(prediction_anomaly_value.shape)\n",
    "    print('Artificially selected events')\n",
    "#     print(events)\n",
    "    print('------------------------')\n",
    "    print('R2: ',r2_score(label_anomaly_value, prediction_anomaly_value, multioutput='variance_weighted'))\n",
    "    print('------------------------')\n",
    "    r2 = r2_score(label_anomaly_value, prediction_anomaly_value, multioutput='variance_weighted')\n",
    "    mae = mean_absolute_error(label_anomaly_value, prediction_anomaly_value)\n",
    "    rmse = mean_squared_error(label_anomaly_value, prediction_anomaly_value,squared=False)\n",
    "    return(r2, mae, rmse)\n",
    "#     print('Clustered Anomaly')\n",
    "#     count = pd.read_csv('/Users/hemingyi/Documents/DOE_Anomaly_Detection/%sTrueTimesSummary.csv'%hub.upper())\n",
    "#     count = count[['%s%sRFCVLogResid'%(hub.upper(),method),'Date']]\n",
    "#     anomaly = count[count['%s%sRFCVLogResid'%(hub.upper(),method)]>90]\n",
    "#     label_anomaly = anomaly.merge(label,how='left',on='Date')\n",
    "#     prediction_anomaly = anomaly.merge(prediction,how='left',on='Date')\n",
    "#     label_anomaly_value = label_anomaly[[x for x in label_anomaly.columns \n",
    "#                                                          if x not in ['Date', 'Hour','Type','Name']]].values\n",
    "#     prediction_anomaly_value = prediction_anomaly[[x for x in prediction_anomaly.columns \n",
    "#                                                          if x not in ['Date', 'Hour','Type','Name']]].values\n",
    "#     print(anomaly)\n",
    "#     print('------------------------')\n",
    "#     print('R2: ',r2_score(label_anomaly_value, prediction_anomaly_value, multioutput='variance_weighted'))"
   ]
  },
  {
   "cell_type": "code",
   "execution_count": 7,
   "metadata": {},
   "outputs": [],
   "source": [
    "def R2inWeek(hub,method):\n",
    "    label = pd.read_csv('../processedData/'+hub+'VehicleByHour.csv')\n",
    "    label = getTimeSeries(label)\n",
    "    label = label.reset_index()\n",
    "    prediction = pd.read_csv('../prediction/'+hub+method+'.csv')\n",
    "\n",
    "    label = label.merge(prediction[['Date','Hour']],on=['Date','Hour'],how='inner')\n",
    "    label_value = label[sorted([int(x) for x in label.columns if x not in ['Date', 'Hour']])].values\n",
    "\n",
    "    selctedColumn = sorted([int(x) for x in prediction.columns if x not in ['Date', 'Hour','DOW']])\n",
    "    prediction_value = prediction[[str(col) for col in selctedColumn]].values\n",
    "    print('R2 in total: ',r2_score(label_value, prediction_value, multioutput='variance_weighted'))\n",
    "\n",
    "    #     print(label_value.shape)\n",
    "    label['DOW'] = pd.to_datetime(label['Date'])\n",
    "    label['DOW'] = label['DOW'].dt.dayofweek\n",
    "    labelWeekend = label.loc[label['DOW']>4]\n",
    "    labelWeek = label.loc[label['DOW']<5]\n",
    "\n",
    "\n",
    "    prediction['DOW'] = pd.to_datetime(prediction['Date'])\n",
    "    prediction['DOW'] = prediction['DOW'].dt.dayofweek\n",
    "    predictionWeekend = prediction.loc[prediction['DOW']>4]\n",
    "    predictionWeek = prediction.loc[prediction['DOW']<5]\n",
    "\n",
    "    label_value = labelWeekend[sorted([int(x) for x in labelWeekend.columns if x not in ['Date', \n",
    "                                                                                         'Hour','DOW']])].values\n",
    "    \n",
    "\n",
    "    prediction_value = predictionWeekend[[str(col) for col in selctedColumn]].values\n",
    "\n",
    "    print('R2 in weekend: ',r2_score(label_value, prediction_value, multioutput='variance_weighted'))\n",
    "\n",
    "\n",
    "    label_value = labelWeek[sorted([int(x) for x in labelWeek.columns if x not in ['Date', \n",
    "                                                                                         'Hour','DOW']])].values\n",
    "    prediction_value = predictionWeek[[str(col) for col in selctedColumn]].values\n",
    "\n",
    "    print('R2 in weekdays: ',r2_score(label_value, prediction_value, multioutput='variance_weighted'))"
   ]
  },
  {
   "cell_type": "code",
   "execution_count": 8,
   "metadata": {},
   "outputs": [],
   "source": [
    "def R2inPeak(hub,method):\n",
    "    label = pd.read_csv('../processedData/'+hub+'VehicleByHour.csv')\n",
    "    label = getTimeSeries(label)\n",
    "    peak = label.sum(axis=1).groupby(['Hour']).sum().idxmax()\n",
    "    print('peak: ',peak)\n",
    "    label = label.reset_index()\n",
    "\n",
    "    prediction = pd.read_csv('../prediction/'+hub+method+'.csv')\n",
    "\n",
    "    label = label.merge(prediction[['Date','Hour']],on=['Date','Hour'],how='inner')\n",
    "    selctedColumn = sorted([int(x) for x in prediction.columns if x not in ['Date', 'Hour','DOW']])\n",
    "\n",
    "\n",
    "    #     print(label_value.shape)    \n",
    "    labelPeak = label.loc[label['Hour']==peak]\n",
    "    labelNonPeak = label.loc[label['Hour']!=peak]\n",
    "\n",
    "\n",
    "    predictionPeak = prediction.loc[prediction['Hour']==peak]\n",
    "    predictionNonPeak = prediction.loc[prediction['Hour']!=peak]\n",
    "\n",
    "    label_value = labelPeak[sorted([int(x) for x in labelPeak.columns if x not in ['Date', \n",
    "                                                                                         'Hour','DOW']])].values\n",
    "    \n",
    "\n",
    "    prediction_value = predictionPeak[[str(col) for col in selctedColumn]].values\n",
    "\n",
    "    print('R2 in peak: ',r2_score(label_value, prediction_value, multioutput='variance_weighted'))\n",
    "\n",
    "\n",
    "    label_value = labelNonPeak[sorted([int(x) for x in labelNonPeak.columns if x not in ['Date', \n",
    "                                                                                         'Hour','DOW']])].values\n",
    "    prediction_value = predictionNonPeak[[str(col) for col in selctedColumn]].values\n",
    "\n",
    "    print('R2 in nonpeak: ',r2_score(label_value, prediction_value, multioutput='variance_weighted'))"
   ]
  },
  {
   "cell_type": "code",
   "execution_count": null,
   "metadata": {},
   "outputs": [],
   "source": [
    "label = pd.read_csv('../processedData/'+hub+'VehicleByHour.csv')\n",
    "label = getTimeSeries(label)\n",
    "# label = label.reset_index()\n",
    "peak = label.sum(axis=1).groupby(['Hour']).sum().idxmax()\n",
    "print('peak: ',peak)"
   ]
  },
  {
   "cell_type": "markdown",
   "metadata": {},
   "source": [
    "### artificially selected events"
   ]
  },
  {
   "cell_type": "code",
   "execution_count": 23,
   "metadata": {},
   "outputs": [
    {
     "name": "stdout",
     "output_type": "stream",
     "text": [
      "overall R2\n",
      "R2:  0.5893650472372185\n",
      "------------------------\n",
      "(458, 258)\n",
      "(458, 258)\n",
      "Artificially selected events\n",
      "------------------------\n",
      "R2:  0.605358191518573\n",
      "------------------------\n"
     ]
    }
   ],
   "source": [
    "hub = 'JFK'\n",
    "method = 'LSTMPipeline'\n",
    "r2, mae, rmse = R2inAnomaly(hub,method)\n",
    "with open('Evaluation.csv', 'w') as f:\n",
    "    f.write(hub+',r2,'+method+','+str(r2)+'\\n')\n",
    "    f.write(hub+',mae,'+method+','+str(mae)+'\\n')\n",
    "    f.write(hub+',rmse,'+method+','+str(rmse)+'\\n')"
   ]
  },
  {
   "cell_type": "code",
   "execution_count": 24,
   "metadata": {},
   "outputs": [
    {
     "name": "stdout",
     "output_type": "stream",
     "text": [
      "overall R2\n",
      "R2:  0.7731004334318198\n",
      "------------------------\n",
      "(465, 257)\n",
      "(465, 257)\n",
      "Artificially selected events\n",
      "------------------------\n",
      "R2:  0.7496395505540963\n",
      "------------------------\n"
     ]
    }
   ],
   "source": [
    "hub = 'LGA'\n",
    "method = 'LSTMPipeline'\n",
    "r2, mae, rmse = R2inAnomaly(hub,method)\n",
    "with open('Evaluation.csv', 'a') as f:\n",
    "    f.write(hub+',r2,'+method+','+str(r2)+'\\n')\n",
    "    f.write(hub+',mae,'+method+','+str(mae)+'\\n')\n",
    "    f.write(hub+',rmse,'+method+','+str(rmse)+'\\n')"
   ]
  },
  {
   "cell_type": "code",
   "execution_count": 25,
   "metadata": {},
   "outputs": [
    {
     "name": "stdout",
     "output_type": "stream",
     "text": [
      "overall R2\n",
      "R2:  0.5709650213048197\n",
      "------------------------\n",
      "(458, 258)\n",
      "(458, 258)\n",
      "Artificially selected events\n",
      "------------------------\n",
      "R2:  0.5455553897773519\n",
      "------------------------\n"
     ]
    }
   ],
   "source": [
    "hub = 'JFK'\n",
    "method = 'LSTMComm24'\n",
    "r2, mae, rmse = R2inAnomaly(hub,method)\n",
    "with open('Evaluation.csv', 'a') as f:\n",
    "    f.write(hub+',r2,'+method+','+str(r2)+'\\n')\n",
    "    f.write(hub+',mae,'+method+','+str(mae)+'\\n')\n",
    "    f.write(hub+',rmse,'+method+','+str(rmse)+'\\n')"
   ]
  },
  {
   "cell_type": "code",
   "execution_count": 26,
   "metadata": {},
   "outputs": [
    {
     "name": "stdout",
     "output_type": "stream",
     "text": [
      "overall R2\n",
      "R2:  0.7234709856094016\n",
      "------------------------\n",
      "(458, 257)\n",
      "(458, 257)\n",
      "Artificially selected events\n",
      "------------------------\n",
      "R2:  0.7082953643446084\n",
      "------------------------\n"
     ]
    }
   ],
   "source": [
    "hub = 'LGA'\n",
    "method = 'LSTMComm24'\n",
    "r2, mae, rmse = R2inAnomaly(hub,method)\n",
    "with open('Evaluation.csv', 'a') as f:\n",
    "    f.write(hub+',r2,'+method+','+str(r2)+'\\n')\n",
    "    f.write(hub+',mae,'+method+','+str(mae)+'\\n')\n",
    "    f.write(hub+',rmse,'+method+','+str(rmse)+'\\n')"
   ]
  },
  {
   "cell_type": "code",
   "execution_count": 27,
   "metadata": {},
   "outputs": [
    {
     "name": "stdout",
     "output_type": "stream",
     "text": [
      "overall R2\n",
      "R2:  0.5617753177169981\n",
      "------------------------\n",
      "(468, 258)\n",
      "(468, 258)\n",
      "Artificially selected events\n",
      "------------------------\n",
      "R2:  0.50962341462421\n",
      "------------------------\n"
     ]
    }
   ],
   "source": [
    "hub = 'JFK'\n",
    "method = 'Comm6'\n",
    "r2, mae, rmse = R2inAnomaly(hub,method)\n",
    "with open('Evaluation.csv', 'a') as f:\n",
    "    f.write(hub+',r2,'+method+','+str(r2)+'\\n')\n",
    "    f.write(hub+',mae,'+method+','+str(mae)+'\\n')\n",
    "    f.write(hub+',rmse,'+method+','+str(rmse)+'\\n')"
   ]
  },
  {
   "cell_type": "code",
   "execution_count": 28,
   "metadata": {},
   "outputs": [
    {
     "name": "stdout",
     "output_type": "stream",
     "text": [
      "overall R2\n",
      "R2:  0.6843443029443619\n",
      "------------------------\n",
      "(468, 257)\n",
      "(468, 257)\n",
      "Artificially selected events\n",
      "------------------------\n",
      "R2:  0.6672724140227766\n",
      "------------------------\n"
     ]
    }
   ],
   "source": [
    "hub = 'LGA'\n",
    "method = 'Comm6'\n",
    "r2, mae, rmse = R2inAnomaly(hub,method)\n",
    "with open('Evaluation.csv', 'a') as f:\n",
    "    f.write(hub+',r2,'+method+','+str(r2)+'\\n')\n",
    "    f.write(hub+',mae,'+method+','+str(mae)+'\\n')\n",
    "    f.write(hub+',rmse,'+method+','+str(rmse)+'\\n')"
   ]
  },
  {
   "cell_type": "code",
   "execution_count": 29,
   "metadata": {},
   "outputs": [
    {
     "name": "stdout",
     "output_type": "stream",
     "text": [
      "overall R2\n",
      "R2:  0.46101699655707745\n",
      "------------------------\n",
      "(372, 257)\n",
      "(372, 257)\n",
      "Artificially selected events\n",
      "------------------------\n",
      "R2:  0.3694044650097103\n",
      "------------------------\n"
     ]
    }
   ],
   "source": [
    "hub = 'Penn'\n",
    "method = 'Comm6'\n",
    "r2, mae, rmse = R2inAnomaly(hub,method)\n",
    "with open('Evaluation.csv', 'a') as f:\n",
    "    f.write(hub+',r2,'+method+','+str(r2)+'\\n')\n",
    "    f.write(hub+',mae,'+method+','+str(mae)+'\\n')\n",
    "    f.write(hub+',rmse,'+method+','+str(rmse)+'\\n')"
   ]
  },
  {
   "cell_type": "code",
   "execution_count": 30,
   "metadata": {},
   "outputs": [
    {
     "name": "stdout",
     "output_type": "stream",
     "text": [
      "overall R2\n",
      "R2:  0.5453822615756456\n",
      "------------------------\n",
      "(468, 258)\n",
      "(468, 258)\n",
      "Artificially selected events\n",
      "------------------------\n",
      "R2:  0.5141521152944809\n",
      "------------------------\n"
     ]
    }
   ],
   "source": [
    "hub = 'JFK'\n",
    "method = 'Comm24'\n",
    "r2, mae, rmse = R2inAnomaly(hub,method)\n",
    "with open('Evaluation.csv', 'a') as f:\n",
    "    f.write(hub+',r2,'+method+','+str(r2)+'\\n')\n",
    "    f.write(hub+',mae,'+method+','+str(mae)+'\\n')\n",
    "    f.write(hub+',rmse,'+method+','+str(rmse)+'\\n')"
   ]
  },
  {
   "cell_type": "code",
   "execution_count": 31,
   "metadata": {},
   "outputs": [
    {
     "name": "stdout",
     "output_type": "stream",
     "text": [
      "overall R2\n",
      "R2:  0.7178714963562547\n",
      "------------------------\n",
      "(468, 257)\n",
      "(468, 257)\n",
      "Artificially selected events\n",
      "------------------------\n",
      "R2:  0.6976400564443659\n",
      "------------------------\n"
     ]
    }
   ],
   "source": [
    "hub = 'LGA'\n",
    "method = 'Comm24'\n",
    "r2, mae, rmse = R2inAnomaly(hub,method)\n",
    "with open('Evaluation.csv', 'a') as f:\n",
    "    f.write(hub+',r2,'+method+','+str(r2)+'\\n')\n",
    "    f.write(hub+',mae,'+method+','+str(mae)+'\\n')\n",
    "    f.write(hub+',rmse,'+method+','+str(rmse)+'\\n')"
   ]
  },
  {
   "cell_type": "code",
   "execution_count": 32,
   "metadata": {},
   "outputs": [
    {
     "name": "stdout",
     "output_type": "stream",
     "text": [
      "overall R2\n",
      "R2:  0.5419649358015061\n",
      "------------------------\n",
      "(372, 257)\n",
      "(372, 257)\n",
      "Artificially selected events\n",
      "------------------------\n",
      "R2:  0.4433159756088794\n",
      "------------------------\n"
     ]
    }
   ],
   "source": [
    "hub = 'Penn'\n",
    "method = 'Comm24'\n",
    "r2, mae, rmse = R2inAnomaly(hub,method)\n",
    "with open('Evaluation.csv', 'a') as f:\n",
    "    f.write(hub+',r2,'+method+','+str(r2)+'\\n')\n",
    "    f.write(hub+',mae,'+method+','+str(mae)+'\\n')\n",
    "    f.write(hub+',rmse,'+method+','+str(rmse)+'\\n')"
   ]
  },
  {
   "cell_type": "code",
   "execution_count": 33,
   "metadata": {},
   "outputs": [
    {
     "name": "stdout",
     "output_type": "stream",
     "text": [
      "overall R2\n",
      "R2:  0.4997950041596569\n",
      "------------------------\n",
      "(468, 258)\n",
      "(468, 258)\n",
      "Artificially selected events\n",
      "------------------------\n",
      "R2:  0.46310697111200544\n",
      "------------------------\n"
     ]
    }
   ],
   "source": [
    "hub = 'JFK'\n",
    "method = 'Boro'\n",
    "r2, mae, rmse = R2inAnomaly(hub,method)\n",
    "with open('Evaluation.csv', 'a') as f:\n",
    "    f.write(hub+',r2,'+method+','+str(r2)+'\\n')\n",
    "    f.write(hub+',mae,'+method+','+str(mae)+'\\n')\n",
    "    f.write(hub+',rmse,'+method+','+str(rmse)+'\\n')"
   ]
  },
  {
   "cell_type": "code",
   "execution_count": 34,
   "metadata": {},
   "outputs": [
    {
     "name": "stdout",
     "output_type": "stream",
     "text": [
      "overall R2\n",
      "R2:  0.627865577133875\n",
      "------------------------\n",
      "(468, 257)\n",
      "(468, 257)\n",
      "Artificially selected events\n",
      "------------------------\n",
      "R2:  0.6209897931812762\n",
      "------------------------\n"
     ]
    }
   ],
   "source": [
    "hub = 'LGA'\n",
    "method = 'Boro'\n",
    "r2, mae, rmse = R2inAnomaly(hub,method)\n",
    "with open('Evaluation.csv', 'a') as f:\n",
    "    f.write(hub+',r2,'+method+','+str(r2)+'\\n')\n",
    "    f.write(hub+',mae,'+method+','+str(mae)+'\\n')\n",
    "    f.write(hub+',rmse,'+method+','+str(rmse)+'\\n')"
   ]
  },
  {
   "cell_type": "code",
   "execution_count": 35,
   "metadata": {},
   "outputs": [
    {
     "name": "stdout",
     "output_type": "stream",
     "text": [
      "overall R2\n",
      "R2:  0.4318355494064083\n",
      "------------------------\n",
      "(372, 257)\n",
      "(372, 257)\n",
      "Artificially selected events\n",
      "------------------------\n",
      "R2:  0.34165655048829874\n",
      "------------------------\n"
     ]
    }
   ],
   "source": [
    "hub = 'Penn'\n",
    "method = 'Boro'\n",
    "r2, mae, rmse = R2inAnomaly(hub,method)\n",
    "with open('Evaluation.csv', 'a') as f:\n",
    "    f.write(hub+',r2,'+method+','+str(r2)+'\\n')\n",
    "    f.write(hub+',mae,'+method+','+str(mae)+'\\n')\n",
    "    f.write(hub+',rmse,'+method+','+str(rmse)+'\\n')"
   ]
  },
  {
   "cell_type": "markdown",
   "metadata": {},
   "source": [
    "hub = 'JFK'\n",
    "method = 'Edgewise'\n",
    "r2, mae, rmse = R2inAnomaly(hub,method)\n",
    "with open('Evaluation.csv', 'a') as f:\n",
    "    f.write(hub+',r2,'+method+','+str(r2)+'\\n')\n",
    "    f.write(hub+',mae,'+method+','+str(mae)+'\\n')\n",
    "    f.write(hub+',rmse,'+method+','+str(rmse)+'\\n')"
   ]
  },
  {
   "cell_type": "markdown",
   "metadata": {},
   "source": [
    "hub = 'LGA'\n",
    "method = 'Edgewise'\n",
    "R2inAnomaly(hub,method)"
   ]
  },
  {
   "cell_type": "code",
   "execution_count": 36,
   "metadata": {},
   "outputs": [
    {
     "name": "stdout",
     "output_type": "stream",
     "text": [
      "overall R2\n",
      "R2:  0.5764443809596166\n",
      "------------------------\n",
      "(468, 258)\n",
      "(468, 258)\n",
      "Artificially selected events\n",
      "------------------------\n",
      "R2:  0.533139602161029\n",
      "------------------------\n"
     ]
    }
   ],
   "source": [
    "hub = 'JFK'\n",
    "method = 'PCA6'\n",
    "r2, mae, rmse = R2inAnomaly(hub,method)\n",
    "with open('Evaluation.csv', 'a') as f:\n",
    "    f.write(hub+',r2,'+method+','+str(r2)+'\\n')\n",
    "    f.write(hub+',mae,'+method+','+str(mae)+'\\n')\n",
    "    f.write(hub+',rmse,'+method+','+str(rmse)+'\\n')"
   ]
  },
  {
   "cell_type": "code",
   "execution_count": 37,
   "metadata": {},
   "outputs": [
    {
     "name": "stdout",
     "output_type": "stream",
     "text": [
      "overall R2\n",
      "R2:  0.5617753177169981\n",
      "------------------------\n",
      "(468, 258)\n",
      "(468, 258)\n",
      "Artificially selected events\n",
      "------------------------\n",
      "R2:  0.50962341462421\n",
      "------------------------\n"
     ]
    }
   ],
   "source": [
    "hub = 'JFK'\n",
    "method = 'PCA24'\n",
    "r2, mae, rmse = R2inAnomaly(hub,method)\n",
    "with open('Evaluation.csv', 'a') as f:\n",
    "    f.write(hub+',r2,'+method+','+str(r2)+'\\n')\n",
    "    f.write(hub+',mae,'+method+','+str(mae)+'\\n')\n",
    "    f.write(hub+',rmse,'+method+','+str(rmse)+'\\n')"
   ]
  },
  {
   "cell_type": "code",
   "execution_count": 39,
   "metadata": {},
   "outputs": [
    {
     "name": "stdout",
     "output_type": "stream",
     "text": [
      "overall R2\n",
      "R2:  0.7796913414374378\n",
      "------------------------\n",
      "(468, 257)\n",
      "(468, 257)\n",
      "Artificially selected events\n",
      "------------------------\n",
      "R2:  0.7489078454501321\n",
      "------------------------\n"
     ]
    }
   ],
   "source": [
    "hub = 'LGA'\n",
    "method = 'PCA6'\n",
    "r2, mae, rmse = R2inAnomaly(hub,method)\n",
    "with open('Evaluation.csv', 'a') as f:\n",
    "    f.write(hub+',r2,'+method+','+str(r2)+'\\n')\n",
    "    f.write(hub+',mae,'+method+','+str(mae)+'\\n')\n",
    "    f.write(hub+',rmse,'+method+','+str(rmse)+'\\n')"
   ]
  },
  {
   "cell_type": "code",
   "execution_count": 40,
   "metadata": {},
   "outputs": [
    {
     "name": "stdout",
     "output_type": "stream",
     "text": [
      "overall R2\n",
      "R2:  0.7695173138947347\n",
      "------------------------\n",
      "(468, 257)\n",
      "(468, 257)\n",
      "Artificially selected events\n",
      "------------------------\n",
      "R2:  0.7240587111656636\n",
      "------------------------\n"
     ]
    }
   ],
   "source": [
    "hub = 'LGA'\n",
    "method = 'PCA24'\n",
    "r2, mae, rmse = R2inAnomaly(hub,method)\n",
    "with open('Evaluation.csv', 'a') as f:\n",
    "    f.write(hub+',r2,'+method+','+str(r2)+'\\n')\n",
    "    f.write(hub+',mae,'+method+','+str(mae)+'\\n')\n",
    "    f.write(hub+',rmse,'+method+','+str(rmse)+'\\n')"
   ]
  },
  {
   "cell_type": "code",
   "execution_count": 41,
   "metadata": {},
   "outputs": [
    {
     "name": "stdout",
     "output_type": "stream",
     "text": [
      "PCA6\n",
      "R2 in total:  0.7067755077395412\n",
      "R2 in weekend:  0.6026300096739073\n",
      "R2 in weekdays:  0.725419846721056\n",
      "PCA24\n",
      "R2 in total:  0.7157662255507917\n",
      "R2 in weekend:  0.6077416647799687\n",
      "R2 in weekdays:  0.7360776282080561\n",
      "Comm6\n",
      "R2 in total:  0.46101699655707745\n",
      "R2 in weekend:  0.3543058365983419\n",
      "R2 in weekdays:  0.4684693113806167\n",
      "Comm24\n",
      "R2 in total:  0.5419649358015061\n",
      "R2 in weekend:  0.4311973371688822\n",
      "R2 in weekdays:  0.5546552431046673\n",
      "Boro\n",
      "R2 in total:  0.4318355494064083\n",
      "R2 in weekend:  0.3386177477032331\n",
      "R2 in weekdays:  0.4335911931736769\n"
     ]
    }
   ],
   "source": [
    "hub = 'Penn'\n",
    "methods = ['PCA6','PCA24','Comm6','Comm24','Boro']\n",
    "for method in methods:\n",
    "    print(method)\n",
    "    R2inWeek(hub, method)"
   ]
  },
  {
   "cell_type": "code",
   "execution_count": 42,
   "metadata": {},
   "outputs": [
    {
     "name": "stdout",
     "output_type": "stream",
     "text": [
      "PCA6\n",
      "peak:  19\n",
      "R2 in peak:  0.19757239656785594\n",
      "R2 in nonpeak:  0.709663417623836\n",
      "PCA24\n",
      "peak:  19\n",
      "R2 in peak:  0.196070341260537\n",
      "R2 in nonpeak:  0.719099469511267\n",
      "Comm6\n",
      "peak:  19\n",
      "R2 in peak:  -0.45588800876163027\n",
      "R2 in nonpeak:  0.4659352647062415\n",
      "Comm24\n",
      "peak:  19\n",
      "R2 in peak:  -0.23652931116830653\n",
      "R2 in nonpeak:  0.5461301482597625\n",
      "Boro\n",
      "peak:  19\n",
      "R2 in peak:  -0.4798289549938089\n",
      "R2 in nonpeak:  0.4358976955375159\n"
     ]
    }
   ],
   "source": [
    "hub = 'Penn'\n",
    "methods = ['PCA6','PCA24','Comm6','Comm24','Boro']\n",
    "for method in methods:\n",
    "    print(method)\n",
    "    R2inPeak(hub, method)"
   ]
  },
  {
   "cell_type": "code",
   "execution_count": 43,
   "metadata": {},
   "outputs": [
    {
     "name": "stdout",
     "output_type": "stream",
     "text": [
      "overall R2\n",
      "R2:  0.7067755077395412\n",
      "------------------------\n",
      "(372, 257)\n",
      "(372, 257)\n",
      "Artificially selected events\n",
      "------------------------\n",
      "R2:  0.5792372297535827\n",
      "------------------------\n"
     ]
    }
   ],
   "source": [
    "hub = 'Penn'\n",
    "method = 'PCA6'\n",
    "r2, mae, rmse = R2inAnomaly(hub,method)\n",
    "with open('Evaluation.csv', 'a') as f:\n",
    "    f.write(hub+',r2,'+method+','+str(r2)+'\\n')\n",
    "    f.write(hub+',mae,'+method+','+str(mae)+'\\n')\n",
    "    f.write(hub+',rmse,'+method+','+str(rmse)+'\\n')"
   ]
  },
  {
   "cell_type": "code",
   "execution_count": 45,
   "metadata": {},
   "outputs": [
    {
     "name": "stdout",
     "output_type": "stream",
     "text": [
      "overall R2\n",
      "R2:  0.7157662255507917\n",
      "------------------------\n",
      "(372, 257)\n",
      "(372, 257)\n",
      "Artificially selected events\n",
      "------------------------\n",
      "R2:  0.5566129834836325\n",
      "------------------------\n"
     ]
    }
   ],
   "source": [
    "hub = 'Penn'\n",
    "method = 'PCA24'\n",
    "r2, mae, rmse = R2inAnomaly(hub,method)\n",
    "with open('Evaluation.csv', 'a') as f:\n",
    "    f.write(hub+',r2,'+method+','+str(r2)+'\\n')\n",
    "    f.write(hub+',mae,'+method+','+str(mae)+'\\n')\n",
    "    f.write(hub+',rmse,'+method+','+str(rmse)+'\\n')"
   ]
  },
  {
   "cell_type": "code",
   "execution_count": 46,
   "metadata": {},
   "outputs": [],
   "source": [
    "eva = pd.read_csv('Evaluation.csv',header=None)"
   ]
  },
  {
   "cell_type": "code",
   "execution_count": 47,
   "metadata": {},
   "outputs": [
    {
     "data": {
      "text/html": [
       "<div>\n",
       "<style scoped>\n",
       "    .dataframe tbody tr th:only-of-type {\n",
       "        vertical-align: middle;\n",
       "    }\n",
       "\n",
       "    .dataframe tbody tr th {\n",
       "        vertical-align: top;\n",
       "    }\n",
       "\n",
       "    .dataframe thead th {\n",
       "        text-align: right;\n",
       "    }\n",
       "</style>\n",
       "<table border=\"1\" class=\"dataframe\">\n",
       "  <thead>\n",
       "    <tr style=\"text-align: right;\">\n",
       "      <th></th>\n",
       "      <th>Hub</th>\n",
       "      <th>Metrics</th>\n",
       "      <th>Method</th>\n",
       "      <th>Value</th>\n",
       "    </tr>\n",
       "  </thead>\n",
       "  <tbody>\n",
       "    <tr>\n",
       "      <th>0</th>\n",
       "      <td>JFK</td>\n",
       "      <td>r2</td>\n",
       "      <td>LSTMPipeline</td>\n",
       "      <td>0.605358</td>\n",
       "    </tr>\n",
       "    <tr>\n",
       "      <th>1</th>\n",
       "      <td>JFK</td>\n",
       "      <td>mae</td>\n",
       "      <td>LSTMPipeline</td>\n",
       "      <td>1.030203</td>\n",
       "    </tr>\n",
       "    <tr>\n",
       "      <th>2</th>\n",
       "      <td>JFK</td>\n",
       "      <td>rmse</td>\n",
       "      <td>LSTMPipeline</td>\n",
       "      <td>1.891437</td>\n",
       "    </tr>\n",
       "    <tr>\n",
       "      <th>3</th>\n",
       "      <td>LGA</td>\n",
       "      <td>r2</td>\n",
       "      <td>LSTMPipeline</td>\n",
       "      <td>0.749640</td>\n",
       "    </tr>\n",
       "    <tr>\n",
       "      <th>4</th>\n",
       "      <td>LGA</td>\n",
       "      <td>mae</td>\n",
       "      <td>LSTMPipeline</td>\n",
       "      <td>0.901782</td>\n",
       "    </tr>\n",
       "  </tbody>\n",
       "</table>\n",
       "</div>"
      ],
      "text/plain": [
       "   Hub Metrics        Method     Value\n",
       "0  JFK      r2  LSTMPipeline  0.605358\n",
       "1  JFK     mae  LSTMPipeline  1.030203\n",
       "2  JFK    rmse  LSTMPipeline  1.891437\n",
       "3  LGA      r2  LSTMPipeline  0.749640\n",
       "4  LGA     mae  LSTMPipeline  0.901782"
      ]
     },
     "execution_count": 47,
     "metadata": {},
     "output_type": "execute_result"
    }
   ],
   "source": [
    "eva.columns = ['Hub','Metrics','Method','Value']\n",
    "eva.head()"
   ]
  },
  {
   "cell_type": "code",
   "execution_count": 49,
   "metadata": {},
   "outputs": [],
   "source": [
    "eva['Value'] = eva.Value.round(2)"
   ]
  },
  {
   "cell_type": "code",
   "execution_count": 50,
   "metadata": {},
   "outputs": [
    {
     "data": {
      "text/html": [
       "<div>\n",
       "<style scoped>\n",
       "    .dataframe tbody tr th:only-of-type {\n",
       "        vertical-align: middle;\n",
       "    }\n",
       "\n",
       "    .dataframe tbody tr th {\n",
       "        vertical-align: top;\n",
       "    }\n",
       "\n",
       "    .dataframe thead tr th {\n",
       "        text-align: left;\n",
       "    }\n",
       "</style>\n",
       "<table border=\"1\" class=\"dataframe\">\n",
       "  <thead>\n",
       "    <tr>\n",
       "      <th></th>\n",
       "      <th>Method</th>\n",
       "      <th colspan=\"9\" halign=\"left\">Value</th>\n",
       "    </tr>\n",
       "    <tr>\n",
       "      <th>Hub</th>\n",
       "      <th></th>\n",
       "      <th colspan=\"3\" halign=\"left\">JFK</th>\n",
       "      <th colspan=\"3\" halign=\"left\">LGA</th>\n",
       "      <th colspan=\"3\" halign=\"left\">Penn</th>\n",
       "    </tr>\n",
       "    <tr>\n",
       "      <th>Metrics</th>\n",
       "      <th></th>\n",
       "      <th>mae</th>\n",
       "      <th>r2</th>\n",
       "      <th>rmse</th>\n",
       "      <th>mae</th>\n",
       "      <th>r2</th>\n",
       "      <th>rmse</th>\n",
       "      <th>mae</th>\n",
       "      <th>r2</th>\n",
       "      <th>rmse</th>\n",
       "    </tr>\n",
       "  </thead>\n",
       "  <tbody>\n",
       "    <tr>\n",
       "      <th>0</th>\n",
       "      <td>Boro</td>\n",
       "      <td>1.21</td>\n",
       "      <td>0.46</td>\n",
       "      <td>2.22</td>\n",
       "      <td>1.09</td>\n",
       "      <td>0.62</td>\n",
       "      <td>2.60</td>\n",
       "      <td>1.07</td>\n",
       "      <td>0.34</td>\n",
       "      <td>3.21</td>\n",
       "    </tr>\n",
       "    <tr>\n",
       "      <th>1</th>\n",
       "      <td>Comm24</td>\n",
       "      <td>1.18</td>\n",
       "      <td>0.51</td>\n",
       "      <td>2.11</td>\n",
       "      <td>1.03</td>\n",
       "      <td>0.70</td>\n",
       "      <td>2.33</td>\n",
       "      <td>0.99</td>\n",
       "      <td>0.44</td>\n",
       "      <td>2.95</td>\n",
       "    </tr>\n",
       "    <tr>\n",
       "      <th>2</th>\n",
       "      <td>Comm6</td>\n",
       "      <td>1.20</td>\n",
       "      <td>0.51</td>\n",
       "      <td>2.12</td>\n",
       "      <td>1.05</td>\n",
       "      <td>0.67</td>\n",
       "      <td>2.44</td>\n",
       "      <td>1.04</td>\n",
       "      <td>0.37</td>\n",
       "      <td>3.14</td>\n",
       "    </tr>\n",
       "    <tr>\n",
       "      <th>3</th>\n",
       "      <td>LSTMComm24</td>\n",
       "      <td>1.13</td>\n",
       "      <td>0.55</td>\n",
       "      <td>2.03</td>\n",
       "      <td>0.99</td>\n",
       "      <td>0.71</td>\n",
       "      <td>2.29</td>\n",
       "      <td>NaN</td>\n",
       "      <td>NaN</td>\n",
       "      <td>NaN</td>\n",
       "    </tr>\n",
       "    <tr>\n",
       "      <th>4</th>\n",
       "      <td>LSTMPipeline</td>\n",
       "      <td>1.03</td>\n",
       "      <td>0.61</td>\n",
       "      <td>1.89</td>\n",
       "      <td>0.90</td>\n",
       "      <td>0.75</td>\n",
       "      <td>2.12</td>\n",
       "      <td>NaN</td>\n",
       "      <td>NaN</td>\n",
       "      <td>NaN</td>\n",
       "    </tr>\n",
       "    <tr>\n",
       "      <th>5</th>\n",
       "      <td>PCA24</td>\n",
       "      <td>1.20</td>\n",
       "      <td>0.51</td>\n",
       "      <td>2.12</td>\n",
       "      <td>1.03</td>\n",
       "      <td>0.72</td>\n",
       "      <td>2.22</td>\n",
       "      <td>0.91</td>\n",
       "      <td>0.56</td>\n",
       "      <td>2.63</td>\n",
       "    </tr>\n",
       "    <tr>\n",
       "      <th>6</th>\n",
       "      <td>PCA6</td>\n",
       "      <td>1.17</td>\n",
       "      <td>0.53</td>\n",
       "      <td>2.07</td>\n",
       "      <td>0.98</td>\n",
       "      <td>0.75</td>\n",
       "      <td>2.12</td>\n",
       "      <td>0.88</td>\n",
       "      <td>0.58</td>\n",
       "      <td>2.56</td>\n",
       "    </tr>\n",
       "  </tbody>\n",
       "</table>\n",
       "</div>"
      ],
      "text/plain": [
       "               Method Value                                                \n",
       "Hub                     JFK               LGA              Penn            \n",
       "Metrics                 mae    r2  rmse   mae    r2  rmse   mae    r2  rmse\n",
       "0                Boro  1.21  0.46  2.22  1.09  0.62  2.60  1.07  0.34  3.21\n",
       "1              Comm24  1.18  0.51  2.11  1.03  0.70  2.33  0.99  0.44  2.95\n",
       "2               Comm6  1.20  0.51  2.12  1.05  0.67  2.44  1.04  0.37  3.14\n",
       "3          LSTMComm24  1.13  0.55  2.03  0.99  0.71  2.29   NaN   NaN   NaN\n",
       "4        LSTMPipeline  1.03  0.61  1.89  0.90  0.75  2.12   NaN   NaN   NaN\n",
       "5               PCA24  1.20  0.51  2.12  1.03  0.72  2.22  0.91  0.56  2.63\n",
       "6                PCA6  1.17  0.53  2.07  0.98  0.75  2.12  0.88  0.58  2.56"
      ]
     },
     "execution_count": 50,
     "metadata": {},
     "output_type": "execute_result"
    }
   ],
   "source": [
    "pd.pivot_table(eva,values=['Value'],index=['Method'],columns=['Hub','Metrics']).reset_index()"
   ]
  },
  {
   "cell_type": "code",
   "execution_count": null,
   "metadata": {},
   "outputs": [],
   "source": []
  }
 ],
 "metadata": {
  "kernelspec": {
   "display_name": "Python 3",
   "language": "python",
   "name": "python3"
  },
  "language_info": {
   "codemirror_mode": {
    "name": "ipython",
    "version": 3
   },
   "file_extension": ".py",
   "mimetype": "text/x-python",
   "name": "python",
   "nbconvert_exporter": "python",
   "pygments_lexer": "ipython3",
   "version": "3.7.6"
  }
 },
 "nbformat": 4,
 "nbformat_minor": 2
}
