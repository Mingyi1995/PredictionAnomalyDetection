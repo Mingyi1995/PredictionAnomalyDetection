{
 "cells": [
  {
   "cell_type": "code",
   "execution_count": 4,
   "metadata": {},
   "outputs": [
    {
     "name": "stderr",
     "output_type": "stream",
     "text": [
      "/home/mingyi/anaconda3/lib/python3.7/site-packages/geopandas/_compat.py:110: UserWarning: The Shapely GEOS version (3.8.0-CAPI-1.13.1 ) is incompatible with the GEOS version PyGEOS was compiled with (3.9.0-CAPI-1.16.2). Conversions between both will be slow.\n",
      "  shapely_geos_version, geos_capi_version_string\n"
     ]
    }
   ],
   "source": [
    "import pandas as pd\n",
    "import numpy as np\n",
    "import geopandas as gpd\n",
    "from sklearn.mixture import GaussianMixture\n",
    "from sklearn.decomposition import PCA\n",
    "from sklearn.preprocessing import StandardScaler\n",
    "import matplotlib.pyplot as plt\n",
    "import warnings\n",
    "warnings.filterwarnings('ignore')"
   ]
  },
  {
   "cell_type": "code",
   "execution_count": 5,
   "metadata": {},
   "outputs": [],
   "source": [
    "def loadData(file):\n",
    "    data = pd.read_csv(file)\n",
    "    print('Raw shape: ',data.shape)\n",
    "    data['Date'] = pd.to_datetime(data.Date)\n",
    "    print('Days: ',len(set(data.Date)))\n",
    "    return data\n",
    "def getTimeSeries(df,zones):\n",
    "    zoneID = list(set(df.columns).intersection({'DOLocationID','PULocationID'}))[0]\n",
    "    df = df.loc[df[zoneID].isin(zones)]\n",
    "    table = pd.pivot_table(df, values='vehicle_count', index=['Date'],\n",
    "                    columns=[zoneID,'Hour'], aggfunc=np.sum, fill_value=0)\n",
    "#     table.columns = [i[1] for i in table.columns]\n",
    "    missing_columns = [i for i in zones if i not in table.columns]\n",
    "    for col in missing_columns:\n",
    "        table[col] = 0\n",
    "    table = table[sorted(table.columns)]\n",
    "    return table"
   ]
  },
  {
   "cell_type": "code",
   "execution_count": 6,
   "metadata": {},
   "outputs": [],
   "source": [
    "zone = gpd.read_file('../../Data/NYC Taxi Zones.geojson')\n",
    "zones = zone['location_id'].unique()\n",
    "zones = [int(i) for i in zones]"
   ]
  },
  {
   "cell_type": "code",
   "execution_count": 1,
   "metadata": {},
   "outputs": [
    {
     "ename": "NameError",
     "evalue": "name 'loadData' is not defined",
     "output_type": "error",
     "traceback": [
      "\u001b[0;31m---------------------------------------------------------------------------\u001b[0m",
      "\u001b[0;31mNameError\u001b[0m                                 Traceback (most recent call last)",
      "\u001b[0;32m<ipython-input-1-1bc8b92d3d4f>\u001b[0m in \u001b[0;36m<module>\u001b[0;34m\u001b[0m\n\u001b[1;32m      3\u001b[0m \u001b[0mdataDir\u001b[0m \u001b[0;34m=\u001b[0m \u001b[0;34m'/home/mingyi/Dropbox/UrbanTemporalNetworks/processedData/'\u001b[0m\u001b[0;34m\u001b[0m\u001b[0;34m\u001b[0m\u001b[0m\n\u001b[1;32m      4\u001b[0m \u001b[0mfile\u001b[0m \u001b[0;34m=\u001b[0m \u001b[0mdataDir\u001b[0m \u001b[0;34m+\u001b[0m \u001b[0mhub\u001b[0m \u001b[0;34m+\u001b[0m \u001b[0;34m'VehicleByHour2018fromHub.csv'\u001b[0m\u001b[0;34m\u001b[0m\u001b[0;34m\u001b[0m\u001b[0m\n\u001b[0;32m----> 5\u001b[0;31m \u001b[0mreal\u001b[0m \u001b[0;34m=\u001b[0m \u001b[0mloadData\u001b[0m\u001b[0;34m(\u001b[0m\u001b[0mfile\u001b[0m\u001b[0;34m)\u001b[0m\u001b[0;34m\u001b[0m\u001b[0;34m\u001b[0m\u001b[0m\n\u001b[0m\u001b[1;32m      6\u001b[0m \u001b[0mreal\u001b[0m \u001b[0;34m=\u001b[0m \u001b[0mgetTimeSeries\u001b[0m\u001b[0;34m(\u001b[0m\u001b[0mreal\u001b[0m\u001b[0;34m,\u001b[0m\u001b[0mzones\u001b[0m\u001b[0;34m)\u001b[0m\u001b[0;34m\u001b[0m\u001b[0;34m\u001b[0m\u001b[0m\n\u001b[1;32m      7\u001b[0m \u001b[0mreal\u001b[0m\u001b[0;34m.\u001b[0m\u001b[0mhead\u001b[0m\u001b[0;34m(\u001b[0m\u001b[0;34m)\u001b[0m\u001b[0;34m\u001b[0m\u001b[0;34m\u001b[0m\u001b[0m\n",
      "\u001b[0;31mNameError\u001b[0m: name 'loadData' is not defined"
     ]
    }
   ],
   "source": [
    "hub = 'JFK'\n",
    "pca_comps = 6\n",
    "dataDir = '/home/mingyi/Dropbox/UrbanTemporalNetworks/processedData/'\n",
    "file = dataDir + hub + 'VehicleByHour2019fromHub.csv'\n",
    "real = loadData(file)\n",
    "real = getTimeSeries(real,zones)\n",
    "real.head()"
   ]
  },
  {
   "cell_type": "code",
   "execution_count": 35,
   "metadata": {},
   "outputs": [
    {
     "name": "stdout",
     "output_type": "stream",
     "text": [
      "JFK VehicleByHour2019fromHub.csv\n",
      "JFK VehicleByHour2019toHub.csv\n",
      "Raw shape:  (2303880, 4)\n",
      "Days:  365\n",
      "LGA VehicleByHour2019fromHub.csv\n",
      "Raw shape:  (2295120, 4)\n",
      "Days:  365\n",
      "LGA VehicleByHour2019toHub.csv\n",
      "Raw shape:  (2303880, 4)\n",
      "Days:  365\n",
      "PENN VehicleByHour2019fromHub.csv\n",
      "Raw shape:  (2286360, 4)\n",
      "Days:  365\n",
      "PENN VehicleByHour2019toHub.csv\n",
      "Raw shape:  (2295120, 4)\n",
      "Days:  365\n"
     ]
    }
   ],
   "source": [
    "for hub in ['JFK','LGA','PENN']:\n",
    "    for fileType in ['VehicleByHour2019fromHub.csv','VehicleByHour2019toHub.csv']:\n",
    "        print(hub, fileType)\n",
    "        if hub =='JFK' and fileType=='VehicleByHour2019fromHub.csv':\n",
    "            pass\n",
    "        else:\n",
    "            file = dataDir + hub + fileType\n",
    "            temp = loadData(file)\n",
    "            temp = getTimeSeries(temp,zones)\n",
    "            real = pd.concat([real,temp],axis=1)"
   ]
  },
  {
   "cell_type": "code",
   "execution_count": 37,
   "metadata": {},
   "outputs": [],
   "source": [
    "scaler = StandardScaler()\n",
    "realS = scaler.fit_transform(real)\n",
    "pca = PCA(n_components=365)\n",
    "pca.fit(realS)\n",
    "explained_variance = pca.explained_variance_ratio_"
   ]
  },
  {
   "cell_type": "code",
   "execution_count": 38,
   "metadata": {},
   "outputs": [
    {
     "name": "stdout",
     "output_type": "stream",
     "text": [
      "284\n"
     ]
    }
   ],
   "source": [
    "for i,j in enumerate(explained_variance.cumsum()):\n",
    "    if j > 0.85:\n",
    "        print(i)\n",
    "        break"
   ]
  },
  {
   "cell_type": "code",
   "execution_count": 39,
   "metadata": {},
   "outputs": [
    {
     "data": {
      "text/plain": [
       "[<matplotlib.lines.Line2D at 0x7f54234c9090>]"
      ]
     },
     "execution_count": 39,
     "metadata": {},
     "output_type": "execute_result"
    },
    {
     "data": {
      "image/png": "[encoded data removed]",
      "text/plain": [
       "<Figure size 432x288 with 1 Axes>"
      ]
     },
     "metadata": {
      "needs_background": "light"
     },
     "output_type": "display_data"
    }
   ],
   "source": [
    "plt.plot(range(0,365),explained_variance.cumsum())"
   ]
  },
  {
   "cell_type": "code",
   "execution_count": 40,
   "metadata": {},
   "outputs": [],
   "source": [
    "pca = PCA(n_components=284)\n",
    "pc = pca.fit_transform(realS)"
   ]
  },
  {
   "cell_type": "code",
   "execution_count": 41,
   "metadata": {},
   "outputs": [],
   "source": [
    "def GMMBIC(matrix):\n",
    "    bic = []\n",
    "    for ncomp in range(2,10):\n",
    "        gm=GaussianMixture(n_components=ncomp,n_init=100,max_iter=1000,random_state=0)\n",
    "        labels = gm.fit_predict(matrix)\n",
    "        score = gm.bic(matrix)\n",
    "        bic += [score]\n",
    "#         print(ncomp,score)\n",
    "#     print('------------------------')\n",
    "    GMMComp = np.array(bic).argmin() + 2\n",
    "#         GMMBIC = np.array(bic).min()\n",
    "    print('GMM in %s component has the lowest BIC value'%GMMComp)\n",
    "    return GMMComp"
   ]
  },
  {
   "cell_type": "code",
   "execution_count": 42,
   "metadata": {},
   "outputs": [
    {
     "name": "stdout",
     "output_type": "stream",
     "text": [
      "GMM in 3 component has the lowest BIC value\n"
     ]
    },
    {
     "data": {
      "text/plain": [
       "3"
      ]
     },
     "execution_count": 42,
     "metadata": {},
     "output_type": "execute_result"
    }
   ],
   "source": [
    "GMMBIC(pc)"
   ]
  },
  {
   "cell_type": "code",
   "execution_count": null,
   "metadata": {},
   "outputs": [],
   "source": [
    "gm=GaussianMixture(n_components=3,n_init=100,max_iter=1000,random_state=0)\n",
    "gm.fit(realS)\n",
    "# scores = gm.score_samples(reallDate)"
   ]
  },
  {
   "cell_type": "code",
   "execution_count": null,
   "metadata": {},
   "outputs": [],
   "source": [
    "cluster = pd.DataFrame(gm.predict_proba(realS),columns=['1','2','3'])\n",
    "cluster['Date'] = real.index\n",
    "cluster['Date'] = pd.to_datetime(cluster['Date'])\n",
    "cluster['DOW'] = pd.to_datetime(cluster['Date']).dt.dayofweek\n",
    "holidays = pd.read_csv('2019Holidays.csv',sep='\\t')\n",
    "holidays['Date'] = pd.to_datetime(holidays['Date'])\n",
    "cluster = cluster.merge(holidays,how='left')\n",
    "cluster = cluster.fillna(0)"
   ]
  },
  {
   "cell_type": "code",
   "execution_count": 99,
   "metadata": {},
   "outputs": [
    {
     "data": {
      "text/html": [
       "<div>\n",
       "<style scoped>\n",
       "    .dataframe tbody tr th:only-of-type {\n",
       "        vertical-align: middle;\n",
       "    }\n",
       "\n",
       "    .dataframe tbody tr th {\n",
       "        vertical-align: top;\n",
       "    }\n",
       "\n",
       "    .dataframe thead th {\n",
       "        text-align: right;\n",
       "    }\n",
       "</style>\n",
       "<table border=\"1\" class=\"dataframe\">\n",
       "  <thead>\n",
       "    <tr style=\"text-align: right;\">\n",
       "      <th></th>\n",
       "      <th>1</th>\n",
       "      <th>2</th>\n",
       "      <th>Date</th>\n",
       "      <th>DOW</th>\n",
       "      <th>Federal holiday</th>\n",
       "      <th>Day of the week</th>\n",
       "    </tr>\n",
       "    <tr>\n",
       "      <th>3</th>\n",
       "      <th></th>\n",
       "      <th></th>\n",
       "      <th></th>\n",
       "      <th></th>\n",
       "      <th></th>\n",
       "      <th></th>\n",
       "    </tr>\n",
       "  </thead>\n",
       "  <tbody>\n",
       "    <tr>\n",
       "      <th>0.0</th>\n",
       "      <td>245</td>\n",
       "      <td>245</td>\n",
       "      <td>245</td>\n",
       "      <td>245</td>\n",
       "      <td>245</td>\n",
       "      <td>245</td>\n",
       "    </tr>\n",
       "    <tr>\n",
       "      <th>1.0</th>\n",
       "      <td>120</td>\n",
       "      <td>120</td>\n",
       "      <td>120</td>\n",
       "      <td>120</td>\n",
       "      <td>120</td>\n",
       "      <td>120</td>\n",
       "    </tr>\n",
       "  </tbody>\n",
       "</table>\n",
       "</div>"
      ],
      "text/plain": [
       "       1    2  Date  DOW  Federal holiday  Day of the week\n",
       "3                                                         \n",
       "0.0  245  245   245  245              245              245\n",
       "1.0  120  120   120  120              120              120"
      ]
     },
     "execution_count": 99,
     "metadata": {},
     "output_type": "execute_result"
    }
   ],
   "source": [
    "cluster.groupby('3').count()"
   ]
  },
  {
   "cell_type": "code",
   "execution_count": 102,
   "metadata": {},
   "outputs": [
    {
     "data": {
      "text/plain": [
       "0.3"
      ]
     },
     "execution_count": 102,
     "metadata": {},
     "output_type": "execute_result"
    }
   ],
   "source": [
    "clusterNo = '3'\n",
    "len(cluster.loc[(cluster[clusterNo]==1)&(cluster['DOW']==5)])/len(cluster.loc[(cluster[clusterNo]==1)])"
   ]
  },
  {
   "cell_type": "code",
   "execution_count": 103,
   "metadata": {},
   "outputs": [
    {
     "data": {
      "text/plain": [
       "0.016666666666666666"
      ]
     },
     "execution_count": 103,
     "metadata": {},
     "output_type": "execute_result"
    }
   ],
   "source": [
    "len(cluster.loc[(cluster[clusterNo]==1)&(cluster['DOW']==6)])/len(cluster.loc[(cluster[clusterNo]==1)])"
   ]
  },
  {
   "cell_type": "code",
   "execution_count": 104,
   "metadata": {},
   "outputs": [
    {
     "data": {
      "text/plain": [
       "0.6833333333333333"
      ]
     },
     "execution_count": 104,
     "metadata": {},
     "output_type": "execute_result"
    }
   ],
   "source": [
    "len(cluster.loc[(cluster[clusterNo]==1)&(cluster['DOW']<5)])/len(cluster.loc[(cluster[clusterNo]==1)])"
   ]
  },
  {
   "cell_type": "code",
   "execution_count": 105,
   "metadata": {},
   "outputs": [
    {
     "data": {
      "text/plain": [
       "3"
      ]
     },
     "execution_count": 105,
     "metadata": {},
     "output_type": "execute_result"
    }
   ],
   "source": [
    "len(cluster.loc[(cluster[clusterNo]==1)&(cluster['Federal holiday']!=0)])"
   ]
  },
  {
   "cell_type": "code",
   "execution_count": 106,
   "metadata": {},
   "outputs": [
    {
     "data": {
      "text/plain": [
       "14894.283333333333"
      ]
     },
     "execution_count": 106,
     "metadata": {},
     "output_type": "execute_result"
    }
   ],
   "source": [
    "# realDate = realDate.reset_index()\n",
    "ridership = pd.DataFrame(real.reset_index().sum(axis=1))\n",
    "ridership['date'] = real.index\n",
    "ridership.loc[ridership['date'].isin(cluster.loc[(cluster[clusterNo]==1)]['Date'])].sum().sum()/len(cluster.loc[(cluster[clusterNo]==1)])"
   ]
  },
  {
   "cell_type": "code",
   "execution_count": 108,
   "metadata": {},
   "outputs": [],
   "source": [
    "cluster.to_csv('cluster.csv',index=False)"
   ]
  },
  {
   "cell_type": "code",
   "execution_count": null,
   "metadata": {},
   "outputs": [],
   "source": []
  }
 ],
 "metadata": {
  "kernelspec": {
   "display_name": "Python 3",
   "language": "python",
   "name": "python3"
  },
  "language_info": {
   "codemirror_mode": {
    "name": "ipython",
    "version": 3
   },
   "file_extension": ".py",
   "mimetype": "text/x-python",
   "name": "python",
   "nbconvert_exporter": "python",
   "pygments_lexer": "ipython3",
   "version": "3.7.6"
  }
 },
 "nbformat": 4,
 "nbformat_minor": 4
}
