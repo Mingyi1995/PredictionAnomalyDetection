{
 "cells": [
  {
   "cell_type": "code",
   "execution_count": 1,
   "metadata": {},
   "outputs": [],
   "source": [
    "import pandas as pd\n",
    "from sklearn.decomposition import PCA\n",
    "import numpy as np\n",
    "import matplotlib.pyplot as plt\n",
    "\n",
    "from sklearn.preprocessing import StandardScaler\n",
    "from sklearn.metrics import r2_score\n",
    "from sklearn.ensemble import RandomForestRegressor\n",
    "\n",
    "from sklearn.model_selection import train_test_split\n",
    "from sklearn.model_selection import RandomizedSearchCV\n",
    "from sklearn.model_selection import cross_val_score\n",
    "from sklearn.multioutput import MultiOutputRegressor"
   ]
  },
  {
   "cell_type": "markdown",
   "metadata": {},
   "source": [
    "### Helper Functions"
   ]
  },
  {
   "cell_type": "code",
   "execution_count": 2,
   "metadata": {},
   "outputs": [],
   "source": [
    "def loadData(file):\n",
    "    data = pd.read_csv(file)\n",
    "    print('Raw shape: ',data.shape)\n",
    "    data['Date'] = pd.to_datetime(data.Date)\n",
    "    print('Days: ',len(set(data.Date)))\n",
    "    return data"
   ]
  },
  {
   "cell_type": "code",
   "execution_count": 3,
   "metadata": {},
   "outputs": [],
   "source": [
    "def getTimeSeries(df):\n",
    "    table = pd.pivot_table(df, values='vehicle_count', index=['Date','Hour'],\n",
    "                    columns=['DOLocationID'], aggfunc=np.sum, fill_value=0)\n",
    "    return table"
   ]
  },
  {
   "cell_type": "code",
   "execution_count": 4,
   "metadata": {},
   "outputs": [],
   "source": [
    "def zscoreNormalizeSpatial(matrix):\n",
    "    m = matrix.copy()\n",
    "    for i in range(m.shape[0]):\n",
    "        m[i, :] = (m[i, :] - m[i, :].mean()) / (m[i, :].std()+1e-10)\n",
    "        \n",
    "    return m"
   ]
  },
  {
   "cell_type": "code",
   "execution_count": 5,
   "metadata": {},
   "outputs": [],
   "source": [
    "def standardize(matrix):\n",
    "    m = matrix.copy()\n",
    "    scaler = StandardScaler()\n",
    "    scaler.fit(m)\n",
    "    t = scaler.transform(m)\n",
    "    return scaler, t"
   ]
  },
  {
   "cell_type": "code",
   "execution_count": 6,
   "metadata": {},
   "outputs": [],
   "source": [
    "def inverse_standardize(matrix, scaler):\n",
    "    t = matrix.copy()\n",
    "    return scaler.inverse_transform(t)"
   ]
  },
  {
   "cell_type": "code",
   "execution_count": 7,
   "metadata": {},
   "outputs": [],
   "source": [
    "def getPCAFeatures(matrix, n=10):\n",
    "    pca = PCA(n_components=n)\n",
    "    pca.fit(matrix)\n",
    "    reducedMatrixPCA = pca.transform(matrix)\n",
    "    reducedMatrixPCA.shape\n",
    "\n",
    "    reducedDict = {str(i+1):reducedMatrixPCA[:,i] for i in range(reducedMatrixPCA.shape[1])}\n",
    "    reducedDf = pd.DataFrame(reducedDict)\n",
    "    #reducedDf.index = index\n",
    "    return pca,reducedDf"
   ]
  },
  {
   "cell_type": "code",
   "execution_count": 8,
   "metadata": {},
   "outputs": [],
   "source": [
    "def PCA_test(matrix, pca):\n",
    "\n",
    "    reducedMatrixPCA = pca.transform(matrix)\n",
    "\n",
    "    reducedDict = {str(i+1):reducedMatrixPCA[:,i] for i in range(reducedMatrixPCA.shape[1])}\n",
    "    reducedDf = pd.DataFrame(reducedDict)\n",
    "    #reducedDf.index = index\n",
    "    return reducedDf"
   ]
  },
  {
   "cell_type": "code",
   "execution_count": 9,
   "metadata": {},
   "outputs": [],
   "source": [
    "def inverse_pca(matrix,pca):\n",
    "    m = matrix.copy()\n",
    "    return pca.inverse_transform(m)"
   ]
  },
  {
   "cell_type": "code",
   "execution_count": 10,
   "metadata": {},
   "outputs": [],
   "source": [
    "def addLag(dataset, maxlag, lagColumns):\n",
    "    dataset_list = [dataset]\n",
    "\n",
    "    for l in range(1, maxlag+1):\n",
    "        df = dataset.shift(l)\n",
    "        df = df[lagColumns]\n",
    "        df.columns = [c+'_lag_'+str(l) for c in df.columns]\n",
    "        dataset_list.append(df)\n",
    "\n",
    "    dataset = pd.concat(dataset_list, axis=1).dropna()\n",
    "    return dataset"
   ]
  },
  {
   "cell_type": "code",
   "execution_count": 11,
   "metadata": {},
   "outputs": [],
   "source": [
    "def get_rmse(matrix1, matrix2):\n",
    "    sumSquareError = np.mean(np.power(matrix1 - matrix2,2))\n",
    "    rmse = np.power(sumSquareError,0.5)\n",
    "    return rmse"
   ]
  },
  {
   "cell_type": "code",
   "execution_count": 12,
   "metadata": {},
   "outputs": [],
   "source": [
    "def pca_performance(trainmatrix,testmatrix, components):\n",
    "    rmseList = []\n",
    "    r2List = []\n",
    "    for n in components:\n",
    "        scaler, s_train_matrix = standardize(trainmatrix)\n",
    "        s_test_matrix = scaler.transform(testmatrix)\n",
    "\n",
    "        pca,pcaTrain = getPCAFeatures(s_train_matrix,n=n)\n",
    "        pcaTest = PCA_test(s_test_matrix, pca)\n",
    "        \n",
    "        network_prediction = inverse_pca(pcaTest,pca)\n",
    "        network_prediction = inverse_standardize(network_prediction, scaler)\n",
    "\n",
    "        r2Score = r2_score(testmatrix, network_prediction, multioutput='variance_weighted')\n",
    "                \n",
    "        r2List.append(r2Score)\n",
    "    \n",
    "    return r2List"
   ]
  },
  {
   "cell_type": "code",
   "execution_count": 13,
   "metadata": {},
   "outputs": [],
   "source": [
    "def nonlinearperformance(trainmatrix,testmatrix,components, maxlag=12):\n",
    "    r2List = []\n",
    "    for n in components:\n",
    "        print(n)\n",
    "        scaler, s_train_matrix = standardize(trainmatrix)\n",
    "        s_test_matrix = scaler.transform(testmatrix)\n",
    "\n",
    "        pca,pcaTrain = getPCAFeatures(s_train_matrix,n=n)\n",
    "        pcaTest = PCA_test(s_test_matrix, pca)\n",
    "\n",
    "#         maxlag = 12\n",
    "        DateColumns = ['Date', 'Hour']\n",
    "        lagColumns = [c for c in pcaTrain.columns if c not in DateColumns]\n",
    "\n",
    "        dataset_train = addLag(pcaTrain, maxlag)\n",
    "\n",
    "        dataset_test = addLag(pcaTest, maxlag)\n",
    "\n",
    "        X_train = dataset_train.drop(lagColumns , axis = 1)\n",
    "        X_test = dataset_test.drop(lagColumns , axis = 1)\n",
    "        y_train = dataset_train[lagColumns]\n",
    "        y_test = dataset_test[lagColumns]\n",
    "#         print(X_train.shape)\n",
    "#         print(X_test.shape)\n",
    "#         print(y_train.shape)\n",
    "#         print(y_test.shape)\n",
    "\n",
    "        rf2 = RandomForestRegressor(random_state = 0, n_estimators=200, \n",
    "                                   min_samples_split=10,\n",
    "                                   min_samples_leaf= 3, \n",
    "                                   max_features= 'sqrt',\n",
    "                                   max_depth= 30, \n",
    "                                   bootstrap= True)\n",
    "\n",
    "        rf2.fit(X_train,y_train)\n",
    "\n",
    "        pca_prediction = rf2.predict(X_test)\n",
    "\n",
    "        network_prediction = inverse_pca(pca_prediction,pca)\n",
    "\n",
    "        network_prediction = inverse_standardize(network_prediction, scaler)\n",
    "\n",
    "        r2Score = r2_score(testmatrix[maxlag:], network_prediction, \\\n",
    "                           multioutput='variance_weighted')\n",
    "        \n",
    "        r2List.append(r2Score)\n",
    "    return r2List"
   ]
  },
  {
   "cell_type": "markdown",
   "metadata": {},
   "source": [
    "#### Preparing Data"
   ]
  },
  {
   "cell_type": "code",
   "execution_count": 134,
   "metadata": {},
   "outputs": [],
   "source": [
    "hub = 'EWR'\n",
    "tune_hyp_params = False\n",
    "pca_comps = 24"
   ]
  },
  {
   "cell_type": "code",
   "execution_count": 135,
   "metadata": {},
   "outputs": [],
   "source": [
    "dataDir = '/Users/hemingyi/Documents/UrbanTemporalNetworks/processedData/'\n",
    "file = dataDir + hub + 'VehiceByHour.csv'"
   ]
  },
  {
   "cell_type": "code",
   "execution_count": 136,
   "metadata": {},
   "outputs": [],
   "source": [
    "# file = '/home/urwa/Documents/Projects/NYU Remote/project/data/JfkVehiceByHour.csv'"
   ]
  },
  {
   "cell_type": "code",
   "execution_count": 137,
   "metadata": {},
   "outputs": [
    {
     "name": "stdout",
     "output_type": "stream",
     "text": [
      "Raw shape:  (2260080, 4)\n",
      "Days:  365\n"
     ]
    }
   ],
   "source": [
    "data = loadData(file)"
   ]
  },
  {
   "cell_type": "code",
   "execution_count": 138,
   "metadata": {},
   "outputs": [],
   "source": [
    "data = getTimeSeries(data)"
   ]
  },
  {
   "cell_type": "code",
   "execution_count": 139,
   "metadata": {},
   "outputs": [
    {
     "data": {
      "text/plain": [
       "(8760, 258)"
      ]
     },
     "execution_count": 139,
     "metadata": {},
     "output_type": "execute_result"
    }
   ],
   "source": [
    "data.shape"
   ]
  },
  {
   "cell_type": "code",
   "execution_count": 140,
   "metadata": {},
   "outputs": [],
   "source": [
    "matrix = data.values.astype(np.float64)"
   ]
  },
  {
   "cell_type": "code",
   "execution_count": 141,
   "metadata": {},
   "outputs": [],
   "source": [
    "scaler, s_matrix = standardize(matrix)"
   ]
  },
  {
   "cell_type": "code",
   "execution_count": 142,
   "metadata": {},
   "outputs": [],
   "source": [
    "pca,pcaData = getPCAFeatures(s_matrix,n=pca_comps)"
   ]
  },
  {
   "cell_type": "code",
   "execution_count": 143,
   "metadata": {},
   "outputs": [],
   "source": [
    "pcaData.index = data.index\n",
    "pcaData = pcaData.reset_index()"
   ]
  },
  {
   "cell_type": "code",
   "execution_count": 144,
   "metadata": {},
   "outputs": [],
   "source": [
    "pcaData.to_csv('/Users/hemingyi/Documents/UrbanTemporalNetworks/processedData/%spca%s.csv'%(hub.upper(),pca_comps),\n",
    "               index=False)"
   ]
  },
  {
   "cell_type": "code",
   "execution_count": 145,
   "metadata": {},
   "outputs": [],
   "source": [
    "externalDataDir = \"/Users/hemingyi/Documents/UrbanTemporalNetworks/HongData/\"\n",
    "extFile = externalDataDir + hub.upper() + \".csv\""
   ]
  },
  {
   "cell_type": "code",
   "execution_count": 146,
   "metadata": {},
   "outputs": [
    {
     "name": "stdout",
     "output_type": "stream",
     "text": [
      "(8760, 46)\n"
     ]
    },
    {
     "data": {
      "text/html": [
       "<div>\n",
       "<style scoped>\n",
       "    .dataframe tbody tr th:only-of-type {\n",
       "        vertical-align: middle;\n",
       "    }\n",
       "\n",
       "    .dataframe tbody tr th {\n",
       "        vertical-align: top;\n",
       "    }\n",
       "\n",
       "    .dataframe thead th {\n",
       "        text-align: right;\n",
       "    }\n",
       "</style>\n",
       "<table border=\"1\" class=\"dataframe\">\n",
       "  <thead>\n",
       "    <tr style=\"text-align: right;\">\n",
       "      <th></th>\n",
       "      <th>date</th>\n",
       "      <th>fhv</th>\n",
       "      <th>yellow</th>\n",
       "      <th>vehicle</th>\n",
       "      <th>ifmon</th>\n",
       "      <th>iftue</th>\n",
       "      <th>ifwed</th>\n",
       "      <th>ifthu</th>\n",
       "      <th>iffri</th>\n",
       "      <th>ifsat</th>\n",
       "      <th>...</th>\n",
       "      <th>mintemp</th>\n",
       "      <th>avgtemp</th>\n",
       "      <th>departure</th>\n",
       "      <th>hdd</th>\n",
       "      <th>cdd</th>\n",
       "      <th>participation</th>\n",
       "      <th>newsnow</th>\n",
       "      <th>snowdepth</th>\n",
       "      <th>ifSnow</th>\n",
       "      <th>arrival</th>\n",
       "    </tr>\n",
       "  </thead>\n",
       "  <tbody>\n",
       "    <tr>\n",
       "      <th>0</th>\n",
       "      <td>18/1/1 0:00</td>\n",
       "      <td>263</td>\n",
       "      <td>174</td>\n",
       "      <td>437</td>\n",
       "      <td>1</td>\n",
       "      <td>0</td>\n",
       "      <td>0</td>\n",
       "      <td>0</td>\n",
       "      <td>0</td>\n",
       "      <td>0</td>\n",
       "      <td>...</td>\n",
       "      <td>7</td>\n",
       "      <td>12.5</td>\n",
       "      <td>-21.2</td>\n",
       "      <td>52</td>\n",
       "      <td>0</td>\n",
       "      <td>0.0</td>\n",
       "      <td>0.0</td>\n",
       "      <td>0</td>\n",
       "      <td>0</td>\n",
       "      <td>24.0</td>\n",
       "    </tr>\n",
       "    <tr>\n",
       "      <th>1</th>\n",
       "      <td>18/1/1 1:00</td>\n",
       "      <td>138</td>\n",
       "      <td>133</td>\n",
       "      <td>271</td>\n",
       "      <td>1</td>\n",
       "      <td>0</td>\n",
       "      <td>0</td>\n",
       "      <td>0</td>\n",
       "      <td>0</td>\n",
       "      <td>0</td>\n",
       "      <td>...</td>\n",
       "      <td>7</td>\n",
       "      <td>12.5</td>\n",
       "      <td>-21.2</td>\n",
       "      <td>52</td>\n",
       "      <td>0</td>\n",
       "      <td>0.0</td>\n",
       "      <td>0.0</td>\n",
       "      <td>0</td>\n",
       "      <td>0</td>\n",
       "      <td>9.0</td>\n",
       "    </tr>\n",
       "  </tbody>\n",
       "</table>\n",
       "<p>2 rows × 46 columns</p>\n",
       "</div>"
      ],
      "text/plain": [
       "          date  fhv  yellow  vehicle  ifmon  iftue  ifwed  ifthu  iffri  \\\n",
       "0  18/1/1 0:00  263     174      437      1      0      0      0      0   \n",
       "1  18/1/1 1:00  138     133      271      1      0      0      0      0   \n",
       "\n",
       "   ifsat   ...     mintemp  avgtemp  departure  hdd  cdd  participation  \\\n",
       "0      0   ...           7     12.5      -21.2   52    0            0.0   \n",
       "1      0   ...           7     12.5      -21.2   52    0            0.0   \n",
       "\n",
       "   newsnow  snowdepth  ifSnow  arrival  \n",
       "0      0.0          0       0     24.0  \n",
       "1      0.0          0       0      9.0  \n",
       "\n",
       "[2 rows x 46 columns]"
      ]
     },
     "execution_count": 146,
     "metadata": {},
     "output_type": "execute_result"
    }
   ],
   "source": [
    "extDf = pd.read_csv(extFile)\n",
    "print(extDf.shape)\n",
    "extDf.head(2)"
   ]
  },
  {
   "cell_type": "code",
   "execution_count": 147,
   "metadata": {},
   "outputs": [
    {
     "data": {
      "text/html": [
       "<div>\n",
       "<style scoped>\n",
       "    .dataframe tbody tr th:only-of-type {\n",
       "        vertical-align: middle;\n",
       "    }\n",
       "\n",
       "    .dataframe tbody tr th {\n",
       "        vertical-align: top;\n",
       "    }\n",
       "\n",
       "    .dataframe thead th {\n",
       "        text-align: right;\n",
       "    }\n",
       "</style>\n",
       "<table border=\"1\" class=\"dataframe\">\n",
       "  <thead>\n",
       "    <tr style=\"text-align: right;\">\n",
       "      <th></th>\n",
       "      <th>date</th>\n",
       "      <th>fhv</th>\n",
       "      <th>yellow</th>\n",
       "      <th>vehicle</th>\n",
       "      <th>ifmon</th>\n",
       "      <th>iftue</th>\n",
       "      <th>ifwed</th>\n",
       "      <th>ifthu</th>\n",
       "      <th>iffri</th>\n",
       "      <th>ifsat</th>\n",
       "      <th>...</th>\n",
       "      <th>mintemp</th>\n",
       "      <th>avgtemp</th>\n",
       "      <th>departure</th>\n",
       "      <th>hdd</th>\n",
       "      <th>cdd</th>\n",
       "      <th>participation</th>\n",
       "      <th>newsnow</th>\n",
       "      <th>snowdepth</th>\n",
       "      <th>ifSnow</th>\n",
       "      <th>arrival</th>\n",
       "    </tr>\n",
       "  </thead>\n",
       "  <tbody>\n",
       "    <tr>\n",
       "      <th>0</th>\n",
       "      <td>2018-01-01 00:00:00</td>\n",
       "      <td>263</td>\n",
       "      <td>174</td>\n",
       "      <td>437</td>\n",
       "      <td>1</td>\n",
       "      <td>0</td>\n",
       "      <td>0</td>\n",
       "      <td>0</td>\n",
       "      <td>0</td>\n",
       "      <td>0</td>\n",
       "      <td>...</td>\n",
       "      <td>7</td>\n",
       "      <td>12.5</td>\n",
       "      <td>-21.2</td>\n",
       "      <td>52</td>\n",
       "      <td>0</td>\n",
       "      <td>0.0</td>\n",
       "      <td>0.0</td>\n",
       "      <td>0</td>\n",
       "      <td>0</td>\n",
       "      <td>24.0</td>\n",
       "    </tr>\n",
       "    <tr>\n",
       "      <th>1</th>\n",
       "      <td>2018-01-01 01:00:00</td>\n",
       "      <td>138</td>\n",
       "      <td>133</td>\n",
       "      <td>271</td>\n",
       "      <td>1</td>\n",
       "      <td>0</td>\n",
       "      <td>0</td>\n",
       "      <td>0</td>\n",
       "      <td>0</td>\n",
       "      <td>0</td>\n",
       "      <td>...</td>\n",
       "      <td>7</td>\n",
       "      <td>12.5</td>\n",
       "      <td>-21.2</td>\n",
       "      <td>52</td>\n",
       "      <td>0</td>\n",
       "      <td>0.0</td>\n",
       "      <td>0.0</td>\n",
       "      <td>0</td>\n",
       "      <td>0</td>\n",
       "      <td>9.0</td>\n",
       "    </tr>\n",
       "  </tbody>\n",
       "</table>\n",
       "<p>2 rows × 46 columns</p>\n",
       "</div>"
      ],
      "text/plain": [
       "                 date  fhv  yellow  vehicle  ifmon  iftue  ifwed  ifthu  \\\n",
       "0 2018-01-01 00:00:00  263     174      437      1      0      0      0   \n",
       "1 2018-01-01 01:00:00  138     133      271      1      0      0      0   \n",
       "\n",
       "   iffri  ifsat   ...     mintemp  avgtemp  departure  hdd  cdd  \\\n",
       "0      0      0   ...           7     12.5      -21.2   52    0   \n",
       "1      0      0   ...           7     12.5      -21.2   52    0   \n",
       "\n",
       "   participation  newsnow  snowdepth  ifSnow  arrival  \n",
       "0            0.0      0.0          0       0     24.0  \n",
       "1            0.0      0.0          0       0      9.0  \n",
       "\n",
       "[2 rows x 46 columns]"
      ]
     },
     "execution_count": 147,
     "metadata": {},
     "output_type": "execute_result"
    }
   ],
   "source": [
    "extDf['date'] = pd.to_datetime(extDf['date'], yearfirst=True)\n",
    "extDf.head(2)"
   ]
  },
  {
   "cell_type": "code",
   "execution_count": 148,
   "metadata": {},
   "outputs": [],
   "source": [
    "extDf['Hour'] = extDf['date'].dt.hour\n",
    "extDf['Dow'] = extDf['date'].dt.dayofweek\n",
    "extDf['Date'] = extDf['date'].dt.date"
   ]
  },
  {
   "cell_type": "code",
   "execution_count": 149,
   "metadata": {},
   "outputs": [
    {
     "data": {
      "text/plain": [
       "Index(['date', 'fhv', 'yellow', 'vehicle', 'ifmon', 'iftue', 'ifwed', 'ifthu',\n",
       "       'iffri', 'ifsat', 'ifsun', 'if0', 'if1', 'if2', 'if3', 'if4', 'if5',\n",
       "       'if6', 'if7', 'if8', 'if9', 'if10', 'if11', 'if12', 'if13', 'if14',\n",
       "       'if15', 'if16', 'if17', 'if18', 'if19', 'if20', 'if21', 'if22', 'if23',\n",
       "       'maxtemp', 'mintemp', 'avgtemp', 'departure', 'hdd', 'cdd',\n",
       "       'participation', 'newsnow', 'snowdepth', 'ifSnow', 'arrival', 'Hour',\n",
       "       'Dow', 'Date'],\n",
       "      dtype='object')"
      ]
     },
     "execution_count": 149,
     "metadata": {},
     "output_type": "execute_result"
    }
   ],
   "source": [
    "extDf.columns"
   ]
  },
  {
   "cell_type": "code",
   "execution_count": 150,
   "metadata": {},
   "outputs": [],
   "source": [
    "selected_columns = ['Date', 'Hour', 'Dow', 'arrival','maxtemp', 'mintemp', 'avgtemp', 'departure', 'hdd',\n",
    "       'cdd', 'participation', 'newsnow', 'snowdepth', 'ifSnow']"
   ]
  },
  {
   "cell_type": "code",
   "execution_count": 151,
   "metadata": {},
   "outputs": [],
   "source": [
    "extDf = extDf[selected_columns]"
   ]
  },
  {
   "cell_type": "code",
   "execution_count": 152,
   "metadata": {},
   "outputs": [
    {
     "name": "stdout",
     "output_type": "stream",
     "text": [
      "(8760, 26)\n",
      "(8760, 14)\n"
     ]
    }
   ],
   "source": [
    "print(pcaData.shape)\n",
    "print(extDf.shape)"
   ]
  },
  {
   "cell_type": "code",
   "execution_count": 153,
   "metadata": {},
   "outputs": [],
   "source": [
    "pcaData['Date'] = pd.to_datetime(pcaData['Date'])\n",
    "extDf['Date'] = pd.to_datetime(extDf['Date'])"
   ]
  },
  {
   "cell_type": "code",
   "execution_count": 154,
   "metadata": {},
   "outputs": [
    {
     "name": "stdout",
     "output_type": "stream",
     "text": [
      "(8760, 38)\n"
     ]
    }
   ],
   "source": [
    "pcaData = pd.merge(pcaData,extDf, on=['Date', 'Hour'], how='inner')\n",
    "print(pcaData.shape)"
   ]
  },
  {
   "cell_type": "code",
   "execution_count": 155,
   "metadata": {},
   "outputs": [
    {
     "data": {
      "text/plain": [
       "Index(['Date', 'Hour', '1', '2', '3', '4', '5', '6', '7', '8', '9', '10', '11',\n",
       "       '12', '13', '14', '15', '16', '17', '18', '19', '20', '21', '22', '23',\n",
       "       '24', 'Dow', 'arrival', 'maxtemp', 'mintemp', 'avgtemp', 'departure',\n",
       "       'hdd', 'cdd', 'participation', 'newsnow', 'snowdepth', 'ifSnow'],\n",
       "      dtype='object')"
      ]
     },
     "execution_count": 155,
     "metadata": {},
     "output_type": "execute_result"
    }
   ],
   "source": [
    "pcaData.columns"
   ]
  },
  {
   "cell_type": "code",
   "execution_count": 156,
   "metadata": {},
   "outputs": [],
   "source": [
    "lagColumns = ['1', '2', '3', '4', '5', '6', '7', '8', '9', '10', '11',\n",
    "       '12', '13', '14', '15', '16', '17', '18', '19', '20', '21', '22', '23',\n",
    "       '24', 'arrival']\n",
    "# lagColumns = ['1', '2', '3', 'arrival']\n",
    "\n",
    "DateColumns = ['Date']\n",
    "\n",
    "targetColumns = ['1', '2', '3', '4', '5', '6', '7', '8', '9', '10', '11',\n",
    "       '12', '13', '14', '15', '16', '17', '18', '19', '20', '21', '22', '23',\n",
    "       '24']"
   ]
  },
  {
   "cell_type": "code",
   "execution_count": 157,
   "metadata": {},
   "outputs": [
    {
     "data": {
      "text/plain": [
       "(8748, 338)"
      ]
     },
     "execution_count": 157,
     "metadata": {},
     "output_type": "execute_result"
    }
   ],
   "source": [
    "maxlag = 12\n",
    "\n",
    "pcaData_lag = addLag(pcaData, maxlag, lagColumns)\n",
    "\n",
    "pcaData_lag.shape"
   ]
  },
  {
   "cell_type": "code",
   "execution_count": 158,
   "metadata": {},
   "outputs": [
    {
     "name": "stdout",
     "output_type": "stream",
     "text": [
      "\n",
      "month:  1\n",
      "Train Size:  (8016, 338)\n",
      "Test Size:  (732, 338)\n",
      "Train R2:  0.7862261629385332\n",
      "Test R2:  0.054884631971513484\n",
      "Edge R2:  0.01736495469004738\n",
      "\n",
      "month:  2\n",
      "Train Size:  (8076, 338)\n",
      "Test Size:  (672, 338)\n",
      "Train R2:  0.7856854438691951\n",
      "Test R2:  0.03946819189453797\n",
      "Edge R2:  0.012366864224609428\n",
      "\n",
      "month:  3\n",
      "Train Size:  (8004, 338)\n",
      "Test Size:  (744, 338)\n",
      "Train R2:  0.787656000951012\n",
      "Test R2:  0.02037542217941881\n",
      "Edge R2:  0.015026476152940215\n",
      "\n",
      "month:  4\n",
      "Train Size:  (8028, 338)\n",
      "Test Size:  (720, 338)\n",
      "Train R2:  0.7891314965797694\n",
      "Test R2:  0.024589467587183025\n",
      "Edge R2:  0.019474267971746503\n",
      "\n",
      "month:  5\n",
      "Train Size:  (8004, 338)\n",
      "Test Size:  (744, 338)\n",
      "Train R2:  0.7871351366512753\n",
      "Test R2:  0.04101898313163828\n",
      "Edge R2:  0.021293560788685384\n",
      "\n",
      "month:  6\n",
      "Train Size:  (8028, 338)\n",
      "Test Size:  (720, 338)\n",
      "Train R2:  0.7904767458924148\n",
      "Test R2:  0.012212570911572377\n",
      "Edge R2:  0.01374040609392579\n",
      "\n",
      "month:  7\n",
      "Train Size:  (8004, 338)\n",
      "Test Size:  (744, 338)\n",
      "Train R2:  0.7872408635028922\n",
      "Test R2:  0.009699986622908068\n",
      "Edge R2:  0.011986481545539317\n",
      "\n",
      "month:  8\n",
      "Train Size:  (8004, 338)\n",
      "Test Size:  (744, 338)\n",
      "Train R2:  0.7870543093898299\n",
      "Test R2:  0.02757046369001577\n",
      "Edge R2:  0.014055676807700238\n",
      "\n",
      "month:  9\n",
      "Train Size:  (8028, 338)\n",
      "Test Size:  (720, 338)\n",
      "Train R2:  0.7854118355396913\n",
      "Test R2:  0.060144390037573776\n",
      "Edge R2:  0.020439662942179117\n",
      "\n",
      "month:  10\n",
      "Train Size:  (8004, 338)\n",
      "Test Size:  (744, 338)\n",
      "Train R2:  0.7898263760540757\n",
      "Test R2:  0.010822964891347419\n",
      "Edge R2:  0.015438131311087407\n",
      "\n",
      "month:  11\n",
      "Train Size:  (8028, 338)\n",
      "Test Size:  (720, 338)\n",
      "Train R2:  0.7875424247661934\n",
      "Test R2:  0.03959251326549106\n",
      "Edge R2:  0.02554841730186133\n",
      "\n",
      "month:  12\n",
      "Train Size:  (8004, 338)\n",
      "Test Size:  (744, 338)\n",
      "Train R2:  0.7870334444320501\n",
      "Test R2:  0.026290793196135063\n",
      "Edge R2:  0.01611257765077399\n"
     ]
    }
   ],
   "source": [
    "CommR2List = []\n",
    "EdgeR2List = []\n",
    "residualDf_list = []\n",
    "rawList = []\n",
    "\n",
    "for m in range(1,13):\n",
    "    print()\n",
    "\n",
    "    print(\"month: \",m)\n",
    "    month_index  = pd.to_datetime(pcaData_lag.Date).dt.month == m\n",
    "\n",
    "    dataset_train = pcaData_lag[~month_index]\n",
    "    dataset_test = pcaData_lag[month_index]\n",
    "    print(\"Train Size: \",dataset_train.shape)\n",
    "    print(\"Test Size: \",dataset_test.shape)\n",
    "\n",
    "\n",
    "    X_train = dataset_train.drop(targetColumns+DateColumns , axis = 1)\n",
    "    X_test = dataset_test.drop(targetColumns+DateColumns , axis = 1)\n",
    "    y_train = dataset_train[targetColumns]\n",
    "    y_test = dataset_test[targetColumns]\n",
    "\n",
    "\n",
    "\n",
    "    rf2 = RandomForestRegressor(random_state = 2019, n_estimators=150, \n",
    "                               min_samples_split=3,\n",
    "                               min_samples_leaf= 2, \n",
    "                               max_features= 'sqrt',\n",
    "                               max_depth= None, \n",
    "                               bootstrap= False)\n",
    "\n",
    "    rf2.fit(X_train,y_train)\n",
    "\n",
    "    print(\"Train R2: \",rf2.score(X_train,y_train))\n",
    "    test_r2 = rf2.score(X_test,y_test)\n",
    "    print(\"Test R2: \",test_r2)\n",
    "\n",
    "\n",
    "    pca_prediction = rf2.predict(X_test)\n",
    "\n",
    "    residual = y_test - pca_prediction\n",
    "    residual_df = dataset_test[['Date','Hour']]\n",
    "    residual_df = pd.concat([residual_df,pd.DataFrame(residual)], axis =1)\n",
    "\n",
    "    network_prediction = inverse_pca(pca_prediction,pca)\n",
    "\n",
    "    network_prediction = inverse_standardize(network_prediction, scaler)\n",
    "\n",
    "    edgeMonthIndex = [False] * maxlag + list(month_index)\n",
    "    edge_r2 = r2_score(data[edgeMonthIndex], network_prediction, multioutput='variance_weighted')\n",
    "    print(\"Edge R2: \",edge_r2)\n",
    "\n",
    "\n",
    "    CommR2List.append(test_r2)\n",
    "    EdgeR2List.append(edge_r2)\n",
    "    residualDf_list.append(residual_df)\n",
    "#     rawList.append()"
   ]
  },
  {
   "cell_type": "code",
   "execution_count": 159,
   "metadata": {},
   "outputs": [
    {
     "name": "stdout",
     "output_type": "stream",
     "text": [
      "0.030555864948277927\n",
      "0.016903956456758008\n"
     ]
    }
   ],
   "source": [
    "print(np.mean(CommR2List))\n",
    "print(np.mean(EdgeR2List))"
   ]
  },
  {
   "cell_type": "code",
   "execution_count": 160,
   "metadata": {},
   "outputs": [
    {
     "name": "stdout",
     "output_type": "stream",
     "text": [
      "(8748, 26)\n"
     ]
    },
    {
     "data": {
      "text/html": [
       "<div>\n",
       "<style scoped>\n",
       "    .dataframe tbody tr th:only-of-type {\n",
       "        vertical-align: middle;\n",
       "    }\n",
       "\n",
       "    .dataframe tbody tr th {\n",
       "        vertical-align: top;\n",
       "    }\n",
       "\n",
       "    .dataframe thead th {\n",
       "        text-align: right;\n",
       "    }\n",
       "</style>\n",
       "<table border=\"1\" class=\"dataframe\">\n",
       "  <thead>\n",
       "    <tr style=\"text-align: right;\">\n",
       "      <th></th>\n",
       "      <th>Date</th>\n",
       "      <th>Hour</th>\n",
       "      <th>1</th>\n",
       "      <th>2</th>\n",
       "      <th>3</th>\n",
       "      <th>4</th>\n",
       "      <th>5</th>\n",
       "      <th>6</th>\n",
       "      <th>7</th>\n",
       "      <th>8</th>\n",
       "      <th>...</th>\n",
       "      <th>15</th>\n",
       "      <th>16</th>\n",
       "      <th>17</th>\n",
       "      <th>18</th>\n",
       "      <th>19</th>\n",
       "      <th>20</th>\n",
       "      <th>21</th>\n",
       "      <th>22</th>\n",
       "      <th>23</th>\n",
       "      <th>24</th>\n",
       "    </tr>\n",
       "  </thead>\n",
       "  <tbody>\n",
       "    <tr>\n",
       "      <th>12</th>\n",
       "      <td>2018-01-01</td>\n",
       "      <td>12</td>\n",
       "      <td>0.428823</td>\n",
       "      <td>-0.279002</td>\n",
       "      <td>0.095680</td>\n",
       "      <td>0.092272</td>\n",
       "      <td>-1.149118</td>\n",
       "      <td>-0.393432</td>\n",
       "      <td>0.647156</td>\n",
       "      <td>0.189843</td>\n",
       "      <td>...</td>\n",
       "      <td>0.655442</td>\n",
       "      <td>1.201777</td>\n",
       "      <td>-0.265939</td>\n",
       "      <td>2.096713</td>\n",
       "      <td>-2.680590</td>\n",
       "      <td>0.074280</td>\n",
       "      <td>1.306719</td>\n",
       "      <td>-1.936028</td>\n",
       "      <td>1.101629</td>\n",
       "      <td>0.424078</td>\n",
       "    </tr>\n",
       "    <tr>\n",
       "      <th>13</th>\n",
       "      <td>2018-01-01</td>\n",
       "      <td>13</td>\n",
       "      <td>1.377351</td>\n",
       "      <td>-0.386969</td>\n",
       "      <td>-0.050576</td>\n",
       "      <td>0.325850</td>\n",
       "      <td>-0.650234</td>\n",
       "      <td>0.246586</td>\n",
       "      <td>0.357306</td>\n",
       "      <td>-1.081569</td>\n",
       "      <td>...</td>\n",
       "      <td>-0.333504</td>\n",
       "      <td>0.827116</td>\n",
       "      <td>-0.445108</td>\n",
       "      <td>-0.999067</td>\n",
       "      <td>0.582147</td>\n",
       "      <td>-0.557379</td>\n",
       "      <td>-0.142279</td>\n",
       "      <td>-0.269715</td>\n",
       "      <td>-0.851183</td>\n",
       "      <td>0.774503</td>\n",
       "    </tr>\n",
       "    <tr>\n",
       "      <th>14</th>\n",
       "      <td>2018-01-01</td>\n",
       "      <td>14</td>\n",
       "      <td>6.566749</td>\n",
       "      <td>0.206498</td>\n",
       "      <td>0.612108</td>\n",
       "      <td>2.013561</td>\n",
       "      <td>-0.157944</td>\n",
       "      <td>0.936609</td>\n",
       "      <td>-1.448901</td>\n",
       "      <td>0.587427</td>\n",
       "      <td>...</td>\n",
       "      <td>-1.723026</td>\n",
       "      <td>-1.389468</td>\n",
       "      <td>-0.377597</td>\n",
       "      <td>-1.022335</td>\n",
       "      <td>-0.624486</td>\n",
       "      <td>1.862095</td>\n",
       "      <td>-0.862569</td>\n",
       "      <td>1.339937</td>\n",
       "      <td>-1.664589</td>\n",
       "      <td>-3.666789</td>\n",
       "    </tr>\n",
       "    <tr>\n",
       "      <th>15</th>\n",
       "      <td>2018-01-01</td>\n",
       "      <td>15</td>\n",
       "      <td>0.604799</td>\n",
       "      <td>-0.518688</td>\n",
       "      <td>0.631916</td>\n",
       "      <td>0.973558</td>\n",
       "      <td>-1.694343</td>\n",
       "      <td>-0.427569</td>\n",
       "      <td>0.866404</td>\n",
       "      <td>-0.263501</td>\n",
       "      <td>...</td>\n",
       "      <td>1.000947</td>\n",
       "      <td>0.791932</td>\n",
       "      <td>2.446072</td>\n",
       "      <td>-0.504981</td>\n",
       "      <td>0.413774</td>\n",
       "      <td>0.520218</td>\n",
       "      <td>2.076542</td>\n",
       "      <td>0.372014</td>\n",
       "      <td>-0.395276</td>\n",
       "      <td>0.340551</td>\n",
       "    </tr>\n",
       "    <tr>\n",
       "      <th>16</th>\n",
       "      <td>2018-01-01</td>\n",
       "      <td>16</td>\n",
       "      <td>4.132373</td>\n",
       "      <td>8.114114</td>\n",
       "      <td>21.372266</td>\n",
       "      <td>2.007565</td>\n",
       "      <td>6.393181</td>\n",
       "      <td>-8.454324</td>\n",
       "      <td>-3.636599</td>\n",
       "      <td>-1.072241</td>\n",
       "      <td>...</td>\n",
       "      <td>-3.382328</td>\n",
       "      <td>0.424063</td>\n",
       "      <td>-0.462730</td>\n",
       "      <td>-3.011151</td>\n",
       "      <td>1.718864</td>\n",
       "      <td>-5.170183</td>\n",
       "      <td>2.243777</td>\n",
       "      <td>-4.905481</td>\n",
       "      <td>0.734970</td>\n",
       "      <td>0.706662</td>\n",
       "    </tr>\n",
       "  </tbody>\n",
       "</table>\n",
       "<p>5 rows × 26 columns</p>\n",
       "</div>"
      ],
      "text/plain": [
       "         Date  Hour         1         2          3         4         5  \\\n",
       "12 2018-01-01    12  0.428823 -0.279002   0.095680  0.092272 -1.149118   \n",
       "13 2018-01-01    13  1.377351 -0.386969  -0.050576  0.325850 -0.650234   \n",
       "14 2018-01-01    14  6.566749  0.206498   0.612108  2.013561 -0.157944   \n",
       "15 2018-01-01    15  0.604799 -0.518688   0.631916  0.973558 -1.694343   \n",
       "16 2018-01-01    16  4.132373  8.114114  21.372266  2.007565  6.393181   \n",
       "\n",
       "           6         7         8    ...           15        16        17  \\\n",
       "12 -0.393432  0.647156  0.189843    ...     0.655442  1.201777 -0.265939   \n",
       "13  0.246586  0.357306 -1.081569    ...    -0.333504  0.827116 -0.445108   \n",
       "14  0.936609 -1.448901  0.587427    ...    -1.723026 -1.389468 -0.377597   \n",
       "15 -0.427569  0.866404 -0.263501    ...     1.000947  0.791932  2.446072   \n",
       "16 -8.454324 -3.636599 -1.072241    ...    -3.382328  0.424063 -0.462730   \n",
       "\n",
       "          18        19        20        21        22        23        24  \n",
       "12  2.096713 -2.680590  0.074280  1.306719 -1.936028  1.101629  0.424078  \n",
       "13 -0.999067  0.582147 -0.557379 -0.142279 -0.269715 -0.851183  0.774503  \n",
       "14 -1.022335 -0.624486  1.862095 -0.862569  1.339937 -1.664589 -3.666789  \n",
       "15 -0.504981  0.413774  0.520218  2.076542  0.372014 -0.395276  0.340551  \n",
       "16 -3.011151  1.718864 -5.170183  2.243777 -4.905481  0.734970  0.706662  \n",
       "\n",
       "[5 rows x 26 columns]"
      ]
     },
     "execution_count": 160,
     "metadata": {},
     "output_type": "execute_result"
    }
   ],
   "source": [
    "res_df = pd.concat(residualDf_list, axis = 0)\n",
    "print(res_df.shape)\n",
    "res_df.head()"
   ]
  },
  {
   "cell_type": "code",
   "execution_count": 161,
   "metadata": {},
   "outputs": [],
   "source": [
    "res_df.to_csv('/Users/hemingyi/Documents/UrbanTemporalNetworks/Resid/%sPCA24RFCV.csv'%hub.upper())"
   ]
  }
 ],
 "metadata": {
  "kernelspec": {
   "display_name": "Python 3",
   "language": "python",
   "name": "python3"
  },
  "language_info": {
   "codemirror_mode": {
    "name": "ipython",
    "version": 3
   },
   "file_extension": ".py",
   "mimetype": "text/x-python",
   "name": "python",
   "nbconvert_exporter": "python",
   "pygments_lexer": "ipython3",
   "version": "3.7.1"
  }
 },
 "nbformat": 4,
 "nbformat_minor": 2
}
