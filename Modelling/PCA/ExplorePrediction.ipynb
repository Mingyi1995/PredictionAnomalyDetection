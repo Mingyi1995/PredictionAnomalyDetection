{
 "cells": [
  {
   "cell_type": "code",
   "execution_count": 3,
   "metadata": {},
   "outputs": [],
   "source": [
    "import pandas as pd\n",
    "import geopandas as gpd\n",
    "import numpy as np\n",
    "from sklearn.metrics import r2_score\n",
    "from sklearn.metrics import mean_absolute_error\n",
    "import warnings\n",
    "warnings.filterwarnings('ignore')"
   ]
  },
  {
   "cell_type": "code",
   "execution_count": 4,
   "metadata": {},
   "outputs": [],
   "source": [
    "def getTimeSeries(df):\n",
    "    table = pd.pivot_table(df, values='vehicle_count', index=['Date','Hour','Min'],\n",
    "                    columns=['DOLocationID'], aggfunc=np.sum, fill_value=0)\n",
    "    return table.reset_index()"
   ]
  },
  {
   "cell_type": "code",
   "execution_count": 19,
   "metadata": {},
   "outputs": [],
   "source": [
    "hub = 'JFK'\n",
    "pca_comps = 6\n",
    "granularity = '5Min'\n",
    "maxlag = int(12 * 60 / int(granularity.replace('Min','')))"
   ]
  },
  {
   "cell_type": "code",
   "execution_count": 20,
   "metadata": {},
   "outputs": [],
   "source": [
    "networkPrediction = pd.read_csv('/home/mingyi/Dropbox/UrbanTemporalNetworks/prediction/%sPCA%sComp%s.csv'%(hub,pca_comps,granularity))\n",
    "dataDir = '/home/mingyi/Dropbox/UrbanTemporalNetworks/processedData/'\n",
    "file = dataDir + hub + 'VehicleBy'+granularity+'.csv'\n",
    "data = pd.read_csv(file)\n",
    "data['Date'] = pd.to_datetime(data.Date)\n",
    "data = getTimeSeries(data)"
   ]
  },
  {
   "cell_type": "code",
   "execution_count": 24,
   "metadata": {},
   "outputs": [],
   "source": [
    "actual = data.iloc[maxlag:].drop(columns=['Date','Hour','Min'])\n",
    "actual = actual[sorted(actual.columns)]"
   ]
  },
  {
   "cell_type": "code",
   "execution_count": 27,
   "metadata": {},
   "outputs": [],
   "source": [
    "predict = networkPrediction[[str(i) for i in sorted(actual.columns)]]"
   ]
  },
  {
   "cell_type": "code",
   "execution_count": 36,
   "metadata": {},
   "outputs": [
    {
     "data": {
      "text/plain": [
       "23102782"
      ]
     },
     "execution_count": 36,
     "metadata": {},
     "output_type": "execute_result"
    }
   ],
   "source": [
    "(actual.values == 0 ).sum()"
   ]
  },
  {
   "cell_type": "code",
   "execution_count": 38,
   "metadata": {},
   "outputs": [
    {
     "data": {
      "text/plain": [
       "0.8543236328122833"
      ]
     },
     "execution_count": 38,
     "metadata": {},
     "output_type": "execute_result"
    }
   ],
   "source": [
    "23102782 / (3939408+23102782)"
   ]
  },
  {
   "cell_type": "code",
   "execution_count": 46,
   "metadata": {},
   "outputs": [
    {
     "data": {
      "text/plain": [
       "-0.4311795547356817"
      ]
     },
     "execution_count": 46,
     "metadata": {},
     "output_type": "execute_result"
    }
   ],
   "source": [
    "r2_score(actual.values, np.zeros(actual.values.shape), multioutput='variance_weighted')"
   ]
  },
  {
   "cell_type": "code",
   "execution_count": 47,
   "metadata": {},
   "outputs": [
    {
     "data": {
      "text/plain": [
       "0.1465100853507272"
      ]
     },
     "execution_count": 47,
     "metadata": {},
     "output_type": "execute_result"
    }
   ],
   "source": [
    "r2_score(actual.values, predict.values, multioutput='variance_weighted')"
   ]
  },
  {
   "cell_type": "code",
   "execution_count": 49,
   "metadata": {},
   "outputs": [
    {
     "data": {
      "text/plain": [
       "0.19710378486357796"
      ]
     },
     "execution_count": 49,
     "metadata": {},
     "output_type": "execute_result"
    }
   ],
   "source": [
    "mean_absolute_error(actual.values, np.zeros(actual.values.shape))"
   ]
  },
  {
   "cell_type": "code",
   "execution_count": 50,
   "metadata": {},
   "outputs": [
    {
     "data": {
      "text/plain": [
       "0.24059798149007858"
      ]
     },
     "execution_count": 50,
     "metadata": {},
     "output_type": "execute_result"
    }
   ],
   "source": [
    "mean_absolute_error(actual.values, predict.values)"
   ]
  },
  {
   "cell_type": "code",
   "execution_count": 53,
   "metadata": {},
   "outputs": [],
   "source": [
    "predictNonNeg = np.where(predict < 0, 0, predict)"
   ]
  },
  {
   "cell_type": "code",
   "execution_count": 55,
   "metadata": {},
   "outputs": [
    {
     "data": {
      "text/plain": [
       "0.1465117473829925"
      ]
     },
     "execution_count": 55,
     "metadata": {},
     "output_type": "execute_result"
    }
   ],
   "source": [
    "r2_score(actual.values, predictNonNeg, multioutput='variance_weighted')"
   ]
  },
  {
   "cell_type": "code",
   "execution_count": 56,
   "metadata": {},
   "outputs": [
    {
     "data": {
      "text/plain": [
       "0.2405789177318817"
      ]
     },
     "execution_count": 56,
     "metadata": {},
     "output_type": "execute_result"
    }
   ],
   "source": [
    "mean_absolute_error(actual.values, predictNonNeg)"
   ]
  },
  {
   "cell_type": "markdown",
   "metadata": {},
   "source": [
    "## min residual week"
   ]
  },
  {
   "cell_type": "code",
   "execution_count": 11,
   "metadata": {},
   "outputs": [],
   "source": [
    "def loadData(file):\n",
    "    data = pd.read_csv(file)\n",
    "    print('Raw shape: ',data.shape)\n",
    "    data['Date'] = pd.to_datetime(data.Date)\n",
    "    print('Days: ',len(set(data.Date)))\n",
    "    return data\n",
    "def getTimeSeries(df,zones):\n",
    "    df = df.loc[df['DOLocationID'].isin(zones)]\n",
    "    table = pd.pivot_table(df, values='vehicle_count', index=['Date','Hour'],\n",
    "                    columns=['DOLocationID'], aggfunc=np.sum, fill_value=0)\n",
    "#     table.columns = [i[1] for i in table.columns]\n",
    "    missing_columns = [i for i in zones if i not in table.columns]\n",
    "    for col in missing_columns:\n",
    "        table[col] = 0\n",
    "    table = table[sorted(table.columns)]\n",
    "    return table"
   ]
  },
  {
   "cell_type": "code",
   "execution_count": 6,
   "metadata": {},
   "outputs": [],
   "source": [
    "zone = gpd.read_file('../../Data/NYC Taxi Zones.geojson')\n",
    "zones = zone['location_id'].unique()\n",
    "zones = [int(i) for i in zones]"
   ]
  },
  {
   "cell_type": "code",
   "execution_count": 120,
   "metadata": {},
   "outputs": [
    {
     "name": "stdout",
     "output_type": "stream",
     "text": [
      "Raw shape:  (2295120, 4)\n",
      "Days:  365\n",
      "Raw shape:  (2295120, 4)\n",
      "Days:  365\n",
      "Raw shape:  (2286360, 4)\n",
      "Days:  365\n"
     ]
    }
   ],
   "source": [
    "for hub in ['JFK','LGA','PENN']:\n",
    "    dataDir = '/home/mingyi/Dropbox/UrbanTemporalNetworks/processedData/'\n",
    "    file = dataDir + hub + 'VehicleByHour2019fromHub.csv'\n",
    "    if hub == 'JFK':\n",
    "        real_value_sum = loadData(file)\n",
    "        real_value_sum = getTimeSeries(real_value_sum,zones)\n",
    "        prediction_sum = pd.read_csv('/home/mingyi/Dropbox/UrbanTemporalNetworks/prediction/learnFrom2017/from%sPCA62019.csv'%hub)\n",
    "        prediction_sum = prediction_sum.drop(columns=['Date','Hour'])\n",
    "    else:\n",
    "        real_value = loadData(file)\n",
    "        real_value = getTimeSeries(real_value,zones)\n",
    "        prediction = pd.read_csv('/home/mingyi/Dropbox/UrbanTemporalNetworks/prediction/learnFrom2017/from%sPCA62019.csv'%hub)\n",
    "        prediction = prediction.drop(columns=['Date','Hour'])\n",
    "    if hub != 'JFK':\n",
    "        real_value_sum += real_value\n",
    "        prediction_sum += prediction"
   ]
  },
  {
   "cell_type": "code",
   "execution_count": 121,
   "metadata": {},
   "outputs": [],
   "source": [
    "residual = abs(real_value_sum[12:].sum(axis=1).values - prediction_sum.sum(axis=1).values)"
   ]
  },
  {
   "cell_type": "code",
   "execution_count": 122,
   "metadata": {},
   "outputs": [],
   "source": [
    "daily_residual = pd.DataFrame(residual,index=real_value[12:].index).groupby(['Date']).sum()\n",
    "week_residual = daily_residual.rolling(window=7,center=True).sum().dropna()"
   ]
  },
  {
   "cell_type": "code",
   "execution_count": 128,
   "metadata": {},
   "outputs": [
    {
     "data": {
      "text/html": [
       "<div>\n",
       "<style scoped>\n",
       "    .dataframe tbody tr th:only-of-type {\n",
       "        vertical-align: middle;\n",
       "    }\n",
       "\n",
       "    .dataframe tbody tr th {\n",
       "        vertical-align: top;\n",
       "    }\n",
       "\n",
       "    .dataframe thead th {\n",
       "        text-align: right;\n",
       "    }\n",
       "</style>\n",
       "<table border=\"1\" class=\"dataframe\">\n",
       "  <thead>\n",
       "    <tr style=\"text-align: right;\">\n",
       "      <th></th>\n",
       "      <th>0</th>\n",
       "    </tr>\n",
       "    <tr>\n",
       "      <th>Date</th>\n",
       "      <th></th>\n",
       "    </tr>\n",
       "  </thead>\n",
       "  <tbody>\n",
       "    <tr>\n",
       "      <th>2019-07-27</th>\n",
       "      <td>20309.264322</td>\n",
       "    </tr>\n",
       "    <tr>\n",
       "      <th>2019-04-09</th>\n",
       "      <td>20389.071925</td>\n",
       "    </tr>\n",
       "    <tr>\n",
       "      <th>2019-04-08</th>\n",
       "      <td>21502.177368</td>\n",
       "    </tr>\n",
       "    <tr>\n",
       "      <th>2019-07-28</th>\n",
       "      <td>21612.909784</td>\n",
       "    </tr>\n",
       "    <tr>\n",
       "      <th>2019-12-20</th>\n",
       "      <td>21614.111065</td>\n",
       "    </tr>\n",
       "  </tbody>\n",
       "</table>\n",
       "</div>"
      ],
      "text/plain": [
       "                       0\n",
       "Date                    \n",
       "2019-07-27  20309.264322\n",
       "2019-04-09  20389.071925\n",
       "2019-04-08  21502.177368\n",
       "2019-07-28  21612.909784\n",
       "2019-12-20  21614.111065"
      ]
     },
     "execution_count": 128,
     "metadata": {},
     "output_type": "execute_result"
    }
   ],
   "source": [
    "week_residual.sort_values(by=0).head()"
   ]
  },
  {
   "cell_type": "code",
   "execution_count": 124,
   "metadata": {},
   "outputs": [
    {
     "data": {
      "text/plain": [
       "<AxesSubplot:xlabel='Date'>"
      ]
     },
     "execution_count": 124,
     "metadata": {},
     "output_type": "execute_result"
    },
    {
     "data": {
      "image/png": "[encoded data removed]",
      "text/plain": [
       "<Figure size 432x288 with 1 Axes>"
      ]
     },
     "metadata": {
      "needs_background": "light"
     },
     "output_type": "display_data"
    }
   ],
   "source": [
    "week_residual.plot()"
   ]
  },
  {
   "cell_type": "code",
   "execution_count": 125,
   "metadata": {},
   "outputs": [],
   "source": [
    "prediction = pd.read_csv('/home/mingyi/Dropbox/UrbanTemporalNetworks/prediction/learnFrom2017/from%sPCA62019.csv'%hub)\n",
    "selected_week = prediction.loc[(pd.to_datetime(prediction.Date) >= pd.to_datetime('2019-07-23')) \n",
    "                               & (pd.to_datetime(prediction.Date) <= pd.to_datetime('2019-07-30'))]"
   ]
  },
  {
   "cell_type": "code",
   "execution_count": 115,
   "metadata": {},
   "outputs": [],
   "source": [
    "selected_week.to_csv('2019selectedWeekPrediction.csv',index=False)"
   ]
  },
  {
   "cell_type": "code",
   "execution_count": 12,
   "metadata": {},
   "outputs": [
    {
     "name": "stdout",
     "output_type": "stream",
     "text": [
      "Raw shape:  (2295120, 4)\n",
      "Days:  365\n",
      "Raw shape:  (2295120, 4)\n",
      "Days:  365\n",
      "Raw shape:  (2286360, 4)\n",
      "Days:  365\n"
     ]
    }
   ],
   "source": [
    "for hub in ['JFK','LGA','PENN']:\n",
    "    dataDir = '/home/mingyi/Dropbox/UrbanTemporalNetworks/processedData/'\n",
    "    file = dataDir + hub + 'VehicleByHour2019fromHub.csv'\n",
    "    real_value = loadData(file)\n",
    "    real_value = getTimeSeries(real_value,zones)\n",
    "    real_value = real_value.reset_index()\n",
    "    selected_week = real_value.loc[(pd.to_datetime(real_value.Date) >= pd.to_datetime('2019-07-23')) \n",
    "                                   & (pd.to_datetime(real_value.Date) <= pd.to_datetime('2019-07-30'))]\n",
    "    selected_week.to_csv('from'+hub+'2019selectedWeek.csv',index=False)\n",
    "    prediction = pd.read_csv('/home/mingyi/Dropbox/UrbanTemporalNetworks/prediction/learnFrom2017/from%sPCA62019Round.csv'%hub)\n",
    "\n",
    "    selected_week_prediction = prediction.loc[(pd.to_datetime(prediction.Date) >= pd.to_datetime('2019-07-23')) \n",
    "                               & (pd.to_datetime(prediction.Date) <= pd.to_datetime('2019-07-30'))]\n",
    "    selected_week_prediction.to_csv('from'+hub+'2019selectedWeekPrediction.csv',index=False)"
   ]
  },
  {
   "cell_type": "code",
   "execution_count": 13,
   "metadata": {},
   "outputs": [],
   "source": [
    "def loadData(file):\n",
    "    data = pd.read_csv(file)\n",
    "    print('Raw shape: ',data.shape)\n",
    "    data['Date'] = pd.to_datetime(data.Date)\n",
    "    print('Days: ',len(set(data.Date)))\n",
    "    return data\n",
    "def getTimeSeries(df,zones):\n",
    "    df = df.loc[df['PULocationID'].isin(zones)]\n",
    "    table = pd.pivot_table(df, values='vehicle_count', index=['Date','Hour'],\n",
    "                    columns=['PULocationID'], aggfunc=np.sum, fill_value=0)\n",
    "#     table.columns = [i[1] for i in table.columns]\n",
    "    missing_columns = [i for i in zones if i not in table.columns]\n",
    "    for col in missing_columns:\n",
    "        table[col] = 0\n",
    "    table = table[sorted(table.columns)]\n",
    "    return table"
   ]
  },
  {
   "cell_type": "code",
   "execution_count": 17,
   "metadata": {},
   "outputs": [
    {
     "name": "stdout",
     "output_type": "stream",
     "text": [
      "Raw shape:  (2303880, 4)\n",
      "Days:  365\n",
      "Raw shape:  (2303880, 4)\n",
      "Days:  365\n",
      "Raw shape:  (2295120, 4)\n",
      "Days:  365\n"
     ]
    }
   ],
   "source": [
    "for hub in ['JFK','LGA','PENN']:\n",
    "    dataDir = '/home/mingyi/Dropbox/UrbanTemporalNetworks/processedData/'\n",
    "    file = dataDir + hub + 'VehicleByHour2019toHub.csv'\n",
    "    real_value = loadData(file)\n",
    "    real_value = getTimeSeries(real_value,zones)\n",
    "    real_value = real_value.reset_index()\n",
    "    selected_week = real_value.loc[(pd.to_datetime(real_value.Date) >= pd.to_datetime('2019-07-23')) \n",
    "                                   & (pd.to_datetime(real_value.Date) <= pd.to_datetime('2019-07-30'))]\n",
    "    selected_week.to_csv('to'+hub+'2019selectedWeek.csv',index=False)\n",
    "    prediction = pd.read_csv('/home/mingyi/Dropbox/UrbanTemporalNetworks/prediction/learnFrom2017/to%sPCA62019Round.csv'%hub)\n",
    "\n",
    "    selected_week_prediction = prediction.loc[(pd.to_datetime(prediction.Date) >= pd.to_datetime('2019-07-23')) \n",
    "                               & (pd.to_datetime(prediction.Date) <= pd.to_datetime('2019-07-30'))]\n",
    "    selected_week_prediction.to_csv('to'+hub+'2019selectedWeekPrediction.csv',index=False)"
   ]
  },
  {
   "cell_type": "code",
   "execution_count": null,
   "metadata": {},
   "outputs": [],
   "source": []
  }
 ],
 "metadata": {
  "kernelspec": {
   "display_name": "Python 3",
   "language": "python",
   "name": "python3"
  },
  "language_info": {
   "codemirror_mode": {
    "name": "ipython",
    "version": 3
   },
   "file_extension": ".py",
   "mimetype": "text/x-python",
   "name": "python",
   "nbconvert_exporter": "python",
   "pygments_lexer": "ipython3",
   "version": "3.7.6"
  }
 },
 "nbformat": 4,
 "nbformat_minor": 4
}
