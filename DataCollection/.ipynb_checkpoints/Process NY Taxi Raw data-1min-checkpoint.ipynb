{
 "cells": [
  {
   "cell_type": "markdown",
   "metadata": {},
   "source": [
    "### This notebook does the following:\n",
    "- processes raw ridership data\n",
    "- performs feature selection and cleaning\n",
    "- performs hourly aggregation\n",
    "- saves results in one file"
   ]
  },
  {
   "cell_type": "code",
   "execution_count": 1,
   "metadata": {},
   "outputs": [],
   "source": [
    "import dask.dataframe as dd\n",
    "import pandas as pd\n",
    "import glob\n",
    "import os\n",
    "from datetime import date, timedelta\n",
    "import itertools"
   ]
  },
  {
   "cell_type": "code",
   "execution_count": 2,
   "metadata": {},
   "outputs": [
    {
     "name": "stdout",
     "output_type": "stream",
     "text": [
      "/home/mingyi/Dropbox/UrbanTemporalNetworks/Data Collection Scripts\r\n"
     ]
    }
   ],
   "source": [
    "!pwd"
   ]
  },
  {
   "cell_type": "code",
   "execution_count": 3,
   "metadata": {},
   "outputs": [],
   "source": [
    "# raw data directory\n",
    "dataDir = '/home/mingyi/Dropbox/UrbanTemporalNetworks/rawData/'"
   ]
  },
  {
   "cell_type": "code",
   "execution_count": 4,
   "metadata": {},
   "outputs": [
    {
     "data": {
      "text/plain": [
       "36"
      ]
     },
     "execution_count": 4,
     "metadata": {},
     "output_type": "execute_result"
    }
   ],
   "source": [
    "files = glob.glob(dataDir+'*csv')\n",
    "len(files)"
   ]
  },
  {
   "cell_type": "markdown",
   "metadata": {},
   "source": [
    "### identify zones of interest"
   ]
  },
  {
   "cell_type": "code",
   "execution_count": 17,
   "metadata": {},
   "outputs": [
    {
     "data": {
      "text/html": [
       "<div>\n",
       "<style scoped>\n",
       "    .dataframe tbody tr th:only-of-type {\n",
       "        vertical-align: middle;\n",
       "    }\n",
       "\n",
       "    .dataframe tbody tr th {\n",
       "        vertical-align: top;\n",
       "    }\n",
       "\n",
       "    .dataframe thead th {\n",
       "        text-align: right;\n",
       "    }\n",
       "</style>\n",
       "<table border=\"1\" class=\"dataframe\">\n",
       "  <thead>\n",
       "    <tr style=\"text-align: right;\">\n",
       "      <th></th>\n",
       "      <th>OBJECTID</th>\n",
       "      <th>Shape_Leng</th>\n",
       "      <th>the_geom</th>\n",
       "      <th>Shape_Area</th>\n",
       "      <th>zone</th>\n",
       "      <th>LocationID</th>\n",
       "      <th>borough</th>\n",
       "    </tr>\n",
       "  </thead>\n",
       "  <tbody>\n",
       "    <tr>\n",
       "      <th>0</th>\n",
       "      <td>1</td>\n",
       "      <td>0.116357</td>\n",
       "      <td>MULTIPOLYGON (((-74.18445299999996 40.69499599...</td>\n",
       "      <td>0.000782</td>\n",
       "      <td>Newark Airport</td>\n",
       "      <td>1</td>\n",
       "      <td>EWR</td>\n",
       "    </tr>\n",
       "    <tr>\n",
       "      <th>1</th>\n",
       "      <td>2</td>\n",
       "      <td>0.433470</td>\n",
       "      <td>MULTIPOLYGON (((-73.82337597260663 40.63898704...</td>\n",
       "      <td>0.004866</td>\n",
       "      <td>Jamaica Bay</td>\n",
       "      <td>2</td>\n",
       "      <td>Queens</td>\n",
       "    </tr>\n",
       "  </tbody>\n",
       "</table>\n",
       "</div>"
      ],
      "text/plain": [
       "   OBJECTID  Shape_Leng                                           the_geom  \\\n",
       "0         1    0.116357  MULTIPOLYGON (((-74.18445299999996 40.69499599...   \n",
       "1         2    0.433470  MULTIPOLYGON (((-73.82337597260663 40.63898704...   \n",
       "\n",
       "   Shape_Area            zone  LocationID borough  \n",
       "0    0.000782  Newark Airport           1     EWR  \n",
       "1    0.004866     Jamaica Bay           2  Queens  "
      ]
     },
     "execution_count": 17,
     "metadata": {},
     "output_type": "execute_result"
    }
   ],
   "source": [
    "zones = pd.read_csv('../Data/taxi_zones.csv')\n",
    "zones.head(2)"
   ]
  },
  {
   "cell_type": "code",
   "execution_count": 18,
   "metadata": {},
   "outputs": [
    {
     "data": {
      "text/html": [
       "<div>\n",
       "<style scoped>\n",
       "    .dataframe tbody tr th:only-of-type {\n",
       "        vertical-align: middle;\n",
       "    }\n",
       "\n",
       "    .dataframe tbody tr th {\n",
       "        vertical-align: top;\n",
       "    }\n",
       "\n",
       "    .dataframe thead th {\n",
       "        text-align: right;\n",
       "    }\n",
       "</style>\n",
       "<table border=\"1\" class=\"dataframe\">\n",
       "  <thead>\n",
       "    <tr style=\"text-align: right;\">\n",
       "      <th></th>\n",
       "      <th>zone</th>\n",
       "      <th>LocationID</th>\n",
       "    </tr>\n",
       "  </thead>\n",
       "  <tbody>\n",
       "    <tr>\n",
       "      <th>0</th>\n",
       "      <td>Newark Airport</td>\n",
       "      <td>1</td>\n",
       "    </tr>\n",
       "    <tr>\n",
       "      <th>136</th>\n",
       "      <td>JFK Airport</td>\n",
       "      <td>132</td>\n",
       "    </tr>\n",
       "    <tr>\n",
       "      <th>145</th>\n",
       "      <td>LaGuardia Airport</td>\n",
       "      <td>138</td>\n",
       "    </tr>\n",
       "  </tbody>\n",
       "</table>\n",
       "</div>"
      ],
      "text/plain": [
       "                  zone  LocationID\n",
       "0       Newark Airport           1\n",
       "136        JFK Airport         132\n",
       "145  LaGuardia Airport         138"
      ]
     },
     "execution_count": 18,
     "metadata": {},
     "output_type": "execute_result"
    }
   ],
   "source": [
    "zones[zones.zone.apply(lambda x: 'Airport' in x)][['zone','LocationID']]"
   ]
  },
  {
   "cell_type": "code",
   "execution_count": 19,
   "metadata": {},
   "outputs": [
    {
     "data": {
      "text/html": [
       "<div>\n",
       "<style scoped>\n",
       "    .dataframe tbody tr th:only-of-type {\n",
       "        vertical-align: middle;\n",
       "    }\n",
       "\n",
       "    .dataframe tbody tr th {\n",
       "        vertical-align: top;\n",
       "    }\n",
       "\n",
       "    .dataframe thead th {\n",
       "        text-align: right;\n",
       "    }\n",
       "</style>\n",
       "<table border=\"1\" class=\"dataframe\">\n",
       "  <thead>\n",
       "    <tr style=\"text-align: right;\">\n",
       "      <th></th>\n",
       "      <th>zone</th>\n",
       "      <th>LocationID</th>\n",
       "    </tr>\n",
       "  </thead>\n",
       "  <tbody>\n",
       "    <tr>\n",
       "      <th>185</th>\n",
       "      <td>Penn Station/Madison Sq West</td>\n",
       "      <td>186</td>\n",
       "    </tr>\n",
       "  </tbody>\n",
       "</table>\n",
       "</div>"
      ],
      "text/plain": [
       "                             zone  LocationID\n",
       "185  Penn Station/Madison Sq West         186"
      ]
     },
     "execution_count": 19,
     "metadata": {},
     "output_type": "execute_result"
    }
   ],
   "source": [
    "zones[zones.zone.apply(lambda x: 'Station' in x)][['zone','LocationID']]"
   ]
  },
  {
   "cell_type": "code",
   "execution_count": 20,
   "metadata": {},
   "outputs": [
    {
     "data": {
      "text/plain": [
       "{'JFK': 132, 'LGA': 138, 'PENN': 186, 'EWR': 1}"
      ]
     },
     "execution_count": 20,
     "metadata": {},
     "output_type": "execute_result"
    }
   ],
   "source": [
    "zone_dict = {'JFK':  132,\n",
    "'LGA' : 138,\n",
    "'PENN' : 186,\n",
    "'EWR':1}\n",
    "zone_dict"
   ]
  },
  {
   "cell_type": "markdown",
   "metadata": {},
   "source": [
    "### Run following script for each hub"
   ]
  },
  {
   "cell_type": "code",
   "execution_count": 36,
   "metadata": {},
   "outputs": [
    {
     "data": {
      "text/plain": [
       "138"
      ]
     },
     "execution_count": 36,
     "metadata": {},
     "output_type": "execute_result"
    }
   ],
   "source": [
    "hub = 'LGA'\n",
    "zone = zone_dict[hub]\n",
    "zone"
   ]
  },
  {
   "cell_type": "code",
   "execution_count": 37,
   "metadata": {},
   "outputs": [],
   "source": [
    "processedFileDir = \"../processedData/\"\n",
    "processedFile = processedFileDir+hub+\"rawRenmaedFile.csv\""
   ]
  },
  {
   "cell_type": "code",
   "execution_count": 38,
   "metadata": {},
   "outputs": [
    {
     "data": {
      "text/plain": [
       "259"
      ]
     },
     "execution_count": 38,
     "metadata": {},
     "output_type": "execute_result"
    }
   ],
   "source": [
    "validDestZones = list(set([z for z in zones.LocationID if z != zone]))\n",
    "len(validDestZones)"
   ]
  },
  {
   "cell_type": "code",
   "execution_count": null,
   "metadata": {},
   "outputs": [
    {
     "name": "stdout",
     "output_type": "stream",
     "text": [
      "Processing yellow_tripdata_2018-10.csv\n",
      "JFK out DataFrame Shape: (242630, 4)\n",
      "create results file...\n",
      "file saved..\n",
      "------------------------------------------------\n",
      "Processing green_tripdata_2018-08.csv\n",
      "JFK out DataFrame Shape: (40, 4)\n",
      "append to results...\n",
      "file saved..\n",
      "------------------------------------------------\n",
      "Processing green_tripdata_2018-04.csv\n",
      "JFK out DataFrame Shape: (49, 4)\n",
      "append to results...\n",
      "file saved..\n",
      "------------------------------------------------\n",
      "Processing fhv_tripdata_2018-06.csv\n"
     ]
    }
   ],
   "source": [
    "for file in files:\n",
    "    print(\"Processing \"+str(file).split('/')[-1])\n",
    "    \n",
    "    vehicleType = str(file).split('/')[-1].split('_')[0]\n",
    "    \n",
    "    # rename columns for consistency\n",
    "    # set passenger count to 1 for fhv\n",
    "    if vehicleType == 'fhv':\n",
    "        df = pd.read_csv(file,engine='python',sep=',',encoding='utf8', \n",
    "                         usecols=['Pickup_DateTime','PUlocationID','DOlocationID'])\n",
    "        df.rename(columns={'Pickup_DateTime': 'tpep_pickup_datetime', \\\n",
    "                           'PUlocationID':'PULocationID', 'DOlocationID':'DOLocationID' },inplace=True)\n",
    "        df['passenger_count'] = 1\n",
    "        \n",
    "    if vehicleType == 'green':\n",
    "        df = pd.read_csv(file,engine='python',sep=',',encoding='utf8', \n",
    "                         usecols=['lpep_pickup_datetime','PULocationID','DOLocationID','passenger_count'])\n",
    "        df.rename(columns={'lpep_pickup_datetime': 'tpep_pickup_datetime'},inplace=True)\n",
    "\n",
    "    if vehicleType == 'yellow':\n",
    "        df = pd.read_csv(file,engine='python',sep=',',encoding='utf8', \n",
    "                         usecols=['tpep_pickup_datetime','PULocationID','DOLocationID','passenger_count'])\n",
    "    # treat for na values\n",
    "    df = df.dropna(subset=['tpep_pickup_datetime','PULocationID', 'DOLocationID'])\n",
    "    df.fillna(value={'passenger_count':1}, inplace = True)\n",
    "    \n",
    "    # correct data types\n",
    "    df['PULocationID'] = df['PULocationID'].astype('int')\n",
    "    df['DOLocationID'] = df['DOLocationID'].astype('int')\n",
    "    \n",
    "    # filter to get outgoing traffic from selected hub\n",
    "    df = df[(df['PULocationID'] == zone) & (df['DOLocationID'].apply(lambda x: x in validDestZones))]\n",
    "    print(\"JFK out DataFrame Shape: \"+str(df.shape))\n",
    "    \n",
    "    # treat datetime\n",
    "    df['tpep_pickup_datetime'] = pd.to_datetime(df['tpep_pickup_datetime'])\n",
    "#     df['Date'] = df['tpep_pickup_datetime'].apply(lambda x:x.split(' ')[0])\n",
    "#     df['Hour'] = df['tpep_pickup_datetime'].apply(lambda x:x.split(' ')[1].split(':')[0])\n",
    "#     df['Min'] = df['tpep_pickup_datetime'].apply(lambda x:x.split(' ')[1].split(':')[1])\n",
    "    #df['vehicle_type'] = vehicleType\n",
    "    \n",
    "    # select rquired columns\n",
    "    #df = df[['vehicle_type', 'Date', 'Hour', 'DOLocationID','passenger_count']]\n",
    "    df = df[['tpep_pickup_datetime','DOLocationID','passenger_count']]\n",
    "\n",
    "    # save file\n",
    "    if os.path.exists(processedFile):\n",
    "        print('append to results...')\n",
    "        df.to_csv(processedFile,index=False, header=False, mode='a+')      \n",
    "    else:\n",
    "        print('create results file...')\n",
    "        df.to_csv(processedFile,index=False)\n",
    "    print('file saved..')\n",
    "    print(\"------------------------------------------------\")"
   ]
  },
  {
   "cell_type": "code",
   "execution_count": 35,
   "metadata": {},
   "outputs": [
    {
     "data": {
      "text/html": [
       "<div>\n",
       "<style scoped>\n",
       "    .dataframe tbody tr th:only-of-type {\n",
       "        vertical-align: middle;\n",
       "    }\n",
       "\n",
       "    .dataframe tbody tr th {\n",
       "        vertical-align: top;\n",
       "    }\n",
       "\n",
       "    .dataframe thead th {\n",
       "        text-align: right;\n",
       "    }\n",
       "</style>\n",
       "<table border=\"1\" class=\"dataframe\">\n",
       "  <thead>\n",
       "    <tr style=\"text-align: right;\">\n",
       "      <th></th>\n",
       "      <th>tpep_pickup_datetime</th>\n",
       "      <th>passenger_count</th>\n",
       "    </tr>\n",
       "  </thead>\n",
       "  <tbody>\n",
       "    <tr>\n",
       "      <th>30</th>\n",
       "      <td>2018-02-28 23:59:53</td>\n",
       "      <td>1</td>\n",
       "    </tr>\n",
       "    <tr>\n",
       "      <th>31</th>\n",
       "      <td>2018-03-01 00:33:37</td>\n",
       "      <td>1</td>\n",
       "    </tr>\n",
       "    <tr>\n",
       "      <th>64</th>\n",
       "      <td>2018-03-01 00:11:40</td>\n",
       "      <td>2</td>\n",
       "    </tr>\n",
       "    <tr>\n",
       "      <th>69</th>\n",
       "      <td>2018-03-01 00:36:50</td>\n",
       "      <td>1</td>\n",
       "    </tr>\n",
       "    <tr>\n",
       "      <th>81</th>\n",
       "      <td>2018-03-01 00:26:32</td>\n",
       "      <td>1</td>\n",
       "    </tr>\n",
       "    <tr>\n",
       "      <th>...</th>\n",
       "      <td>...</td>\n",
       "      <td>...</td>\n",
       "    </tr>\n",
       "    <tr>\n",
       "      <th>9430219</th>\n",
       "      <td>2018-03-31 23:12:25</td>\n",
       "      <td>1</td>\n",
       "    </tr>\n",
       "    <tr>\n",
       "      <th>9430223</th>\n",
       "      <td>2018-03-31 23:40:26</td>\n",
       "      <td>1</td>\n",
       "    </tr>\n",
       "    <tr>\n",
       "      <th>9430303</th>\n",
       "      <td>2018-03-31 23:37:01</td>\n",
       "      <td>0</td>\n",
       "    </tr>\n",
       "    <tr>\n",
       "      <th>9430351</th>\n",
       "      <td>2018-03-31 23:09:07</td>\n",
       "      <td>4</td>\n",
       "    </tr>\n",
       "    <tr>\n",
       "      <th>9430357</th>\n",
       "      <td>2018-03-31 23:16:24</td>\n",
       "      <td>1</td>\n",
       "    </tr>\n",
       "  </tbody>\n",
       "</table>\n",
       "<p>199739 rows × 2 columns</p>\n",
       "</div>"
      ],
      "text/plain": [
       "        tpep_pickup_datetime  passenger_count\n",
       "30       2018-02-28 23:59:53                1\n",
       "31       2018-03-01 00:33:37                1\n",
       "64       2018-03-01 00:11:40                2\n",
       "69       2018-03-01 00:36:50                1\n",
       "81       2018-03-01 00:26:32                1\n",
       "...                      ...              ...\n",
       "9430219  2018-03-31 23:12:25                1\n",
       "9430223  2018-03-31 23:40:26                1\n",
       "9430303  2018-03-31 23:37:01                0\n",
       "9430351  2018-03-31 23:09:07                4\n",
       "9430357  2018-03-31 23:16:24                1\n",
       "\n",
       "[199739 rows x 2 columns]"
      ]
     },
     "execution_count": 35,
     "metadata": {},
     "output_type": "execute_result"
    }
   ],
   "source": [
    "df"
   ]
  },
  {
   "cell_type": "code",
   "execution_count": 28,
   "metadata": {},
   "outputs": [
    {
     "data": {
      "text/plain": [
       "Index(['VendorID', 'tpep_pickup_datetime', 'tpep_dropoff_datetime',\n",
       "       'passenger_count', 'trip_distance', 'RatecodeID', 'store_and_fwd_flag',\n",
       "       'PULocationID', 'DOLocationID', 'payment_type', 'fare_amount', 'extra',\n",
       "       'mta_tax', 'tip_amount', 'tolls_amount', 'improvement_surcharge',\n",
       "       'total_amount'],\n",
       "      dtype='object')"
      ]
     },
     "execution_count": 28,
     "metadata": {},
     "output_type": "execute_result"
    }
   ],
   "source": [
    "pd.read_csv(files[0]).columns"
   ]
  },
  {
   "cell_type": "code",
   "execution_count": 32,
   "metadata": {},
   "outputs": [
    {
     "data": {
      "text/plain": [
       "17"
      ]
     },
     "execution_count": 32,
     "metadata": {},
     "output_type": "execute_result"
    }
   ],
   "source": [
    "len(['VendorID', 'tpep_pickup_datetime', 'tpep_dropoff_datetime',\n",
    "       'passenger_count', 'trip_distance', 'RatecodeID', 'store_and_fwd_flag',\n",
    "       'PULocationID', 'DOLocationID', 'payment_type', 'fare_amount', 'extra',\n",
    "       'mta_tax', 'tip_amount', 'tolls_amount', 'improvement_surcharge',\n",
    "       'total_amount'])"
   ]
  },
  {
   "cell_type": "code",
   "execution_count": 29,
   "metadata": {},
   "outputs": [
    {
     "data": {
      "text/plain": [
       "Index(['VendorID', 'lpep_pickup_datetime', 'lpep_dropoff_datetime',\n",
       "       'store_and_fwd_flag', 'RatecodeID', 'PULocationID', 'DOLocationID',\n",
       "       'passenger_count', 'trip_distance', 'fare_amount', 'extra', 'mta_tax',\n",
       "       'tip_amount', 'tolls_amount', 'ehail_fee', 'improvement_surcharge',\n",
       "       'total_amount', 'payment_type', 'trip_type'],\n",
       "      dtype='object')"
      ]
     },
     "execution_count": 29,
     "metadata": {},
     "output_type": "execute_result"
    }
   ],
   "source": [
    "pd.read_csv(files[1]).columns"
   ]
  },
  {
   "cell_type": "code",
   "execution_count": 33,
   "metadata": {},
   "outputs": [
    {
     "data": {
      "text/plain": [
       "19"
      ]
     },
     "execution_count": 33,
     "metadata": {},
     "output_type": "execute_result"
    }
   ],
   "source": [
    "len(['VendorID', 'lpep_pickup_datetime', 'lpep_dropoff_datetime',\n",
    "       'store_and_fwd_flag', 'RatecodeID', 'PULocationID', 'DOLocationID',\n",
    "       'passenger_count', 'trip_distance', 'fare_amount', 'extra', 'mta_tax',\n",
    "       'tip_amount', 'tolls_amount', 'ehail_fee', 'improvement_surcharge',\n",
    "       'total_amount', 'payment_type', 'trip_type'])"
   ]
  },
  {
   "cell_type": "code",
   "execution_count": 30,
   "metadata": {},
   "outputs": [
    {
     "data": {
      "text/plain": [
       "Index(['Pickup_DateTime', 'DropOff_datetime', 'PUlocationID', 'DOlocationID',\n",
       "       'SR_Flag', 'Dispatching_base_number', 'Dispatching_base_num'],\n",
       "      dtype='object')"
      ]
     },
     "execution_count": 30,
     "metadata": {},
     "output_type": "execute_result"
    }
   ],
   "source": [
    "pd.read_csv(files[3]).columns"
   ]
  },
  {
   "cell_type": "code",
   "execution_count": 34,
   "metadata": {},
   "outputs": [
    {
     "data": {
      "text/plain": [
       "7"
      ]
     },
     "execution_count": 34,
     "metadata": {},
     "output_type": "execute_result"
    }
   ],
   "source": [
    "len(['Pickup_DateTime', 'DropOff_datetime', 'PUlocationID', 'DOlocationID',\n",
    "       'SR_Flag', 'Dispatching_base_number', 'Dispatching_base_num'])"
   ]
  },
  {
   "cell_type": "code",
   "execution_count": 102,
   "metadata": {
    "scrolled": true
   },
   "outputs": [
    {
     "name": "stdout",
     "output_type": "stream",
     "text": [
      "Processing yellow_tripdata_2018-10.csv\n",
      "DataFrame Shape: (8821105, 17)\n",
      "JFK out DataFrame Shape: (288046, 17)\n",
      "Aggregated DataFrame Shape: (72394, 5)\n",
      "         Date  Hour    Min  DOLocationID  vehicle_count\n",
      "0  2008-12-31    12  False            48              1\n",
      "1  2009-01-01     0  False            68              1\n",
      "2  2009-01-01     1  False           261              1\n",
      "create results file...\n",
      "file saved..\n",
      "------------------------------------------------\n",
      "Processing green_tripdata_2018-08.csv\n",
      "DataFrame Shape: (666376, 19)\n",
      "JFK out DataFrame Shape: (29, 19)\n",
      "Aggregated DataFrame Shape: (29, 5)\n",
      "         Date  Hour    Min  DOLocationID  vehicle_count\n",
      "0  2018-08-01     0  False           233              1\n",
      "1  2018-08-01     0   True            50              1\n",
      "2  2018-08-02     8  False           137              1\n",
      "append to results...\n",
      "file saved..\n",
      "------------------------------------------------\n",
      "Processing green_tripdata_2018-04.csv\n",
      "DataFrame Shape: (800084, 19)\n",
      "JFK out DataFrame Shape: (27, 19)\n",
      "Aggregated DataFrame Shape: (27, 5)\n",
      "         Date  Hour    Min  DOLocationID  vehicle_count\n",
      "0  2018-04-01    11  False           230              1\n",
      "1  2018-04-02    17  False            68              1\n",
      "2  2018-04-02    21  False           230              1\n",
      "append to results...\n",
      "file saved..\n",
      "------------------------------------------------\n",
      "Processing fhv_tripdata_2018-06.csv\n",
      "DataFrame Shape: (21135283, 7)\n",
      "JFK out DataFrame Shape: (108689, 8)\n",
      "Aggregated DataFrame Shape: (58424, 5)\n",
      "         Date  Hour    Min  DOLocationID  vehicle_count\n",
      "0  2018-06-01     0  False             4              1\n",
      "1  2018-06-01     0  False             7              4\n",
      "2  2018-06-01     0  False            13              1\n",
      "append to results...\n",
      "file saved..\n",
      "------------------------------------------------\n",
      "Processing fhv_tripdata_2018-10.csv\n",
      "DataFrame Shape: (23286795, 7)\n",
      "JFK out DataFrame Shape: (131034, 8)\n",
      "Aggregated DataFrame Shape: (66889, 5)\n",
      "         Date  Hour    Min  DOLocationID  vehicle_count\n",
      "0  2018-10-01     0  False             1              1\n",
      "1  2018-10-01     0  False             4              2\n",
      "2  2018-10-01     0  False             7              3\n",
      "append to results...\n",
      "file saved..\n",
      "------------------------------------------------\n",
      "Processing green_tripdata_2018-05.csv\n",
      "DataFrame Shape: (797233, 19)\n",
      "JFK out DataFrame Shape: (29, 19)\n",
      "Aggregated DataFrame Shape: (29, 5)\n",
      "         Date  Hour    Min  DOLocationID  vehicle_count\n",
      "0  2018-05-02    18  False           163              1\n",
      "1  2018-05-03    18   True            68              1\n",
      "2  2018-05-03    19  False           233              1\n",
      "append to results...\n",
      "file saved..\n",
      "------------------------------------------------\n",
      "Processing fhv_tripdata_2018-02.csv\n",
      "DataFrame Shape: (19350693, 7)\n",
      "JFK out DataFrame Shape: (97203, 8)\n",
      "Aggregated DataFrame Shape: (51934, 5)\n",
      "         Date  Hour    Min  DOLocationID  vehicle_count\n",
      "0  2018-02-01     0  False             4              1\n",
      "1  2018-02-01     0  False             7              1\n",
      "2  2018-02-01     0  False            19              1\n",
      "append to results...\n",
      "file saved..\n",
      "------------------------------------------------\n",
      "Processing yellow_tripdata_2018-11.csv\n",
      "DataFrame Shape: (8145164, 17)\n",
      "JFK out DataFrame Shape: (273052, 17)\n",
      "Aggregated DataFrame Shape: (68914, 5)\n",
      "         Date  Hour    Min  DOLocationID  vehicle_count\n",
      "0  2008-12-31    23  False           230              1\n",
      "1  2018-10-31    23   True           162              2\n",
      "2  2018-10-31    23   True           230              1\n",
      "append to results...\n",
      "file saved..\n",
      "------------------------------------------------\n",
      "Processing fhv_tripdata_2018-03.csv\n",
      "DataFrame Shape: (21985249, 7)\n",
      "JFK out DataFrame Shape: (109253, 8)\n",
      "Aggregated DataFrame Shape: (59119, 5)\n",
      "         Date  Hour    Min  DOLocationID  vehicle_count\n",
      "0  2018-03-01     0  False             8              1\n",
      "1  2018-03-01     0  False            18              1\n",
      "2  2018-03-01     0  False            24              1\n",
      "append to results...\n",
      "file saved..\n",
      "------------------------------------------------\n",
      "Processing fhv_tripdata_2018-11.csv\n",
      "DataFrame Shape: (22870474, 7)\n",
      "JFK out DataFrame Shape: (133497, 8)\n",
      "Aggregated DataFrame Shape: (65205, 5)\n",
      "         Date  Hour    Min  DOLocationID  vehicle_count\n",
      "0  2018-11-01     0  False             7              1\n",
      "1  2018-11-01     0  False            15              1\n",
      "2  2018-11-01     0  False            24              1\n",
      "append to results...\n",
      "file saved..\n",
      "------------------------------------------------\n",
      "Processing green_tripdata_2018-01.csv\n",
      "DataFrame Shape: (793529, 19)\n",
      "JFK out DataFrame Shape: (33, 19)\n",
      "Aggregated DataFrame Shape: (33, 5)\n",
      "         Date  Hour    Min  DOLocationID  vehicle_count\n",
      "0  2018-01-01    22   True           107              1\n",
      "1  2018-01-02     8   True           170              1\n",
      "2  2018-01-02    14  False             1              1\n",
      "append to results...\n",
      "file saved..\n",
      "------------------------------------------------\n",
      "Processing fhv_tripdata_2018-12.csv\n",
      "DataFrame Shape: (23854144, 7)\n",
      "JFK out DataFrame Shape: (136727, 8)\n",
      "Aggregated DataFrame Shape: (66887, 5)\n",
      "         Date  Hour    Min  DOLocationID  vehicle_count\n",
      "0  2018-12-01     0  False             4              2\n",
      "1  2018-12-01     0  False             6              1\n",
      "2  2018-12-01     0  False             7              1\n",
      "append to results...\n",
      "file saved..\n",
      "------------------------------------------------\n",
      "Processing fhv_tripdata_2018-07.csv\n",
      "DataFrame Shape: (21596443, 7)\n",
      "JFK out DataFrame Shape: (117540, 8)\n",
      "Aggregated DataFrame Shape: (62600, 5)\n",
      "         Date  Hour    Min  DOLocationID  vehicle_count\n",
      "0  2018-07-01     0  False             4              3\n",
      "1  2018-07-01     0  False            17              1\n",
      "2  2018-07-01     0  False            37              1\n",
      "append to results...\n",
      "file saved..\n",
      "------------------------------------------------\n",
      "Processing green_tripdata_2018-02.csv\n",
      "DataFrame Shape: (769940, 19)\n",
      "JFK out DataFrame Shape: (43, 19)\n",
      "Aggregated DataFrame Shape: (43, 5)\n",
      "         Date  Hour    Min  DOLocationID  vehicle_count\n",
      "0  2018-02-01    11  False           237              1\n",
      "1  2018-02-05    18  False           263              1\n",
      "2  2018-02-06    15   True           161              1\n",
      "append to results...\n",
      "file saved..\n",
      "------------------------------------------------\n",
      "Processing green_tripdata_2018-11.csv\n",
      "DataFrame Shape: (656573, 19)\n",
      "JFK out DataFrame Shape: (42, 19)\n",
      "Aggregated DataFrame Shape: (42, 5)\n",
      "         Date  Hour    Min  DOLocationID  vehicle_count\n",
      "0  2018-11-01    12  False             1              1\n",
      "1  2018-11-03     2  False           228              1\n",
      "2  2018-11-03    15   True           233              1\n",
      "append to results...\n",
      "file saved..\n",
      "------------------------------------------------\n",
      "Processing fhv_tripdata_2018-08.csv\n",
      "DataFrame Shape: (22116391, 7)\n",
      "JFK out DataFrame Shape: (122868, 8)\n",
      "Aggregated DataFrame Shape: (65625, 5)\n",
      "         Date  Hour    Min  DOLocationID  vehicle_count\n",
      "0  2018-08-01     0  False             4              1\n",
      "1  2018-08-01     0  False             7              1\n",
      "2  2018-08-01     0  False            17              1\n",
      "append to results...\n",
      "file saved..\n",
      "------------------------------------------------\n",
      "Processing green_tripdata_2018-09.csv\n",
      "DataFrame Shape: (666708, 19)\n",
      "JFK out DataFrame Shape: (38, 19)\n",
      "Aggregated DataFrame Shape: (37, 5)\n",
      "         Date  Hour   Min  DOLocationID  vehicle_count\n",
      "0  2018-09-01    17  True           249              1\n",
      "1  2018-09-02    13  True            75              1\n",
      "2  2018-09-03    17  True           113              1\n",
      "append to results...\n",
      "file saved..\n",
      "------------------------------------------------\n",
      "Processing green_tripdata_2018-06.csv\n",
      "DataFrame Shape: (739373, 19)\n",
      "JFK out DataFrame Shape: (39, 19)\n",
      "Aggregated DataFrame Shape: (39, 5)\n",
      "         Date  Hour    Min  DOLocationID  vehicle_count\n",
      "0  2018-06-02    21   True           164              1\n",
      "1  2018-06-04     8  False           113              1\n",
      "2  2018-06-04     9   True           138              1\n",
      "append to results...\n",
      "file saved..\n",
      "------------------------------------------------\n",
      "Processing yellow_tripdata_2018-07.csv\n",
      "DataFrame Shape: (7849748, 17)\n",
      "JFK out DataFrame Shape: (283346, 17)\n",
      "Aggregated DataFrame Shape: (71820, 5)\n",
      "         Date  Hour   Min  DOLocationID  vehicle_count\n",
      "0  2018-06-30    18  True           125              1\n",
      "1  2018-06-30    23  True            22              1\n",
      "2  2018-06-30    23  True            24              1\n",
      "append to results...\n",
      "file saved..\n",
      "------------------------------------------------\n",
      "Processing yellow_tripdata_2018-01.csv\n"
     ]
    },
    {
     "name": "stdout",
     "output_type": "stream",
     "text": [
      "DataFrame Shape: (8759874, 17)\n",
      "JFK out DataFrame Shape: (287909, 17)\n",
      "Aggregated DataFrame Shape: (69014, 5)\n",
      "         Date  Hour    Min  DOLocationID  vehicle_count\n",
      "0  2017-12-31    16   True            33              1\n",
      "1  2017-12-31    18  False           226              1\n",
      "2  2017-12-31    23   True            68              1\n",
      "append to results...\n",
      "file saved..\n",
      "------------------------------------------------\n",
      "Processing yellow_tripdata_2018-05.csv\n",
      "DataFrame Shape: (9224063, 17)\n",
      "JFK out DataFrame Shape: (294515, 17)\n",
      "Aggregated DataFrame Shape: (72852, 5)\n",
      "         Date  Hour   Min  DOLocationID  vehicle_count\n",
      "0  2018-04-30    23  True            42              1\n",
      "1  2018-04-30    23  True            68              1\n",
      "2  2018-04-30    23  True            79              1\n",
      "append to results...\n",
      "file saved..\n",
      "------------------------------------------------\n",
      "Processing yellow_tripdata_2018-12.csv\n",
      "DataFrame Shape: (8173231, 17)\n",
      "JFK out DataFrame Shape: (270434, 17)\n",
      "Aggregated DataFrame Shape: (70534, 5)\n",
      "         Date  Hour    Min  DOLocationID  vehicle_count\n",
      "0  2009-01-01     0  False           256              1\n",
      "1  2009-01-01     2  False           236              1\n",
      "2  2018-11-09    19   True            13              1\n",
      "append to results...\n",
      "file saved..\n",
      "------------------------------------------------\n",
      "Processing yellow_tripdata_2018-08.csv\n",
      "DataFrame Shape: (7849134, 17)\n",
      "JFK out DataFrame Shape: (286551, 17)\n",
      "Aggregated DataFrame Shape: (72370, 5)\n",
      "         Date  Hour    Min  DOLocationID  vehicle_count\n",
      "0  2018-07-31    23   True           116              1\n",
      "1  2018-07-31    23   True           140              1\n",
      "2  2018-08-01     0  False             4              1\n",
      "append to results...\n",
      "file saved..\n",
      "------------------------------------------------\n",
      "Processing yellow_tripdata_2018-02.csv\n",
      "DataFrame Shape: (8492076, 17)\n",
      "JFK out DataFrame Shape: (279480, 17)\n",
      "Aggregated DataFrame Shape: (64480, 5)\n",
      "         Date  Hour    Min  DOLocationID  vehicle_count\n",
      "0  2008-12-31    22  False           138              1\n",
      "1  2018-01-17    18  False           170              1\n",
      "2  2018-01-19     1   True           230              1\n",
      "append to results...\n",
      "file saved..\n",
      "------------------------------------------------\n",
      "Processing fhv_tripdata_2018-01.csv\n",
      "DataFrame Shape: (19808094, 7)\n",
      "JFK out DataFrame Shape: (99731, 8)\n",
      "Aggregated DataFrame Shape: (54362, 5)\n",
      "         Date  Hour    Min  DOLocationID  vehicle_count\n",
      "0  2018-01-01     0  False            14              1\n",
      "1  2018-01-01     0  False            25              1\n",
      "2  2018-01-01     0  False            37              3\n",
      "append to results...\n",
      "file saved..\n",
      "------------------------------------------------\n",
      "Processing green_tripdata_2018-10.csv\n",
      "DataFrame Shape: (710510, 19)\n",
      "JFK out DataFrame Shape: (37, 19)\n",
      "Aggregated DataFrame Shape: (37, 5)\n",
      "         Date  Hour   Min  DOLocationID  vehicle_count\n",
      "0  2018-10-01    11  True           162              1\n",
      "1  2018-10-02     8  True           142              1\n",
      "2  2018-10-02     9  True           161              1\n",
      "append to results...\n",
      "file saved..\n",
      "------------------------------------------------\n",
      "Processing fhv_tripdata_2018-05.csv\n",
      "DataFrame Shape: (21565692, 7)\n",
      "JFK out DataFrame Shape: (112677, 8)\n",
      "Aggregated DataFrame Shape: (60428, 5)\n",
      "         Date  Hour    Min  DOLocationID  vehicle_count\n",
      "0  2018-05-01     0  False            21              2\n",
      "1  2018-05-01     0  False            22              1\n",
      "2  2018-05-01     0  False            36              1\n",
      "append to results...\n",
      "file saved..\n",
      "------------------------------------------------\n",
      "Processing fhv_tripdata_2018-04.csv\n",
      "DataFrame Shape: (21049377, 7)\n",
      "JFK out DataFrame Shape: (106791, 8)\n",
      "Aggregated DataFrame Shape: (58262, 5)\n",
      "         Date  Hour    Min  DOLocationID  vehicle_count\n",
      "0  2018-04-01     0  False             4              1\n",
      "1  2018-04-01     0  False             7              3\n",
      "2  2018-04-01     0  False            17              1\n",
      "append to results...\n",
      "file saved..\n",
      "------------------------------------------------\n",
      "Processing green_tripdata_2018-03.csv\n",
      "DataFrame Shape: (837149, 19)\n",
      "JFK out DataFrame Shape: (39, 19)\n",
      "Aggregated DataFrame Shape: (39, 5)\n",
      "         Date  Hour   Min  DOLocationID  vehicle_count\n",
      "0  2018-03-01    23  True           233              1\n",
      "1  2018-03-02    12  True           246              1\n",
      "2  2018-03-04    10  True           113              1\n",
      "append to results...\n",
      "file saved..\n",
      "------------------------------------------------\n",
      "Processing green_tripdata_2018-12.csv\n",
      "DataFrame Shape: (685373, 19)\n",
      "JFK out DataFrame Shape: (37, 19)\n",
      "Aggregated DataFrame Shape: (37, 5)\n",
      "         Date  Hour    Min  DOLocationID  vehicle_count\n",
      "0  2018-12-01    15  False           161              1\n",
      "1  2018-12-02    12   True           164              1\n",
      "2  2018-12-02    17  False           246              1\n",
      "append to results...\n",
      "file saved..\n",
      "------------------------------------------------\n",
      "Processing yellow_tripdata_2018-09.csv\n",
      "DataFrame Shape: (8040133, 17)\n",
      "JFK out DataFrame Shape: (270568, 17)\n",
      "Aggregated DataFrame Shape: (69866, 5)\n",
      "         Date  Hour    Min  DOLocationID  vehicle_count\n",
      "0  2009-01-01     0  False           229              1\n",
      "1  2018-08-31    21  False            48              1\n",
      "2  2018-08-31    21  False            65              1\n",
      "append to results...\n",
      "file saved..\n",
      "------------------------------------------------\n",
      "Processing yellow_tripdata_2018-06.csv\n",
      "DataFrame Shape: (8713831, 17)\n",
      "JFK out DataFrame Shape: (285873, 17)\n",
      "Aggregated DataFrame Shape: (71257, 5)\n",
      "         Date  Hour    Min  DOLocationID  vehicle_count\n",
      "0  2018-05-31    21   True           244              1\n",
      "1  2018-05-31    23  False           114              1\n",
      "2  2018-05-31    23   True            48              3\n",
      "append to results...\n",
      "file saved..\n",
      "------------------------------------------------\n",
      "Processing yellow_tripdata_2018-04.csv\n",
      "DataFrame Shape: (9305515, 17)\n",
      "JFK out DataFrame Shape: (303230, 17)\n",
      "Aggregated DataFrame Shape: (71306, 5)\n",
      "         Date  Hour    Min  DOLocationID  vehicle_count\n",
      "0  2008-12-31    12   True           163              1\n",
      "1  2009-01-01     0  False           263              1\n",
      "2  2018-03-31    17   True           164              1\n",
      "append to results...\n",
      "file saved..\n",
      "------------------------------------------------\n",
      "Processing fhv_tripdata_2018-09.csv\n",
      "DataFrame Shape: (22147421, 7)\n",
      "JFK out DataFrame Shape: (126060, 8)\n",
      "Aggregated DataFrame Shape: (64406, 5)\n",
      "         Date  Hour    Min  DOLocationID  vehicle_count\n",
      "0  2018-09-01     0  False             7              1\n",
      "1  2018-09-01     0  False            17              1\n",
      "2  2018-09-01     0  False            37              2\n",
      "append to results...\n",
      "file saved..\n",
      "------------------------------------------------\n",
      "Processing green_tripdata_2018-07.csv\n",
      "DataFrame Shape: (684455, 19)\n",
      "JFK out DataFrame Shape: (45, 19)\n",
      "Aggregated DataFrame Shape: (44, 5)\n",
      "         Date  Hour    Min  DOLocationID  vehicle_count\n",
      "0  2018-07-03     6  False           263              1\n",
      "1  2018-07-03    21   True           234              1\n",
      "2  2018-07-04    23  False           107              1\n",
      "append to results...\n",
      "file saved..\n",
      "------------------------------------------------\n",
      "Processing yellow_tripdata_2018-03.csv\n",
      "DataFrame Shape: (9430376, 17)\n",
      "JFK out DataFrame Shape: (310302, 17)\n",
      "Aggregated DataFrame Shape: (72592, 5)\n",
      "         Date  Hour    Min  DOLocationID  vehicle_count\n",
      "0  2009-01-01     0  False            68              1\n",
      "1  2009-01-01     0   True           164              1\n",
      "2  2009-01-01     1  False           230              1\n",
      "append to results...\n",
      "file saved..\n",
      "------------------------------------------------\n"
     ]
    }
   ],
   "source": [
    "for file in files:\n",
    "    print(\"Processing \"+str(file).split('/')[-1])\n",
    "    \n",
    "    vehicleType = str(file).split('/')[-1].split('_')[0]\n",
    "    df = pd.read_csv(file,engine='python',sep=',',encoding='utf8')\n",
    "    print(\"DataFrame Shape: \"+str(df.shape))\n",
    "    \n",
    "    # rename columns for consistency\n",
    "    # set passenger count to 1 for fhv\n",
    "    if vehicleType == 'fhv':\n",
    "        df.rename(columns={'Pickup_DateTime': 'tpep_pickup_datetime', \\\n",
    "                           'PUlocationID':'PULocationID', 'DOlocationID':'DOLocationID' },inplace=True)\n",
    "        df['passenger_count'] = 1\n",
    "        \n",
    "    if vehicleType == 'green':\n",
    "        df.rename(columns={'lpep_pickup_datetime': 'tpep_pickup_datetime'},inplace=True)\n",
    "\n",
    "\n",
    "    # treat for na values\n",
    "    df = df.dropna(subset=['tpep_pickup_datetime','PULocationID', 'DOLocationID'])\n",
    "    df.fillna(value={'passenger_count':1}, inplace = True)\n",
    "    \n",
    "    # correct data types\n",
    "    df['PULocationID'] = df['PULocationID'].astype('int')\n",
    "    df['DOLocationID'] = df['DOLocationID'].astype('int')\n",
    "    \n",
    "    # filter to get outgoing traffic from selected hub\n",
    "    df = df[(df['PULocationID'] == zone) & (df['DOLocationID'].apply(lambda x: x in validDestZones))]\n",
    "    print(\"JFK out DataFrame Shape: \"+str(df.shape))\n",
    "    \n",
    "    # treat datetime\n",
    "    df['tpep_pickup_datetime'] = pd.to_datetime(df['tpep_pickup_datetime'])\n",
    "    df['Date'] = df['tpep_pickup_datetime'].dt.date\n",
    "    df['Hour'] = df['tpep_pickup_datetime'].dt.hour\n",
    "    df['Min'] = df['tpep_pickup_datetime'].dt.minute\n",
    "    df['Min'] = df['Min'] >30\n",
    "    #df['vehicle_type'] = vehicleType\n",
    "    \n",
    "    # select rquired columns\n",
    "    #df = df[['vehicle_type', 'Date', 'Hour', 'DOLocationID','passenger_count']]\n",
    "    df = df[['Date', 'Hour','Min', 'DOLocationID','passenger_count']]\n",
    "    \n",
    "    # Hourly aggregation\n",
    "    #df_count = df.groupby(['vehicle_type', 'Date', 'Hour', 'DOLocationID']).count().reset_index()\n",
    "    df_count = df.groupby(['Date', 'Hour','Min', 'DOLocationID']).count().reset_index()\n",
    "    df_count.rename(columns={'passenger_count': 'vehicle_count'},inplace=True)\n",
    "\n",
    "    #df_sum = df.groupby(['vehicle_type', 'Date', 'Hour', 'DOLocationID']).sum().reset_index()\n",
    "\n",
    "    #aggregatedDf = pd.merge(df_count,df_sum, on=['vehicle_type', 'Date', 'Hour', 'DOLocationID'], how='inner')\n",
    "    aggregatedDf = df_count\n",
    "    \n",
    "    print(\"Aggregated DataFrame Shape: \"+str(aggregatedDf.shape))\n",
    "    print(aggregatedDf.head(3))\n",
    "    # save file\n",
    "    if os.path.exists(processedFile):\n",
    "        print('append to results...')\n",
    "        aggregatedDf.to_csv(processedFile,index=False, header=False, mode='a+')      \n",
    "    else:\n",
    "        print('create results file...')\n",
    "        aggregatedDf.to_csv(processedFile,index=False)\n",
    "    print('file saved..')\n",
    "    print(\"------------------------------------------------\")"
   ]
  },
  {
   "cell_type": "markdown",
   "metadata": {},
   "source": [
    "### Further processing"
   ]
  },
  {
   "cell_type": "code",
   "execution_count": 103,
   "metadata": {},
   "outputs": [],
   "source": [
    "def getcCompleteGridDf(minDate,maxDate, locations):\n",
    "    minDate = [int(x) for x in minDate.split('-')]\n",
    "    maxDate = [int(x) for x in maxDate.split('-')]\n",
    "    sdate = date(minDate[0], minDate[1], minDate[2])   \n",
    "    edate = date(maxDate[0], maxDate[1], maxDate[2])    \n",
    "\n",
    "    delta = edate - sdate       \n",
    "    days = []\n",
    "    for i in range(delta.days + 1):\n",
    "        days.append(sdate + timedelta(days=i))\n",
    "    hours = list(range(24))\n",
    "    minutes = [0,30]\n",
    "#     print(len(days))\n",
    "#     print(len(hours))\n",
    "    \n",
    "    combList = list(itertools.product(*[days,hours,minutes,locations]))\n",
    "    dfList = [{'Date':d, 'Hour':h, 'Min':m,'DOLocationID':l} for d,h,m,l in combList]\n",
    " \n",
    "    dateHourDf = pd.DataFrame(dfList)\n",
    "    dateHourDf['Date'] = pd.to_datetime(dateHourDf['Date']).dt.date\n",
    "    return dateHourDf"
   ]
  },
  {
   "cell_type": "code",
   "execution_count": 104,
   "metadata": {},
   "outputs": [
    {
     "data": {
      "text/html": [
       "<div>\n",
       "<style scoped>\n",
       "    .dataframe tbody tr th:only-of-type {\n",
       "        vertical-align: middle;\n",
       "    }\n",
       "\n",
       "    .dataframe tbody tr th {\n",
       "        vertical-align: top;\n",
       "    }\n",
       "\n",
       "    .dataframe thead th {\n",
       "        text-align: right;\n",
       "    }\n",
       "</style>\n",
       "<table border=\"1\" class=\"dataframe\">\n",
       "  <thead>\n",
       "    <tr style=\"text-align: right;\">\n",
       "      <th></th>\n",
       "      <th>Date</th>\n",
       "      <th>Hour</th>\n",
       "      <th>Min</th>\n",
       "      <th>DOLocationID</th>\n",
       "      <th>vehicle_count</th>\n",
       "    </tr>\n",
       "  </thead>\n",
       "  <tbody>\n",
       "    <tr>\n",
       "      <th>0</th>\n",
       "      <td>2008-12-31</td>\n",
       "      <td>12</td>\n",
       "      <td>0</td>\n",
       "      <td>48</td>\n",
       "      <td>1</td>\n",
       "    </tr>\n",
       "    <tr>\n",
       "      <th>1</th>\n",
       "      <td>2009-01-01</td>\n",
       "      <td>0</td>\n",
       "      <td>0</td>\n",
       "      <td>68</td>\n",
       "      <td>1</td>\n",
       "    </tr>\n",
       "  </tbody>\n",
       "</table>\n",
       "</div>"
      ],
      "text/plain": [
       "         Date  Hour  Min  DOLocationID  vehicle_count\n",
       "0  2008-12-31    12    0            48              1\n",
       "1  2009-01-01     0    0            68              1"
      ]
     },
     "execution_count": 104,
     "metadata": {},
     "output_type": "execute_result"
    }
   ],
   "source": [
    "processedDf = dd.read_csv(processedFile)\n",
    "processedDf['Min'] = processedDf['Min']*30\n",
    "processedDf.head(2)"
   ]
  },
  {
   "cell_type": "code",
   "execution_count": 105,
   "metadata": {},
   "outputs": [
    {
     "data": {
      "text/plain": [
       "(Delayed('int-32c6fd64-33a4-4189-8bbd-5a2dc9bcfd92'), 5)"
      ]
     },
     "execution_count": 105,
     "metadata": {},
     "output_type": "execute_result"
    }
   ],
   "source": [
    "# ensuring proper grouping since files were grouped by independently\n",
    "processedDf = processedDf.groupby(['Date', 'Hour', 'Min','DOLocationID']).sum().reset_index()\n",
    "processedDf.shape"
   ]
  },
  {
   "cell_type": "code",
   "execution_count": 106,
   "metadata": {},
   "outputs": [],
   "source": [
    "# sanity checks\n",
    "validYears = [2018]\n",
    "processedDf['Date'] = dd.to_datetime(processedDf.Date, format='%Y-%m-%d')\n",
    "processedDf['year'] = processedDf['Date'].dt.year\n",
    "processedDf = processedDf[processedDf.year.isin(validYears)]\n",
    "\n",
    "validMonths = list(range(1,13))\n",
    "processedDf['month'] = processedDf['Date'].dt.month\n",
    "processedDf = processedDf[processedDf.month.isin(validMonths)]\n",
    "\n",
    "# processedDf.shape    "
   ]
  },
  {
   "cell_type": "code",
   "execution_count": 107,
   "metadata": {},
   "outputs": [
    {
     "name": "stdout",
     "output_type": "stream",
     "text": [
      "257\n"
     ]
    },
    {
     "data": {
      "text/plain": [
       "(4502640, 4)"
      ]
     },
     "execution_count": 107,
     "metadata": {},
     "output_type": "execute_result"
    }
   ],
   "source": [
    "minDate, maxDate = ('2018-01-01','2018-12-31') \n",
    "#v_types = list(set(processedDf.vehicle_type))\n",
    "locations = list(set(processedDf.DOLocationID))\n",
    "\n",
    "#print(len(v_types))\n",
    "print(len(locations))\n",
    "\n",
    "dateHourDf = getcCompleteGridDf(minDate,maxDate,locations)\n",
    "dateHourDf.shape"
   ]
  },
  {
   "cell_type": "code",
   "execution_count": 108,
   "metadata": {},
   "outputs": [],
   "source": [
    "dateHourDf['Date'] = pd.to_datetime(dateHourDf['Date'])"
   ]
  },
  {
   "cell_type": "code",
   "execution_count": 109,
   "metadata": {},
   "outputs": [
    {
     "data": {
      "text/html": [
       "<div>\n",
       "<style scoped>\n",
       "    .dataframe tbody tr th:only-of-type {\n",
       "        vertical-align: middle;\n",
       "    }\n",
       "\n",
       "    .dataframe tbody tr th {\n",
       "        vertical-align: top;\n",
       "    }\n",
       "\n",
       "    .dataframe thead th {\n",
       "        text-align: right;\n",
       "    }\n",
       "</style>\n",
       "<table border=\"1\" class=\"dataframe\">\n",
       "  <thead>\n",
       "    <tr style=\"text-align: right;\">\n",
       "      <th></th>\n",
       "      <th>Date</th>\n",
       "      <th>Hour</th>\n",
       "      <th>Min</th>\n",
       "      <th>DOLocationID</th>\n",
       "    </tr>\n",
       "  </thead>\n",
       "  <tbody>\n",
       "    <tr>\n",
       "      <th>0</th>\n",
       "      <td>2018-01-01</td>\n",
       "      <td>0</td>\n",
       "      <td>0</td>\n",
       "      <td>1</td>\n",
       "    </tr>\n",
       "    <tr>\n",
       "      <th>1</th>\n",
       "      <td>2018-01-01</td>\n",
       "      <td>0</td>\n",
       "      <td>0</td>\n",
       "      <td>2</td>\n",
       "    </tr>\n",
       "    <tr>\n",
       "      <th>2</th>\n",
       "      <td>2018-01-01</td>\n",
       "      <td>0</td>\n",
       "      <td>0</td>\n",
       "      <td>3</td>\n",
       "    </tr>\n",
       "    <tr>\n",
       "      <th>3</th>\n",
       "      <td>2018-01-01</td>\n",
       "      <td>0</td>\n",
       "      <td>0</td>\n",
       "      <td>4</td>\n",
       "    </tr>\n",
       "    <tr>\n",
       "      <th>4</th>\n",
       "      <td>2018-01-01</td>\n",
       "      <td>0</td>\n",
       "      <td>0</td>\n",
       "      <td>5</td>\n",
       "    </tr>\n",
       "  </tbody>\n",
       "</table>\n",
       "</div>"
      ],
      "text/plain": [
       "        Date  Hour  Min  DOLocationID\n",
       "0 2018-01-01     0    0             1\n",
       "1 2018-01-01     0    0             2\n",
       "2 2018-01-01     0    0             3\n",
       "3 2018-01-01     0    0             4\n",
       "4 2018-01-01     0    0             5"
      ]
     },
     "execution_count": 109,
     "metadata": {},
     "output_type": "execute_result"
    }
   ],
   "source": [
    "dateHourDf.head()"
   ]
  },
  {
   "cell_type": "code",
   "execution_count": 110,
   "metadata": {},
   "outputs": [
    {
     "data": {
      "text/html": [
       "<div>\n",
       "<style scoped>\n",
       "    .dataframe tbody tr th:only-of-type {\n",
       "        vertical-align: middle;\n",
       "    }\n",
       "\n",
       "    .dataframe tbody tr th {\n",
       "        vertical-align: top;\n",
       "    }\n",
       "\n",
       "    .dataframe thead th {\n",
       "        text-align: right;\n",
       "    }\n",
       "</style>\n",
       "<table border=\"1\" class=\"dataframe\">\n",
       "  <thead>\n",
       "    <tr style=\"text-align: right;\">\n",
       "      <th></th>\n",
       "      <th>Date</th>\n",
       "      <th>Hour</th>\n",
       "      <th>Min</th>\n",
       "      <th>DOLocationID</th>\n",
       "      <th>vehicle_count</th>\n",
       "      <th>year</th>\n",
       "      <th>month</th>\n",
       "    </tr>\n",
       "  </thead>\n",
       "  <tbody>\n",
       "    <tr>\n",
       "      <th>20</th>\n",
       "      <td>2018-01-01</td>\n",
       "      <td>0</td>\n",
       "      <td>0</td>\n",
       "      <td>13</td>\n",
       "      <td>1</td>\n",
       "      <td>2018</td>\n",
       "      <td>1</td>\n",
       "    </tr>\n",
       "    <tr>\n",
       "      <th>21</th>\n",
       "      <td>2018-01-01</td>\n",
       "      <td>0</td>\n",
       "      <td>0</td>\n",
       "      <td>14</td>\n",
       "      <td>1</td>\n",
       "      <td>2018</td>\n",
       "      <td>1</td>\n",
       "    </tr>\n",
       "  </tbody>\n",
       "</table>\n",
       "</div>"
      ],
      "text/plain": [
       "         Date  Hour  Min  DOLocationID  vehicle_count  year  month\n",
       "20 2018-01-01     0    0            13              1  2018      1\n",
       "21 2018-01-01     0    0            14              1  2018      1"
      ]
     },
     "execution_count": 110,
     "metadata": {},
     "output_type": "execute_result"
    }
   ],
   "source": [
    "processedDf.head(2)"
   ]
  },
  {
   "cell_type": "code",
   "execution_count": 111,
   "metadata": {},
   "outputs": [
    {
     "name": "stdout",
     "output_type": "stream",
     "text": [
      "(Delayed('int-0e1ccc3c-dd85-4e78-a889-95a258d1db01'), 5)\n"
     ]
    },
    {
     "data": {
      "text/html": [
       "<div>\n",
       "<style scoped>\n",
       "    .dataframe tbody tr th:only-of-type {\n",
       "        vertical-align: middle;\n",
       "    }\n",
       "\n",
       "    .dataframe tbody tr th {\n",
       "        vertical-align: top;\n",
       "    }\n",
       "\n",
       "    .dataframe thead th {\n",
       "        text-align: right;\n",
       "    }\n",
       "</style>\n",
       "<table border=\"1\" class=\"dataframe\">\n",
       "  <thead>\n",
       "    <tr style=\"text-align: right;\">\n",
       "      <th></th>\n",
       "      <th>Date</th>\n",
       "      <th>Hour</th>\n",
       "      <th>Min</th>\n",
       "      <th>DOLocationID</th>\n",
       "      <th>vehicle_count</th>\n",
       "    </tr>\n",
       "  </thead>\n",
       "  <tbody>\n",
       "    <tr>\n",
       "      <th>0</th>\n",
       "      <td>2018-01-01</td>\n",
       "      <td>0</td>\n",
       "      <td>0</td>\n",
       "      <td>1</td>\n",
       "      <td>0.0</td>\n",
       "    </tr>\n",
       "    <tr>\n",
       "      <th>1</th>\n",
       "      <td>2018-01-01</td>\n",
       "      <td>0</td>\n",
       "      <td>0</td>\n",
       "      <td>2</td>\n",
       "      <td>0.0</td>\n",
       "    </tr>\n",
       "    <tr>\n",
       "      <th>2</th>\n",
       "      <td>2018-01-01</td>\n",
       "      <td>0</td>\n",
       "      <td>0</td>\n",
       "      <td>3</td>\n",
       "      <td>0.0</td>\n",
       "    </tr>\n",
       "  </tbody>\n",
       "</table>\n",
       "</div>"
      ],
      "text/plain": [
       "         Date  Hour  Min  DOLocationID  vehicle_count\n",
       "0  2018-01-01     0    0             1            0.0\n",
       "1  2018-01-01     0    0             2            0.0\n",
       "2  2018-01-01     0    0             3            0.0"
      ]
     },
     "execution_count": 111,
     "metadata": {},
     "output_type": "execute_result"
    }
   ],
   "source": [
    "mergedDf = dd.merge(dateHourDf,processedDf[['Date', 'Hour', 'Min','DOLocationID','vehicle_count']], on=['Date', 'Hour', 'Min','DOLocationID'], how='left')\n",
    "mergedDf = mergedDf.fillna(0)\n",
    "mergedDf['Date'] = mergedDf['Date'].dt.date\n",
    "print(mergedDf.shape)\n",
    "mergedDf.head(3)"
   ]
  },
  {
   "cell_type": "code",
   "execution_count": 112,
   "metadata": {},
   "outputs": [],
   "source": [
    "mergedDf = mergedDf.compute()"
   ]
  },
  {
   "cell_type": "code",
   "execution_count": 113,
   "metadata": {},
   "outputs": [],
   "source": [
    "mergedDf['Date'] = mergedDf['Date'].astype('str')\n",
    "mergedDf['Hour'] = mergedDf['Hour'].astype('str')\n",
    "mergedDf['DOLocationID'] = mergedDf['DOLocationID'].astype('str')"
   ]
  },
  {
   "cell_type": "code",
   "execution_count": 114,
   "metadata": {},
   "outputs": [],
   "source": [
    "mergedDf.to_csv(processedFile,index=False)"
   ]
  },
  {
   "cell_type": "code",
   "execution_count": 98,
   "metadata": {},
   "outputs": [
    {
     "data": {
      "text/plain": [
       "'../processedData/LGAVehicleBy30Min.csv'"
      ]
     },
     "execution_count": 98,
     "metadata": {},
     "output_type": "execute_result"
    }
   ],
   "source": [
    "processedFile"
   ]
  },
  {
   "cell_type": "code",
   "execution_count": null,
   "metadata": {},
   "outputs": [],
   "source": []
  }
 ],
 "metadata": {
  "kernelspec": {
   "display_name": "Python 3",
   "language": "python",
   "name": "python3"
  },
  "language_info": {
   "codemirror_mode": {
    "name": "ipython",
    "version": 3
   },
   "file_extension": ".py",
   "mimetype": "text/x-python",
   "name": "python",
   "nbconvert_exporter": "python",
   "pygments_lexer": "ipython3",
   "version": "3.7.6"
  }
 },
 "nbformat": 4,
 "nbformat_minor": 2
}
