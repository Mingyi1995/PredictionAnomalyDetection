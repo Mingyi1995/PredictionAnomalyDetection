{
 "cells": [
  {
   "cell_type": "code",
   "execution_count": 47,
   "metadata": {},
   "outputs": [
    {
     "data": {
      "text/plain": [
       "885244.0"
      ]
     },
     "execution_count": 47,
     "metadata": {},
     "output_type": "execute_result"
    }
   ],
   "source": [
    "#you may change percentage in quantile function below to get different \n",
    "import pandas as pd\n",
    "dailyDF = pd.read_csv('Daily/part-00000-5e74f1d1-dc7d-4853-9dea-d7a697ec264c-c000.csv')\n",
    "dailyDF['count'].quantile(0.5)"
   ]
  },
  {
   "cell_type": "markdown",
   "metadata": {},
   "source": [
    "## cells below are not reproducible"
   ]
  },
  {
   "cell_type": "code",
   "execution_count": 40,
   "metadata": {},
   "outputs": [
    {
     "data": {
      "text/html": [
       "\n",
       "        <div>\n",
       "            <p><b>SparkContext</b></p>\n",
       "\n",
       "            <p><a href=\"http://192.168.0.11:4041\">Spark UI</a></p>\n",
       "\n",
       "            <dl>\n",
       "              <dt>Version</dt>\n",
       "                <dd><code>v2.4.0</code></dd>\n",
       "              <dt>Master</dt>\n",
       "                <dd><code>local[*]</code></dd>\n",
       "              <dt>AppName</dt>\n",
       "                <dd><code>PySparkShell</code></dd>\n",
       "            </dl>\n",
       "        </div>\n",
       "        "
      ],
      "text/plain": [
       "<SparkContext master=local[*] appName=PySparkShell>"
      ]
     },
     "execution_count": 40,
     "metadata": {},
     "output_type": "execute_result"
    }
   ],
   "source": [
    "sc"
   ]
  },
  {
   "cell_type": "code",
   "execution_count": 41,
   "metadata": {},
   "outputs": [],
   "source": [
    "sqlContext = SQLContext(sc)"
   ]
  },
  {
   "cell_type": "code",
   "execution_count": 42,
   "metadata": {},
   "outputs": [],
   "source": [
    "import dask.dataframe as dd\n",
    "from dask import datasets\n",
    "import pandas as pd\n",
    "import warnings\n",
    "import geopandas as gpd\n",
    "from pyspark.sql.types import *\n",
    "warnings.filterwarnings('ignore')"
   ]
  },
  {
   "cell_type": "code",
   "execution_count": 43,
   "metadata": {},
   "outputs": [],
   "source": [
    "zone = gpd.read_file('../Data/NYC Taxi Zones.geojson')\n",
    "zones = zone['location_id'].unique()"
   ]
  },
  {
   "cell_type": "code",
   "execution_count": 23,
   "metadata": {},
   "outputs": [],
   "source": [
    "# mapreduce code to aggregate ridership records to daily level, please do not rerun\n",
    "def processto1min(pid, record):\n",
    "    hubZone = {'JFK': 132, 'LGA': 138, 'PENN': 186, 'EWR': 1}\n",
    "    import csv\n",
    "    if pid==0:\n",
    "        next(record)\n",
    "    reader = csv.reader(record,delimiter=',')\n",
    "    for row in reader:\n",
    "        if len(row) == 17:\n",
    "        #yellow\n",
    "            PU = row[7]\n",
    "            # make sure pick up location is valid\n",
    "            if str(PU) in zones:\n",
    "                if row[1] != '':\n",
    "                    date = row[1].split(' ')[0]\n",
    "                    year = date.split('-')[0]\n",
    "                    # year is 2018\n",
    "                    if year == '2018':\n",
    "                        #DOLocation\n",
    "                        if row[8] != '':\n",
    "                            DO = str(int(row[8]))\n",
    "                            if DO in zones:\n",
    "                                yield (date,1)\n",
    "\n",
    "        elif len(row) == 19:\n",
    "        #green\n",
    "            PU = row[5]\n",
    "            if str(PU) in zones:\n",
    "                if row[1] != '':\n",
    "                    date = row[1].split(' ')[0]\n",
    "                    year = date.split('-')[0]\n",
    "                    if year == '2018':\n",
    "                        if row[6] != '':\n",
    "                            DO = str(int(row[6]))\n",
    "                            if DO in zones:\n",
    "                                yield (date,1)\n",
    "\n",
    "        elif len(row) == 7:\n",
    "        #fhv\n",
    "            PU = row[2]\n",
    "            if str(PU) in zones:\n",
    "                if row[1] != '':\n",
    "                    date = row[1].split(' ')[0]\n",
    "                    year = date.split('-')[0]\n",
    "                    if year == '2018':\n",
    "                        if row[3] != '':\n",
    "                            DO = str(int(row[3]))\n",
    "                            if DO in zones:\n",
    "                                yield (date,1)"
   ]
  },
  {
   "cell_type": "code",
   "execution_count": 24,
   "metadata": {},
   "outputs": [],
   "source": [
    "# please do not rerun\n",
    "TLCFileDir = \"../rawData/\"\n",
    "rdd = sc.textFile(TLCFileDir+'*.csv')"
   ]
  },
  {
   "cell_type": "code",
   "execution_count": 25,
   "metadata": {},
   "outputs": [
    {
     "name": "stdout",
     "output_type": "stream",
     "text": [
      "CPU times: user 113 ms, sys: 7.93 ms, total: 121 ms\n",
      "Wall time: 13min 6s\n"
     ]
    }
   ],
   "source": [
    "# please do not rerun\n",
    "%%time\n",
    "counts = rdd.mapPartitionsWithIndex(processto1min).reduceByKey(lambda x,y:x+y).cache()\n",
    "df = sqlContext.createDataFrame(counts,['date','count'])"
   ]
  },
  {
   "cell_type": "code",
   "execution_count": 27,
   "metadata": {},
   "outputs": [],
   "source": [
    "# please do not rerun\n",
    "df.repartition(1).write.mode(\"overwrite\").\\\n",
    "    format(\"com.databricks.spark.csv\").option(\"header\", \"true\").save('Daily')"
   ]
  }
 ],
 "metadata": {
  "kernelspec": {
   "display_name": "Python 3",
   "language": "python",
   "name": "python3"
  },
  "language_info": {
   "codemirror_mode": {
    "name": "ipython",
    "version": 3
   },
   "file_extension": ".py",
   "mimetype": "text/x-python",
   "name": "python",
   "nbconvert_exporter": "python",
   "pygments_lexer": "ipython3",
   "version": "3.7.6"
  }
 },
 "nbformat": 4,
 "nbformat_minor": 4
}
