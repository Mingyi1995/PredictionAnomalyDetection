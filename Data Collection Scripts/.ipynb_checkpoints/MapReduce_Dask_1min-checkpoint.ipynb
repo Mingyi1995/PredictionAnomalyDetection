{
 "cells": [
  {
   "cell_type": "code",
   "execution_count": 1,
   "metadata": {},
   "outputs": [
    {
     "data": {
      "text/html": [
       "\n",
       "        <div>\n",
       "            <p><b>SparkContext</b></p>\n",
       "\n",
       "            <p><a href=\"http://192.168.0.11:4048\">Spark UI</a></p>\n",
       "\n",
       "            <dl>\n",
       "              <dt>Version</dt>\n",
       "                <dd><code>v2.4.0</code></dd>\n",
       "              <dt>Master</dt>\n",
       "                <dd><code>local[*]</code></dd>\n",
       "              <dt>AppName</dt>\n",
       "                <dd><code>PySparkShell</code></dd>\n",
       "            </dl>\n",
       "        </div>\n",
       "        "
      ],
      "text/plain": [
       "<SparkContext master=local[*] appName=PySparkShell>"
      ]
     },
     "execution_count": 1,
     "metadata": {},
     "output_type": "execute_result"
    }
   ],
   "source": [
    "sc"
   ]
  },
  {
   "cell_type": "code",
   "execution_count": 2,
   "metadata": {},
   "outputs": [],
   "source": [
    "sqlContext = SQLContext(sc)"
   ]
  },
  {
   "cell_type": "code",
   "execution_count": 3,
   "metadata": {},
   "outputs": [],
   "source": [
    "import dask.dataframe as dd\n",
    "from dask import datasets\n",
    "import pandas as pd\n",
    "import datetime\n",
    "import warnings\n",
    "import geopandas as gpd\n",
    "import numpy as np\n",
    "warnings.filterwarnings('ignore')"
   ]
  },
  {
   "cell_type": "code",
   "execution_count": 4,
   "metadata": {},
   "outputs": [
    {
     "name": "stdout",
     "output_type": "stream",
     "text": [
      "/home/mingyi/Dropbox/UrbanTemporalNetworks/Data Collection Scripts\r\n"
     ]
    }
   ],
   "source": [
    "!pwd"
   ]
  },
  {
   "cell_type": "code",
   "execution_count": 5,
   "metadata": {},
   "outputs": [],
   "source": [
    "zone = gpd.read_file('../Data/NYC Taxi Zones.geojson')\n",
    "zones = zone['location_id'].unique()\n"
   ]
  },
  {
   "cell_type": "code",
   "execution_count": 6,
   "metadata": {},
   "outputs": [
    {
     "data": {
      "text/plain": [
       "260"
      ]
     },
     "execution_count": 6,
     "metadata": {},
     "output_type": "execute_result"
    }
   ],
   "source": [
    "len(zones)"
   ]
  },
  {
   "cell_type": "code",
   "execution_count": 7,
   "metadata": {},
   "outputs": [],
   "source": [
    "\n",
    "def processfromHub(pid, record):\n",
    "    hubZone = {'JFK': '132', 'LGA': '138', 'PENN': '186'}\n",
    "    import csv\n",
    "    reader = csv.reader(record,delimiter=',')\n",
    "    for row in reader:\n",
    "        if len(row) == 18:\n",
    "            #yellow\n",
    "            PU = row[7]\n",
    "            DO = row[8]\n",
    "            if PU != '' and PU != 'PULocationID' and DO != '' and DO != 'DOLocationID' :\n",
    "                if str(int(PU)) == hubZone[hub]:\n",
    "                    if row[1] != '':\n",
    "                        date = row[1].split(' ')[0]\n",
    "                        year = date.split('-')[0]\n",
    "                        if year == select_year:\n",
    "                            time = row[1]\n",
    "                            # change all seconds to 00\n",
    "                            minute = int(time.split(':')[1])\n",
    "                            minute = int(minute/granularity)*granularity\n",
    "                            time = time[:-5] + str(minute).zfill(2) + ':00'\n",
    "                            if row[3] != '':\n",
    "                                passenger = int(row[3])\n",
    "                                #DOLocation\n",
    "                                if DO in zones:\n",
    "                                    yield ((time,DO),1)\n",
    "\n",
    "        elif len(row) == 20:\n",
    "            #green\n",
    "            PU = row[5]\n",
    "            DO = row[6]\n",
    "            if PU != '' and PU != 'PULocationID' and DO != '' and DO != 'DOLocationID' :\n",
    "                if str(int(PU)) == hubZone[hub]:\n",
    "                    if row[1] != '':\n",
    "                        date = row[1].split(' ')[0]\n",
    "                        year = date.split('-')[0]\n",
    "                        if year == select_year:\n",
    "                            time = row[1]\n",
    "                            minute = int(time.split(':')[1])\n",
    "                            minute = int(minute/granularity)*granularity\n",
    "                            time = time[:-5] + str(minute).zfill(2) + ':00'\n",
    "                            if row[7] != '':\n",
    "                                passenger = int(row[7])\n",
    "                                if DO in zones:\n",
    "                                    yield ((time,DO),1)\n",
    "\n",
    "#         elif len(row) == 6:\n",
    "#             #fhv\n",
    "#             PU = row[2]\n",
    "#             if PU != '' and PU != 'PUlocationID' :\n",
    "#                 if str(int(PU)) == hubZone[hub]:\n",
    "#                     if row[1] != '':\n",
    "#                         date = row[0].split(' ')[0]\n",
    "#                         year = date.split('-')[0]\n",
    "#                         if year == select_year:\n",
    "#                             time = row[0]\n",
    "#                             minute = int(time.split(':')[1])\n",
    "#                             minute = int(minute/granularity)*granularity\n",
    "#                             time = time[:-5] + str(minute).zfill(2) + ':00'\n",
    "#                             if row[3] != '':\n",
    "#                                 DO = str(int(row[3]))\n",
    "#                                 passenger = 1\n",
    "#                                 if DO in zones:\n",
    "#                                     yield ((time,DO),1)\n",
    "        elif len(row) == 6:\n",
    "            #fhvhv \n",
    "            PU = row[3]\n",
    "            DO = row[4]\n",
    "            if PU != '' and PU != 'PULocationID' and DO != '' and DO != 'DOLocationID' :\n",
    "                if str(int(PU)) == hubZone[hub]:\n",
    "                    time = row[1]\n",
    "                    minute = int(time.split(':')[1])\n",
    "                    minute = int(minute/granularity)*granularity\n",
    "                    time = time[:-5] + str(minute).zfill(2) + ':00'\n",
    "                    passenger = 1\n",
    "                    if DO != '' and len(DO)<4: \n",
    "                        DO = str(int(row[4]))\n",
    "                        passenger = 1\n",
    "                        yield ((time,DO),1)"
   ]
  },
  {
   "cell_type": "code",
   "execution_count": 10,
   "metadata": {},
   "outputs": [],
   "source": [
    "# to hubs\n",
    "def processtoHub(pid, record):\n",
    "    hubZone = {'JFK': '132', 'LGA': '138', 'PENN': '186'}\n",
    "    import csv\n",
    "    reader = csv.reader(record,delimiter=',')\n",
    "    for row in reader:\n",
    "        if len(row) == 18:\n",
    "            #yellow\n",
    "            PU = row[7]\n",
    "            DO = row[8]\n",
    "            if PU != '' and PU != 'PULocationID' and DO != '' and DO != 'DOLocationID' :\n",
    "                if str(DO) == hubZone[hub]:\n",
    "                    if row[1] != '':\n",
    "                        date = row[1].split(' ')[0]\n",
    "                        year = date.split('-')[0]\n",
    "                        if year == select_year:\n",
    "                            time = row[1]\n",
    "                            # change all seconds to 00\n",
    "                            minute = int(time.split(':')[1])\n",
    "                            minute = int(minute/granularity)*granularity\n",
    "                            time = time[:-5] + str(minute).zfill(2) + ':00'\n",
    "#                             passenger = int(row[3])\n",
    "                            #DOLocation\n",
    "                            if row[8] != '':\n",
    "                                if PU in zones:\n",
    "                                    yield ((time,PU),1)\n",
    "\n",
    "        elif len(row) == 20:\n",
    "            #green\n",
    "            PU = row[5]\n",
    "            DO = row[6]\n",
    "            if PU != '' and PU != 'PULocationID' and DO != '' and DO != 'DOLocationID' :\n",
    "                if str(DO) == hubZone[hub]:\n",
    "                    if row[1] != '':\n",
    "                        date = row[1].split(' ')[0]\n",
    "                        year = date.split('-')[0]\n",
    "                        if year == select_year:\n",
    "                            time = row[1]\n",
    "                            minute = int(time.split(':')[1])\n",
    "                            minute = int(minute/granularity)*granularity\n",
    "                            time = time[:-5] + str(minute).zfill(2) + ':00'\n",
    "#                             passenger = int(row[7])\n",
    "                            if PU in zones:\n",
    "                                yield ((time,PU),1)\n",
    "\n",
    "#         elif len(row) == 7:\n",
    "#             #fhv\n",
    "#             PU = row[2]\n",
    "#             DO = row[3]\n",
    "#             if DO != '' and DO != 'DOlocationID' :\n",
    "#                 if str(DO) == hubZone[hub]:\n",
    "#                     if row[1] != '':\n",
    "#                         date = row[0].split(' ')[0]\n",
    "#                         year = date.split('-')[0]\n",
    "#                         if year == select_year:\n",
    "#                             time = row[0]\n",
    "#                             minute = int(time.split(':')[1])\n",
    "#                             minute = int(minute/granularity)*granularity\n",
    "#                             time = time[:-5] + str(minute).zfill(2) + ':00'\n",
    "#                             passenger = 1\n",
    "#                             if PU in zones:\n",
    "#                                 yield ((time,PU),1)\n",
    "        elif len(row) == 6:\n",
    "            #fhvhv\n",
    "            PU = row[3]\n",
    "            DO = row[4]\n",
    "            if PU != '' and PU != 'PULocationID' and DO != '' and DO != 'DOLocationID' :\n",
    "                if str(DO) == hubZone[hub]:\n",
    "                    time = row[1]\n",
    "                    minute = int(time.split(':')[1])\n",
    "                    minute = int(minute/granularity)*granularity\n",
    "                    time = time[:-5] + str(minute).zfill(2) + ':00'\n",
    "                    if DO != '' and len(DO)<4: \n",
    "                        DO = str(int(row[4]))\n",
    "                        passenger = 1\n",
    "                        yield ((time,PU),1)"
   ]
  },
  {
   "cell_type": "code",
   "execution_count": null,
   "metadata": {},
   "outputs": [],
   "source": [
    "for hub in ['JFK','PENN','LGA']:\n",
    "    for select_year in ['2019']:\n",
    "        print(hub,select_year)\n",
    "        dataDir = '/home/mingyi/Dropbox/UrbanTemporalNetworks/rawData/'+select_year+'/'\n",
    "        hubZone = {'JFK': '132', 'LGA': '138', 'PENN': '186'}\n",
    "        processedFileDir = \"../processedData/\"\n",
    "        processedFile = processedFileDir+select_year+'from'+hub\n",
    "        rdd = sc.textFile(dataDir+'*.csv')\n",
    "        granularity = 60\n",
    "        counts = rdd.mapPartitionsWithIndex(processfromHub).reduceByKey(lambda x,y:x+y).\\\n",
    "                    map(lambda x: (x[0][0],x[0][1],x[1])).cache()\n",
    "        df = sqlContext.createDataFrame(counts,['Date','DOLocationID','vehicle_count'])\n",
    "        df.repartition(1).write.mode(\"overwrite\").\\\n",
    "            format(\"com.databricks.spark.csv\").option(\"header\", \"true\").save(processedFile)\n",
    "\n",
    "        df = pd.read_csv(processedFile+'/'+[file for file in os.listdir(processedFile) if '.csv' in file and '.crc' not in file][0])\n",
    "\n",
    "\n",
    "        df = pd.pivot_table(df, values='vehicle_count', index=['Date'],\n",
    "                            columns=['DOLocationID'], aggfunc=np.sum, fill_value=0).reset_index()\n",
    "        time_range = pd.DataFrame(pd.date_range(start=' %s-01-01'%select_year,end='%s-12-31'%select_year,freq='1h')).rename(columns={0:'Date'})\n",
    "        time_range['Date'] = time_range['Date'].astype(str)\n",
    "\n",
    "        df = df.merge(time_range,on='Date',how='outer').fillna(0).sort_values(by='Date')\n",
    "\n",
    "        df = pd.melt(df,id_vars='Date',var_name='DOLocationID',value_name='vehicle_count')\n",
    "        df['Hour'] = df['Date'].apply(lambda x:x.split(' ')[1].split(':')[0])\n",
    "        df['Date'] = df['Date'].apply(lambda x:x.split(' ')[0])\n",
    "\n",
    "        df.to_csv('../processedData/'+hub+'VehicleByHour%sfromHub.csv'%select_year,index=False)"
   ]
  },
  {
   "cell_type": "code",
   "execution_count": 13,
   "metadata": {},
   "outputs": [
    {
     "name": "stdout",
     "output_type": "stream",
     "text": [
      "JFK 2019\n",
      "PENN 2019\n",
      "LGA 2019\n"
     ]
    }
   ],
   "source": [
    "for hub in ['JFK','PENN','LGA']:\n",
    "    for select_year in ['2019']:\n",
    "        print(hub,select_year)\n",
    "        dataDir = '/home/mingyi/Dropbox/UrbanTemporalNetworks/rawData/'+select_year+'/'\n",
    "        hubZone = {'JFK': '132', 'LGA': '138', 'PENN': '186'}\n",
    "        processedFileDir = \"../processedData/\"\n",
    "        processedFile = processedFileDir+select_year+'to'+hub\n",
    "        rdd = sc.textFile(dataDir+'*.csv')\n",
    "        granularity = 60\n",
    "        counts = rdd.mapPartitionsWithIndex(processtoHub).reduceByKey(lambda x,y:x+y).\\\n",
    "                    map(lambda x: (x[0][0],x[0][1],x[1])).cache()\n",
    "        df = sqlContext.createDataFrame(counts,['Date','PULocationID','vehicle_count'])\n",
    "        df.repartition(1).write.mode(\"overwrite\").\\\n",
    "            format(\"com.databricks.spark.csv\").option(\"header\", \"true\").save(processedFile)\n",
    "\n",
    "        df = pd.read_csv(processedFile+'/'+[file for file in os.listdir(processedFile) if '.csv' in file and '.crc' not in file][0])\n",
    "\n",
    "\n",
    "        df = pd.pivot_table(df, values='vehicle_count', index=['Date'],\n",
    "                            columns=['PULocationID'], aggfunc=np.sum, fill_value=0).reset_index()\n",
    "        time_range = pd.DataFrame(pd.date_range(start=' %s-01-01'%select_year,end='%s-12-31'%select_year,freq='1h')).rename(columns={0:'Date'})\n",
    "        time_range['Date'] = time_range['Date'].astype(str)\n",
    "\n",
    "        df = df.merge(time_range,on='Date',how='outer').fillna(0).sort_values(by='Date')\n",
    "\n",
    "        df = pd.melt(df,id_vars='Date',var_name='PULocationID',value_name='vehicle_count')\n",
    "        df['Hour'] = df['Date'].apply(lambda x:x.split(' ')[1].split(':')[0])\n",
    "        df['Date'] = df['Date'].apply(lambda x:x.split(' ')[0])\n",
    "\n",
    "        df.to_csv('../processedData/'+hub+'VehicleByHour%stoHub.csv'%select_year,index=False)"
   ]
  },
  {
   "cell_type": "code",
   "execution_count": null,
   "metadata": {},
   "outputs": [],
   "source": []
  }
 ],
 "metadata": {
  "kernelspec": {
   "display_name": "Python 3",
   "language": "python",
   "name": "python3"
  },
  "language_info": {
   "codemirror_mode": {
    "name": "ipython",
    "version": 3
   },
   "file_extension": ".py",
   "mimetype": "text/x-python",
   "name": "python",
   "nbconvert_exporter": "python",
   "pygments_lexer": "ipython3",
   "version": "3.7.6"
  }
 },
 "nbformat": 4,
 "nbformat_minor": 4
}
