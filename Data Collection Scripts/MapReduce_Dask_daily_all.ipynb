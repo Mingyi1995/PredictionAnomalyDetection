{
 "cells": [
  {
   "cell_type": "code",
   "execution_count": 1,
   "metadata": {},
   "outputs": [
    {
     "data": {
      "text/html": [
       "\n",
       "        <div>\n",
       "            <p><b>SparkContext</b></p>\n",
       "\n",
       "            <p><a href=\"http://192.168.0.11:4040\">Spark UI</a></p>\n",
       "\n",
       "            <dl>\n",
       "              <dt>Version</dt>\n",
       "                <dd><code>v2.4.0</code></dd>\n",
       "              <dt>Master</dt>\n",
       "                <dd><code>local[*]</code></dd>\n",
       "              <dt>AppName</dt>\n",
       "                <dd><code>PySparkShell</code></dd>\n",
       "            </dl>\n",
       "        </div>\n",
       "        "
      ],
      "text/plain": [
       "<SparkContext master=local[*] appName=PySparkShell>"
      ]
     },
     "execution_count": 1,
     "metadata": {},
     "output_type": "execute_result"
    }
   ],
   "source": [
    "sc"
   ]
  },
  {
   "cell_type": "code",
   "execution_count": 2,
   "metadata": {},
   "outputs": [],
   "source": [
    "sqlContext = SQLContext(sc)"
   ]
  },
  {
   "cell_type": "code",
   "execution_count": 3,
   "metadata": {},
   "outputs": [],
   "source": [
    "import dask.dataframe as dd\n",
    "from dask import datasets\n",
    "import pandas as pd\n",
    "import datetime\n",
    "import warnings\n",
    "import geopandas as gpd\n",
    "import numpy as np\n",
    "warnings.filterwarnings('ignore')"
   ]
  },
  {
   "cell_type": "code",
   "execution_count": 4,
   "metadata": {},
   "outputs": [
    {
     "name": "stdout",
     "output_type": "stream",
     "text": [
      "/home/mingyi/Dropbox/UrbanTemporalNetworks/Data Collection Scripts\r\n"
     ]
    }
   ],
   "source": [
    "!pwd"
   ]
  },
  {
   "cell_type": "code",
   "execution_count": 5,
   "metadata": {},
   "outputs": [],
   "source": [
    "zone = gpd.read_file('../Data/NYC Taxi Zones.geojson')\n",
    "zones = zone['location_id'].unique()\n"
   ]
  },
  {
   "cell_type": "code",
   "execution_count": 6,
   "metadata": {},
   "outputs": [
    {
     "data": {
      "text/plain": [
       "260"
      ]
     },
     "execution_count": 6,
     "metadata": {},
     "output_type": "execute_result"
    }
   ],
   "source": [
    "len(zones)"
   ]
  },
  {
   "cell_type": "code",
   "execution_count": 11,
   "metadata": {},
   "outputs": [],
   "source": [
    "\n",
    "def processfromHub(pid, record):\n",
    "    import csv\n",
    "    reader = csv.reader(record,delimiter=',')\n",
    "    for row in reader:\n",
    "        if len(row) == 18:\n",
    "            #yellow\n",
    "            PU = row[7]\n",
    "            DO = row[8]\n",
    "            if PU != '' and PU != 'PULocationID' and DO != '' and DO != 'DOLocationID' :\n",
    "                if row[1] != '':\n",
    "                    date = row[1].split(' ')[0]\n",
    "                    year = date.split('-')[0]\n",
    "                    if year == select_year:\n",
    "                        if row[3] != '':\n",
    "                            passenger = int(row[3])\n",
    "                            #DOLocation\n",
    "                            if DO in zones:\n",
    "                                yield ((date,PU,DO),1)\n",
    "\n",
    "        elif len(row) == 20:\n",
    "            #green\n",
    "            PU = row[5]\n",
    "            DO = row[6]\n",
    "            if PU != '' and PU != 'PULocationID' and DO != '' and DO != 'DOLocationID' :\n",
    "                if row[1] != '':\n",
    "                    date = row[1].split(' ')[0]\n",
    "                    year = date.split('-')[0]\n",
    "                    if year == select_year:\n",
    "                        if row[7] != '':\n",
    "                            passenger = int(row[7])\n",
    "                            if DO in zones:\n",
    "                                yield ((date,PU,DO),1)\n",
    "\n",
    "        elif len(row) == 6:\n",
    "            #fhvhv \n",
    "            PU = row[3]\n",
    "            DO = row[4]\n",
    "            if PU != '' and PU != 'PULocationID' and DO != '' and DO != 'DOLocationID' :\n",
    "                date = row[1].split(' ')[0]\n",
    "                if DO != '' and len(DO)<4: \n",
    "                    DO = str(int(row[4]))\n",
    "                    passenger = 1\n",
    "                    yield ((date,PU,DO),1)"
   ]
  },
  {
   "cell_type": "code",
   "execution_count": 13,
   "metadata": {},
   "outputs": [],
   "source": [
    "select_year = '2019'\n",
    "dataDir = '/home/mingyi/Dropbox/UrbanTemporalNetworks/rawData/'+select_year+'/'\n",
    "processedFileDir = \"../processedData/\"\n",
    "processedFile = processedFileDir+select_year+'alltaxizone'\n",
    "rdd = sc.textFile(dataDir+'*.csv')\n",
    "counts = rdd.mapPartitionsWithIndex(processfromHub).reduceByKey(lambda x,y:x+y).\\\n",
    "            map(lambda x: (x[0][0],x[0][1],x[0][2],x[1])).cache()\n",
    "df = sqlContext.createDataFrame(counts,['Date','PULocationID','DOLocationID','vehicle_count'])\n",
    "df.repartition(1).write.mode(\"overwrite\").\\\n",
    "    format(\"com.databricks.spark.csv\").option(\"header\", \"true\").save(processedFile)\n",
    "\n",
    "df = pd.read_csv(processedFile+'/'+[file for file in os.listdir(processedFile) if '.csv' in file and '.crc' not in file][0])\n",
    "\n"
   ]
  },
  {
   "cell_type": "code",
   "execution_count": 15,
   "metadata": {},
   "outputs": [],
   "source": [
    "df.to_csv('ridership.csv',index=False)"
   ]
  }
 ],
 "metadata": {
  "kernelspec": {
   "display_name": "Python 3",
   "language": "python",
   "name": "python3"
  },
  "language_info": {
   "codemirror_mode": {
    "name": "ipython",
    "version": 3
   },
   "file_extension": ".py",
   "mimetype": "text/x-python",
   "name": "python",
   "nbconvert_exporter": "python",
   "pygments_lexer": "ipython3",
   "version": "3.7.6"
  }
 },
 "nbformat": 4,
 "nbformat_minor": 4
}
