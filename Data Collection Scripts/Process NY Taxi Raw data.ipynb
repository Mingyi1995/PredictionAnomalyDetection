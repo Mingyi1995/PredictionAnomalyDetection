{
 "cells": [
  {
   "cell_type": "markdown",
   "metadata": {},
   "source": [
    "### This notebook does the following:\n",
    "- processes raw ridership data\n",
    "- performs feature selection and cleaning\n",
    "- performs hourly aggregation\n",
    "- saves results in one file"
   ]
  },
  {
   "cell_type": "code",
   "execution_count": 1,
   "metadata": {},
   "outputs": [],
   "source": [
    "import pandas as pd\n",
    "import glob\n",
    "import os\n",
    "from datetime import date, timedelta\n",
    "import itertools"
   ]
  },
  {
   "cell_type": "code",
   "execution_count": 33,
   "metadata": {},
   "outputs": [
    {
     "name": "stdout",
     "output_type": "stream",
     "text": [
      "/Users/hemingyi/Documents/UrbanTemporalNetworks/Data Collection Scripts\r\n"
     ]
    }
   ],
   "source": [
    "!pwd"
   ]
  },
  {
   "cell_type": "code",
   "execution_count": 34,
   "metadata": {},
   "outputs": [],
   "source": [
    "# raw data directory\n",
    "dataDir = '/Users/hemingyi/Documents/UrbanTemporalNetworks/rawData/'"
   ]
  },
  {
   "cell_type": "code",
   "execution_count": 35,
   "metadata": {},
   "outputs": [
    {
     "data": {
      "text/plain": [
       "36"
      ]
     },
     "execution_count": 35,
     "metadata": {},
     "output_type": "execute_result"
    }
   ],
   "source": [
    "files = glob.glob(dataDir+'*csv')\n",
    "len(files)"
   ]
  },
  {
   "cell_type": "code",
   "execution_count": null,
   "metadata": {},
   "outputs": [],
   "source": [
    "pd.read_csv(fil)"
   ]
  },
  {
   "cell_type": "markdown",
   "metadata": {},
   "source": [
    "### identify zones of interest"
   ]
  },
  {
   "cell_type": "code",
   "execution_count": 36,
   "metadata": {},
   "outputs": [
    {
     "data": {
      "text/html": [
       "<div>\n",
       "<style scoped>\n",
       "    .dataframe tbody tr th:only-of-type {\n",
       "        vertical-align: middle;\n",
       "    }\n",
       "\n",
       "    .dataframe tbody tr th {\n",
       "        vertical-align: top;\n",
       "    }\n",
       "\n",
       "    .dataframe thead th {\n",
       "        text-align: right;\n",
       "    }\n",
       "</style>\n",
       "<table border=\"1\" class=\"dataframe\">\n",
       "  <thead>\n",
       "    <tr style=\"text-align: right;\">\n",
       "      <th></th>\n",
       "      <th>OBJECTID</th>\n",
       "      <th>Shape_Leng</th>\n",
       "      <th>the_geom</th>\n",
       "      <th>Shape_Area</th>\n",
       "      <th>zone</th>\n",
       "      <th>LocationID</th>\n",
       "      <th>borough</th>\n",
       "    </tr>\n",
       "  </thead>\n",
       "  <tbody>\n",
       "    <tr>\n",
       "      <th>0</th>\n",
       "      <td>1</td>\n",
       "      <td>0.116357</td>\n",
       "      <td>MULTIPOLYGON (((-74.18445299999996 40.69499599...</td>\n",
       "      <td>0.000782</td>\n",
       "      <td>Newark Airport</td>\n",
       "      <td>1</td>\n",
       "      <td>EWR</td>\n",
       "    </tr>\n",
       "    <tr>\n",
       "      <th>1</th>\n",
       "      <td>2</td>\n",
       "      <td>0.433470</td>\n",
       "      <td>MULTIPOLYGON (((-73.82337597260663 40.63898704...</td>\n",
       "      <td>0.004866</td>\n",
       "      <td>Jamaica Bay</td>\n",
       "      <td>2</td>\n",
       "      <td>Queens</td>\n",
       "    </tr>\n",
       "  </tbody>\n",
       "</table>\n",
       "</div>"
      ],
      "text/plain": [
       "   OBJECTID  Shape_Leng                                           the_geom  \\\n",
       "0         1    0.116357  MULTIPOLYGON (((-74.18445299999996 40.69499599...   \n",
       "1         2    0.433470  MULTIPOLYGON (((-73.82337597260663 40.63898704...   \n",
       "\n",
       "   Shape_Area            zone  LocationID borough  \n",
       "0    0.000782  Newark Airport           1     EWR  \n",
       "1    0.004866     Jamaica Bay           2  Queens  "
      ]
     },
     "execution_count": 36,
     "metadata": {},
     "output_type": "execute_result"
    }
   ],
   "source": [
    "zones = pd.read_csv('../Data/taxi_zones.csv')\n",
    "zones.head(2)"
   ]
  },
  {
   "cell_type": "code",
   "execution_count": 37,
   "metadata": {},
   "outputs": [
    {
     "data": {
      "text/html": [
       "<div>\n",
       "<style scoped>\n",
       "    .dataframe tbody tr th:only-of-type {\n",
       "        vertical-align: middle;\n",
       "    }\n",
       "\n",
       "    .dataframe tbody tr th {\n",
       "        vertical-align: top;\n",
       "    }\n",
       "\n",
       "    .dataframe thead th {\n",
       "        text-align: right;\n",
       "    }\n",
       "</style>\n",
       "<table border=\"1\" class=\"dataframe\">\n",
       "  <thead>\n",
       "    <tr style=\"text-align: right;\">\n",
       "      <th></th>\n",
       "      <th>zone</th>\n",
       "      <th>LocationID</th>\n",
       "    </tr>\n",
       "  </thead>\n",
       "  <tbody>\n",
       "    <tr>\n",
       "      <th>0</th>\n",
       "      <td>Newark Airport</td>\n",
       "      <td>1</td>\n",
       "    </tr>\n",
       "    <tr>\n",
       "      <th>136</th>\n",
       "      <td>JFK Airport</td>\n",
       "      <td>132</td>\n",
       "    </tr>\n",
       "    <tr>\n",
       "      <th>145</th>\n",
       "      <td>LaGuardia Airport</td>\n",
       "      <td>138</td>\n",
       "    </tr>\n",
       "  </tbody>\n",
       "</table>\n",
       "</div>"
      ],
      "text/plain": [
       "                  zone  LocationID\n",
       "0       Newark Airport           1\n",
       "136        JFK Airport         132\n",
       "145  LaGuardia Airport         138"
      ]
     },
     "execution_count": 37,
     "metadata": {},
     "output_type": "execute_result"
    }
   ],
   "source": [
    "zones[zones.zone.apply(lambda x: 'Airport' in x)][['zone','LocationID']]"
   ]
  },
  {
   "cell_type": "code",
   "execution_count": 38,
   "metadata": {},
   "outputs": [
    {
     "data": {
      "text/html": [
       "<div>\n",
       "<style scoped>\n",
       "    .dataframe tbody tr th:only-of-type {\n",
       "        vertical-align: middle;\n",
       "    }\n",
       "\n",
       "    .dataframe tbody tr th {\n",
       "        vertical-align: top;\n",
       "    }\n",
       "\n",
       "    .dataframe thead th {\n",
       "        text-align: right;\n",
       "    }\n",
       "</style>\n",
       "<table border=\"1\" class=\"dataframe\">\n",
       "  <thead>\n",
       "    <tr style=\"text-align: right;\">\n",
       "      <th></th>\n",
       "      <th>zone</th>\n",
       "      <th>LocationID</th>\n",
       "    </tr>\n",
       "  </thead>\n",
       "  <tbody>\n",
       "    <tr>\n",
       "      <th>185</th>\n",
       "      <td>Penn Station/Madison Sq West</td>\n",
       "      <td>186</td>\n",
       "    </tr>\n",
       "  </tbody>\n",
       "</table>\n",
       "</div>"
      ],
      "text/plain": [
       "                             zone  LocationID\n",
       "185  Penn Station/Madison Sq West         186"
      ]
     },
     "execution_count": 38,
     "metadata": {},
     "output_type": "execute_result"
    }
   ],
   "source": [
    "zones[zones.zone.apply(lambda x: 'Station' in x)][['zone','LocationID']]"
   ]
  },
  {
   "cell_type": "code",
   "execution_count": 39,
   "metadata": {},
   "outputs": [
    {
     "data": {
      "text/plain": [
       "{'Jfk': 132, 'Lga': 138, 'Penn': 186, 'EWR': 1}"
      ]
     },
     "execution_count": 39,
     "metadata": {},
     "output_type": "execute_result"
    }
   ],
   "source": [
    "zone_dict = {'Jfk':  132,\n",
    "'Lga' : 138,\n",
    "'Penn' : 186,\n",
    "'EWR':1}\n",
    "zone_dict"
   ]
  },
  {
   "cell_type": "markdown",
   "metadata": {},
   "source": [
    "### Run following script for each hub"
   ]
  },
  {
   "cell_type": "code",
   "execution_count": 40,
   "metadata": {},
   "outputs": [
    {
     "data": {
      "text/plain": [
       "1"
      ]
     },
     "execution_count": 40,
     "metadata": {},
     "output_type": "execute_result"
    }
   ],
   "source": [
    "hub = 'Penn'\n",
    "zone = zone_dict[hub]\n",
    "zone"
   ]
  },
  {
   "cell_type": "code",
   "execution_count": 41,
   "metadata": {},
   "outputs": [],
   "source": [
    "processedFileDir = \"../processedData/\"\n",
    "processedFile = processedFileDir+hub+\"VehicleByHour.csv\""
   ]
  },
  {
   "cell_type": "code",
   "execution_count": 42,
   "metadata": {},
   "outputs": [
    {
     "data": {
      "text/plain": [
       "259"
      ]
     },
     "execution_count": 42,
     "metadata": {},
     "output_type": "execute_result"
    }
   ],
   "source": [
    "validDestZones = list(set([z for z in zones.LocationID if z != zone]))\n",
    "len(validDestZones)"
   ]
  },
  {
   "cell_type": "code",
   "execution_count": 20,
   "metadata": {
    "scrolled": true
   },
   "outputs": [
    {
     "name": "stdout",
     "output_type": "stream",
     "text": [
      "Processing green_tripdata_2018-06.csv\n",
      "DataFrame Shape: (739373, 19)\n",
      "JFK out DataFrame Shape: (0, 19)\n",
      "Aggregated DataFrame Shape: (0, 4)\n",
      "Empty DataFrame\n",
      "Columns: [Date, Hour, DOLocationID, vehicle_count]\n",
      "Index: []\n",
      "create results file...\n",
      "file saved..\n",
      "------------------------------------------------\n",
      "Processing green_tripdata_2018-12.csv\n",
      "DataFrame Shape: (685373, 19)\n",
      "JFK out DataFrame Shape: (0, 19)\n",
      "Aggregated DataFrame Shape: (0, 4)\n",
      "Empty DataFrame\n",
      "Columns: [Date, Hour, DOLocationID, vehicle_count]\n",
      "Index: []\n",
      "append to results...\n",
      "file saved..\n",
      "------------------------------------------------\n",
      "Processing green_tripdata_2018-07.csv\n",
      "DataFrame Shape: (684455, 19)\n",
      "JFK out DataFrame Shape: (0, 19)\n",
      "Aggregated DataFrame Shape: (0, 4)\n",
      "Empty DataFrame\n",
      "Columns: [Date, Hour, DOLocationID, vehicle_count]\n",
      "Index: []\n",
      "append to results...\n",
      "file saved..\n",
      "------------------------------------------------\n",
      "Processing green_tripdata_2018-11.csv\n",
      "DataFrame Shape: (656573, 19)\n",
      "JFK out DataFrame Shape: (0, 19)\n",
      "Aggregated DataFrame Shape: (0, 4)\n",
      "Empty DataFrame\n",
      "Columns: [Date, Hour, DOLocationID, vehicle_count]\n",
      "Index: []\n",
      "append to results...\n",
      "file saved..\n",
      "------------------------------------------------\n",
      "Processing green_tripdata_2018-05.csv\n",
      "DataFrame Shape: (797233, 19)\n",
      "JFK out DataFrame Shape: (0, 19)\n",
      "Aggregated DataFrame Shape: (0, 4)\n",
      "Empty DataFrame\n",
      "Columns: [Date, Hour, DOLocationID, vehicle_count]\n",
      "Index: []\n",
      "append to results...\n",
      "file saved..\n",
      "------------------------------------------------\n",
      "Processing green_tripdata_2018-04.csv\n",
      "DataFrame Shape: (800084, 19)\n",
      "JFK out DataFrame Shape: (1, 19)\n",
      "Aggregated DataFrame Shape: (1, 4)\n",
      "         Date  Hour  DOLocationID  vehicle_count\n",
      "0  2018-04-17    16            66              1\n",
      "append to results...\n",
      "file saved..\n",
      "------------------------------------------------\n",
      "Processing green_tripdata_2018-10.csv\n",
      "DataFrame Shape: (710510, 19)\n",
      "JFK out DataFrame Shape: (0, 19)\n",
      "Aggregated DataFrame Shape: (0, 4)\n",
      "Empty DataFrame\n",
      "Columns: [Date, Hour, DOLocationID, vehicle_count]\n",
      "Index: []\n",
      "append to results...\n",
      "file saved..\n",
      "------------------------------------------------\n",
      "Processing yellow_tripdata_2018-08.csv\n",
      "DataFrame Shape: (7849134, 17)\n",
      "JFK out DataFrame Shape: (24, 17)\n",
      "Aggregated DataFrame Shape: (24, 4)\n",
      "         Date  Hour  DOLocationID  vehicle_count\n",
      "0  2018-08-03     8            80              1\n",
      "1  2018-08-04    17           230              1\n",
      "2  2018-08-04    20            50              1\n",
      "append to results...\n",
      "file saved..\n",
      "------------------------------------------------\n",
      "Processing green_tripdata_2018-01.csv\n",
      "DataFrame Shape: (793529, 19)\n",
      "JFK out DataFrame Shape: (1, 19)\n",
      "Aggregated DataFrame Shape: (1, 4)\n",
      "         Date  Hour  DOLocationID  vehicle_count\n",
      "0  2018-01-02    19            66              1\n",
      "append to results...\n",
      "file saved..\n",
      "------------------------------------------------\n",
      "Processing yellow_tripdata_2018-09.csv\n",
      "DataFrame Shape: (8040133, 17)\n",
      "JFK out DataFrame Shape: (34, 17)\n",
      "Aggregated DataFrame Shape: (34, 4)\n",
      "         Date  Hour  DOLocationID  vehicle_count\n",
      "0  2018-09-01    17            93              1\n",
      "1  2018-09-02    11           231              1\n",
      "2  2018-09-03     9           186              1\n",
      "append to results...\n",
      "file saved..\n",
      "------------------------------------------------\n",
      "Processing fhv_tripdata_2018-08.csv\n",
      "DataFrame Shape: (22116391, 7)\n",
      "JFK out DataFrame Shape: (2093, 8)\n",
      "Aggregated DataFrame Shape: (2009, 4)\n",
      "         Date  Hour  DOLocationID  vehicle_count\n",
      "0  2018-08-01     0           137              1\n",
      "1  2018-08-01     0           142              1\n",
      "2  2018-08-01     0           229              1\n",
      "append to results...\n",
      "file saved..\n",
      "------------------------------------------------\n",
      "Processing green_tripdata_2018-03.csv\n",
      "DataFrame Shape: (837149, 19)\n",
      "JFK out DataFrame Shape: (0, 19)\n",
      "Aggregated DataFrame Shape: (0, 4)\n",
      "Empty DataFrame\n",
      "Columns: [Date, Hour, DOLocationID, vehicle_count]\n",
      "Index: []\n",
      "append to results...\n",
      "file saved..\n",
      "------------------------------------------------\n",
      "Processing green_tripdata_2018-02.csv\n",
      "DataFrame Shape: (769940, 19)\n",
      "JFK out DataFrame Shape: (0, 19)\n",
      "Aggregated DataFrame Shape: (0, 4)\n",
      "Empty DataFrame\n",
      "Columns: [Date, Hour, DOLocationID, vehicle_count]\n",
      "Index: []\n",
      "append to results...\n",
      "file saved..\n",
      "------------------------------------------------\n",
      "Processing fhv_tripdata_2018-09.csv\n",
      "DataFrame Shape: (22147421, 7)\n",
      "JFK out DataFrame Shape: (2264, 8)\n",
      "Aggregated DataFrame Shape: (2173, 4)\n",
      "         Date  Hour  DOLocationID  vehicle_count\n",
      "0  2018-09-01     0           236              1\n",
      "1  2018-09-01     1           143              1\n",
      "2  2018-09-01     1           224              1\n",
      "append to results...\n",
      "file saved..\n",
      "------------------------------------------------\n",
      "Processing yellow_tripdata_2018-07.csv\n",
      "DataFrame Shape: (7849748, 17)\n",
      "JFK out DataFrame Shape: (24, 17)\n",
      "Aggregated DataFrame Shape: (24, 4)\n",
      "         Date  Hour  DOLocationID  vehicle_count\n",
      "0  2018-07-02    10           125              1\n",
      "1  2018-07-03    22            75              1\n",
      "2  2018-07-04    15           237              1\n",
      "append to results...\n",
      "file saved..\n",
      "------------------------------------------------\n",
      "Processing fhv_tripdata_2018-04.csv\n",
      "DataFrame Shape: (21049377, 7)\n",
      "JFK out DataFrame Shape: (2499, 8)\n",
      "Aggregated DataFrame Shape: (2388, 4)\n",
      "         Date  Hour  DOLocationID  vehicle_count\n",
      "0  2018-04-01     0           113              1\n",
      "1  2018-04-01     1           181              1\n",
      "2  2018-04-01     5           137              1\n",
      "append to results...\n",
      "file saved..\n",
      "------------------------------------------------\n",
      "Processing fhv_tripdata_2018-10.csv\n",
      "DataFrame Shape: (23286795, 7)\n",
      "JFK out DataFrame Shape: (2309, 8)\n",
      "Aggregated DataFrame Shape: (2209, 4)\n",
      "         Date  Hour  DOLocationID  vehicle_count\n",
      "0  2018-10-01     0            62              1\n",
      "1  2018-10-01     0            79              1\n",
      "2  2018-10-01     0            80              1\n",
      "append to results...\n",
      "file saved..\n",
      "------------------------------------------------\n",
      "Processing fhv_tripdata_2018-11.csv\n",
      "DataFrame Shape: (22870474, 7)\n",
      "JFK out DataFrame Shape: (2353, 8)\n",
      "Aggregated DataFrame Shape: (2239, 4)\n",
      "         Date  Hour  DOLocationID  vehicle_count\n",
      "0  2018-11-01     1            68              1\n",
      "1  2018-11-01     2            87              1\n",
      "2  2018-11-01     4           140              1\n",
      "append to results...\n",
      "file saved..\n",
      "------------------------------------------------\n",
      "Processing fhv_tripdata_2018-05.csv\n",
      "DataFrame Shape: (21565692, 7)\n",
      "JFK out DataFrame Shape: (2558, 8)\n",
      "Aggregated DataFrame Shape: (2429, 4)\n",
      "         Date  Hour  DOLocationID  vehicle_count\n",
      "0  2018-05-01     0            22              1\n",
      "1  2018-05-01     0           158              1\n",
      "2  2018-05-01     1           262              1\n",
      "append to results...\n",
      "file saved..\n",
      "------------------------------------------------\n",
      "Processing yellow_tripdata_2018-12.csv\n",
      "DataFrame Shape: (8173231, 17)\n",
      "JFK out DataFrame Shape: (29, 17)\n",
      "Aggregated DataFrame Shape: (29, 4)\n",
      "         Date  Hour  DOLocationID  vehicle_count\n",
      "0  2018-12-01    17           231              1\n",
      "1  2018-12-02     5           138              1\n",
      "2  2018-12-03     9           142              1\n",
      "append to results...\n",
      "file saved..\n",
      "------------------------------------------------\n",
      "Processing yellow_tripdata_2018-06.csv\n",
      "DataFrame Shape: (8713831, 17)\n",
      "JFK out DataFrame Shape: (22, 17)\n",
      "Aggregated DataFrame Shape: (22, 4)\n",
      "         Date  Hour  DOLocationID  vehicle_count\n",
      "0  2018-06-03    11           113              1\n",
      "1  2018-06-04     9            13              1\n",
      "2  2018-06-06    14           125              1\n",
      "append to results...\n",
      "file saved..\n",
      "------------------------------------------------\n",
      "Processing yellow_tripdata_2018-10.csv\n",
      "DataFrame Shape: (8821105, 17)\n",
      "JFK out DataFrame Shape: (27, 17)\n",
      "Aggregated DataFrame Shape: (25, 4)\n",
      "         Date  Hour  DOLocationID  vehicle_count\n",
      "0  2018-10-01    13           121              1\n",
      "1  2018-10-01    14           231              1\n",
      "2  2018-10-02     5           144              1\n",
      "append to results...\n",
      "file saved..\n",
      "------------------------------------------------\n",
      "Processing yellow_tripdata_2018-04.csv\n",
      "DataFrame Shape: (9305515, 17)\n",
      "JFK out DataFrame Shape: (23, 17)\n",
      "Aggregated DataFrame Shape: (23, 4)\n",
      "         Date  Hour  DOLocationID  vehicle_count\n",
      "0  2018-04-01    14           132              1\n",
      "1  2018-04-01    19            48              1\n",
      "2  2018-04-02    13           144              1\n",
      "append to results...\n",
      "file saved..\n",
      "------------------------------------------------\n",
      "Processing fhv_tripdata_2018-07.csv\n"
     ]
    },
    {
     "name": "stdout",
     "output_type": "stream",
     "text": [
      "DataFrame Shape: (21596443, 7)\n",
      "JFK out DataFrame Shape: (2190, 8)\n",
      "Aggregated DataFrame Shape: (2106, 4)\n",
      "         Date  Hour  DOLocationID  vehicle_count\n",
      "0  2018-07-01     0            41              1\n",
      "1  2018-07-01     0            79              1\n",
      "2  2018-07-01     0           140              2\n",
      "append to results...\n",
      "file saved..\n",
      "------------------------------------------------\n",
      "Processing fhv_tripdata_2018-06.csv\n",
      "DataFrame Shape: (21135283, 7)\n",
      "JFK out DataFrame Shape: (2069, 8)\n",
      "Aggregated DataFrame Shape: (1992, 4)\n",
      "         Date  Hour  DOLocationID  vehicle_count\n",
      "0  2018-06-01     0            13              1\n",
      "1  2018-06-01     0           107              1\n",
      "2  2018-06-01     0           113              1\n",
      "append to results...\n",
      "file saved..\n",
      "------------------------------------------------\n",
      "Processing fhv_tripdata_2018-12.csv\n",
      "DataFrame Shape: (23854144, 7)\n",
      "JFK out DataFrame Shape: (2680, 8)\n",
      "Aggregated DataFrame Shape: (2557, 4)\n",
      "         Date  Hour  DOLocationID  vehicle_count\n",
      "0  2018-12-01     0            23              1\n",
      "1  2018-12-01     0            79              1\n",
      "2  2018-12-01     1            48              1\n",
      "append to results...\n",
      "file saved..\n",
      "------------------------------------------------\n",
      "Processing yellow_tripdata_2018-05.csv\n",
      "DataFrame Shape: (9224063, 17)\n",
      "JFK out DataFrame Shape: (26, 17)\n",
      "Aggregated DataFrame Shape: (25, 4)\n",
      "         Date  Hour  DOLocationID  vehicle_count\n",
      "0  2018-05-02    10           246              1\n",
      "1  2018-05-03    19           112              1\n",
      "2  2018-05-03    22           249              1\n",
      "append to results...\n",
      "file saved..\n",
      "------------------------------------------------\n",
      "Processing yellow_tripdata_2018-11.csv\n",
      "DataFrame Shape: (8145164, 17)\n",
      "JFK out DataFrame Shape: (28, 17)\n",
      "Aggregated DataFrame Shape: (28, 4)\n",
      "         Date  Hour  DOLocationID  vehicle_count\n",
      "0  2018-11-01     0             4              1\n",
      "1  2018-11-04    14           132              1\n",
      "2  2018-11-04    18           237              1\n",
      "append to results...\n",
      "file saved..\n",
      "------------------------------------------------\n",
      "Processing yellow_tripdata_2018-01.csv\n",
      "DataFrame Shape: (8759874, 17)\n",
      "JFK out DataFrame Shape: (17, 17)\n",
      "Aggregated DataFrame Shape: (17, 4)\n",
      "         Date  Hour  DOLocationID  vehicle_count\n",
      "0  2018-01-01     7           197              1\n",
      "1  2018-01-01    11           132              1\n",
      "2  2018-01-02     9            50              1\n",
      "append to results...\n",
      "file saved..\n",
      "------------------------------------------------\n",
      "Processing green_tripdata_2018-09.csv\n",
      "DataFrame Shape: (666708, 19)\n",
      "JFK out DataFrame Shape: (0, 19)\n",
      "Aggregated DataFrame Shape: (0, 4)\n",
      "Empty DataFrame\n",
      "Columns: [Date, Hour, DOLocationID, vehicle_count]\n",
      "Index: []\n",
      "append to results...\n",
      "file saved..\n",
      "------------------------------------------------\n",
      "Processing fhv_tripdata_2018-02.csv\n",
      "DataFrame Shape: (19350693, 7)\n",
      "JFK out DataFrame Shape: (2169, 8)\n",
      "Aggregated DataFrame Shape: (2057, 4)\n",
      "         Date  Hour  DOLocationID  vehicle_count\n",
      "0  2018-02-01     1            10              1\n",
      "1  2018-02-01     1            70              1\n",
      "2  2018-02-01     1            79              1\n",
      "append to results...\n",
      "file saved..\n",
      "------------------------------------------------\n",
      "Processing fhv_tripdata_2018-03.csv\n",
      "DataFrame Shape: (21985249, 7)\n",
      "JFK out DataFrame Shape: (2252, 8)\n",
      "Aggregated DataFrame Shape: (2167, 4)\n",
      "         Date  Hour  DOLocationID  vehicle_count\n",
      "0  2018-03-01     0           127              1\n",
      "1  2018-03-01     1           238              1\n",
      "2  2018-03-01     4            13              1\n",
      "append to results...\n",
      "file saved..\n",
      "------------------------------------------------\n",
      "Processing green_tripdata_2018-08.csv\n",
      "DataFrame Shape: (666376, 19)\n",
      "JFK out DataFrame Shape: (0, 19)\n",
      "Aggregated DataFrame Shape: (0, 4)\n",
      "Empty DataFrame\n",
      "Columns: [Date, Hour, DOLocationID, vehicle_count]\n",
      "Index: []\n",
      "append to results...\n",
      "file saved..\n",
      "------------------------------------------------\n",
      "Processing yellow_tripdata_2018-02.csv\n",
      "DataFrame Shape: (8492076, 17)\n",
      "JFK out DataFrame Shape: (14, 17)\n",
      "Aggregated DataFrame Shape: (14, 4)\n",
      "         Date  Hour  DOLocationID  vehicle_count\n",
      "0  2018-02-02    17           186              1\n",
      "1  2018-02-05     6           158              1\n",
      "2  2018-02-05     7           237              1\n",
      "append to results...\n",
      "file saved..\n",
      "------------------------------------------------\n",
      "Processing fhv_tripdata_2018-01.csv\n",
      "DataFrame Shape: (19808094, 7)\n",
      "JFK out DataFrame Shape: (2566, 8)\n",
      "Aggregated DataFrame Shape: (2409, 4)\n",
      "         Date  Hour  DOLocationID  vehicle_count\n",
      "0  2018-01-01     0           162              2\n",
      "1  2018-01-01     0           239              1\n",
      "2  2018-01-01     0           257              1\n",
      "append to results...\n",
      "file saved..\n",
      "------------------------------------------------\n",
      "Processing yellow_tripdata_2018-03.csv\n",
      "DataFrame Shape: (9430376, 17)\n",
      "JFK out DataFrame Shape: (24, 17)\n",
      "Aggregated DataFrame Shape: (24, 4)\n",
      "         Date  Hour  DOLocationID  vehicle_count\n",
      "0  2018-03-02    10           230              1\n",
      "1  2018-03-02    16            41              1\n",
      "2  2018-03-04    13           170              1\n",
      "append to results...\n",
      "file saved..\n",
      "------------------------------------------------\n"
     ]
    }
   ],
   "source": [
    "for file in files:\n",
    "    print(\"Processing \"+str(file).split('/')[-1])\n",
    "    \n",
    "    vehicleType = str(file).split('/')[-1].split('_')[0]\n",
    "    df = pd.read_csv(file)\n",
    "    print(\"DataFrame Shape: \"+str(df.shape))\n",
    "    \n",
    "    # rename columns for consistency\n",
    "    # set passenger count to 1 for fhv\n",
    "    if vehicleType == 'fhv':\n",
    "        df.rename(columns={'Pickup_DateTime': 'tpep_pickup_datetime', \\\n",
    "                           'PUlocationID':'PULocationID', 'DOlocationID':'DOLocationID' },inplace=True)\n",
    "        df['passenger_count'] = 1\n",
    "        \n",
    "    if vehicleType == 'green':\n",
    "        df.rename(columns={'lpep_pickup_datetime': 'tpep_pickup_datetime'},inplace=True)\n",
    "\n",
    "\n",
    "    # treat for na values\n",
    "    df = df.dropna(subset=['tpep_pickup_datetime','PULocationID', 'DOLocationID'])\n",
    "    df.fillna(value={'passenger_count':1}, inplace = True)\n",
    "    \n",
    "    # correct data types\n",
    "    df['PULocationID'] = df['PULocationID'].astype('int')\n",
    "    df['DOLocationID'] = df['DOLocationID'].astype('int')\n",
    "    \n",
    "    # filter to get outgoing traffic from selected hub\n",
    "    df = df[(df['PULocationID'] == zone) & (df['DOLocationID'].apply(lambda x: x in validDestZones))]\n",
    "    print(\"JFK out DataFrame Shape: \"+str(df.shape))\n",
    "    \n",
    "    # treat datetime\n",
    "    df['tpep_pickup_datetime'] = pd.to_datetime(df['tpep_pickup_datetime'])\n",
    "    df['Date'] = df['tpep_pickup_datetime'].dt.date\n",
    "    df['Hour'] = df['tpep_pickup_datetime'].dt.hour\n",
    "    \n",
    "    #df['vehicle_type'] = vehicleType\n",
    "    \n",
    "    # select rquired columns\n",
    "    #df = df[['vehicle_type', 'Date', 'Hour', 'DOLocationID','passenger_count']]\n",
    "    df = df[['Date', 'Hour', 'DOLocationID','passenger_count']]\n",
    "    \n",
    "    # Hourly aggregation\n",
    "    #df_count = df.groupby(['vehicle_type', 'Date', 'Hour', 'DOLocationID']).count().reset_index()\n",
    "    df_count = df.groupby(['Date', 'Hour', 'DOLocationID']).count().reset_index()\n",
    "    df_count.rename(columns={'passenger_count': 'vehicle_count'},inplace=True)\n",
    "\n",
    "    #df_sum = df.groupby(['vehicle_type', 'Date', 'Hour', 'DOLocationID']).sum().reset_index()\n",
    "\n",
    "    #aggregatedDf = pd.merge(df_count,df_sum, on=['vehicle_type', 'Date', 'Hour', 'DOLocationID'], how='inner')\n",
    "    aggregatedDf = df_count\n",
    "    \n",
    "    print(\"Aggregated DataFrame Shape: \"+str(aggregatedDf.shape))\n",
    "    print(aggregatedDf.head(3))\n",
    "    # save file\n",
    "    if os.path.exists(processedFile):\n",
    "        print('append to results...')\n",
    "        aggregatedDf.to_csv(processedFile,index=False, header=False, mode='a+')      \n",
    "    else:\n",
    "        print('create results file...')\n",
    "        aggregatedDf.to_csv(processedFile,index=False)\n",
    "    print('file saved..')\n",
    "    print(\"------------------------------------------------\")"
   ]
  },
  {
   "cell_type": "markdown",
   "metadata": {},
   "source": [
    "### Further processing"
   ]
  },
  {
   "cell_type": "code",
   "execution_count": 21,
   "metadata": {},
   "outputs": [],
   "source": [
    "def getcCompleteGridDf(minDate,maxDate, locations):\n",
    "    minDate = [int(x) for x in minDate.split('-')]\n",
    "    maxDate = [int(x) for x in maxDate.split('-')]\n",
    "    sdate = date(minDate[0], minDate[1], minDate[2])   \n",
    "    edate = date(maxDate[0], maxDate[1], maxDate[2])    \n",
    "\n",
    "    delta = edate - sdate       \n",
    "    days = []\n",
    "    for i in range(delta.days + 1):\n",
    "        days.append(sdate + timedelta(days=i))\n",
    "    hours = list(range(24))\n",
    "    print(len(days))\n",
    "    print(len(hours))\n",
    "    \n",
    "    combList = list(itertools.product(*[days,hours,locations]))\n",
    "    dfList = [{'Date':d, 'Hour':h, 'DOLocationID':l} for d,h,l in combList]\n",
    " \n",
    "    dateHourDf = pd.DataFrame(dfList)\n",
    "    dateHourDf['Date'] = pd.to_datetime(dateHourDf['Date']).dt.date\n",
    "    return dateHourDf"
   ]
  },
  {
   "cell_type": "code",
   "execution_count": 22,
   "metadata": {},
   "outputs": [
    {
     "data": {
      "text/html": [
       "<div>\n",
       "<style scoped>\n",
       "    .dataframe tbody tr th:only-of-type {\n",
       "        vertical-align: middle;\n",
       "    }\n",
       "\n",
       "    .dataframe tbody tr th {\n",
       "        vertical-align: top;\n",
       "    }\n",
       "\n",
       "    .dataframe thead th {\n",
       "        text-align: right;\n",
       "    }\n",
       "</style>\n",
       "<table border=\"1\" class=\"dataframe\">\n",
       "  <thead>\n",
       "    <tr style=\"text-align: right;\">\n",
       "      <th></th>\n",
       "      <th>Date</th>\n",
       "      <th>Hour</th>\n",
       "      <th>DOLocationID</th>\n",
       "      <th>vehicle_count</th>\n",
       "    </tr>\n",
       "  </thead>\n",
       "  <tbody>\n",
       "    <tr>\n",
       "      <th>0</th>\n",
       "      <td>2018-04-17</td>\n",
       "      <td>16</td>\n",
       "      <td>66</td>\n",
       "      <td>1</td>\n",
       "    </tr>\n",
       "    <tr>\n",
       "      <th>1</th>\n",
       "      <td>2018-08-03</td>\n",
       "      <td>8</td>\n",
       "      <td>80</td>\n",
       "      <td>1</td>\n",
       "    </tr>\n",
       "  </tbody>\n",
       "</table>\n",
       "</div>"
      ],
      "text/plain": [
       "         Date  Hour  DOLocationID  vehicle_count\n",
       "0  2018-04-17    16            66              1\n",
       "1  2018-08-03     8            80              1"
      ]
     },
     "execution_count": 22,
     "metadata": {},
     "output_type": "execute_result"
    }
   ],
   "source": [
    "processedDf = pd.read_csv(processedFile)\n",
    "processedDf.head(2)"
   ]
  },
  {
   "cell_type": "code",
   "execution_count": 23,
   "metadata": {},
   "outputs": [
    {
     "data": {
      "text/plain": [
       "(27026, 4)"
      ]
     },
     "execution_count": 23,
     "metadata": {},
     "output_type": "execute_result"
    }
   ],
   "source": [
    "processedDf.shape"
   ]
  },
  {
   "cell_type": "code",
   "execution_count": 24,
   "metadata": {},
   "outputs": [
    {
     "data": {
      "text/plain": [
       "(27013, 4)"
      ]
     },
     "execution_count": 24,
     "metadata": {},
     "output_type": "execute_result"
    }
   ],
   "source": [
    "# ensuring proper grouping since files were grouped by independently\n",
    "processedDf = processedDf.groupby(['Date', 'Hour', 'DOLocationID']).sum().reset_index()\n",
    "processedDf.shape"
   ]
  },
  {
   "cell_type": "code",
   "execution_count": 25,
   "metadata": {},
   "outputs": [
    {
     "data": {
      "text/plain": [
       "(27013, 4)"
      ]
     },
     "execution_count": 25,
     "metadata": {},
     "output_type": "execute_result"
    }
   ],
   "source": [
    "# sanity checks\n",
    "validYears = [2018]\n",
    "processedDf = processedDf[processedDf.Date.apply(lambda x: int(x.split('-')[0]) in validYears)]\n",
    "\n",
    "validMonths = list(range(1,13))\n",
    "processedDf = processedDf[processedDf.Date.apply(lambda x: int(x.split('-')[1]) in validMonths)]\n",
    "\n",
    "processedDf.shape    "
   ]
  },
  {
   "cell_type": "code",
   "execution_count": 26,
   "metadata": {},
   "outputs": [
    {
     "name": "stdout",
     "output_type": "stream",
     "text": [
      "228\n",
      "365\n",
      "24\n"
     ]
    },
    {
     "data": {
      "text/plain": [
       "(1997280, 3)"
      ]
     },
     "execution_count": 26,
     "metadata": {},
     "output_type": "execute_result"
    }
   ],
   "source": [
    "minDate, maxDate = (processedDf.Date.min(), processedDf.Date.max()) \n",
    "#v_types = list(set(processedDf.vehicle_type))\n",
    "locations = list(set(processedDf.DOLocationID))\n",
    "\n",
    "#print(len(v_types))\n",
    "print(len(locations))\n",
    "\n",
    "dateHourDf = getcCompleteGridDf(minDate,maxDate,locations)\n",
    "dateHourDf.shape"
   ]
  },
  {
   "cell_type": "code",
   "execution_count": 27,
   "metadata": {},
   "outputs": [],
   "source": [
    "dateHourDf['Date'] = pd.to_datetime(dateHourDf['Date'])\n",
    "processedDf['Date'] = pd.to_datetime(processedDf['Date'])"
   ]
  },
  {
   "cell_type": "code",
   "execution_count": 28,
   "metadata": {},
   "outputs": [
    {
     "name": "stdout",
     "output_type": "stream",
     "text": [
      "(1997280, 4)\n"
     ]
    },
    {
     "data": {
      "text/html": [
       "<div>\n",
       "<style scoped>\n",
       "    .dataframe tbody tr th:only-of-type {\n",
       "        vertical-align: middle;\n",
       "    }\n",
       "\n",
       "    .dataframe tbody tr th {\n",
       "        vertical-align: top;\n",
       "    }\n",
       "\n",
       "    .dataframe thead th {\n",
       "        text-align: right;\n",
       "    }\n",
       "</style>\n",
       "<table border=\"1\" class=\"dataframe\">\n",
       "  <thead>\n",
       "    <tr style=\"text-align: right;\">\n",
       "      <th></th>\n",
       "      <th>DOLocationID</th>\n",
       "      <th>Date</th>\n",
       "      <th>Hour</th>\n",
       "      <th>vehicle_count</th>\n",
       "    </tr>\n",
       "  </thead>\n",
       "  <tbody>\n",
       "    <tr>\n",
       "      <th>0</th>\n",
       "      <td>3</td>\n",
       "      <td>2018-01-01</td>\n",
       "      <td>0</td>\n",
       "      <td>0.0</td>\n",
       "    </tr>\n",
       "    <tr>\n",
       "      <th>1</th>\n",
       "      <td>4</td>\n",
       "      <td>2018-01-01</td>\n",
       "      <td>0</td>\n",
       "      <td>0.0</td>\n",
       "    </tr>\n",
       "    <tr>\n",
       "      <th>2</th>\n",
       "      <td>5</td>\n",
       "      <td>2018-01-01</td>\n",
       "      <td>0</td>\n",
       "      <td>0.0</td>\n",
       "    </tr>\n",
       "  </tbody>\n",
       "</table>\n",
       "</div>"
      ],
      "text/plain": [
       "   DOLocationID        Date  Hour  vehicle_count\n",
       "0             3  2018-01-01     0            0.0\n",
       "1             4  2018-01-01     0            0.0\n",
       "2             5  2018-01-01     0            0.0"
      ]
     },
     "execution_count": 28,
     "metadata": {},
     "output_type": "execute_result"
    }
   ],
   "source": [
    "mergedDf = pd.merge(dateHourDf,processedDf, on=['Date', 'Hour', 'DOLocationID'], how='left')\n",
    "mergedDf.fillna(0, inplace=True)\n",
    "mergedDf['Date'] = mergedDf['Date'].dt.date\n",
    "print(mergedDf.shape)\n",
    "mergedDf.head(3)"
   ]
  },
  {
   "cell_type": "code",
   "execution_count": 29,
   "metadata": {},
   "outputs": [
    {
     "name": "stdout",
     "output_type": "stream",
     "text": [
      "28296\n",
      "28296.0\n"
     ]
    }
   ],
   "source": [
    "# sanity check\n",
    "print(processedDf.vehicle_count.sum())\n",
    "print(mergedDf.vehicle_count.sum())"
   ]
  },
  {
   "cell_type": "code",
   "execution_count": 30,
   "metadata": {},
   "outputs": [
    {
     "data": {
      "text/plain": [
       "2266272"
      ]
     },
     "execution_count": 30,
     "metadata": {},
     "output_type": "execute_result"
    }
   ],
   "source": [
    "# sanity check for size of new dataframe\n",
    "366*258*24"
   ]
  },
  {
   "cell_type": "code",
   "execution_count": 77,
   "metadata": {},
   "outputs": [
    {
     "data": {
      "text/plain": [
       "0.5159768680754664"
      ]
     },
     "execution_count": 77,
     "metadata": {},
     "output_type": "execute_result"
    }
   ],
   "source": [
    "# fraction of combinations that have data. Data is very scarce !!!\n",
    "2332298/4520160"
   ]
  },
  {
   "cell_type": "code",
   "execution_count": 62,
   "metadata": {},
   "outputs": [],
   "source": [
    "mergedDf['Date'] = mergedDf['Date'].astype('str')\n",
    "mergedDf['Hour'] = mergedDf['Hour'].astype('str')\n",
    "mergedDf['DOLocationID'] = mergedDf['DOLocationID'].astype('str')"
   ]
  },
  {
   "cell_type": "code",
   "execution_count": 70,
   "metadata": {},
   "outputs": [],
   "source": [
    "JFK = pd.read_csv(\"/Users/hemingyi/Documents/UrbanTemporalNetworks/processedData/JfkVehiceByHour.csv\")\n",
    "JFK['Date'] = JFK['Date'].astype('str')\n",
    "JFK['Hour'] = JFK['Hour'].astype('str')\n",
    "JFK['DOLocationID'] = JFK['DOLocationID'].astype('str')\n",
    "JFK = JFK[JFK['DOLocationID']!='1']\n",
    "del JFK['vehicle_count']"
   ]
  },
  {
   "cell_type": "code",
   "execution_count": 71,
   "metadata": {},
   "outputs": [
    {
     "data": {
      "text/html": [
       "<div>\n",
       "<style scoped>\n",
       "    .dataframe tbody tr th:only-of-type {\n",
       "        vertical-align: middle;\n",
       "    }\n",
       "\n",
       "    .dataframe tbody tr th {\n",
       "        vertical-align: top;\n",
       "    }\n",
       "\n",
       "    .dataframe thead th {\n",
       "        text-align: right;\n",
       "    }\n",
       "</style>\n",
       "<table border=\"1\" class=\"dataframe\">\n",
       "  <thead>\n",
       "    <tr style=\"text-align: right;\">\n",
       "      <th></th>\n",
       "      <th>DOLocationID</th>\n",
       "      <th>Date</th>\n",
       "      <th>Hour</th>\n",
       "    </tr>\n",
       "  </thead>\n",
       "  <tbody>\n",
       "    <tr>\n",
       "      <th>1</th>\n",
       "      <td>2</td>\n",
       "      <td>2018-01-01</td>\n",
       "      <td>0</td>\n",
       "    </tr>\n",
       "    <tr>\n",
       "      <th>2</th>\n",
       "      <td>3</td>\n",
       "      <td>2018-01-01</td>\n",
       "      <td>0</td>\n",
       "    </tr>\n",
       "  </tbody>\n",
       "</table>\n",
       "</div>"
      ],
      "text/plain": [
       "  DOLocationID        Date Hour\n",
       "1            2  2018-01-01    0\n",
       "2            3  2018-01-01    0"
      ]
     },
     "execution_count": 71,
     "metadata": {},
     "output_type": "execute_result"
    }
   ],
   "source": [
    "JFK.head(2)"
   ]
  },
  {
   "cell_type": "code",
   "execution_count": 72,
   "metadata": {},
   "outputs": [
    {
     "data": {
      "text/html": [
       "<div>\n",
       "<style scoped>\n",
       "    .dataframe tbody tr th:only-of-type {\n",
       "        vertical-align: middle;\n",
       "    }\n",
       "\n",
       "    .dataframe tbody tr th {\n",
       "        vertical-align: top;\n",
       "    }\n",
       "\n",
       "    .dataframe thead th {\n",
       "        text-align: right;\n",
       "    }\n",
       "</style>\n",
       "<table border=\"1\" class=\"dataframe\">\n",
       "  <thead>\n",
       "    <tr style=\"text-align: right;\">\n",
       "      <th></th>\n",
       "      <th>DOLocationID</th>\n",
       "      <th>Date</th>\n",
       "      <th>Hour</th>\n",
       "      <th>vehicle_count</th>\n",
       "    </tr>\n",
       "  </thead>\n",
       "  <tbody>\n",
       "    <tr>\n",
       "      <th>0</th>\n",
       "      <td>3</td>\n",
       "      <td>2018-01-01</td>\n",
       "      <td>0</td>\n",
       "      <td>0.0</td>\n",
       "    </tr>\n",
       "    <tr>\n",
       "      <th>1</th>\n",
       "      <td>4</td>\n",
       "      <td>2018-01-01</td>\n",
       "      <td>0</td>\n",
       "      <td>0.0</td>\n",
       "    </tr>\n",
       "  </tbody>\n",
       "</table>\n",
       "</div>"
      ],
      "text/plain": [
       "  DOLocationID        Date Hour  vehicle_count\n",
       "0            3  2018-01-01    0            0.0\n",
       "1            4  2018-01-01    0            0.0"
      ]
     },
     "execution_count": 72,
     "metadata": {},
     "output_type": "execute_result"
    }
   ],
   "source": [
    "mergedDf.head(2)"
   ]
  },
  {
   "cell_type": "code",
   "execution_count": 75,
   "metadata": {},
   "outputs": [],
   "source": [
    "EWR = JFK.merge(mergedDf,on=['DOLocationID','Date','Hour'],how='outer')\n",
    "EWR = EWR.fillna(0)\n",
    "EWR.to_csv(processedFile,index=False)"
   ]
  },
  {
   "cell_type": "code",
   "execution_count": null,
   "metadata": {},
   "outputs": [],
   "source": []
  }
 ],
 "metadata": {
  "kernelspec": {
   "display_name": "Python 3",
   "language": "python",
   "name": "python3"
  },
  "language_info": {
   "codemirror_mode": {
    "name": "ipython",
    "version": 3
   },
   "file_extension": ".py",
   "mimetype": "text/x-python",
   "name": "python",
   "nbconvert_exporter": "python",
   "pygments_lexer": "ipython3",
   "version": "3.7.6"
  }
 },
 "nbformat": 4,
 "nbformat_minor": 2
}
