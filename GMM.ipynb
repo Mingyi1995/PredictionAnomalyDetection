{
 "cells": [
  {
   "cell_type": "code",
   "execution_count": 1,
   "metadata": {},
   "outputs": [],
   "source": [
    "import pandas as pd\n",
    "import numpy as np\n",
    "import os\n",
    "import datetime\n",
    "from sklearn.mixture import GaussianMixture \n",
    "import matplotlib.gridspec as gridspec\n",
    "import matplotlib.pyplot as plt\n",
    "from sklearn import metrics\n",
    "import warnings\n",
    "from sklearn.decomposition import PCA\n",
    "from sklearn.preprocessing import StandardScaler\n",
    "%matplotlib inline\n",
    "warnings.filterwarnings('ignore')"
   ]
  },
  {
   "cell_type": "code",
   "execution_count": 2,
   "metadata": {},
   "outputs": [
    {
     "name": "stdout",
     "output_type": "stream",
     "text": [
      "/home/mingyi/Dropbox/DOE_Anomaly_Detection\r\n"
     ]
    }
   ],
   "source": [
    "!pwd"
   ]
  },
  {
   "cell_type": "code",
   "execution_count": 3,
   "metadata": {},
   "outputs": [],
   "source": [
    "path = '/home/mingyi/Dropbox/DOE_Anomaly_Detection/'"
   ]
  },
  {
   "cell_type": "code",
   "execution_count": 4,
   "metadata": {},
   "outputs": [],
   "source": [
    "def GMMBIC(df):\n",
    "#     station = 'JFK'\n",
    "#     df = pd.read_csv(path + station + 'HybridModelresult.csv',parse_dates=['date'])\n",
    "    df['date'] = pd.to_datetime(df['date'], errors='coerce')\n",
    "    df['date'] = df.date.dt.date\n",
    "    df = df.groupby(['date']).sum()\n",
    "    matrix = df.values\n",
    "    bic = []\n",
    "    for ncomp in range(2,6):\n",
    "        gm=GaussianMixture(n_components=ncomp,n_init=100,max_iter=1000,random_state=0)\n",
    "        labels = gm.fit_predict(matrix)\n",
    "        score = gm.bic(matrix)\n",
    "        bic += [score]\n",
    "#         print(ncomp,score)\n",
    "#     print('------------------------')\n",
    "    GMMComp = np.array(bic).argmin() + 2\n",
    "#         GMMBIC = np.array(bic).min()\n",
    "    print('GMM in %s component has the lowest BIC value'%GMMComp)\n",
    "    return GMMComp"
   ]
  },
  {
   "cell_type": "code",
   "execution_count": 5,
   "metadata": {},
   "outputs": [],
   "source": [
    "def anomalyDetection(y,ncom,pval,iterN=20):\n",
    "    #index of regular (non-outlier points)\n",
    "    if len(y.shape) == 1:\n",
    "        y = np.array(y).reshape(-1,1)\n",
    "    rind = np.array(range(y.shape[0]))\n",
    "    \n",
    "    #clustering model\n",
    "    gm=GaussianMixture(n_components=ncom,n_init=100,max_iter=1000,random_state=0) \n",
    "    for i in range(iterN): #iterate\n",
    "#         print('Iteration {}'.format(i+1))  \n",
    "        clustering=gm.fit(y[rind,:]) #fit EM clustering model excluding outliers\n",
    "        l=clustering.score_samples(y) #estimate likelihood for each point\n",
    "        Lthres=sorted(l)[int(len(l)*pval)] #anomaly threshold\n",
    "#         print(Lthres)\n",
    "        rind0=0+rind\n",
    "        rind=l>Lthres #non-anomalous points\n",
    "        if all(rind==rind0):\n",
    "#             print('Convergence in {} iterations'.format(i+1))\n",
    "            break\n",
    "    return l < Lthres"
   ]
  },
  {
   "cell_type": "code",
   "execution_count": 6,
   "metadata": {},
   "outputs": [],
   "source": [
    "def getEvents(event):\n",
    "    df_events = pd.read_csv(event+'.csv', encoding = \"ISO-8859-1\", parse_dates=['Date'], infer_datetime_format=True)\n",
    "\n",
    "    # dataframe for events\n",
    "    df_finalEvents =  df_events[['Date', 'Type']]\n",
    "    \n",
    "    df_finalEvents['National Holiday'] = False\n",
    "    df_finalEvents['Extreme Weather'] = False\n",
    "#     df_finalEvents['Culture Event'] = False\n",
    "    df_finalEvents['Airport Event'] = False\n",
    "    df_finalEvents.loc[df_finalEvents['Type'] == 'National Holiday', 'National Holiday'] = True\n",
    "    df_finalEvents.loc[df_finalEvents['Type'] == 'Extreme Weather', 'Extreme Weather'] = True\n",
    "#     df_finalEvents.loc[df_finalEvents['Type'] == 'Culture Event', 'Culture Event'] = True\n",
    "    df_finalEvents.loc[df_finalEvents['Type'] == 'Airport Event', 'Airport Event'] = True\n",
    "\n",
    "    df_finalEvents = df_finalEvents.groupby(['Date']).sum()\n",
    "    df_finalEvents['Anomaly'] = True\n",
    "    df_finalEvents.reset_index(inplace=True)\n",
    "#     print(df_events)\n",
    "    return df_finalEvents"
   ]
  },
  {
   "cell_type": "code",
   "execution_count": 26,
   "metadata": {},
   "outputs": [],
   "source": [
    "def AnomalyDetectionPipeline(data,compMin,compMax,outputfilename):\n",
    "#     data = pd.read_csv(path + \"OutputForPCA_features_v2/DailyAggreagtedPC10Resid.csv\",parse_dates=['date'])\n",
    "    data['date'] = pd.to_datetime(data['date'], errors='coerce')\n",
    "    data['date'] = data.date.dt.date\n",
    "    matrix = data.drop(columns=['date']).values\n",
    "#     EventsDF = getEvents(event)\n",
    "    date = data.date.to_frame().rename(columns={'date':'Date'})\n",
    "    threresult = {}\n",
    "#     EventsDF['Date'] = EventsDF['Date'].astype('str')\n",
    "    date['Date'] = date['Date'].astype('str')\n",
    "#     df = date.merge(EventsDF,on='Date',how='left')\n",
    "    df = date[['Date']]\n",
    "#     print(df)\n",
    "    df = df.fillna(False)\n",
    "    df.replace([3.0,2.0,1.0,0.0],[True,True, True, False])\n",
    "    for comp in range(compMin,compMax+1):\n",
    "        for th in [0.04]:\n",
    "            th = round(th,2)\n",
    "            if (1-th) * 365 > comp:\n",
    "                print(\"\\r\",'GMM Parameter: %s-%s'%(comp,th),end=\"\",flush=True)\n",
    "                outliers = anomalyDetection(matrix,comp,pval = th)\n",
    "                df['%s-%s'%(comp,th)] = outliers\n",
    "    df.to_csv(path+'%s.csv'%outputfilename,index=False)"
   ]
  },
  {
   "cell_type": "code",
   "execution_count": 8,
   "metadata": {},
   "outputs": [],
   "source": [
    "def Output_to_ConfusionMatrix(event,inputfile,outputfile,station,method):\n",
    "    eventdf = getEvents(event)\n",
    "    eventdf.Date = eventdf.Date.astype('str')\n",
    "    eventdf = eventdf.replace([True,False],['True','False'])\n",
    "    df = pd.read_csv(path+'GMMDataset/selected/GMMIteration/DL/%s.csv'%inputfile)\n",
    "    df = df.replace(['3.0','2.0','1.0','0.0'],['True','True','True','False'])\n",
    "    df['Date'] = eventdf.Date.astype('str')\n",
    "    df = df.merge(eventdf,on='Date',how='left')\n",
    "    df.fillna('False',inplace=True)\n",
    "    df[list(df.columns)] = df[list(df.columns)].astype('str')\n",
    "#     method = 'PCA+Linear+ARIMA'\n",
    "#     station = 'JFK'\n",
    "    for iteration in list(df.columns):\n",
    "        if iteration not in ['Date','National Holiday','Extreme Weather','Culture Event','Airport Event','Anomaly']:   \n",
    "            allTP = len(df[(df['Anomaly']=='True')&(df[iteration]=='True')]) \n",
    "            allFP = len(df[(df['Anomaly']=='False')&(df[iteration]=='True')])\n",
    "            allTN = len(df[(df['Anomaly']=='False')&(df[iteration]=='False')])\n",
    "            allFN = len(df[(df['Anomaly']=='True')&(df[iteration]=='False')])\n",
    "            f = open(path+'GMMDataset/selected/DL/%s.csv'%outputfile, 'a+')\n",
    "            f.write(station+','+method+','+str(iteration)+','+str(allTP)+','+str(allFP)+','+str(allTN)+','+str(allFN)+'\\n')\n",
    "            f.close()"
   ]
  },
  {
   "cell_type": "code",
   "execution_count": 11,
   "metadata": {},
   "outputs": [],
   "source": [
    "dataBestComp = {}"
   ]
  },
  {
   "cell_type": "code",
   "execution_count": 18,
   "metadata": {},
   "outputs": [],
   "source": [
    "def bestComp():\n",
    "    for filename in os.listdir(path+'GMMDataset/selected/RFCV/2019'):\n",
    "        if \"DailyAggregated\" in filename:\n",
    "            if filename.split('DailyAggregated.csv')[0] in dataBestComp:\n",
    "                pass\n",
    "            else:\n",
    "    #             print(filename)\n",
    "                df = pd.read_csv('GMMDataset/selected/RFCV/2019/%s'%filename)\n",
    "                df = df.rename(columns={'Date':'date'})\n",
    "                matrix = df.drop(columns='date').values\n",
    "                matrix = StandardScaler().fit_transform(matrix)\n",
    "                data = pd.DataFrame(matrix)\n",
    "                data['date'] = df['date']\n",
    "                bestComp = GMMBIC(data)\n",
    "                dataBestComp[filename.split('DailyAggregated.csv')[0]] = bestComp\n",
    "    #             print('----------------------------------')"
   ]
  },
  {
   "cell_type": "code",
   "execution_count": 19,
   "metadata": {},
   "outputs": [
    {
     "data": {
      "text/plain": [
       "{'JFKComm24RFCVResidDailyAggregated2019.csv': 3,\n",
       " 'LGAComm24RFCVResidDailyAggregated2019.csv': 3,\n",
       " 'PENNComm24RFCVResidDailyAggregated2019.csv': 2}"
      ]
     },
     "execution_count": 19,
     "metadata": {},
     "output_type": "execute_result"
    }
   ],
   "source": [
    "dataBestComp"
   ]
  },
  {
   "cell_type": "code",
   "execution_count": 15,
   "metadata": {
    "scrolled": true
   },
   "outputs": [
    {
     "name": "stdout",
     "output_type": "stream",
     "text": [
      "JFKComm24RFCVResidDailyAggregated2019.csv\n",
      "GMM in 3 component has the lowest BIC value\n",
      "----------------------------------\n",
      "LGAComm24RFCVResidDailyAggregated2019.csv\n",
      "GMM in 3 component has the lowest BIC value\n",
      "----------------------------------\n",
      "PENNComm24RFCVResidDailyAggregated2019.csv\n",
      "GMM in 2 component has the lowest BIC value\n",
      "----------------------------------\n"
     ]
    }
   ],
   "source": [
    "# DFallPC = pd.read_csv('GMMDataset/selected/Comm6+LinearResidLogDailyAggregated.csv')\n",
    "\n",
    "for filename in os.listdir(path+'GMMDataset/selected/RFCV/2019'):\n",
    "    if \"DailyAggregated\" in filename  and 'Comm24' in filename:\n",
    "        if filename.split('DailyAggregated.csv')[0] in dataBestComp:\n",
    "            pass\n",
    "        else:\n",
    "            print(filename)\n",
    "            df = pd.read_csv('GMMDataset/selected/RFCV/2019/%s'%filename)\n",
    "            df = df.rename(columns={'Date':'date'})\n",
    "            matrix = df.drop(columns='date').values\n",
    "            matrix = StandardScaler().fit_transform(matrix)\n",
    "            data = pd.DataFrame(matrix)\n",
    "            data['date'] = df['date']\n",
    "            bestComp = GMMBIC(data)\n",
    "            dataBestComp[filename.split('DailyAggregated.csv')[0]] = bestComp\n",
    "            print('----------------------------------')"
   ]
  },
  {
   "cell_type": "code",
   "execution_count": 23,
   "metadata": {},
   "outputs": [
    {
     "data": {
      "text/plain": [
       "{'JFKComm24RFCVResidDailyAggregated2019.csv': 3,\n",
       " 'LGAComm24RFCVResidDailyAggregated2019.csv': 3,\n",
       " 'PENNComm24RFCVResidDailyAggregated2019.csv': 2}"
      ]
     },
     "execution_count": 23,
     "metadata": {},
     "output_type": "execute_result"
    }
   ],
   "source": [
    "dataBestComp"
   ]
  },
  {
   "cell_type": "code",
   "execution_count": 29,
   "metadata": {},
   "outputs": [
    {
     "name": "stdout",
     "output_type": "stream",
     "text": [
      "JFK\n",
      " GMM Parameter: 3-0.04LGA\n",
      " GMM Parameter: 3-0.04PENN\n",
      " GMM Parameter: 2-0.04"
     ]
    }
   ],
   "source": [
    "### residual from 2019 comm24\n",
    "for station in ['JFK','LGA','PENN']:\n",
    "    df = pd.read_csv(path+'GMMDataset/selected/RFCV/2019/%sComm24RFCVResidDailyAggregated2019.csv'%station)\n",
    "    print(station)\n",
    "    matrix = df.drop(columns='Date').values\n",
    "    matrix = StandardScaler().fit_transform(matrix)\n",
    "    data = pd.DataFrame(matrix)\n",
    "    data['date'] = df['Date']\n",
    "    dataname = station+'Comm24RFCVResidDailyAggregated2019.csv'.split('DailyAggregated.csv')[0]\n",
    "    if dataname in dataBestComp:\n",
    "        comp = dataBestComp[dataname]\n",
    "    else:\n",
    "        bestComp()\n",
    "        comp = dataBestComp[dataname]\n",
    "    AnomalyDetectionPipeline(data,comp,comp,'GMMDataset/selected/GMMIteration/RFCV/'+station+'Comm24RFCVResidAnomalyDetectionIterationOutput2019')\n"
   ]
  },
  {
   "cell_type": "markdown",
   "metadata": {},
   "source": [
    "### residual from Urwa deep learning edgewise model"
   ]
  },
  {
   "cell_type": "code",
   "execution_count": 42,
   "metadata": {},
   "outputs": [
    {
     "name": "stdout",
     "output_type": "stream",
     "text": [
      "JFK\n",
      " GMM Parameter: 3-0.99LGA\n",
      " GMM Parameter: 3-0.99"
     ]
    }
   ],
   "source": [
    "for station in ['JFK','LGA']:\n",
    "    df = pd.read_csv(path+'GMMDataset/selected/DL/%sDLedgeResidDailyAggregated.csv'%station)\n",
    "    print(station)\n",
    "    matrix = df.drop(columns='Date').values\n",
    "    matrix = StandardScaler().fit_transform(matrix)\n",
    "    data = pd.DataFrame(matrix)\n",
    "    data['date'] = df['Date']\n",
    "    dataname = station+'DLedgeResidDailyAggregated.csv'.split('DailyAggregated.csv')[0]\n",
    "    if dataname in dataBestComp:\n",
    "        comp = dataBestComp[dataname]\n",
    "    else:\n",
    "        bestComp()\n",
    "        comp = dataBestComp[dataname]\n",
    "    AnomalyDetectionPipeline(data,comp,comp,'GMMDataset/selected/GMMIteration/DL/'+station+'DLedgeResidAnomalyDetectionIterationOutput')\n"
   ]
  },
  {
   "cell_type": "markdown",
   "metadata": {},
   "source": [
    "### residual from Urwa deep learning comm 24 model"
   ]
  },
  {
   "cell_type": "code",
   "execution_count": 27,
   "metadata": {},
   "outputs": [
    {
     "name": "stdout",
     "output_type": "stream",
     "text": [
      "JFK\n",
      " GMM Parameter: 2-0.99LGA\n",
      " GMM Parameter: 2-0.99"
     ]
    }
   ],
   "source": [
    "for station in ['JFK','LGA']:\n",
    "    df = pd.read_csv(path+'GMMDataset/selected/DL/%sDLComm24ResidDailyAggregated.csv'%station)\n",
    "    print(station)\n",
    "    matrix = df.drop(columns='Date').values\n",
    "    matrix = StandardScaler().fit_transform(matrix)\n",
    "    data = pd.DataFrame(matrix)\n",
    "    data['date'] = df['Date']\n",
    "    dataname = station+'DLComm24ResidDailyAggregated.csv'.split('DailyAggregated.csv')[0]\n",
    "    if dataname in dataBestComp:\n",
    "        comp = dataBestComp[dataname]\n",
    "    else:\n",
    "        bestComp()\n",
    "        comp = dataBestComp[dataname]\n",
    "    AnomalyDetectionPipeline(data,comp,comp,'GMMDataset/selected/GMMIteration/DL/'+station+'DLComm24ResidAnomalyDetectionIterationOutput')\n"
   ]
  },
  {
   "cell_type": "markdown",
   "metadata": {},
   "source": [
    "### raw edgewise"
   ]
  },
  {
   "cell_type": "code",
   "execution_count": 128,
   "metadata": {},
   "outputs": [],
   "source": [
    "for station in ['EWR']:\n",
    "    dataDir = '/Users/hemingyi/Documents/UrbanTemporalNetworks/processedData/'\n",
    "    file = dataDir + station + 'VehiceByHour.csv'\n",
    "#     zones = pd.read_csv('/Users/hemingyi/Documents/UrbanTemporalNetworks/Data/taxi_zones.csv')\n",
    "#     zones['LocationID'] = zones['LocationID'].astype(str)\n",
    "#     boro = zones.borough.unique().tolist()\n",
    "#     zontoBoro = dict(zip(zones.LocationID.values,zones.borough.values))\n",
    "    CommRaw = pd.read_csv(file,parse_dates=['Date'])\n",
    "    CommRaw = CommRaw[(CommRaw['Date']>'2018-01-01')|((CommRaw['Date']=='2018-01-01')&(CommRaw['Hour']>11))]\n",
    "#     CommRaw['DOLocationID'] = CommRaw['DOLocationID'].apply(lambda x:zonetoBoro[str(x)])\n",
    "    CommRaw = CommRaw.groupby(['Date','DOLocationID'])[['vehicle_count']].sum().reset_index()\n",
    "    CommRaw = pd.pivot_table(CommRaw, values='vehicle_count', index=['Date'],\n",
    "                        columns=['DOLocationID'], aggfunc=np.sum, fill_value=0).reset_index()\n",
    "    CommRaw.columns = [str(i) for i in CommRaw.columns]\n",
    "#     CommRaw.columns = ['Date'] + boro\n",
    "    \n",
    "    CommRaw = CommRaw.rename(columns={'Date':'date'})\n",
    "    CommRaw.to_csv(\"GMMDataset/selected/RFCV/%sedgeDailyAggregated.csv\"%station.upper(),index=False)"
   ]
  },
  {
   "cell_type": "code",
   "execution_count": 130,
   "metadata": {},
   "outputs": [
    {
     "name": "stdout",
     "output_type": "stream",
     "text": [
      "EWR\n",
      "GMM in 3 component has the lowest BIC value\n",
      " GMM Parameter: 3-0.99"
     ]
    }
   ],
   "source": [
    "for station in ['EWR']:\n",
    "    print(station)\n",
    "    df = pd.read_csv('GMMDataset/selected/RFCV/'+station+'edgeDailyAggregated.csv')\n",
    "    matrix = df.drop(columns='date').values\n",
    "    matrix = StandardScaler().fit_transform(matrix)\n",
    "    data = pd.DataFrame(matrix)\n",
    "    data['date'] = df['date']\n",
    "    dataname = station+'edgeDailyAggregated.csv'.split('DailyAggregated.csv')[0]\n",
    "    if dataname in EWRdataBestComp:\n",
    "        comp = EWRdataBestComp[dataname]\n",
    "    else:\n",
    "        bestComp()\n",
    "        comp = EWRdataBestComp[dataname]\n",
    "    AnomalyDetectionPipeline(data,comp,comp,'GMMDataset/selected/GMMIteration/'+station+'edgeAnomalyDetectionIterationOutput')\n"
   ]
  },
  {
   "cell_type": "markdown",
   "metadata": {},
   "source": [
    "### edge residual"
   ]
  },
  {
   "cell_type": "code",
   "execution_count": 144,
   "metadata": {},
   "outputs": [],
   "source": [
    "for station in ['EWR']:\n",
    "    dfOutput = pd.DataFrame()\n",
    "    data = pd.read_csv('/Users/hemingyi/Documents/UrbanTemporalNetworks/Resid/%sedgeRFCV.csv'%station,parse_dates=['Date'])\n",
    "    data['Date'] = data.Date.dt.date\n",
    "    \n",
    "    data = data.groupby(['Date']).sum()\n",
    "#     del data['Unnamed: 0']\n",
    "    del data['Hour']\n",
    "    data['date'] = data.index\n",
    "    data = data.reset_index()\n",
    "    del data['Date']\n",
    "    data.to_csv(\"GMMDataset/selected/RFCV/%sedgeRFCVResidDailyAggregated.csv\"%station,index=False)"
   ]
  },
  {
   "cell_type": "code",
   "execution_count": 132,
   "metadata": {},
   "outputs": [
    {
     "name": "stdout",
     "output_type": "stream",
     "text": [
      "EWR\n",
      "GMM in 2 component has the lowest BIC value\n",
      " GMM Parameter: 2-0.99"
     ]
    }
   ],
   "source": [
    "for station in ['EWR']:\n",
    "    print(station)\n",
    "    df = pd.read_csv('GMMDataset/selected/RFCV/'+station+'edgeRFCVResidDailyAggregated.csv')\n",
    "    matrix = df.drop(columns='date').values\n",
    "    matrix = StandardScaler().fit_transform(matrix)\n",
    "    data = pd.DataFrame(matrix)\n",
    "    data['date'] = df['date']\n",
    "    dataname = station+'edgeRFCVResidDailyAggregated.csv'.split('DailyAggregated.csv')[0]\n",
    "    if dataname in EWRdataBestComp:\n",
    "        comp = EWRdataBestComp[dataname]\n",
    "    else:\n",
    "        bestComp()\n",
    "        comp = EWRdataBestComp[dataname]\n",
    "    AnomalyDetectionPipeline(data,comp,comp,'GMMDataset/selected/GMMIteration/'+station+'edgeRFCVResidAnomalyDetectionIterationOutput')\n"
   ]
  },
  {
   "cell_type": "markdown",
   "metadata": {},
   "source": [
    "### edge log residual"
   ]
  },
  {
   "cell_type": "code",
   "execution_count": 147,
   "metadata": {},
   "outputs": [],
   "source": [
    "for station in ['EWR']:\n",
    "    dataDir = '/Users/hemingyi/Documents/UrbanTemporalNetworks/processedData/'\n",
    "    file = dataDir + station + 'VehiceByHour.csv'\n",
    "#     zones = pd.read_csv('/Users/hemingyi/Documents/UrbanTemporalNetworks/Data/taxi_zones.csv')\n",
    "#     zones['LocationID'] = zones['LocationID'].astype(str)\n",
    "#     boro = zones.borough.unique().tolist()\n",
    "#     zontoBoro = dict(zip(zones.LocationID.values,zones.borough.values))\n",
    "    CommRaw = pd.read_csv(file,parse_dates=['Date'])\n",
    "    CommRaw = CommRaw[(CommRaw['Date']>'2018-01-01')|((CommRaw['Date']=='2018-01-01')&(CommRaw['Hour']>11))]\n",
    "#     CommRaw['DOLocationID'] = CommRaw['DOLocationID'].apply(lambda x:zonetoBoro[str(x)])\n",
    "    CommRaw = CommRaw.groupby(['Date','DOLocationID'])[['vehicle_count']].sum().reset_index()\n",
    "    CommRaw = pd.pivot_table(CommRaw, values='vehicle_count', index=['Date'],\n",
    "                        columns=['DOLocationID'], aggfunc=np.sum, fill_value=0).reset_index()\n",
    "    CommRaw.columns = [str(i) for i in CommRaw.columns]\n",
    "#     CommRaw.columns = ['Date'] + boro\n",
    "    data = pd.read_csv('/Users/hemingyi/Documents/UrbanTemporalNetworks/Resid/'+station+'edgeRFCV.csv',\n",
    "                   parse_dates=['Date'])\n",
    "#     del data['Unnamed: 0']\n",
    "#     data = data.rename(columns={'date':'Date'})\n",
    "    data = data.groupby(['Date']).sum().reset_index()\n",
    "#     del data['Hour']\n",
    "    data.columns = [str(i) for i in data.columns]\n",
    "    data = data[CommRaw.columns]\n",
    "    predictionValue = CommRaw.drop(columns=['Date']).values + data.drop(columns=['Date']).values\n",
    "    predictionDF = pd.DataFrame(predictionValue,columns=[CommRaw.drop(columns=['Date']).columns])\n",
    "    shiftValue = predictionDF.min().min()\n",
    "    logResid = np.log(CommRaw.drop(columns=['Date']).values-shiftValue+1) - np.log(predictionValue-shiftValue+1)\n",
    "    logResidDF = pd.DataFrame(logResid,columns=[CommRaw.drop(columns=['Date']).columns])\n",
    "    logResidDF['date'] = data['Date']\n",
    "    logResidDF.to_csv(\"GMMDataset/selected/RFCV/%sedgeRFCVLogResidDailyAggregated.csv\"%station,index=False)"
   ]
  },
  {
   "cell_type": "code",
   "execution_count": 148,
   "metadata": {},
   "outputs": [
    {
     "name": "stdout",
     "output_type": "stream",
     "text": [
      "EWR\n",
      "GMM in 2 component has the lowest BIC value\n",
      "GMM in 2 component has the lowest BIC value\n",
      " GMM Parameter: 2-0.99"
     ]
    }
   ],
   "source": [
    "for station in ['EWR']:\n",
    "    print(station)\n",
    "    df = pd.read_csv('GMMDataset/selected/RFCV/'+station+'edgeRFCVLogResidDailyAggregated.csv')\n",
    "    matrix = df.drop(columns='date').values\n",
    "    matrix = StandardScaler().fit_transform(matrix)\n",
    "    data = pd.DataFrame(matrix)\n",
    "    data['date'] = df['date']\n",
    "    dataname = station+'edgeRFCVLogResidDailyAggregated.csv'.split('DailyAggregated.csv')[0]\n",
    "    if dataname in EWRdataBestComp:\n",
    "        comp = EWRdataBestComp[dataname]\n",
    "    else:\n",
    "        bestComp()\n",
    "        comp = EWRdataBestComp[dataname]\n",
    "    AnomalyDetectionPipeline(data,comp,comp,'GMMDataset/selected/GMMIteration/'+station+'edgeRFCVLogResidAnomalyDetectionIterationOutput')\n"
   ]
  },
  {
   "cell_type": "markdown",
   "metadata": {},
   "source": [
    "### Boro RF CV"
   ]
  },
  {
   "cell_type": "code",
   "execution_count": 65,
   "metadata": {},
   "outputs": [],
   "source": [
    "for station in ['EWR']:\n",
    "    dfOutput = pd.DataFrame()\n",
    "    data = pd.read_csv('/Users/hemingyi/Documents/UrbanTemporalNetworks/Resid/%sBoroRFCV.csv'%station,parse_dates=['Date'])\n",
    "    data['Date'] = data.Date.dt.date\n",
    "    \n",
    "    data = data.groupby(['Date']).sum()\n",
    "#     del data['Unnamed: 0']\n",
    "    del data['Hour']\n",
    "    data['date'] = data.index\n",
    "    data = data.reset_index()\n",
    "    del data['Date']\n",
    "    data.to_csv(\"GMMDataset/selected/RFCV/%sBoroRFCVResidDailyAggregated.csv\"%station,index=False)"
   ]
  },
  {
   "cell_type": "code",
   "execution_count": 46,
   "metadata": {},
   "outputs": [
    {
     "name": "stdout",
     "output_type": "stream",
     "text": [
      "EWR\n",
      " GMM Parameter: 4-0.98"
     ]
    }
   ],
   "source": [
    "for station in ['EWR']:\n",
    "    print(station)\n",
    "    df = pd.read_csv('GMMDataset/selected/'+station+'BoroRFCVResidDailyAggregated.csv')\n",
    "    matrix = df.drop(columns='date').values\n",
    "    matrix = StandardScaler().fit_transform(matrix)\n",
    "    data = pd.DataFrame(matrix)\n",
    "    data['date'] = df['date']\n",
    "    dataname = station+'BoroRFCVResidDailyAggregated.csv'.split('DailyAggregated.csv')[0]\n",
    "    if dataname in EWRdataBestComp:\n",
    "        comp = EWRdataBestComp[dataname]\n",
    "    else:\n",
    "        bestComp()\n",
    "        comp = EWRdataBestComp[dataname]\n",
    "    AnomalyDetectionPipeline(data,comp,comp,'GMMDataset/selected/GMMIteration/'+station+'BoroRFCVResidAnomalyDetectionIterationOutput')\n"
   ]
  },
  {
   "cell_type": "markdown",
   "metadata": {},
   "source": [
    "### Comm 6 RFCV Resid"
   ]
  },
  {
   "cell_type": "code",
   "execution_count": 59,
   "metadata": {},
   "outputs": [],
   "source": [
    "for station in ['EWR']:\n",
    "    dfOutput = pd.DataFrame()\n",
    "    data = pd.read_csv('/Users/hemingyi/Documents/UrbanTemporalNetworks/Resid/%sComm6RFCV.csv'%station,parse_dates=['Date'])\n",
    "    data['Date'] = data.Date.dt.date\n",
    "    \n",
    "    data = data.groupby(['Date']).sum()\n",
    "    del data['Unnamed: 0']\n",
    "    del data['Hour']\n",
    "    data['date'] = data.index\n",
    "    data = data.reset_index()\n",
    "    del data['Date']\n",
    "#     data['date'] = data.index\n",
    "#     break\n",
    "#     data['ResidLog'] = data['vehicleObservation'].apply(lambda x: np.log(x)) - data['totalPrediction'].apply(lambda x: np.log(x))\n",
    "#     data = data[['date','LinearResidLog']]\n",
    "#     dfOutput['%sResidLog'%station] = data['ResidLog'].values\n",
    "#     dfOutput['date'] = data['date'].values\n",
    "    data.to_csv(\"GMMDataset/selected/RFCV/%sComm6RFCVResidDailyAggregated.csv\"%station,index=False)"
   ]
  },
  {
   "cell_type": "code",
   "execution_count": 63,
   "metadata": {
    "scrolled": false
   },
   "outputs": [
    {
     "name": "stdout",
     "output_type": "stream",
     "text": [
      "EWR\n",
      " GMM Parameter: 4-0.98"
     ]
    }
   ],
   "source": [
    "for station in ['EWR']:\n",
    "    print(station)\n",
    "    df = pd.read_csv('GMMDataset/selected/RFCV/'+station+'Comm6RFCVResidDailyAggregated.csv')\n",
    "    matrix = df.drop(columns='date').values\n",
    "    matrix = StandardScaler().fit_transform(matrix)\n",
    "    data = pd.DataFrame(matrix)\n",
    "    data['date'] = df['date']\n",
    "    dataname = station+'Comm6RFCVResidDailyAggregated.csv'.split('DailyAggregated.csv')[0]\n",
    "    if dataname in EWRdataBestComp:\n",
    "        comp = EWRdataBestComp[dataname]\n",
    "    else:\n",
    "        bestComp()\n",
    "        comp = EWRdataBestComp[dataname]\n",
    "    AnomalyDetectionPipeline(data,comp,comp,'GMMDataset/selected/GMMIteration/RFCV/'+station+'Comm6RFResidAnomalyDetectionIterationOutput')\n"
   ]
  },
  {
   "cell_type": "markdown",
   "metadata": {},
   "source": [
    "### Comm 6 RFCV log"
   ]
  },
  {
   "cell_type": "code",
   "execution_count": 64,
   "metadata": {},
   "outputs": [],
   "source": [
    "for station in ['EWR']:\n",
    "    dataDir = '/Users/hemingyi/Documents/UrbanTemporalNetworks/processedData/'\n",
    "    file = dataDir + station + 'VehiceByHour.csv'\n",
    "    zones = pd.read_csv('/Users/hemingyi/Documents/UrbanTemporalNetworks/Data/ZonetoComm.csv')\n",
    "    zones['start_community'] = zones.start_community.astype(int).astype(str)\n",
    "\n",
    "    zontoComm = dict(zip(zones.start_id.values,zones.start_community.values))\n",
    "    CommRaw = pd.read_csv(file,parse_dates=['Date'])\n",
    "    CommRaw = CommRaw[(CommRaw['Date']>'2018-01-01')|((CommRaw['Date']=='2018-01-01')&(CommRaw['Hour']>11))]\n",
    "    CommRaw['DOLocationID'] = CommRaw['DOLocationID'].apply(lambda x:zontoComm[x])\n",
    "    CommRaw = CommRaw.groupby(['Date','DOLocationID'])[['vehicle_count']].sum().reset_index()\n",
    "    CommRaw = pd.pivot_table(CommRaw, values='vehicle_count', index=['Date'],\n",
    "                        columns=['DOLocationID'], aggfunc=np.sum, fill_value=0).reset_index()\n",
    "    data = pd.read_csv('/Users/hemingyi/Documents/UrbanTemporalNetworks/Resid/%sComm6RFCV.csv'%station,\n",
    "                   parse_dates=['Date'])\n",
    "    del data['Unnamed: 0']\n",
    "    data = data.groupby(['Date']).sum().reset_index()\n",
    "    predictionValue = CommRaw[[str(i) for i in range(6)]].values + data[[str(i) for i in range(6)]].values\n",
    "    predictionDF = pd.DataFrame(predictionValue,columns=[str(i) for i in range(6)])\n",
    "    shiftValue = predictionDF.min().min()\n",
    "    logResid = np.log(CommRaw[[str(i) for i in range(6)]].values-shiftValue+1) - np.log(predictionValue-shiftValue+1)\n",
    "    logResidDF = pd.DataFrame(logResid,columns=[str(i) for i in range(6)])\n",
    "    logResidDF['Date'] = data['Date']\n",
    "    logResidDF.to_csv(\"GMMDataset/selected/RFCV/%sComm6RFCVLogResidDailyAggregated.csv\"%station,index=False)"
   ]
  },
  {
   "cell_type": "code",
   "execution_count": 69,
   "metadata": {},
   "outputs": [
    {
     "name": "stdout",
     "output_type": "stream",
     "text": [
      "EWR\n",
      " GMM Parameter: 4-0.98"
     ]
    }
   ],
   "source": [
    "for station in ['EWR']:\n",
    "    print(station)\n",
    "    df = pd.read_csv('GMMDataset/selected/RFCV/'+station+'Comm6RFCVLogResidDailyAggregated.csv')\n",
    "    matrix = df.drop(columns='Date').values\n",
    "    matrix = StandardScaler().fit_transform(matrix)\n",
    "    data = pd.DataFrame(matrix)\n",
    "    data['date'] = df['Date']\n",
    "    dataname = station+'Comm6RFCVLogResidDailyAggregated.csv'.split('DailyAggregated.csv')[0]\n",
    "    if dataname in EWRdataBestComp:\n",
    "        comp = EWRdataBestComp[dataname]\n",
    "    else:\n",
    "        bestComp()\n",
    "        comp = EWRdataBestComp[dataname]\n",
    "    AnomalyDetectionPipeline(data,comp,comp,'GMMDataset/selected/GMMIteration/RFCV/'+station+'Comm6RFCVLogResidAnomalyDetectionIterationOutput')\n"
   ]
  },
  {
   "cell_type": "markdown",
   "metadata": {},
   "source": [
    "### Total raw value"
   ]
  },
  {
   "cell_type": "code",
   "execution_count": 196,
   "metadata": {},
   "outputs": [],
   "source": [
    "for station in ['PENN']:\n",
    "    dataDir = '/Users/hemingyi/Documents/UrbanTemporalNetworks/processedData/'\n",
    "    file = dataDir + station + 'VehiceByHour.csv'\n",
    "    CommRaw = pd.read_csv(file,parse_dates=['Date'])\n",
    "    CommRaw = CommRaw.groupby(['Date'])[['vehicle_count']].sum().reset_index()\n",
    "    CommRaw.to_csv(\"GMMDataset/selected/RFCV/%stotalDailyAggregated.csv\"%station,index=False)"
   ]
  },
  {
   "cell_type": "code",
   "execution_count": 197,
   "metadata": {},
   "outputs": [
    {
     "name": "stdout",
     "output_type": "stream",
     "text": [
      "PENN\n",
      "GMM in 2 component has the lowest BIC value\n",
      " GMM Parameter: 2-0.97"
     ]
    }
   ],
   "source": [
    "for station in ['PENN']:\n",
    "    print(station)\n",
    "    df = pd.read_csv('GMMDataset/selected/RFCV/'+station+'totalDailyAggregated.csv')\n",
    "    matrix = df.drop(columns='Date').values\n",
    "    matrix = StandardScaler().fit_transform(matrix)\n",
    "    data = pd.DataFrame(matrix)\n",
    "    data['date'] = df['Date']\n",
    "    dataname = station+'totalDailyAggregated.csv'.split('DailyAggregated.csv')[0]\n",
    "    if dataname in EWRdataBestComp:\n",
    "        comp = EWRdataBestComp[dataname]\n",
    "    else:\n",
    "        bestComp()\n",
    "        comp = EWRdataBestComp[dataname]\n",
    "    AnomalyDetectionPipeline(data,comp,comp,'GMMDataset/selected/GMMIteration/RFCV/'+station+'totalAnomalyDetectionIterationOutput')"
   ]
  },
  {
   "cell_type": "markdown",
   "metadata": {},
   "source": [
    "### total aggregated RF CV"
   ]
  },
  {
   "cell_type": "code",
   "execution_count": 75,
   "metadata": {},
   "outputs": [],
   "source": [
    "for station in ['EWR']:\n",
    "    data = pd.read_csv('/Users/hemingyi/Documents/UrbanTemporalNetworks/Resid/%stotalRFCV.csv'%station,\n",
    "                   parse_dates=['Date'])\n",
    "    del data['Unnamed: 0']\n",
    "    data = data.groupby(['Date'])[['residual']].sum().reset_index()\n",
    "\n",
    "    data.to_csv(\"GMMDataset/selected/RFCV/%stotalRFCVResidDailyAggregated.csv\"%station.upper(),index=False)"
   ]
  },
  {
   "cell_type": "code",
   "execution_count": 78,
   "metadata": {},
   "outputs": [
    {
     "name": "stdout",
     "output_type": "stream",
     "text": [
      "EWR\n",
      " GMM Parameter: 2-0.99"
     ]
    }
   ],
   "source": [
    "for station in ['EWR']:\n",
    "    print(station)\n",
    "    df = pd.read_csv('GMMDataset/selected/RFCV/'+station+'totalRFCVResidDailyAggregated.csv')\n",
    "    matrix = df.drop(columns='Date').values\n",
    "    matrix = StandardScaler().fit_transform(matrix)\n",
    "    data = pd.DataFrame(matrix)\n",
    "    data['date'] = df['Date']\n",
    "    dataname = station+'totalRFCVResidDailyAggregated.csv'.split('DailyAggregated.csv')[0]\n",
    "    if dataname in EWRdataBestComp:\n",
    "        comp = EWRdataBestComp[dataname]\n",
    "    else:\n",
    "        bestComp()\n",
    "        comp = EWRdataBestComp[dataname]\n",
    "    AnomalyDetectionPipeline(data,comp,comp,'GMMDataset/selected/GMMIteration/RFCV/'+station+'totalRFCVResidAnomalyDetectionIterationOutput')\n"
   ]
  },
  {
   "cell_type": "markdown",
   "metadata": {},
   "source": [
    "### Total aggregated RF CV log"
   ]
  },
  {
   "cell_type": "code",
   "execution_count": 79,
   "metadata": {},
   "outputs": [],
   "source": [
    "for station in ['EWR']:\n",
    "    dataDir = '/Users/hemingyi/Documents/UrbanTemporalNetworks/processedData/'\n",
    "    file = dataDir + station + 'VehiceByHour.csv'\n",
    "#     zones = pd.read_csv('/Users/hemingyi/Documents/UrbanTemporalNetworks/Data/ZonetoComm.csv')\n",
    "#     zones['start_community'] = zones.start_community.astype(int).astype(str)\n",
    "\n",
    "#     zontoComm = dict(zip(zones.start_id.values,zones.start_community.values))\n",
    "    CommRaw = pd.read_csv(file,parse_dates=['Date'])\n",
    "#     CommRaw = CommRaw[(CommRaw['Date']>'2018-01-01')|((CommRaw['Date']=='2018-01-01')&(CommRaw['Hour']>11))]\n",
    "#     CommRaw['DOLocationID'] = CommRaw['DOLocationID'].apply(lambda x:zontoComm[x])\n",
    "    CommRaw = CommRaw.groupby(['Date'])[['vehicle_count']].sum().reset_index()\n",
    "#     CommRaw = pd.pivot_table(CommRaw, values='vehicle_count', index=['Date'],\n",
    "#                         columns=['DOLocationID'], aggfunc=np.sum, fill_value=0).reset_index()\n",
    "    data = pd.read_csv('/Users/hemingyi/Documents/UrbanTemporalNetworks/residuals2/%s_edge.csv'%station,\n",
    "                   parse_dates=['Date'])\n",
    "    del data['Unnamed: 0']\n",
    "    data = data.groupby(['Date']).sum().reset_index()\n",
    "    predictionValue = CommRaw[['vehicle_count']].values + data[['residual']].values\n",
    "    predictionDF = pd.DataFrame(predictionValue,columns=['prediction'])\n",
    "    shiftValue = predictionDF.min().min()\n",
    "    logResid = np.log(CommRaw[['vehicle_count']].values-shiftValue+1) - np.log(predictionValue-shiftValue+1)\n",
    "    logResidDF = pd.DataFrame(logResid,columns=['log Resid'])\n",
    "    logResidDF['Date'] = data['Date']\n",
    "    logResidDF.to_csv(\"GMMDataset/selected/RFCV/%stotalRFCVLogResidDailyAggregated.csv\"%station,index=False)"
   ]
  },
  {
   "cell_type": "code",
   "execution_count": null,
   "metadata": {},
   "outputs": [],
   "source": [
    "for station in ['JFK','LGA','EWR']:\n",
    "    print(station)\n",
    "    df = pd.read_csv('GMMDataset/selected/RFCV/'+station+'totalRFCVLogResidDailyAggregated.csv')\n",
    "    matrix = df.drop(columns='Date').values\n",
    "    matrix = StandardScaler().fit_transform(matrix)\n",
    "    data = pd.DataFrame(matrix)\n",
    "    data['date'] = df['Date']\n",
    "    dataname = station+'totalRFCVLogResidDailyAggregated.csv'.split('DailyAggregated.csv')[0]\n",
    "    if dataname in EWRdataBestComp:\n",
    "        comp = EWRdataBestComp[dataname]\n",
    "    else:\n",
    "        bestComp()\n",
    "        comp = EWRdataBestComp[dataname]\n",
    "    AnomalyDetectionPipeline(data,comp,comp,'GMMDataset/selected/GMMIteration/'+station+'totalRFCVLogResidAnomalyDetectionIterationOutput')\n"
   ]
  },
  {
   "cell_type": "markdown",
   "metadata": {},
   "source": [
    "### PCA 6 RF CV Resid"
   ]
  },
  {
   "cell_type": "code",
   "execution_count": 13,
   "metadata": {},
   "outputs": [
    {
     "name": "stdout",
     "output_type": "stream",
     "text": [
      "/home/mingyi/Dropbox/DOE_Anomaly_Detection\r\n"
     ]
    }
   ],
   "source": [
    "!pwd"
   ]
  },
  {
   "cell_type": "code",
   "execution_count": 18,
   "metadata": {},
   "outputs": [],
   "source": [
    "for station in ['Penn']:\n",
    "    dfOutput = pd.DataFrame()\n",
    "    data = pd.read_csv('/home/mingyi/Dropbox/UrbanTemporalNetworks/Resid/%sPCA6RFCV.csv'%station,parse_dates=['Date'])\n",
    "    data['Date'] = data.Date.dt.date\n",
    "    \n",
    "    data = data.groupby(['Date']).sum()\n",
    "#     del data['Unnamed: 0']\n",
    "    del data['Hour']\n",
    "#     data['Date'] = data.index\n",
    "    data = data.reset_index()\n",
    "#     del data['Date']\n",
    "#     data['date'] = data.index\n",
    "#     break\n",
    "#     data['ResidLog'] = data['vehicleObservation'].apply(lambda x: np.log(x)) - data['totalPrediction'].apply(lambda x: np.log(x))\n",
    "#     data = data[['date','LinearResidLog']]\n",
    "#     dfOutput['%sResidLog'%station] = data['ResidLog'].values\n",
    "#     dfOutput['date'] = data['date'].values\n",
    "    data.to_csv(\"GMMDataset/selected/RFCV/%sPCA6RFCVResidDailyAggregated.csv\"%station,index=False)"
   ]
  },
  {
   "cell_type": "code",
   "execution_count": 25,
   "metadata": {},
   "outputs": [
    {
     "name": "stdout",
     "output_type": "stream",
     "text": [
      "Penn\n",
      " GMM Parameter: 2-0.99"
     ]
    }
   ],
   "source": [
    "for station in ['Penn']:\n",
    "    print(station)\n",
    "    df = pd.read_csv('GMMDataset/selected/RFCV/'+station+'PCA6RFCVResidDailyAggregated.csv')\n",
    "    matrix = df.drop(columns='Date').values\n",
    "    matrix = StandardScaler().fit_transform(matrix)\n",
    "    data = pd.DataFrame(matrix)\n",
    "    data['date'] = df['Date']\n",
    "    dataname = station+'PCA6RFCVResidDailyAggregated.csv'.split('DailyAggregated.csv')[0]\n",
    "    if dataname in dataBestComp:\n",
    "        comp = dataBestComp[dataname]\n",
    "    else:\n",
    "        bestComp()\n",
    "        comp = dataBestComp[dataname]\n",
    "    AnomalyDetectionPipeline(data,comp,comp,'GMMDataset/selected/GMMIteration/RFCV/'+station+'PCA6RFCVResidAnomalyDetectionIterationOutput')\n"
   ]
  },
  {
   "cell_type": "markdown",
   "metadata": {},
   "source": [
    "### PCA 5 RF CV LOG"
   ]
  },
  {
   "cell_type": "code",
   "execution_count": 82,
   "metadata": {},
   "outputs": [],
   "source": [
    "for station in ['EWR']:\n",
    "    dataDir = '/Users/hemingyi/Documents/UrbanTemporalNetworks/processedData/'\n",
    "    file = dataDir + station + 'pca5.csv'\n",
    "#     zones = pd.read_csv('/Users/hemingyi/Documents/UrbanTemporalNetworks/Data/ZonetoComm.csv')\n",
    "#     zones['start_community'] = zones.start_community.astype(int).astype(str)\n",
    "\n",
    "#     zontoComm = dict(zip(zones.start_id.values,zones.start_community.values))\n",
    "    CommRaw = pd.read_csv(file,parse_dates=['Date'])\n",
    "#     CommRaw = CommRaw[(CommRaw['Date']>'2018-01-01')|((CommRaw['Date']=='2018-01-01')&(CommRaw['Hour']>11))]\n",
    "#     CommRaw['DOLocationID'] = CommRaw['DOLocationID'].apply(lambda x:zontoComm[x])\n",
    "    CommRaw = CommRaw.groupby(['Date']).sum().reset_index()\n",
    "#     CommRaw = pd.pivot_table(CommRaw, values='vehicle_count', index=['Date'],\n",
    "#                         columns=['DOLocationID'], aggfunc=np.sum, fill_value=0).reset_index()\n",
    "    data = pd.read_csv('/Users/hemingyi/Documents/UrbanTemporalNetworks/Resid/%sPCA5RFCV.csv'%station,\n",
    "                   parse_dates=['Date'])\n",
    "    del data['Unnamed: 0']\n",
    "    data = data.groupby(['Date']).sum().reset_index()\n",
    "    predictionValue = CommRaw[[str(i) for i in range(1,6)]].values + data[[str(i) for i in range(1,6)]].values\n",
    "    predictionDF = pd.DataFrame(predictionValue,columns=[str(i) for i in range(1,6)])\n",
    "    shiftValue = predictionDF.min().min()\n",
    "    logResid = np.log(CommRaw[[str(i) for i in range(1,6)]].values-shiftValue+1) - np.log(predictionValue-shiftValue+1)\n",
    "    logResidDF = pd.DataFrame(logResid,columns=[str(i) for i in range(1,6)])\n",
    "    logResidDF['Date'] = data['Date']\n",
    "    logResidDF.to_csv(\"GMMDataset/selected/RFCV/%sPCA5RFCVLogResidDailyAggregated.csv\"%station,index=False)"
   ]
  },
  {
   "cell_type": "code",
   "execution_count": null,
   "metadata": {},
   "outputs": [],
   "source": [
    "for station in ['EWR']:\n",
    "    print(station)\n",
    "    df = pd.read_csv('GMMDataset/selected/RFCV/'+station+'PCA5RFCVLogResidDailyAggregated.csv')\n",
    "    matrix = df.drop(columns='Date').values\n",
    "    matrix = StandardScaler().fit_transform(matrix)\n",
    "    data = pd.DataFrame(matrix)\n",
    "    data['date'] = df['Date']\n",
    "    dataname = station+'PCA5RFCVLogResidDailyAggregated.csv'.split('DailyAggregated.csv')[0]\n",
    "    comp = EWRdataBestComp[dataname]\n",
    "    AnomalyDetectionPipeline(data,comp,comp,'GMMDataset/selected/GMMIteration/RFCV/'+station+'PCA5RFCVLogResidAnomalyDetectionIterationOutput')\n"
   ]
  },
  {
   "cell_type": "markdown",
   "metadata": {},
   "source": [
    "### PCA24 RFCV Resid"
   ]
  },
  {
   "cell_type": "code",
   "execution_count": 126,
   "metadata": {},
   "outputs": [],
   "source": [
    "for station in ['EWR']:\n",
    "    dfOutput = pd.DataFrame()\n",
    "    data = pd.read_csv('/Users/hemingyi/Documents/UrbanTemporalNetworks/Resid/%sPCA24RFCV.csv'%station,parse_dates=['Date'])\n",
    "    data['Date'] = data.Date.dt.date\n",
    "    \n",
    "    data = data.groupby(['Date']).sum()\n",
    "    del data['Unnamed: 0']\n",
    "    del data['Hour']\n",
    "#     data['Date'] = data.index\n",
    "    data = data.reset_index()\n",
    "#     del data['Date']\n",
    "#     data['date'] = data.index\n",
    "#     break\n",
    "#     data['ResidLog'] = data['vehicleObservation'].apply(lambda x: np.log(x)) - data['totalPrediction'].apply(lambda x: np.log(x))\n",
    "#     data = data[['date','LinearResidLog']]\n",
    "#     dfOutput['%sResidLog'%station] = data['ResidLog'].values\n",
    "#     dfOutput['date'] = data['date'].values\n",
    "    data.to_csv(\"GMMDataset/selected/RFCV/%sPCA24RFCVResidDailyAggregated.csv\"%station,index=False)"
   ]
  },
  {
   "cell_type": "code",
   "execution_count": 127,
   "metadata": {},
   "outputs": [
    {
     "name": "stdout",
     "output_type": "stream",
     "text": [
      "EWR\n",
      "GMM in 4 component has the lowest BIC value\n",
      " GMM Parameter: 4-0.98"
     ]
    }
   ],
   "source": [
    "for station in ['EWR']:\n",
    "    print(station)\n",
    "    df = pd.read_csv('GMMDataset/selected/RFCV/'+station+'PCA24RFCVResidDailyAggregated.csv')\n",
    "    matrix = df.drop(columns='Date').values\n",
    "    matrix = StandardScaler().fit_transform(matrix)\n",
    "    data = pd.DataFrame(matrix)\n",
    "    data['date'] = df['Date']\n",
    "    dataname = station+'PCA24RFCVResidDailyAggregated.csv'.split('DailyAggregated.csv')[0]\n",
    "    if dataname in EWRdataBestComp:\n",
    "        comp = EWRdataBestComp[dataname]\n",
    "    else:\n",
    "        bestComp()\n",
    "        comp = EWRdataBestComp[dataname]\n",
    "    AnomalyDetectionPipeline(data,comp,comp,'GMMDataset/selected/GMMIteration/RFCV/'+station+'PCA24RFCVResidAnomalyDetectionIterationOutput')\n"
   ]
  },
  {
   "cell_type": "markdown",
   "metadata": {},
   "source": [
    "### PCA 24 RF CV Log"
   ]
  },
  {
   "cell_type": "code",
   "execution_count": 30,
   "metadata": {},
   "outputs": [],
   "source": [
    "for station in ['EWR']:\n",
    "    dataDir = '/Users/hemingyi/Documents/UrbanTemporalNetworks/processedData/'\n",
    "    file = dataDir + station + 'pca24.csv'\n",
    "#     zones = pd.read_csv('/Users/hemingyi/Documents/UrbanTemporalNetworks/Data/ZonetoComm.csv')\n",
    "#     zones['start_community'] = zones.start_community.astype(int).astype(str)\n",
    "\n",
    "#     zontoComm = dict(zip(zones.start_id.values,zones.start_community.values))\n",
    "    CommRaw = pd.read_csv(file,parse_dates=['Date'])\n",
    "#     CommRaw = CommRaw[(CommRaw['Date']>'2018-01-01')|((CommRaw['Date']=='2018-01-01')&(CommRaw['Hour']>11))]\n",
    "#     CommRaw['DOLocationID'] = CommRaw['DOLocationID'].apply(lambda x:zontoComm[x])\n",
    "    CommRaw = CommRaw.groupby(['Date']).sum().reset_index()\n",
    "#     CommRaw = pd.pivot_table(CommRaw, values='vehicle_count', index=['Date'],\n",
    "#                         columns=['DOLocationID'], aggfunc=np.sum, fill_value=0).reset_index()\n",
    "    data = pd.read_csv('/Users/hemingyi/Documents/UrbanTemporalNetworks/Resid/%sPCA24RFCV.csv'%station,\n",
    "                   parse_dates=['Date'])\n",
    "    del data['Unnamed: 0']\n",
    "    data = data.groupby(['Date']).sum().reset_index()\n",
    "    predictionValue = CommRaw[[str(i) for i in range(1,25)]].values + data[[str(i) for i in range(1,25)]].values\n",
    "    predictionDF = pd.DataFrame(predictionValue,columns=[str(i) for i in range(1,25)])\n",
    "    shiftValue = predictionDF.min().min()\n",
    "    logResid = np.log(CommRaw[[str(i) for i in range(1,25)]].values-shiftValue+1) - np.log(predictionValue-shiftValue+1)\n",
    "    logResidDF = pd.DataFrame(logResid,columns=[str(i) for i in range(1,25)])\n",
    "    logResidDF['Date'] = data['Date']\n",
    "    logResidDF.to_csv(\"GMMDataset/selected/RFCV/%sPCA24RFCVLogResidDailyAggregated.csv\"%station,index=False)"
   ]
  },
  {
   "cell_type": "code",
   "execution_count": 87,
   "metadata": {},
   "outputs": [
    {
     "name": "stdout",
     "output_type": "stream",
     "text": [
      "EWR\n",
      " GMM Parameter: 3-0.99"
     ]
    }
   ],
   "source": [
    "for station in ['EWR']:\n",
    "    print(station)\n",
    "    df = pd.read_csv('GMMDataset/selected/RFCV/'+station+'PCA24RFCVLogResidDailyAggregated.csv')\n",
    "    matrix = df.drop(columns='Date').values\n",
    "    matrix = StandardScaler().fit_transform(matrix)\n",
    "    data = pd.DataFrame(matrix)\n",
    "    data['date'] = df['Date']\n",
    "    dataname = station+'PCA24RFCVLogResidDailyAggregated.csv'.split('DailyAggregated.csv')[0]\n",
    "    comp = EWRdataBestComp[dataname]\n",
    "    AnomalyDetectionPipeline(data,comp,comp,'GMMDataset/selected/GMMIteration/RFCV/'+station+'PCA24RFCVLogResidAnomalyDetectionIterationOutput')\n"
   ]
  },
  {
   "cell_type": "markdown",
   "metadata": {},
   "source": [
    "### comm 24 RF CV "
   ]
  },
  {
   "cell_type": "code",
   "execution_count": 117,
   "metadata": {},
   "outputs": [],
   "source": [
    "for station in ['EWR']:\n",
    "    dfOutput = pd.DataFrame()\n",
    "    data = pd.read_csv('/Users/hemingyi/Documents/UrbanTemporalNetworks/Resid/%sComm24RFCV.csv'%station,parse_dates=['Date'])\n",
    "    data['Date'] = data.Date.dt.date\n",
    "    \n",
    "    data = data.groupby(['Date']).sum()\n",
    "    del data['Unnamed: 0']\n",
    "    del data['Hour']\n",
    "#     data['Date'] = data.index\n",
    "    data = data.reset_index()\n",
    "#     del data['Date']\n",
    "    data.to_csv(\"GMMDataset/selected/RFCV/%sComm24RFCVResidDailyAggregated.csv\"%station,index=False)"
   ]
  },
  {
   "cell_type": "code",
   "execution_count": 119,
   "metadata": {},
   "outputs": [
    {
     "name": "stdout",
     "output_type": "stream",
     "text": [
      "EWR\n",
      "GMM in 5 component has the lowest BIC value\n",
      " GMM Parameter: 5-0.98"
     ]
    }
   ],
   "source": [
    "for station in ['EWR']:\n",
    "    print(station)\n",
    "    df = pd.read_csv('GMMDataset/selected/RFCV/'+station+'Comm24RFCVResidDailyAggregated.csv')\n",
    "    matrix = df.drop(columns='Date').values\n",
    "    matrix = StandardScaler().fit_transform(matrix)\n",
    "    data = pd.DataFrame(matrix)\n",
    "    data['date'] = df['Date']\n",
    "    dataname = station+'Comm24RFCVResidDailyAggregated.csv'.split('DailyAggregated.csv')[0]\n",
    "    if dataname in EWRdataBestComp:\n",
    "        comp = EWRdataBestComp[dataname]\n",
    "    else:\n",
    "        bestComp()\n",
    "        comp = EWRdataBestComp[dataname]\n",
    "    AnomalyDetectionPipeline(data,comp,comp,'GMMDataset/selected/GMMIteration/RFCV/'+station+'Comm24RFCVResidAnomalyDetectionIterationOutput')\n"
   ]
  },
  {
   "cell_type": "markdown",
   "metadata": {},
   "source": [
    "### comm 24 RF CV Log"
   ]
  },
  {
   "cell_type": "code",
   "execution_count": 42,
   "metadata": {},
   "outputs": [],
   "source": [
    "for station in ['EWR']:\n",
    "    dataDir = '/Users/hemingyi/Documents/UrbanTemporalNetworks/processedData/'\n",
    "    file = dataDir + station + 'VehiceByHour.csv'\n",
    "    zones = pd.read_csv('/Users/hemingyi/Documents/UrbanTemporalNetworks/Data/ZonetoComm.csv')\n",
    "    zones['start_community'] = zones.start_community.astype(str)\n",
    "\n",
    "    zontoComm = dict(zip(zones.start_id.values,zones.start_community.values))\n",
    "    CommRaw = pd.read_csv(file,parse_dates=['Date'])\n",
    "    CommRaw = CommRaw[(CommRaw['Date']>'2018-01-01')|((CommRaw['Date']=='2018-01-01')&(CommRaw['Hour']>11))]\n",
    "    CommRaw['DOLocationID'] = CommRaw['DOLocationID'].apply(lambda x:zontoComm[x])\n",
    "    CommRaw = CommRaw.groupby(['Date','DOLocationID'])[['vehicle_count']].sum().reset_index()\n",
    "    CommRaw = pd.pivot_table(CommRaw, values='vehicle_count', index=['Date'],\n",
    "                        columns=['DOLocationID'], aggfunc=np.sum, fill_value=0).reset_index()\n",
    "    CommRaw.columns = ['Date'] + [str(i) for i in range(24)]\n",
    "    data = pd.read_csv('/Users/hemingyi/Documents/UrbanTemporalNetworks/Resid/%sComm24RFCV.csv'%station,\n",
    "                   parse_dates=['Date'])\n",
    "    del data['Unnamed: 0']\n",
    "    data = data.groupby(['Date']).sum().reset_index()\n",
    "    del data['Hour']\n",
    "    data.columns = ['Date'] + [str(i) for i in range(24)]\n",
    "    predictionValue = CommRaw[[str(i) for i in range(24)]].values + data[[str(i) for i in range(24)]].values\n",
    "    predictionDF = pd.DataFrame(predictionValue,columns=[str(i) for i in range(24)])\n",
    "    shiftValue = predictionDF.min().min()\n",
    "    logResid = np.log(CommRaw[[str(i) for i in range(24)]].values-shiftValue+1) - np.log(predictionValue-shiftValue+1)\n",
    "    logResidDF = pd.DataFrame(logResid,columns=[str(i) for i in range(24)])\n",
    "    logResidDF['Date'] = data['Date']\n",
    "    logResidDF.to_csv(\"GMMDataset/selected/RFCV/%sComm24RFCVLogResidDailyAggregated.csv\"%station,index=False)"
   ]
  },
  {
   "cell_type": "code",
   "execution_count": 88,
   "metadata": {},
   "outputs": [
    {
     "name": "stdout",
     "output_type": "stream",
     "text": [
      "EWR\n",
      " GMM Parameter: 3-0.99"
     ]
    }
   ],
   "source": [
    "for station in ['EWR']:\n",
    "    print(station)\n",
    "    df = pd.read_csv('GMMDataset/selected/RFCV/'+station+'Comm24RFCVLogResidDailyAggregated.csv')\n",
    "    matrix = df.drop(columns='Date').values\n",
    "    matrix = StandardScaler().fit_transform(matrix)\n",
    "    data = pd.DataFrame(matrix)\n",
    "    data['date'] = df['Date']\n",
    "    dataname = station+'Comm24RFCVLogResidDailyAggregated.csv'.split('DailyAggregated.csv')[0]\n",
    "    comp = EWRdataBestComp[dataname]\n",
    "    AnomalyDetectionPipeline(data,comp,comp,'GMMDataset/selected/GMMIteration/RFCV/'+station+'Comm24RFCVLogResidAnomalyDetectionIterationOutput')\n"
   ]
  },
  {
   "cell_type": "markdown",
   "metadata": {},
   "source": [
    "### Boro RF CV Log"
   ]
  },
  {
   "cell_type": "code",
   "execution_count": 89,
   "metadata": {},
   "outputs": [],
   "source": [
    "for station in ['EWR']:\n",
    "    dataDir = '/Users/hemingyi/Documents/UrbanTemporalNetworks/processedData/'\n",
    "    file = dataDir + station + 'VehiceByHour.csv'\n",
    "    zones = pd.read_csv('/Users/hemingyi/Documents/UrbanTemporalNetworks/Data/taxi_zones.csv')\n",
    "    zones['LocationID'] = zones['LocationID'].astype(str)\n",
    "    boro = zones.borough.unique().tolist()\n",
    "    if station == 'EWR':\n",
    "        boro.remove('EWR')\n",
    "    zonetoBoro = dict(zip(zones.LocationID.values,zones.borough.values))\n",
    "    CommRaw = pd.read_csv(file,parse_dates=['Date'])\n",
    "    CommRaw = CommRaw[(CommRaw['Date']>'2018-01-01')|((CommRaw['Date']=='2018-01-01')&(CommRaw['Hour']>11))]\n",
    "    CommRaw['DOLocationID'] = CommRaw['DOLocationID'].apply(lambda x:zonetoBoro[str(x)])\n",
    "    CommRaw = CommRaw.groupby(['Date','DOLocationID'])[['vehicle_count']].sum().reset_index()\n",
    "    CommRaw = pd.pivot_table(CommRaw, values='vehicle_count', index=['Date'],\n",
    "                        columns=['DOLocationID'], aggfunc=np.sum, fill_value=0).reset_index()\n",
    "    CommRaw.columns = ['Date'] + boro\n",
    "    data = pd.read_csv('/Users/hemingyi/Documents/UrbanTemporalNetworks/Resid/%sBoroRFCV.csv'%station,\n",
    "                   parse_dates=['Date'])\n",
    "    del data['Unnamed: 0']\n",
    "    data = data.groupby(['Date']).sum().reset_index()\n",
    "    del data['Hour']\n",
    "    data.columns = ['Date'] + boro\n",
    "    predictionValue = CommRaw[boro].values + data[boro].values\n",
    "    if station == 'EWR':\n",
    "        predictionDF = pd.DataFrame(predictionValue,columns=[str(i) for i in range(5)])\n",
    "    else:\n",
    "        predictionDF = pd.DataFrame(predictionValue,columns=[str(i) for i in range(6)])\n",
    "    shiftValue = predictionDF.min().min()\n",
    "    logResid = np.log(CommRaw[boro].values-shiftValue+1) - np.log(predictionValue-shiftValue+1)\n",
    "    logResidDF = pd.DataFrame(logResid,columns=boro)\n",
    "    logResidDF['Date'] = data['Date']\n",
    "    logResidDF.to_csv(\"GMMDataset/selected/RFCV/%sBoroRFCVLogResidDailyAggregated.csv\"%station,index=False)"
   ]
  },
  {
   "cell_type": "code",
   "execution_count": 90,
   "metadata": {},
   "outputs": [
    {
     "name": "stdout",
     "output_type": "stream",
     "text": [
      "EWR\n",
      " GMM Parameter: 5-0.98"
     ]
    }
   ],
   "source": [
    "for station in ['EWR']:\n",
    "    print(station)\n",
    "    df = pd.read_csv('GMMDataset/selected/RFCV/'+station+'BoroRFCVLogResidDailyAggregated.csv')\n",
    "    matrix = df.drop(columns='Date').values\n",
    "    matrix = StandardScaler().fit_transform(matrix)\n",
    "    data = pd.DataFrame(matrix)\n",
    "    data['date'] = df['Date']\n",
    "    dataname = station+'BoroRFCVLogResidDailyAggregated.csv'.split('DailyAggregated.csv')[0]\n",
    "    comp = EWRdataBestComp[dataname]\n",
    "    AnomalyDetectionPipeline(data,comp,comp,'GMMDataset/selected/GMMIteration/RFCV/'+station+'BoroRFCVLogResidAnomalyDetectionIterationOutput')\n"
   ]
  },
  {
   "cell_type": "markdown",
   "metadata": {},
   "source": [
    "### test AUROC on events"
   ]
  },
  {
   "cell_type": "code",
   "execution_count": null,
   "metadata": {},
   "outputs": [],
   "source": [
    "for station in ['JFK','LGA']:\n",
    "    outputfile = '%sResidualAnomalyDetectionIterationResult'%station\n",
    "    event = \"%sEvents\"%station\n",
    "    f = open(path+'GMMDataset/selected/RFCV/%s.csv'%outputfile, 'w+')\n",
    "    # f.write('city,Method,GMM Parameter,National Holiday TP,National Holiday FP,National Holiday TN,National Holiday FN,Culture Event TP,Culture Event FP,Culture Event TN,Culture Event FN,Extreme Weather TP,Extreme Weather FP,Extreme Weather TN,Extreme Weather FN,Overall TP,Overall FP,Overall TN,Overall FN\\n')\n",
    "    f.write('station,Method,GMM Parameter,Overall TP,Overall FP,Overall TN,Overall FN\\n')\n",
    "    f.close()\n",
    "\n",
    "    for filename in os.listdir(path+'GMMDataset/selected/GMMIteration/RFCV/'):\n",
    "        if \"AnomalyDetectionIterationOutput\" in filename and station in filename:\n",
    "#             print(filename)\n",
    "            inputfile = filename.split('.')[0]\n",
    "            method = inputfile.split('AnomalyDetectionIterationOutput')[0]\n",
    "#             print(method)\n",
    "            Output_to_ConfusionMatrix(event,inputfile,outputfile,station,method)\n",
    "    record = pd.read_csv('GMMDataset/selected/RFCV/%s.csv'%outputfile)\n",
    "    record['GMM'] = record['GMM Parameter'].apply(lambda x: x.split('-')[0])\n",
    "    record['FPR'] = record['Overall FP']/(record['Overall FP']+record['Overall TN'])\n",
    "    record['TPR'] = record['Overall TP']/(record['Overall TP']+record['Overall FN'])\n",
    "    maxCompAUC = {}\n",
    "    for method in record.Method.unique().tolist():\n",
    "#         method = method.replace(station,'')\n",
    "        AUCList = []\n",
    "        GMM = EWRdataBestComp[method]\n",
    "        StationRecord = record[(record['GMM']==str(GMM))&(record['Method']==method)]\n",
    "        if len(StationRecord) > 0:\n",
    "            StationRecord = StationRecord.sort_values(['FPR'])\n",
    "            fpr = StationRecord.FPR.tolist()\n",
    "            tpr = StationRecord.TPR.tolist()\n",
    "            AUC = metrics.auc(fpr, tpr)\n",
    "    #         AUCList += [[AUC,GMM]]\n",
    "        AUC = round(AUC,3)\n",
    "        maxCompAUC[method] = [AUC,GMM]\n",
    "\n",
    "    resultDF = pd.DataFrame.from_dict(maxCompAUC,orient='index')\n",
    "    resultDF.rename(columns={0:'AUROC',1:'BestComp'},inplace=True)\n",
    "    resultDF['method'] = resultDF.index.values\n",
    "    resultDF['method'] = resultDF['method'].apply(lambda x:x.split(station)[1])\n",
    "    resultDF = resultDF.sort_values(['method'])\n",
    "    resultDF.to_csv('%sRFCVShiftAUROC.csv'%station, index=False)\n",
    "df = pd.read_csv('JFKRFCVShiftAUROC.csv')\n",
    "del df['BestComp']\n",
    "for station in ['LGA','EWR','PENN']:\n",
    "    df1 = pd.read_csv('%sRFCVShiftAUROC.csv'%station)\n",
    "    del df1['BestComp']\n",
    "    df1 = df1.rename(columns={'AUROC':station})\n",
    "    df = df.merge(df1,on='method')\n",
    "    df = df.rename(columns={'AUROC':'JFK'})\n",
    "df = df[['method','JFK','LGA','EWR','PENN']]\n",
    "df.to_csv('RFCVShiftmergedAUROC.csv')\n",
    "df"
   ]
  },
  {
   "cell_type": "markdown",
   "metadata": {},
   "source": [
    "### precision - recall"
   ]
  },
  {
   "cell_type": "code",
   "execution_count": 88,
   "metadata": {},
   "outputs": [
    {
     "data": {
      "text/html": [
       "<div>\n",
       "<style scoped>\n",
       "    .dataframe tbody tr th:only-of-type {\n",
       "        vertical-align: middle;\n",
       "    }\n",
       "\n",
       "    .dataframe tbody tr th {\n",
       "        vertical-align: top;\n",
       "    }\n",
       "\n",
       "    .dataframe thead th {\n",
       "        text-align: right;\n",
       "    }\n",
       "</style>\n",
       "<table border=\"1\" class=\"dataframe\">\n",
       "  <thead>\n",
       "    <tr style=\"text-align: right;\">\n",
       "      <th></th>\n",
       "      <th>method</th>\n",
       "      <th>JFK</th>\n",
       "      <th>LGA</th>\n",
       "    </tr>\n",
       "  </thead>\n",
       "  <tbody>\n",
       "    <tr>\n",
       "      <th>0</th>\n",
       "      <td>DLComm24Resid</td>\n",
       "      <td>0.208</td>\n",
       "      <td>0.074</td>\n",
       "    </tr>\n",
       "    <tr>\n",
       "      <th>1</th>\n",
       "      <td>DLedgeResid</td>\n",
       "      <td>0.084</td>\n",
       "      <td>0.040</td>\n",
       "    </tr>\n",
       "  </tbody>\n",
       "</table>\n",
       "</div>"
      ],
      "text/plain": [
       "          method    JFK    LGA\n",
       "0  DLComm24Resid  0.208  0.074\n",
       "1    DLedgeResid  0.084  0.040"
      ]
     },
     "execution_count": 88,
     "metadata": {},
     "output_type": "execute_result"
    }
   ],
   "source": [
    "for station in ['JFK','LGA']:\n",
    "    outputfile = '%sResidualAnomalyDetectionIterationResult'%station\n",
    "    event = \"%sEvents\"%station\n",
    "    f = open(path+'GMMDataset/selected/DL/%s.csv'%outputfile, 'w+')\n",
    "    # f.write('city,Method,GMM Parameter,National Holiday TP,National Holiday FP,National Holiday TN,National Holiday FN,Culture Event TP,Culture Event FP,Culture Event TN,Culture Event FN,Extreme Weather TP,Extreme Weather FP,Extreme Weather TN,Extreme Weather FN,Overall TP,Overall FP,Overall TN,Overall FN\\n')\n",
    "    f.write('station,Method,GMM Parameter,Overall TP,Overall FP,Overall TN,Overall FN\\n')\n",
    "    f.close()\n",
    "\n",
    "    for filename in os.listdir(path+'GMMDataset/selected/GMMIteration/DL/'):\n",
    "        if \"AnomalyDetectionIterationOutput\" in filename and station in filename:\n",
    "#             print(filename)\n",
    "            inputfile = filename.split('.')[0]\n",
    "            method = inputfile.split('AnomalyDetectionIterationOutput')[0]\n",
    "#             print(method)\n",
    "            Output_to_ConfusionMatrix(event,inputfile,outputfile,station,method)\n",
    "    record = pd.read_csv('GMMDataset/selected/DL/%s.csv'%outputfile)\n",
    "    record['GMM'] = record['GMM Parameter'].apply(lambda x: x.split('-')[0])\n",
    "    record['precision'] = record['Overall TP']/(record['Overall TP']+record['Overall FP'])\n",
    "    record['recall'] = record['Overall TP']/(record['Overall TP']+record['Overall FN'])\n",
    "    record = record.fillna(0)\n",
    "    maxCompAUC = {}\n",
    "    for method in record.Method.unique().tolist():\n",
    "#         method = method.replace(station,'')\n",
    "        AUCList = []\n",
    "        GMM = dataBestComp[method]\n",
    "        StationRecord = record[(record['GMM']==str(GMM))&(record['Method']==method)]\n",
    "        if len(StationRecord) > 0:\n",
    "            StationRecord = StationRecord.sort_values(['recall'])\n",
    "            pre = StationRecord.precision.tolist()\n",
    "            rec = StationRecord.recall.tolist()\n",
    "            AUC = metrics.auc(rec, pre)\n",
    "    #         AUCList += [[AUC,GMM]]\n",
    "        AUC = round(AUC,3)\n",
    "        maxCompAUC[method] = [AUC,GMM]\n",
    "\n",
    "    resultDF = pd.DataFrame.from_dict(maxCompAUC,orient='index')\n",
    "    resultDF.rename(columns={0:'PR',1:'BestComp'},inplace=True)\n",
    "    resultDF['method'] = resultDF.index.values\n",
    "    resultDF['method'] = resultDF['method'].apply(lambda x:x.split(station)[1])\n",
    "    resultDF = resultDF.sort_values(['method'])\n",
    "    resultDF.to_csv('%sP-C0726.csv'%station, index=False)\n",
    "df = pd.read_csv('JFKP-C0726.csv')\n",
    "del df['BestComp']\n",
    "for station in ['LGA']:\n",
    "    df1 = pd.read_csv('%sP-C0726.csv'%station)\n",
    "    del df1['BestComp']\n",
    "    df1 = df1.rename(columns={'PR':station})\n",
    "    df = df.merge(df1,on='method')\n",
    "    df = df.rename(columns={'PR':'JFK'})\n",
    "df = df[['method','JFK','LGA']]\n",
    "\n",
    "df"
   ]
  },
  {
   "cell_type": "code",
   "execution_count": 89,
   "metadata": {},
   "outputs": [],
   "source": [
    "df['JFK'] = df['JFK'] / 0.057849380331267804\n",
    "df['LGA'] = df['LGA'] / 0.05523732636206201"
   ]
  },
  {
   "cell_type": "code",
   "execution_count": 91,
   "metadata": {},
   "outputs": [],
   "source": [
    "df.to_csv('P-C0726.csv',mode='a')"
   ]
  },
  {
   "cell_type": "code",
   "execution_count": 92,
   "metadata": {},
   "outputs": [
    {
     "data": {
      "text/html": [
       "<div>\n",
       "<style scoped>\n",
       "    .dataframe tbody tr th:only-of-type {\n",
       "        vertical-align: middle;\n",
       "    }\n",
       "\n",
       "    .dataframe tbody tr th {\n",
       "        vertical-align: top;\n",
       "    }\n",
       "\n",
       "    .dataframe thead th {\n",
       "        text-align: right;\n",
       "    }\n",
       "</style>\n",
       "<table border=\"1\" class=\"dataframe\">\n",
       "  <thead>\n",
       "    <tr style=\"text-align: right;\">\n",
       "      <th></th>\n",
       "      <th>method</th>\n",
       "      <th>JFK</th>\n",
       "      <th>LGA</th>\n",
       "    </tr>\n",
       "  </thead>\n",
       "  <tbody>\n",
       "    <tr>\n",
       "      <th>0</th>\n",
       "      <td>DLComm24Resid</td>\n",
       "      <td>3.595544</td>\n",
       "      <td>1.339674</td>\n",
       "    </tr>\n",
       "    <tr>\n",
       "      <th>1</th>\n",
       "      <td>DLedgeResid</td>\n",
       "      <td>1.452047</td>\n",
       "      <td>0.724148</td>\n",
       "    </tr>\n",
       "  </tbody>\n",
       "</table>\n",
       "</div>"
      ],
      "text/plain": [
       "          method       JFK       LGA\n",
       "0  DLComm24Resid  3.595544  1.339674\n",
       "1    DLedgeResid  1.452047  0.724148"
      ]
     },
     "execution_count": 92,
     "metadata": {},
     "output_type": "execute_result"
    }
   ],
   "source": [
    "df"
   ]
  },
  {
   "cell_type": "markdown",
   "metadata": {},
   "source": [
    "### random auc precision-recall"
   ]
  },
  {
   "cell_type": "code",
   "execution_count": 81,
   "metadata": {},
   "outputs": [
    {
     "name": "stdout",
     "output_type": "stream",
     "text": [
      "JFK\n",
      "random precision-recall AUC: 0.057849380331267804\n",
      "LGA\n",
      "random precision-recall AUC: 0.05523732636206201\n"
     ]
    }
   ],
   "source": [
    "for station in ['JFK','LGA']:\n",
    "    print(station)\n",
    "    event = \"%sEvents\"%station\n",
    "    event = getEvents(event)\n",
    "#     print(len(event))\n",
    "#     print(event)\n",
    "    date1 = '2018-01-01'\n",
    "    date2 = '2018-12-31'\n",
    "    df = pd.DataFrame(pd.date_range(date1, date2),columns=['Date'])\n",
    "    df = df.merge(event[['Date','Anomaly']],on='Date',how='outer').fillna(False)\n",
    "    precisionList = []\n",
    "    recallList = []\n",
    "    for p in np.arange(0,1,0.01):\n",
    "        output = [np.random.choice([True,False], p=[p,1-p]) for i in range(365)]\n",
    "        df['predict'] = output\n",
    "        TP = len(df[(df['Anomaly']==True)&(df['predict']==True)])\n",
    "        FP = len(df[(df['Anomaly']==False)&(df['predict']==True)])\n",
    "        FN = len(df[(df['Anomaly']==True)&(df['predict']==False)])\n",
    "        if TP + FP > 0:\n",
    "            precision = TP / (TP + FP)\n",
    "        else:\n",
    "            precision = 0\n",
    "        if TP + FN > 0:\n",
    "            recall = TP / (TP + FN)\n",
    "        else:\n",
    "            recall = 0\n",
    "        precisionList += [precision]\n",
    "        recallList += [recall]\n",
    "        result = {'precision':precisionList,'recall':recallList}\n",
    "        result = pd.DataFrame(result)\n",
    "        result = result.sort_values(['recall'])\n",
    "    AUC = metrics.auc(result['recall'].tolist(), result['precision'].tolist())\n",
    "    print('random precision-recall AUC:',AUC)"
   ]
  },
  {
   "cell_type": "code",
   "execution_count": 9,
   "metadata": {},
   "outputs": [
    {
     "name": "stdout",
     "output_type": "stream",
     "text": [
      "JFK\n",
      "random precision-recall AUC: 0.05478686595215312\n",
      "LGA\n",
      "random precision-recall AUC: 0.043247822162391154\n",
      "EWR\n",
      "random precision-recall AUC: 0.057791656816796974\n"
     ]
    }
   ],
   "source": [
    "for station in ['JFK','LGA','EWR']:\n",
    "    print(station)\n",
    "    event = \"%sEventsShift\"%station\n",
    "    event = getEvents(event)\n",
    "#     print(len(event))\n",
    "#     print(event)\n",
    "    date1 = '2018-01-01'\n",
    "    date2 = '2018-12-31'\n",
    "    df = pd.DataFrame(pd.date_range(date1, date2),columns=['Date'])\n",
    "    df = df.merge(event[['Date','Anomaly']],on='Date',how='outer').fillna(False)\n",
    "    precisionList = []\n",
    "    recallList = []\n",
    "    for p in np.arange(0,1,0.01):\n",
    "        output = [np.random.choice([True,False], p=[p,1-p]) for i in range(365)]\n",
    "        df['predict'] = output\n",
    "        TP = len(df[(df['Anomaly']==True)&(df['predict']==True)])\n",
    "        FP = len(df[(df['Anomaly']==False)&(df['predict']==True)])\n",
    "        FN = len(df[(df['Anomaly']==True)&(df['predict']==False)])\n",
    "        if TP + FP > 0:\n",
    "            precision = TP / (TP + FP)\n",
    "        else:\n",
    "            precision = 0\n",
    "        if TP + FN > 0:\n",
    "            recall = TP / (TP + FN)\n",
    "        else:\n",
    "            recall = 0\n",
    "        precisionList += [precision]\n",
    "        recallList += [recall]\n",
    "        result = {'precision':precisionList,'recall':recallList}\n",
    "        result = pd.DataFrame(result)\n",
    "        result = result.sort_values(['recall'])\n",
    "    AUC = metrics.auc(result['recall'].tolist(), result['precision'].tolist())\n",
    "    print('random precision-recall AUC:',AUC)"
   ]
  },
  {
   "cell_type": "markdown",
   "metadata": {},
   "source": [
    "## each day's anomaly times"
   ]
  },
  {
   "cell_type": "code",
   "execution_count": 234,
   "metadata": {},
   "outputs": [
    {
     "name": "stdout",
     "output_type": "stream",
     "text": [
      "JFKtotalRFCVResidAnomalyDetectionIterationOutput.csv\n",
      "JFKtotalRFCVLogResidAnomalyDetectionIterationOutput.csv\n",
      "JFKComm24RFCVResidAnomalyDetectionIterationOutput.csv\n",
      "JFKComm6RFCVLogResidAnomalyDetectionIterationOutput.csv\n",
      "JFKComm6RFCVResidAnomalyDetectionIterationOutput.csv\n",
      "JFKBoroRFCVResidAnomalyDetectionIterationOutput.csv\n",
      "JFKBoroRFCVLogResidAnomalyDetectionIterationOutput.csv\n",
      "JFKedgeRFCVLogResidAnomalyDetectionIterationOutput.csv\n",
      "JFKPCA5RFCVLogResidAnomalyDetectionIterationOutput.csv\n",
      "JFKPCA24RFCVResidAnomalyDetectionIterationOutput.csv\n",
      "JFKedgeRFCVResidAnomalyDetectionIterationOutput.csv\n",
      "JFKPCA5RFCVResidAnomalyDetectionIterationOutput.csv\n",
      "JFKtotalAnomalyDetectionIterationOutput.csv\n",
      "JFKedgeAnomalyDetectionIterationOutput.csv\n",
      "JFKPCA24RFCVLogResidAnomalyDetectionIterationOutput.csv\n",
      "JFKComm24RFCVLogResidAnomalyDetectionIterationOutput.csv\n"
     ]
    }
   ],
   "source": [
    "for station in ['JFK']:\n",
    "    TrueTimesSummary = pd.DataFrame()\n",
    "    for filename in os.listdir('GMMDataset/selected/GMMIteration/RFCV/'):\n",
    "        if \"AnomalyDetectionIterationOutput\" in filename:\n",
    "            if station in filename:\n",
    "                print(filename)\n",
    "                df = pd.read_csv('GMMDataset/selected/GMMIteration/RFCV/'+filename)\n",
    "                method = filename.split('AnomalyDetectionIterationOutput')[0]\n",
    "                df = df[['%s-%s'%(str(EWRdataBestComp[method]),str(round(i,2))) for i in np.arange(0,0.99,0.01)]+['Date']]\n",
    "                TrueTimesSummary[method] = df.drop(columns=['Date']).sum(axis=1)\n",
    "                TrueTimesSummary['Total'] = TrueTimesSummary.sum(axis=1)  \n",
    "#                 break\n",
    "    TrueTimesSummary['Date'] = df['Date']\n",
    "    EventDF = getEvents('%sEventsShift'%station)\n",
    "    EventDF.Date = EventDF.Date.astype('str')\n",
    "    TrueTimesSummary = TrueTimesSummary.merge(EventDF[['Date','Anomaly']],on='Date',how='left')\n",
    "    TrueTimesSummary.to_csv('%sTrueTimesSummary.csv'%station)"
   ]
  },
  {
   "cell_type": "code",
   "execution_count": 211,
   "metadata": {},
   "outputs": [
    {
     "data": {
      "text/html": [
       "<div>\n",
       "<style scoped>\n",
       "    .dataframe tbody tr th:only-of-type {\n",
       "        vertical-align: middle;\n",
       "    }\n",
       "\n",
       "    .dataframe tbody tr th {\n",
       "        vertical-align: top;\n",
       "    }\n",
       "\n",
       "    .dataframe thead th {\n",
       "        text-align: right;\n",
       "    }\n",
       "</style>\n",
       "<table border=\"1\" class=\"dataframe\">\n",
       "  <thead>\n",
       "    <tr style=\"text-align: right;\">\n",
       "      <th></th>\n",
       "      <th>station</th>\n",
       "      <th>Method</th>\n",
       "      <th>GMM Parameter</th>\n",
       "      <th>Overall TP</th>\n",
       "      <th>Overall FP</th>\n",
       "      <th>Overall TN</th>\n",
       "      <th>Overall FN</th>\n",
       "    </tr>\n",
       "  </thead>\n",
       "  <tbody>\n",
       "    <tr>\n",
       "      <th>0</th>\n",
       "      <td>JFK</td>\n",
       "      <td>JFKtotalRFCVResid</td>\n",
       "      <td>1-0.0</td>\n",
       "      <td>0</td>\n",
       "      <td>0</td>\n",
       "      <td>345</td>\n",
       "      <td>20</td>\n",
       "    </tr>\n",
       "    <tr>\n",
       "      <th>1</th>\n",
       "      <td>JFK</td>\n",
       "      <td>JFKtotalRFCVResid</td>\n",
       "      <td>1-0.01</td>\n",
       "      <td>0</td>\n",
       "      <td>3</td>\n",
       "      <td>342</td>\n",
       "      <td>20</td>\n",
       "    </tr>\n",
       "    <tr>\n",
       "      <th>2</th>\n",
       "      <td>JFK</td>\n",
       "      <td>JFKtotalRFCVResid</td>\n",
       "      <td>1-0.02</td>\n",
       "      <td>0</td>\n",
       "      <td>7</td>\n",
       "      <td>338</td>\n",
       "      <td>20</td>\n",
       "    </tr>\n",
       "    <tr>\n",
       "      <th>3</th>\n",
       "      <td>JFK</td>\n",
       "      <td>JFKtotalRFCVResid</td>\n",
       "      <td>1-0.03</td>\n",
       "      <td>0</td>\n",
       "      <td>10</td>\n",
       "      <td>335</td>\n",
       "      <td>20</td>\n",
       "    </tr>\n",
       "    <tr>\n",
       "      <th>4</th>\n",
       "      <td>JFK</td>\n",
       "      <td>JFKtotalRFCVResid</td>\n",
       "      <td>1-0.04</td>\n",
       "      <td>1</td>\n",
       "      <td>13</td>\n",
       "      <td>332</td>\n",
       "      <td>19</td>\n",
       "    </tr>\n",
       "  </tbody>\n",
       "</table>\n",
       "</div>"
      ],
      "text/plain": [
       "  station             Method GMM Parameter  Overall TP  Overall FP  \\\n",
       "0     JFK  JFKtotalRFCVResid         1-0.0           0           0   \n",
       "1     JFK  JFKtotalRFCVResid        1-0.01           0           3   \n",
       "2     JFK  JFKtotalRFCVResid        1-0.02           0           7   \n",
       "3     JFK  JFKtotalRFCVResid        1-0.03           0          10   \n",
       "4     JFK  JFKtotalRFCVResid        1-0.04           1          13   \n",
       "\n",
       "   Overall TN  Overall FN  \n",
       "0         345          20  \n",
       "1         342          20  \n",
       "2         338          20  \n",
       "3         335          20  \n",
       "4         332          19  "
      ]
     },
     "execution_count": 211,
     "metadata": {},
     "output_type": "execute_result"
    }
   ],
   "source": [
    "station = 'JFK'\n",
    "outputfile = '%sResidualAnomalyDetectionIterationResult'%station\n",
    "record = pd.read_csv('GMMDataset/selected/RFCV/%s.csv'%outputfile)\n",
    "record.head()"
   ]
  },
  {
   "cell_type": "code",
   "execution_count": 212,
   "metadata": {},
   "outputs": [
    {
     "data": {
      "text/plain": [
       "array(['JFKtotalRFCVResid', 'JFKtotalRFCVLogResid', 'JFKComm24RFCVResid',\n",
       "       'JFKComm6RFCVLogResid', 'JFKComm6RFCVResid', 'JFKBoroRFCVResid',\n",
       "       'JFKBoroRFCVLogResid', 'JFKedgeRFCVLogResid',\n",
       "       'JFKPCA5RFCVLogResid', 'JFKPCA24RFCVResid', 'JFKedgeRFCVResid',\n",
       "       'JFKPCA5RFCVResid', 'JFKtotal', 'JFKedge', 'JFKPCA24RFCVLogResid',\n",
       "       'JFKComm24RFCVLogResid'], dtype=object)"
      ]
     },
     "execution_count": 212,
     "metadata": {},
     "output_type": "execute_result"
    }
   ],
   "source": [
    "record['Method'].unique()"
   ]
  },
  {
   "cell_type": "code",
   "execution_count": 225,
   "metadata": {},
   "outputs": [],
   "source": [
    "record['TPR'] = record['Overall TP'] / (record['Overall TP'] + record['Overall FN'])\n",
    "record['FPR'] = record['Overall FP'] / (record['Overall FP'] + record['Overall TN'])\n",
    "record['precision'] = record['Overall TP'] / (record['Overall TP'] + record['Overall FP'])\n",
    "record['recall'] =  record['Overall TP'] / (record['Overall TP'] + record['Overall FN'])\n",
    "record['GMM'] = record['GMM Parameter'].apply(lambda x: int(x.split('-')[0]))"
   ]
  },
  {
   "cell_type": "code",
   "execution_count": 235,
   "metadata": {},
   "outputs": [
    {
     "data": {
      "image/png": "[encoded data removed]",
      "text/plain": [
       "<Figure size 1080x432 with 2 Axes>"
      ]
     },
     "metadata": {
      "needs_background": "light"
     },
     "output_type": "display_data"
    }
   ],
   "source": [
    "fig = plt.figure(figsize=(15,6))\n",
    "gs = gridspec.GridSpec(1,2,figure=fig)\n",
    "ax = fig.add_subplot(gs[0,0])\n",
    "plotdf = record[record['station']=='JFK']\n",
    "plotdf = plotdf.sort_values(['FPR'])\n",
    "method = 'JFKPCA24RFCVResid'\n",
    "plotdfgmm = plotdf[(plotdf['Method']==method)&(plotdf['GMM']==EWRdataBestComp[method])]\n",
    "ax.plot(plotdfgmm['FPR'],plotdfgmm['TPR'],label='PCA24 Resid',color='r',alpha=0.5)\n",
    "\n",
    "method = 'JFKPCA24RFCVLogResid'\n",
    "plotdfgmm = plotdf[(plotdf['Method']==method)&(plotdf['GMM']==EWRdataBestComp[method])]\n",
    "ax.plot(plotdfgmm['FPR'],plotdfgmm['TPR'],label='PCA24 Log Resid',color='r')\n",
    "\n",
    "method = 'JFKComm24RFCVResid'\n",
    "plotdfgmm = plotdf[(plotdf['Method']==method)&(plotdf['GMM']==EWRdataBestComp[method])]\n",
    "ax.plot(plotdfgmm['FPR'],plotdfgmm['TPR'],label='Comm24 Resid',color='b',alpha=0.5)\n",
    "\n",
    "method = 'JFKComm24RFCVLogResid'\n",
    "plotdfgmm = plotdf[(plotdf['Method']==method)&(plotdf['GMM']==EWRdataBestComp[method])]\n",
    "ax.plot(plotdfgmm['FPR'],plotdfgmm['TPR'],label='Comm24 Log Resid',color='b')\n",
    "\n",
    "\n",
    "ax.set_title('ROC at JFK', fontsize=14)\n",
    "ax.set_xlabel('False Positive Rate', fontsize=14)\n",
    "ax.set_ylabel('True Positive Rate', fontsize=14)\n",
    "\n",
    "\n",
    "ax = fig.add_subplot(gs[0,1])\n",
    "plotdf = record[record['station']=='JFK']\n",
    "# plotdf = plotdf.sort_values(['recall'])\n",
    "method = 'JFKPCA24RFCVResid'\n",
    "plotdfgmm = plotdf[(plotdf['Method']==method)&(plotdf['GMM']==EWRdataBestComp[method])]\n",
    "ax.plot(plotdfgmm['recall'],plotdfgmm['precision'],label='PCA24 Resid',color='r',alpha=0.5)\n",
    "\n",
    "method = 'JFKPCA24RFCVLogResid'\n",
    "plotdfgmm = plotdf[(plotdf['Method']==method)&(plotdf['GMM']==EWRdataBestComp[method])]\n",
    "ax.plot(plotdfgmm['recall'],plotdfgmm['precision'],label='PCA24 Log Resid',color='r')\n",
    "\n",
    "method = 'JFKComm24RFCVResid'\n",
    "plotdfgmm = plotdf[(plotdf['Method']==method)&(plotdf['GMM']==EWRdataBestComp[method])]\n",
    "ax.plot(plotdfgmm['recall'],plotdfgmm['precision'],label='Comm24 Resid',color='b',alpha=0.5)\n",
    "\n",
    "method = 'JFKComm24RFCVLogResid'\n",
    "plotdfgmm = plotdf[(plotdf['Method']==method)&(plotdf['GMM']==EWRdataBestComp[method])]\n",
    "ax.plot(plotdfgmm['recall'],plotdfgmm['precision'],label='Comm24 Log Resid',color='b')\n",
    "\n",
    "\n",
    "ax.set_title('Precsion-Recall curve at JFK', fontsize=14)\n",
    "ax.set_xlabel('Recall', fontsize=14)\n",
    "ax.set_ylabel('Precision', fontsize=14)\n",
    "\n",
    "plt.legend(loc='center left', bbox_to_anchor=(1, 0.65),fontsize=14)\n",
    "plt.tight_layout()\n",
    "plt.savefig('JFKROC-PC.png')"
   ]
  },
  {
   "cell_type": "code",
   "execution_count": 251,
   "metadata": {},
   "outputs": [
    {
     "data": {
      "image/png": "[encoded data removed]",
      "text/plain": [
       "<Figure size 1080x576 with 4 Axes>"
      ]
     },
     "metadata": {
      "needs_background": "light"
     },
     "output_type": "display_data"
    }
   ],
   "source": [
    "fig = plt.figure(figsize=(15,8))\n",
    "gs = gridspec.GridSpec(2,2,figure=fig)\n",
    "\n",
    "ax = fig.add_subplot(gs[0,0])\n",
    "station = 'JFK'\n",
    "filename = \"GMMDataset/selected/RFCV/%sPCA24RFCVResidDailyAggregated.csv\"%station\n",
    "data = pd.read_csv(filename)\n",
    "data = data.drop(columns=['date'])\n",
    "for column in data.columns:\n",
    "    plt.hist(data[column].values.tolist(),bins=20,alpha=0.5,label=column)\n",
    "ax.set_title('JFK PCA24 Residual Distribution')\n",
    "    \n",
    "ax = fig.add_subplot(gs[0,1])\n",
    "filename = \"GMMDataset/selected/RFCV/%sPCA24RFCVLogResidDailyAggregated.csv\"%station\n",
    "data = pd.read_csv(filename)\n",
    "data = data.drop(columns=['Date'])\n",
    "for column in data.columns:\n",
    "    plt.hist(data[column].values.tolist(),bins=20,alpha=0.5,label=column)\n",
    "ax.set_title('JFK PCA24 Log Residual Distribution')\n",
    "\n",
    "ax = fig.add_subplot(gs[1,0])\n",
    "filename = \"GMMDataset/selected/RFCV/%sComm24RFCVResidDailyAggregated.csv\"%station\n",
    "data = pd.read_csv(filename)\n",
    "data = data.drop(columns=['date'])\n",
    "for column in data.columns:\n",
    "    plt.hist(data[column].values.tolist(),bins=20,alpha=0.5,label=column)\n",
    "ax.set_title('JFK Commm24 Residual Distribution')\n",
    "    \n",
    "ax = fig.add_subplot(gs[1,1]) \n",
    "filename = \"GMMDataset/selected/RFCV/%sComm24RFCVLogResidDailyAggregated.csv\"%station\n",
    "data = pd.read_csv(filename)\n",
    "data = data.drop(columns=['Date'])\n",
    "for column in data.columns:\n",
    "    plt.hist(data[column].values.tolist(),bins=20,alpha=0.5,label=column)\n",
    "ax.set_title('JFK Comm24 Log Residual Distribution')\n",
    "plt.tight_layout()\n",
    "plt.savefig('JFKResidDistribution.png')"
   ]
  }
 ],
 "metadata": {
  "kernelspec": {
   "display_name": "Python 3",
   "language": "python",
   "name": "python3"
  },
  "language_info": {
   "codemirror_mode": {
    "name": "ipython",
    "version": 3
   },
   "file_extension": ".py",
   "mimetype": "text/x-python",
   "name": "python",
   "nbconvert_exporter": "python",
   "pygments_lexer": "ipython3",
   "version": "3.7.6"
  }
 },
 "nbformat": 4,
 "nbformat_minor": 2
}
